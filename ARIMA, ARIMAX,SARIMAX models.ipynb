{
 "cells": [
  {
   "cell_type": "code",
   "execution_count": 1,
   "id": "164a1fcd",
   "metadata": {},
   "outputs": [],
   "source": [
    "import pandas as pd\n",
    "import numpy as np\n",
    "import statsmodels.tsa.stattools as sts\n",
    "from statsmodels.tsa.seasonal import seasonal_decompose\n",
    "import statsmodels.graphics.tsaplots as sgt\n",
    "from statsmodels.tsa.arima_model import ARMA\n",
    "from statsmodels.tsa.arima_model import ARIMA\n",
    "from scipy.stats.distributions import chi2\n",
    "from math import sqrt\n",
    "from matplotlib import pyplot as plt\n",
    "import warnings\n",
    "warnings.filterwarnings('ignore')"
   ]
  },
  {
   "cell_type": "code",
   "execution_count": 2,
   "id": "a6c4360d",
   "metadata": {},
   "outputs": [
    {
     "data": {
      "text/html": [
       "<div>\n",
       "<style scoped>\n",
       "    .dataframe tbody tr th:only-of-type {\n",
       "        vertical-align: middle;\n",
       "    }\n",
       "\n",
       "    .dataframe tbody tr th {\n",
       "        vertical-align: top;\n",
       "    }\n",
       "\n",
       "    .dataframe thead th {\n",
       "        text-align: right;\n",
       "    }\n",
       "</style>\n",
       "<table border=\"1\" class=\"dataframe\">\n",
       "  <thead>\n",
       "    <tr style=\"text-align: right;\">\n",
       "      <th></th>\n",
       "      <th>date</th>\n",
       "      <th>spx</th>\n",
       "      <th>dax</th>\n",
       "      <th>ftse</th>\n",
       "      <th>nikkei</th>\n",
       "    </tr>\n",
       "  </thead>\n",
       "  <tbody>\n",
       "    <tr>\n",
       "      <th>0</th>\n",
       "      <td>07/01/1994</td>\n",
       "      <td>469.90</td>\n",
       "      <td>2224.95</td>\n",
       "      <td>3445.98</td>\n",
       "      <td>18124.01</td>\n",
       "    </tr>\n",
       "    <tr>\n",
       "      <th>1</th>\n",
       "      <td>10/01/1994</td>\n",
       "      <td>475.27</td>\n",
       "      <td>2225.00</td>\n",
       "      <td>3440.58</td>\n",
       "      <td>18443.44</td>\n",
       "    </tr>\n",
       "    <tr>\n",
       "      <th>2</th>\n",
       "      <td>11/01/1994</td>\n",
       "      <td>474.13</td>\n",
       "      <td>2228.10</td>\n",
       "      <td>3413.77</td>\n",
       "      <td>18485.25</td>\n",
       "    </tr>\n",
       "    <tr>\n",
       "      <th>3</th>\n",
       "      <td>12/01/1994</td>\n",
       "      <td>474.17</td>\n",
       "      <td>2182.06</td>\n",
       "      <td>3372.02</td>\n",
       "      <td>18793.88</td>\n",
       "    </tr>\n",
       "    <tr>\n",
       "      <th>4</th>\n",
       "      <td>13/01/1994</td>\n",
       "      <td>472.47</td>\n",
       "      <td>2142.37</td>\n",
       "      <td>3360.01</td>\n",
       "      <td>18577.26</td>\n",
       "    </tr>\n",
       "  </tbody>\n",
       "</table>\n",
       "</div>"
      ],
      "text/plain": [
       "         date     spx      dax     ftse    nikkei\n",
       "0  07/01/1994  469.90  2224.95  3445.98  18124.01\n",
       "1  10/01/1994  475.27  2225.00  3440.58  18443.44\n",
       "2  11/01/1994  474.13  2228.10  3413.77  18485.25\n",
       "3  12/01/1994  474.17  2182.06  3372.02  18793.88\n",
       "4  13/01/1994  472.47  2142.37  3360.01  18577.26"
      ]
     },
     "execution_count": 2,
     "metadata": {},
     "output_type": "execute_result"
    }
   ],
   "source": [
    "data=pd.read_csv('index2018.csv')\n",
    "df=data.copy()\n",
    "df.head()"
   ]
  },
  {
   "cell_type": "code",
   "execution_count": 3,
   "id": "9010792a",
   "metadata": {},
   "outputs": [
    {
     "data": {
      "text/html": [
       "<div>\n",
       "<style scoped>\n",
       "    .dataframe tbody tr th:only-of-type {\n",
       "        vertical-align: middle;\n",
       "    }\n",
       "\n",
       "    .dataframe tbody tr th {\n",
       "        vertical-align: top;\n",
       "    }\n",
       "\n",
       "    .dataframe thead th {\n",
       "        text-align: right;\n",
       "    }\n",
       "</style>\n",
       "<table border=\"1\" class=\"dataframe\">\n",
       "  <thead>\n",
       "    <tr style=\"text-align: right;\">\n",
       "      <th></th>\n",
       "      <th>date</th>\n",
       "      <th>spx</th>\n",
       "      <th>dax</th>\n",
       "      <th>ftse</th>\n",
       "      <th>nikkei</th>\n",
       "    </tr>\n",
       "  </thead>\n",
       "  <tbody>\n",
       "    <tr>\n",
       "      <th>0</th>\n",
       "      <td>1994-01-07</td>\n",
       "      <td>469.90</td>\n",
       "      <td>2224.95</td>\n",
       "      <td>3445.98</td>\n",
       "      <td>18124.01</td>\n",
       "    </tr>\n",
       "    <tr>\n",
       "      <th>1</th>\n",
       "      <td>1994-01-10</td>\n",
       "      <td>475.27</td>\n",
       "      <td>2225.00</td>\n",
       "      <td>3440.58</td>\n",
       "      <td>18443.44</td>\n",
       "    </tr>\n",
       "    <tr>\n",
       "      <th>2</th>\n",
       "      <td>1994-01-11</td>\n",
       "      <td>474.13</td>\n",
       "      <td>2228.10</td>\n",
       "      <td>3413.77</td>\n",
       "      <td>18485.25</td>\n",
       "    </tr>\n",
       "    <tr>\n",
       "      <th>3</th>\n",
       "      <td>1994-01-12</td>\n",
       "      <td>474.17</td>\n",
       "      <td>2182.06</td>\n",
       "      <td>3372.02</td>\n",
       "      <td>18793.88</td>\n",
       "    </tr>\n",
       "    <tr>\n",
       "      <th>4</th>\n",
       "      <td>1994-01-13</td>\n",
       "      <td>472.47</td>\n",
       "      <td>2142.37</td>\n",
       "      <td>3360.01</td>\n",
       "      <td>18577.26</td>\n",
       "    </tr>\n",
       "  </tbody>\n",
       "</table>\n",
       "</div>"
      ],
      "text/plain": [
       "        date     spx      dax     ftse    nikkei\n",
       "0 1994-01-07  469.90  2224.95  3445.98  18124.01\n",
       "1 1994-01-10  475.27  2225.00  3440.58  18443.44\n",
       "2 1994-01-11  474.13  2228.10  3413.77  18485.25\n",
       "3 1994-01-12  474.17  2182.06  3372.02  18793.88\n",
       "4 1994-01-13  472.47  2142.37  3360.01  18577.26"
      ]
     },
     "execution_count": 3,
     "metadata": {},
     "output_type": "execute_result"
    }
   ],
   "source": [
    "df['date']=pd.to_datetime(df['date'],dayfirst=True)\n",
    "df.head()"
   ]
  },
  {
   "cell_type": "code",
   "execution_count": 4,
   "id": "d702f4d6",
   "metadata": {},
   "outputs": [
    {
     "data": {
      "text/html": [
       "<div>\n",
       "<style scoped>\n",
       "    .dataframe tbody tr th:only-of-type {\n",
       "        vertical-align: middle;\n",
       "    }\n",
       "\n",
       "    .dataframe tbody tr th {\n",
       "        vertical-align: top;\n",
       "    }\n",
       "\n",
       "    .dataframe thead th {\n",
       "        text-align: right;\n",
       "    }\n",
       "</style>\n",
       "<table border=\"1\" class=\"dataframe\">\n",
       "  <thead>\n",
       "    <tr style=\"text-align: right;\">\n",
       "      <th></th>\n",
       "      <th>spx</th>\n",
       "      <th>dax</th>\n",
       "      <th>ftse</th>\n",
       "      <th>nikkei</th>\n",
       "    </tr>\n",
       "    <tr>\n",
       "      <th>date</th>\n",
       "      <th></th>\n",
       "      <th></th>\n",
       "      <th></th>\n",
       "      <th></th>\n",
       "    </tr>\n",
       "  </thead>\n",
       "  <tbody>\n",
       "    <tr>\n",
       "      <th>1994-01-07</th>\n",
       "      <td>469.90</td>\n",
       "      <td>2224.95</td>\n",
       "      <td>3445.98</td>\n",
       "      <td>18124.01</td>\n",
       "    </tr>\n",
       "    <tr>\n",
       "      <th>1994-01-10</th>\n",
       "      <td>475.27</td>\n",
       "      <td>2225.00</td>\n",
       "      <td>3440.58</td>\n",
       "      <td>18443.44</td>\n",
       "    </tr>\n",
       "    <tr>\n",
       "      <th>1994-01-11</th>\n",
       "      <td>474.13</td>\n",
       "      <td>2228.10</td>\n",
       "      <td>3413.77</td>\n",
       "      <td>18485.25</td>\n",
       "    </tr>\n",
       "    <tr>\n",
       "      <th>1994-01-12</th>\n",
       "      <td>474.17</td>\n",
       "      <td>2182.06</td>\n",
       "      <td>3372.02</td>\n",
       "      <td>18793.88</td>\n",
       "    </tr>\n",
       "    <tr>\n",
       "      <th>1994-01-13</th>\n",
       "      <td>472.47</td>\n",
       "      <td>2142.37</td>\n",
       "      <td>3360.01</td>\n",
       "      <td>18577.26</td>\n",
       "    </tr>\n",
       "  </tbody>\n",
       "</table>\n",
       "</div>"
      ],
      "text/plain": [
       "               spx      dax     ftse    nikkei\n",
       "date                                          \n",
       "1994-01-07  469.90  2224.95  3445.98  18124.01\n",
       "1994-01-10  475.27  2225.00  3440.58  18443.44\n",
       "1994-01-11  474.13  2228.10  3413.77  18485.25\n",
       "1994-01-12  474.17  2182.06  3372.02  18793.88\n",
       "1994-01-13  472.47  2142.37  3360.01  18577.26"
      ]
     },
     "execution_count": 4,
     "metadata": {},
     "output_type": "execute_result"
    }
   ],
   "source": [
    "df.set_index('date',inplace=True)\n",
    "df.head()"
   ]
  },
  {
   "cell_type": "code",
   "execution_count": 5,
   "id": "5b7a26ec",
   "metadata": {},
   "outputs": [],
   "source": [
    "df=df.asfreq('b')"
   ]
  },
  {
   "cell_type": "code",
   "execution_count": 6,
   "id": "6244479f",
   "metadata": {},
   "outputs": [
    {
     "data": {
      "text/plain": [
       "spx       8\n",
       "dax       8\n",
       "ftse      8\n",
       "nikkei    8\n",
       "dtype: int64"
      ]
     },
     "execution_count": 6,
     "metadata": {},
     "output_type": "execute_result"
    }
   ],
   "source": [
    "df.isnull().sum()"
   ]
  },
  {
   "cell_type": "code",
   "execution_count": 7,
   "id": "03551a2b",
   "metadata": {},
   "outputs": [],
   "source": [
    "df['spx']=df['spx'].fillna(method='ffill')\n"
   ]
  },
  {
   "cell_type": "code",
   "execution_count": 8,
   "id": "4db72a7e",
   "metadata": {},
   "outputs": [],
   "source": [
    "df['ftse']=df['ftse'].fillna(method='bfill')"
   ]
  },
  {
   "cell_type": "code",
   "execution_count": 9,
   "id": "d7ec5497",
   "metadata": {},
   "outputs": [],
   "source": [
    "df['dax']=df['dax'].fillna(df['dax'].mean())"
   ]
  },
  {
   "cell_type": "code",
   "execution_count": 10,
   "id": "e7a0985a",
   "metadata": {},
   "outputs": [
    {
     "data": {
      "text/html": [
       "<div>\n",
       "<style scoped>\n",
       "    .dataframe tbody tr th:only-of-type {\n",
       "        vertical-align: middle;\n",
       "    }\n",
       "\n",
       "    .dataframe tbody tr th {\n",
       "        vertical-align: top;\n",
       "    }\n",
       "\n",
       "    .dataframe thead th {\n",
       "        text-align: right;\n",
       "    }\n",
       "</style>\n",
       "<table border=\"1\" class=\"dataframe\">\n",
       "  <thead>\n",
       "    <tr style=\"text-align: right;\">\n",
       "      <th></th>\n",
       "      <th>spx</th>\n",
       "      <th>dax</th>\n",
       "      <th>nikkei</th>\n",
       "      <th>market_value</th>\n",
       "    </tr>\n",
       "    <tr>\n",
       "      <th>date</th>\n",
       "      <th></th>\n",
       "      <th></th>\n",
       "      <th></th>\n",
       "      <th></th>\n",
       "    </tr>\n",
       "  </thead>\n",
       "  <tbody>\n",
       "    <tr>\n",
       "      <th>1994-01-07</th>\n",
       "      <td>469.90</td>\n",
       "      <td>2224.95</td>\n",
       "      <td>18124.01</td>\n",
       "      <td>3445.98</td>\n",
       "    </tr>\n",
       "    <tr>\n",
       "      <th>1994-01-10</th>\n",
       "      <td>475.27</td>\n",
       "      <td>2225.00</td>\n",
       "      <td>18443.44</td>\n",
       "      <td>3440.58</td>\n",
       "    </tr>\n",
       "    <tr>\n",
       "      <th>1994-01-11</th>\n",
       "      <td>474.13</td>\n",
       "      <td>2228.10</td>\n",
       "      <td>18485.25</td>\n",
       "      <td>3413.77</td>\n",
       "    </tr>\n",
       "    <tr>\n",
       "      <th>1994-01-12</th>\n",
       "      <td>474.17</td>\n",
       "      <td>2182.06</td>\n",
       "      <td>18793.88</td>\n",
       "      <td>3372.02</td>\n",
       "    </tr>\n",
       "    <tr>\n",
       "      <th>1994-01-13</th>\n",
       "      <td>472.47</td>\n",
       "      <td>2142.37</td>\n",
       "      <td>18577.26</td>\n",
       "      <td>3360.01</td>\n",
       "    </tr>\n",
       "  </tbody>\n",
       "</table>\n",
       "</div>"
      ],
      "text/plain": [
       "               spx      dax    nikkei  market_value\n",
       "date                                               \n",
       "1994-01-07  469.90  2224.95  18124.01       3445.98\n",
       "1994-01-10  475.27  2225.00  18443.44       3440.58\n",
       "1994-01-11  474.13  2228.10  18485.25       3413.77\n",
       "1994-01-12  474.17  2182.06  18793.88       3372.02\n",
       "1994-01-13  472.47  2142.37  18577.26       3360.01"
      ]
     },
     "execution_count": 10,
     "metadata": {},
     "output_type": "execute_result"
    }
   ],
   "source": [
    "df['market_value']=df['ftse']\n",
    "del df['ftse']\n",
    "df.head()"
   ]
  },
  {
   "cell_type": "code",
   "execution_count": 11,
   "id": "fa2dd414",
   "metadata": {},
   "outputs": [
    {
     "data": {
      "text/plain": [
       "spx             0\n",
       "dax             0\n",
       "nikkei          8\n",
       "market_value    0\n",
       "dtype: int64"
      ]
     },
     "execution_count": 11,
     "metadata": {},
     "output_type": "execute_result"
    }
   ],
   "source": [
    "df.isnull().sum()"
   ]
  },
  {
   "cell_type": "markdown",
   "id": "4de0e2d6",
   "metadata": {},
   "source": [
    "## ARIMA(1,1,1)"
   ]
  },
  {
   "cell_type": "code",
   "execution_count": 12,
   "id": "9e845f72",
   "metadata": {},
   "outputs": [
    {
     "data": {
      "text/html": [
       "<table class=\"simpletable\">\n",
       "<caption>ARIMA Model Results</caption>\n",
       "<tr>\n",
       "  <th>Dep. Variable:</th>  <td>D.market_value</td>  <th>  No. Observations:  </th>    <td>6276</td>   \n",
       "</tr>\n",
       "<tr>\n",
       "  <th>Model:</th>          <td>ARIMA(1, 1, 1)</td>  <th>  Log Likelihood     </th> <td>-34417.629</td>\n",
       "</tr>\n",
       "<tr>\n",
       "  <th>Method:</th>             <td>css-mle</td>     <th>  S.D. of innovations</th>   <td>58.269</td>  \n",
       "</tr>\n",
       "<tr>\n",
       "  <th>Date:</th>          <td>Tue, 01 Feb 2022</td> <th>  AIC                </th>  <td>68843.257</td>\n",
       "</tr>\n",
       "<tr>\n",
       "  <th>Time:</th>              <td>13:13:35</td>     <th>  BIC                </th>  <td>68870.235</td>\n",
       "</tr>\n",
       "<tr>\n",
       "  <th>Sample:</th>           <td>01-10-1994</td>    <th>  HQIC               </th>  <td>68852.605</td>\n",
       "</tr>\n",
       "<tr>\n",
       "  <th></th>                 <td>- 01-29-2018</td>   <th>                     </th>      <td> </td>    \n",
       "</tr>\n",
       "</table>\n",
       "<table class=\"simpletable\">\n",
       "<tr>\n",
       "            <td></td>              <th>coef</th>     <th>std err</th>      <th>z</th>      <th>P>|z|</th>  <th>[0.025</th>    <th>0.975]</th>  \n",
       "</tr>\n",
       "<tr>\n",
       "  <th>const</th>                <td>    0.6751</td> <td>    0.581</td> <td>    1.161</td> <td> 0.246</td> <td>   -0.464</td> <td>    1.815</td>\n",
       "</tr>\n",
       "<tr>\n",
       "  <th>ar.L1.D.market_value</th> <td>    0.8343</td> <td>    0.077</td> <td>   10.770</td> <td> 0.000</td> <td>    0.682</td> <td>    0.986</td>\n",
       "</tr>\n",
       "<tr>\n",
       "  <th>ma.L1.D.market_value</th> <td>   -0.8690</td> <td>    0.070</td> <td>  -12.452</td> <td> 0.000</td> <td>   -1.006</td> <td>   -0.732</td>\n",
       "</tr>\n",
       "</table>\n",
       "<table class=\"simpletable\">\n",
       "<caption>Roots</caption>\n",
       "<tr>\n",
       "    <td></td>   <th>            Real</th>  <th>         Imaginary</th> <th>         Modulus</th>  <th>        Frequency</th>\n",
       "</tr>\n",
       "<tr>\n",
       "  <th>AR.1</th> <td>           1.1987</td> <td>          +0.0000j</td> <td>           1.1987</td> <td>           0.0000</td>\n",
       "</tr>\n",
       "<tr>\n",
       "  <th>MA.1</th> <td>           1.1507</td> <td>          +0.0000j</td> <td>           1.1507</td> <td>           0.0000</td>\n",
       "</tr>\n",
       "</table>"
      ],
      "text/plain": [
       "<class 'statsmodels.iolib.summary.Summary'>\n",
       "\"\"\"\n",
       "                             ARIMA Model Results                              \n",
       "==============================================================================\n",
       "Dep. Variable:         D.market_value   No. Observations:                 6276\n",
       "Model:                 ARIMA(1, 1, 1)   Log Likelihood              -34417.629\n",
       "Method:                       css-mle   S.D. of innovations             58.269\n",
       "Date:                Tue, 01 Feb 2022   AIC                          68843.257\n",
       "Time:                        13:13:35   BIC                          68870.235\n",
       "Sample:                    01-10-1994   HQIC                         68852.605\n",
       "                         - 01-29-2018                                         \n",
       "========================================================================================\n",
       "                           coef    std err          z      P>|z|      [0.025      0.975]\n",
       "----------------------------------------------------------------------------------------\n",
       "const                    0.6751      0.581      1.161      0.246      -0.464       1.815\n",
       "ar.L1.D.market_value     0.8343      0.077     10.770      0.000       0.682       0.986\n",
       "ma.L1.D.market_value    -0.8690      0.070    -12.452      0.000      -1.006      -0.732\n",
       "                                    Roots                                    \n",
       "=============================================================================\n",
       "                  Real          Imaginary           Modulus         Frequency\n",
       "-----------------------------------------------------------------------------\n",
       "AR.1            1.1987           +0.0000j            1.1987            0.0000\n",
       "MA.1            1.1507           +0.0000j            1.1507            0.0000\n",
       "-----------------------------------------------------------------------------\n",
       "\"\"\""
      ]
     },
     "execution_count": 12,
     "metadata": {},
     "output_type": "execute_result"
    }
   ],
   "source": [
    "model_ar1_i1_ma1=ARIMA(df.market_value,order=(1,1,1))\n",
    "results_ar1_i1_ma1=model_ar1_i1_ma1.fit()\n",
    "results_ar1_i1_ma1.summary()"
   ]
  },
  {
   "cell_type": "code",
   "execution_count": 13,
   "id": "cc83644b",
   "metadata": {},
   "outputs": [],
   "source": [
    "## arima(1,1,1) for prices is quite similar to arma(1,1) for returns"
   ]
  },
  {
   "cell_type": "markdown",
   "id": "fc3b7535",
   "metadata": {},
   "source": [
    "## Residuals for ARIMA(1,1,1)"
   ]
  },
  {
   "cell_type": "code",
   "execution_count": 14,
   "id": "71a2662c",
   "metadata": {},
   "outputs": [],
   "source": [
    "df['res_ar1_i1_ma1']=results_ar1_i1_ma1.resid"
   ]
  },
  {
   "cell_type": "code",
   "execution_count": 15,
   "id": "f2391266",
   "metadata": {},
   "outputs": [
    {
     "data": {
      "image/png": "[encoded data removed]",
      "text/plain": [
       "<Figure size 432x288 with 1 Axes>"
      ]
     },
     "metadata": {
      "needs_background": "light"
     },
     "output_type": "display_data"
    }
   ],
   "source": [
    "sgt.plot_acf(df.res_ar1_i1_ma1[1:],zero=False,lags=40)\n",
    "plt.title('residuals for prices arima(1,1,1)')\n",
    "plt.show()"
   ]
  },
  {
   "cell_type": "code",
   "execution_count": 16,
   "id": "c553b46a",
   "metadata": {},
   "outputs": [],
   "source": [
    "## since 3 and 4 lag are highly significant so we we will incorporate high lag arima model"
   ]
  },
  {
   "cell_type": "markdown",
   "id": "844b72ae",
   "metadata": {},
   "source": [
    "## Higher lag ARIMA models"
   ]
  },
  {
   "cell_type": "code",
   "execution_count": 17,
   "id": "8b4120c8",
   "metadata": {},
   "outputs": [],
   "source": [
    "def llr_test(mod_1,mod_2,DF=1):\n",
    "    L1=mod_1.fit().llf\n",
    "    L2=mod_2.fit().llf\n",
    "    LR=(2*(L2-L1))\n",
    "    P=chi2.sf(LR,DF).round(3)\n",
    "    return P"
   ]
  },
  {
   "cell_type": "code",
   "execution_count": 18,
   "id": "6b05c6ee",
   "metadata": {},
   "outputs": [],
   "source": [
    "model_ar1_i1_ma2=ARIMA(df.market_value,order=(1,1,2))\n",
    "results_ar1_i1_ma2=model_ar1_i1_ma2.fit()\n",
    "model_ar1_i1_ma3=ARIMA(df.market_value,order=(1,1,3))\n",
    "results_ar1_i1_ma3=model_ar1_i1_ma3.fit()\n",
    "model_ar2_i1_ma1=ARIMA(df.market_value,order=(2,1,1))\n",
    "results_ar2_i1_ma1=model_ar2_i1_ma1.fit()\n",
    "model_ar3_i1_ma1=ARIMA(df.market_value,order=(3,1,1))\n",
    "results_ar3_i1_ma1=model_ar3_i1_ma1.fit()\n",
    "model_ar3_i1_ma2=ARIMA(df.market_value,order=(3,1,2))\n",
    "results_ar3_i1_ma2=model_ar3_i1_ma2.fit(start_ar_lags=5)"
   ]
  },
  {
   "cell_type": "code",
   "execution_count": 19,
   "id": "d4ff3414",
   "metadata": {},
   "outputs": [
    {
     "name": "stdout",
     "output_type": "stream",
     "text": [
      "arima(1,1,1): -34417.6285851502 68843.2571703004\n",
      "arima(1,1,2): -34413.485933551776 68836.97186710355\n",
      "arima(1,1,3): -34410.94117134848 68833.88234269696\n",
      "arima(2,1,1): -34413.34971143022 68836.69942286045\n",
      "arima(3,1,1): -34412.39717326593 68836.79434653185\n",
      "arima(3,1,2): -34410.8087635047 68835.6175270094\n"
     ]
    }
   ],
   "source": [
    "print('arima(1,1,1):', results_ar1_i1_ma1.llf ,results_ar1_i1_ma1.aic)\n",
    "print('arima(1,1,2):', results_ar1_i1_ma2.llf ,results_ar1_i1_ma2.aic)\n",
    "print('arima(1,1,3):', results_ar1_i1_ma3.llf ,results_ar1_i1_ma3.aic)\n",
    "print('arima(2,1,1):', results_ar2_i1_ma1.llf ,results_ar2_i1_ma1.aic)\n",
    "print('arima(3,1,1):', results_ar3_i1_ma1.llf ,results_ar3_i1_ma1.aic)\n",
    "print('arima(3,1,2):', results_ar3_i1_ma2.llf ,results_ar3_i1_ma2.aic)\n",
    "\n"
   ]
  },
  {
   "cell_type": "code",
   "execution_count": 20,
   "id": "b727691f",
   "metadata": {},
   "outputs": [],
   "source": [
    "## since arima (1,1,1) and arima(1,1,2) are both nested inside arima(1,1,3) so here we need to run llr test between them "
   ]
  },
  {
   "cell_type": "code",
   "execution_count": 21,
   "id": "7f81b2d9",
   "metadata": {},
   "outputs": [
    {
     "data": {
      "text/plain": [
       "0.0"
      ]
     },
     "execution_count": 21,
     "metadata": {},
     "output_type": "execute_result"
    }
   ],
   "source": [
    "llr_test(model_ar1_i1_ma1,model_ar1_i1_ma3)"
   ]
  },
  {
   "cell_type": "code",
   "execution_count": 22,
   "id": "313d2cc5",
   "metadata": {},
   "outputs": [],
   "source": [
    "## this suggest that higher model is better predictor"
   ]
  },
  {
   "cell_type": "code",
   "execution_count": 23,
   "id": "16a5f79b",
   "metadata": {},
   "outputs": [
    {
     "data": {
      "text/plain": [
       "0.024"
      ]
     },
     "execution_count": 23,
     "metadata": {},
     "output_type": "execute_result"
    }
   ],
   "source": [
    " llr_test(model_ar1_i1_ma2,model_ar1_i1_ma3)"
   ]
  },
  {
   "cell_type": "code",
   "execution_count": 24,
   "id": "d1d7f176",
   "metadata": {},
   "outputs": [],
   "source": [
    "##this also suggest that higher model is better predictor"
   ]
  },
  {
   "cell_type": "markdown",
   "id": "e3217597",
   "metadata": {},
   "source": [
    "## residuals for arima(1,1,3)"
   ]
  },
  {
   "cell_type": "code",
   "execution_count": 25,
   "id": "253d9707",
   "metadata": {},
   "outputs": [
    {
     "data": {
      "image/png": "[encoded data removed]",
      "text/plain": [
       "<Figure size 432x288 with 1 Axes>"
      ]
     },
     "metadata": {
      "needs_background": "light"
     },
     "output_type": "display_data"
    }
   ],
   "source": [
    "df['res_ar1_i1_ma3']=results_ar1_i1_ma3.resid\n",
    "sgt.plot_acf(df.res_ar1_i1_ma3[1:],zero=False,lags=40)\n",
    "plt.title('residuals for prices arima(1,1,3)')\n",
    "plt.show()"
   ]
  },
  {
   "cell_type": "code",
   "execution_count": 26,
   "id": "0143088d",
   "metadata": {},
   "outputs": [],
   "source": [
    "## since 6th lag coefficient is higly significant so ARIMA(6,16) is the better choice and so we do hit and trial betwwen lot of ooptions and we found that ARIMA(5,1,1) and ARIMA(6,1,3) "
   ]
  },
  {
   "cell_type": "code",
   "execution_count": 27,
   "id": "58164dff",
   "metadata": {
    "scrolled": true
   },
   "outputs": [],
   "source": [
    "model_ar5_i1_ma1=ARIMA(df.market_value,order=(5,1,1))\n",
    "results_ar5_i1_ma1=model_ar5_i1_ma1.fit(start_ar_lags=11)\n",
    "model_ar6_i1_ma3=ARIMA(df.market_value,order=(6,1,3))\n",
    "results_ar6_i1_ma3=model_ar6_i1_ma3.fit(start_ar_lags=13)"
   ]
  },
  {
   "cell_type": "code",
   "execution_count": 28,
   "id": "3cdfa075",
   "metadata": {},
   "outputs": [],
   "source": [
    "## we also call arima(1,1,3) to comapre all three here and choose the best one"
   ]
  },
  {
   "cell_type": "code",
   "execution_count": 29,
   "id": "5f1ad733",
   "metadata": {},
   "outputs": [
    {
     "name": "stdout",
     "output_type": "stream",
     "text": [
      "arima(1,1,3): -34410.94117134848 68833.88234269696\n",
      "arima(5,1,1): -34406.637913650644 68829.27582730129\n",
      "arima(6,1,3): -34404.95889429994 68831.91778859988\n"
     ]
    }
   ],
   "source": [
    "print('arima(1,1,3):', results_ar1_i1_ma3.llf ,results_ar1_i1_ma3.aic)\n",
    "print('arima(5,1,1):', results_ar5_i1_ma1.llf ,results_ar5_i1_ma1.aic)\n",
    "print('arima(6,1,3):', results_ar6_i1_ma3.llf ,results_ar6_i1_ma3.aic)"
   ]
  },
  {
   "cell_type": "code",
   "execution_count": 30,
   "id": "d5127e7c",
   "metadata": {},
   "outputs": [],
   "source": [
    "## since llr value of arima(6,1,3) is highest and aic value being lowest so it is the better option from three\n",
    "## sice arma(1,1,3) and arma(5,1,1) are nested inside arima(6,1,3) so need check the llr test for them for complete surity"
   ]
  },
  {
   "cell_type": "code",
   "execution_count": 31,
   "id": "9dfa1148",
   "metadata": {},
   "outputs": [
    {
     "data": {
      "text/plain": [
       "0.035"
      ]
     },
     "execution_count": 31,
     "metadata": {},
     "output_type": "execute_result"
    }
   ],
   "source": [
    "llr_test(model_ar1_i1_ma3,model_ar6_i1_ma3,DF=5)"
   ]
  },
  {
   "cell_type": "code",
   "execution_count": 32,
   "id": "5933aaa5",
   "metadata": {},
   "outputs": [
    {
     "data": {
      "text/plain": [
       "0.34"
      ]
     },
     "execution_count": 32,
     "metadata": {},
     "output_type": "execute_result"
    }
   ],
   "source": [
    "llr_test(model_ar5_i1_ma1,model_ar6_i1_ma3,DF=3)"
   ]
  },
  {
   "cell_type": "code",
   "execution_count": 33,
   "id": "17ba7d75",
   "metadata": {},
   "outputs": [],
   "source": [
    "##so this suggest that arima(5,1,1) is better model than arima(6,1,3) and arima(6,1,3) is better than arima(1,1,3)\n",
    "## so finally choosing arima(5,1,1) as better option after llr test"
   ]
  },
  {
   "cell_type": "markdown",
   "id": "45510391",
   "metadata": {},
   "source": [
    "## residual for arima(5,1,1)"
   ]
  },
  {
   "cell_type": "code",
   "execution_count": 34,
   "id": "00dc30fa",
   "metadata": {},
   "outputs": [
    {
     "data": {
      "image/png": "[encoded data removed]",
      "text/plain": [
       "<Figure size 432x288 with 1 Axes>"
      ]
     },
     "metadata": {
      "needs_background": "light"
     },
     "output_type": "display_data"
    }
   ],
   "source": [
    "df['res_ar5_i1_ma1']=results_ar5_i1_ma1.resid\n",
    "sgt.plot_acf(df.res_ar5_i1_ma1[1:],zero=False,lags=40)\n",
    "plt.title('residuals for prices arima(5,1,1,)')\n",
    "plt.show()"
   ]
  },
  {
   "cell_type": "markdown",
   "id": "1d7ed75e",
   "metadata": {},
   "source": [
    "## Models with higher level of integration(d>1)"
   ]
  },
  {
   "cell_type": "code",
   "execution_count": 35,
   "id": "e86521ed",
   "metadata": {},
   "outputs": [],
   "source": [
    "## we are doing this because we need to conifrm that d=1 was the stationary data \n",
    "## and to confirm this we will use 'delta' series(delta market_value) instead of market_value series and make arima(1,0,1) model and check its stationarity"
   ]
  },
  {
   "cell_type": "code",
   "execution_count": 36,
   "id": "94f887d9",
   "metadata": {},
   "outputs": [],
   "source": [
    "df['delta_prices'] =df.market_value.diff(1)"
   ]
  },
  {
   "cell_type": "code",
   "execution_count": 37,
   "id": "6b8eb75c",
   "metadata": {},
   "outputs": [
    {
     "data": {
      "text/html": [
       "<table class=\"simpletable\">\n",
       "<caption>ARMA Model Results</caption>\n",
       "<tr>\n",
       "  <th>Dep. Variable:</th>   <td>delta_prices</td>   <th>  No. Observations:  </th>    <td>6276</td>   \n",
       "</tr>\n",
       "<tr>\n",
       "  <th>Model:</th>            <td>ARMA(1, 1)</td>    <th>  Log Likelihood     </th> <td>-34417.629</td>\n",
       "</tr>\n",
       "<tr>\n",
       "  <th>Method:</th>             <td>css-mle</td>     <th>  S.D. of innovations</th>   <td>58.269</td>  \n",
       "</tr>\n",
       "<tr>\n",
       "  <th>Date:</th>          <td>Tue, 01 Feb 2022</td> <th>  AIC                </th>  <td>68843.257</td>\n",
       "</tr>\n",
       "<tr>\n",
       "  <th>Time:</th>              <td>13:14:15</td>     <th>  BIC                </th>  <td>68870.235</td>\n",
       "</tr>\n",
       "<tr>\n",
       "  <th>Sample:</th>           <td>01-10-1994</td>    <th>  HQIC               </th>  <td>68852.605</td>\n",
       "</tr>\n",
       "<tr>\n",
       "  <th></th>                 <td>- 01-29-2018</td>   <th>                     </th>      <td> </td>    \n",
       "</tr>\n",
       "</table>\n",
       "<table class=\"simpletable\">\n",
       "<tr>\n",
       "           <td></td>             <th>coef</th>     <th>std err</th>      <th>z</th>      <th>P>|z|</th>  <th>[0.025</th>    <th>0.975]</th>  \n",
       "</tr>\n",
       "<tr>\n",
       "  <th>const</th>              <td>    0.6751</td> <td>    0.581</td> <td>    1.161</td> <td> 0.246</td> <td>   -0.464</td> <td>    1.815</td>\n",
       "</tr>\n",
       "<tr>\n",
       "  <th>ar.L1.delta_prices</th> <td>    0.8343</td> <td>    0.077</td> <td>   10.770</td> <td> 0.000</td> <td>    0.682</td> <td>    0.986</td>\n",
       "</tr>\n",
       "<tr>\n",
       "  <th>ma.L1.delta_prices</th> <td>   -0.8690</td> <td>    0.070</td> <td>  -12.452</td> <td> 0.000</td> <td>   -1.006</td> <td>   -0.732</td>\n",
       "</tr>\n",
       "</table>\n",
       "<table class=\"simpletable\">\n",
       "<caption>Roots</caption>\n",
       "<tr>\n",
       "    <td></td>   <th>            Real</th>  <th>         Imaginary</th> <th>         Modulus</th>  <th>        Frequency</th>\n",
       "</tr>\n",
       "<tr>\n",
       "  <th>AR.1</th> <td>           1.1987</td> <td>          +0.0000j</td> <td>           1.1987</td> <td>           0.0000</td>\n",
       "</tr>\n",
       "<tr>\n",
       "  <th>MA.1</th> <td>           1.1507</td> <td>          +0.0000j</td> <td>           1.1507</td> <td>           0.0000</td>\n",
       "</tr>\n",
       "</table>"
      ],
      "text/plain": [
       "<class 'statsmodels.iolib.summary.Summary'>\n",
       "\"\"\"\n",
       "                              ARMA Model Results                              \n",
       "==============================================================================\n",
       "Dep. Variable:           delta_prices   No. Observations:                 6276\n",
       "Model:                     ARMA(1, 1)   Log Likelihood              -34417.629\n",
       "Method:                       css-mle   S.D. of innovations             58.269\n",
       "Date:                Tue, 01 Feb 2022   AIC                          68843.257\n",
       "Time:                        13:14:15   BIC                          68870.235\n",
       "Sample:                    01-10-1994   HQIC                         68852.605\n",
       "                         - 01-29-2018                                         \n",
       "======================================================================================\n",
       "                         coef    std err          z      P>|z|      [0.025      0.975]\n",
       "--------------------------------------------------------------------------------------\n",
       "const                  0.6751      0.581      1.161      0.246      -0.464       1.815\n",
       "ar.L1.delta_prices     0.8343      0.077     10.770      0.000       0.682       0.986\n",
       "ma.L1.delta_prices    -0.8690      0.070    -12.452      0.000      -1.006      -0.732\n",
       "                                    Roots                                    \n",
       "=============================================================================\n",
       "                  Real          Imaginary           Modulus         Frequency\n",
       "-----------------------------------------------------------------------------\n",
       "AR.1            1.1987           +0.0000j            1.1987            0.0000\n",
       "MA.1            1.1507           +0.0000j            1.1507            0.0000\n",
       "-----------------------------------------------------------------------------\n",
       "\"\"\""
      ]
     },
     "execution_count": 37,
     "metadata": {},
     "output_type": "execute_result"
    }
   ],
   "source": [
    "model_delta_ar1_i0_ma1=ARIMA(df.delta_prices[1:],order=(1,0,1))\n",
    "results_delta_ar1_i0_ma1=model_delta_ar1_i0_ma1.fit()\n",
    "results_delta_ar1_i0_ma1.summary()"
   ]
  },
  {
   "cell_type": "code",
   "execution_count": 38,
   "id": "7c979cec",
   "metadata": {},
   "outputs": [],
   "source": [
    "## results are similar to arima(1,1,1)"
   ]
  },
  {
   "cell_type": "code",
   "execution_count": 39,
   "id": "541844c7",
   "metadata": {},
   "outputs": [
    {
     "data": {
      "text/plain": [
       "(-35.59973234219259,\n",
       " 0.0,\n",
       " 5,\n",
       " 6270,\n",
       " {'1%': -3.4313933778649943,\n",
       "  '5%': -2.862001080749219,\n",
       "  '10%': -2.567015430304048},\n",
       " 68468.13611640701)"
      ]
     },
     "execution_count": 39,
     "metadata": {},
     "output_type": "execute_result"
    }
   ],
   "source": [
    "sts.adfuller(df['delta_prices'][1:])"
   ]
  },
  {
   "cell_type": "code",
   "execution_count": 40,
   "id": "76ba39b5",
   "metadata": {},
   "outputs": [],
   "source": [
    "##hence results shows that d=1 is stationary, and we need not to go further additional layer like d=2,3,4..."
   ]
  },
  {
   "cell_type": "code",
   "execution_count": 41,
   "id": "24ee2857",
   "metadata": {},
   "outputs": [],
   "source": [
    "## the purpose of integration is to reach the stationarity but here we reached at d=1 so no need of further integration"
   ]
  },
  {
   "cell_type": "markdown",
   "id": "bb4b40e4",
   "metadata": {},
   "source": [
    "## ARIMAX"
   ]
  },
  {
   "cell_type": "code",
   "execution_count": 42,
   "id": "cc961daa",
   "metadata": {},
   "outputs": [
    {
     "data": {
      "text/html": [
       "<table class=\"simpletable\">\n",
       "<caption>ARIMA Model Results</caption>\n",
       "<tr>\n",
       "  <th>Dep. Variable:</th>  <td>D.market_value</td>  <th>  No. Observations:  </th>    <td>6276</td>   \n",
       "</tr>\n",
       "<tr>\n",
       "  <th>Model:</th>          <td>ARIMA(1, 1, 1)</td>  <th>  Log Likelihood     </th> <td>-34417.374</td>\n",
       "</tr>\n",
       "<tr>\n",
       "  <th>Method:</th>             <td>css-mle</td>     <th>  S.D. of innovations</th>   <td>58.266</td>  \n",
       "</tr>\n",
       "<tr>\n",
       "  <th>Date:</th>          <td>Tue, 01 Feb 2022</td> <th>  AIC                </th>  <td>68844.747</td>\n",
       "</tr>\n",
       "<tr>\n",
       "  <th>Time:</th>              <td>13:14:17</td>     <th>  BIC                </th>  <td>68878.469</td>\n",
       "</tr>\n",
       "<tr>\n",
       "  <th>Sample:</th>           <td>01-10-1994</td>    <th>  HQIC               </th>  <td>68856.431</td>\n",
       "</tr>\n",
       "<tr>\n",
       "  <th></th>                 <td>- 01-29-2018</td>   <th>                     </th>      <td> </td>    \n",
       "</tr>\n",
       "</table>\n",
       "<table class=\"simpletable\">\n",
       "<tr>\n",
       "            <td></td>              <th>coef</th>     <th>std err</th>      <th>z</th>      <th>P>|z|</th>  <th>[0.025</th>    <th>0.975]</th>  \n",
       "</tr>\n",
       "<tr>\n",
       "  <th>const</th>                <td>   -0.4014</td> <td>    1.654</td> <td>   -0.243</td> <td> 0.808</td> <td>   -3.643</td> <td>    2.840</td>\n",
       "</tr>\n",
       "<tr>\n",
       "  <th>spx</th>                  <td>    0.0008</td> <td>    0.001</td> <td>    0.697</td> <td> 0.485</td> <td>   -0.002</td> <td>    0.003</td>\n",
       "</tr>\n",
       "<tr>\n",
       "  <th>ar.L1.D.market_value</th> <td>    0.8324</td> <td>    0.078</td> <td>   10.734</td> <td> 0.000</td> <td>    0.680</td> <td>    0.984</td>\n",
       "</tr>\n",
       "<tr>\n",
       "  <th>ma.L1.D.market_value</th> <td>   -0.8672</td> <td>    0.070</td> <td>  -12.395</td> <td> 0.000</td> <td>   -1.004</td> <td>   -0.730</td>\n",
       "</tr>\n",
       "</table>\n",
       "<table class=\"simpletable\">\n",
       "<caption>Roots</caption>\n",
       "<tr>\n",
       "    <td></td>   <th>            Real</th>  <th>         Imaginary</th> <th>         Modulus</th>  <th>        Frequency</th>\n",
       "</tr>\n",
       "<tr>\n",
       "  <th>AR.1</th> <td>           1.2014</td> <td>          +0.0000j</td> <td>           1.2014</td> <td>           0.0000</td>\n",
       "</tr>\n",
       "<tr>\n",
       "  <th>MA.1</th> <td>           1.1531</td> <td>          +0.0000j</td> <td>           1.1531</td> <td>           0.0000</td>\n",
       "</tr>\n",
       "</table>"
      ],
      "text/plain": [
       "<class 'statsmodels.iolib.summary.Summary'>\n",
       "\"\"\"\n",
       "                             ARIMA Model Results                              \n",
       "==============================================================================\n",
       "Dep. Variable:         D.market_value   No. Observations:                 6276\n",
       "Model:                 ARIMA(1, 1, 1)   Log Likelihood              -34417.374\n",
       "Method:                       css-mle   S.D. of innovations             58.266\n",
       "Date:                Tue, 01 Feb 2022   AIC                          68844.747\n",
       "Time:                        13:14:17   BIC                          68878.469\n",
       "Sample:                    01-10-1994   HQIC                         68856.431\n",
       "                         - 01-29-2018                                         \n",
       "========================================================================================\n",
       "                           coef    std err          z      P>|z|      [0.025      0.975]\n",
       "----------------------------------------------------------------------------------------\n",
       "const                   -0.4014      1.654     -0.243      0.808      -3.643       2.840\n",
       "spx                      0.0008      0.001      0.697      0.485      -0.002       0.003\n",
       "ar.L1.D.market_value     0.8324      0.078     10.734      0.000       0.680       0.984\n",
       "ma.L1.D.market_value    -0.8672      0.070    -12.395      0.000      -1.004      -0.730\n",
       "                                    Roots                                    \n",
       "=============================================================================\n",
       "                  Real          Imaginary           Modulus         Frequency\n",
       "-----------------------------------------------------------------------------\n",
       "AR.1            1.2014           +0.0000j            1.2014            0.0000\n",
       "MA.1            1.1531           +0.0000j            1.1531            0.0000\n",
       "-----------------------------------------------------------------------------\n",
       "\"\"\""
      ]
     },
     "execution_count": 42,
     "metadata": {},
     "output_type": "execute_result"
    }
   ],
   "source": [
    "model_ar1_i1_ma1_Xspx=ARIMA(df.market_value,exog=df.spx,order=(1,1,1))\n",
    "results_ar1_i1_ma1_Xspx=model_ar1_i1_ma1_Xspx.fit()\n",
    "results_ar1_i1_ma1_Xspx.summary()"
   ]
  },
  {
   "cell_type": "markdown",
   "id": "15affd11",
   "metadata": {},
   "source": [
    "## SARIMAX"
   ]
  },
  {
   "cell_type": "code",
   "execution_count": 43,
   "id": "ea77bc79",
   "metadata": {},
   "outputs": [],
   "source": [
    "from statsmodels.tsa.statespace.sarimax import SARIMAX"
   ]
  },
  {
   "cell_type": "code",
   "execution_count": 44,
   "id": "6c85ddaa",
   "metadata": {},
   "outputs": [
    {
     "data": {
      "text/html": [
       "<table class=\"simpletable\">\n",
       "<caption>SARIMAX Results</caption>\n",
       "<tr>\n",
       "  <th>Dep. Variable:</th>           <td>market_value</td>          <th>  No. Observations:  </th>    <td>6277</td>   \n",
       "</tr>\n",
       "<tr>\n",
       "  <th>Model:</th>           <td>SARIMAX(1, 0, 1)x(2, 0, 1, 5)</td> <th>  Log Likelihood     </th> <td>-33301.102</td>\n",
       "</tr>\n",
       "<tr>\n",
       "  <th>Date:</th>                  <td>Tue, 01 Feb 2022</td>        <th>  AIC                </th>  <td>66616.205</td>\n",
       "</tr>\n",
       "<tr>\n",
       "  <th>Time:</th>                      <td>13:14:27</td>            <th>  BIC                </th>  <td>66663.417</td>\n",
       "</tr>\n",
       "<tr>\n",
       "  <th>Sample:</th>                   <td>01-07-1994</td>           <th>  HQIC               </th>  <td>66632.563</td>\n",
       "</tr>\n",
       "<tr>\n",
       "  <th></th>                         <td>- 01-29-2018</td>          <th>                     </th>      <td> </td>    \n",
       "</tr>\n",
       "<tr>\n",
       "  <th>Covariance Type:</th>              <td>opg</td>              <th>                     </th>      <td> </td>    \n",
       "</tr>\n",
       "</table>\n",
       "<table class=\"simpletable\">\n",
       "<tr>\n",
       "      <td></td>        <th>coef</th>     <th>std err</th>      <th>z</th>      <th>P>|z|</th>  <th>[0.025</th>    <th>0.975]</th>  \n",
       "</tr>\n",
       "<tr>\n",
       "  <th>spx</th>      <td>    2.5695</td> <td>    0.031</td> <td>   83.439</td> <td> 0.000</td> <td>    2.509</td> <td>    2.630</td>\n",
       "</tr>\n",
       "<tr>\n",
       "  <th>ar.L1</th>    <td>    0.9997</td> <td>    0.000</td> <td> 2279.001</td> <td> 0.000</td> <td>    0.999</td> <td>    1.001</td>\n",
       "</tr>\n",
       "<tr>\n",
       "  <th>ma.L1</th>    <td>   -0.2799</td> <td>    0.009</td> <td>  -32.292</td> <td> 0.000</td> <td>   -0.297</td> <td>   -0.263</td>\n",
       "</tr>\n",
       "<tr>\n",
       "  <th>ar.S.L5</th>  <td>    0.9692</td> <td>    0.009</td> <td>  102.471</td> <td> 0.000</td> <td>    0.951</td> <td>    0.988</td>\n",
       "</tr>\n",
       "<tr>\n",
       "  <th>ar.S.L10</th> <td>    0.0305</td> <td>    0.009</td> <td>    3.382</td> <td> 0.001</td> <td>    0.013</td> <td>    0.048</td>\n",
       "</tr>\n",
       "<tr>\n",
       "  <th>ma.S.L5</th>  <td>   -0.9992</td> <td>    0.004</td> <td> -256.021</td> <td> 0.000</td> <td>   -1.007</td> <td>   -0.992</td>\n",
       "</tr>\n",
       "<tr>\n",
       "  <th>sigma2</th>   <td> 2371.2529</td> <td>   25.359</td> <td>   93.506</td> <td> 0.000</td> <td> 2321.550</td> <td> 2420.956</td>\n",
       "</tr>\n",
       "</table>\n",
       "<table class=\"simpletable\">\n",
       "<tr>\n",
       "  <th>Ljung-Box (L1) (Q):</th>     <td>0.91</td> <th>  Jarque-Bera (JB):  </th> <td>4463.71</td>\n",
       "</tr>\n",
       "<tr>\n",
       "  <th>Prob(Q):</th>                <td>0.34</td> <th>  Prob(JB):          </th>  <td>0.00</td>  \n",
       "</tr>\n",
       "<tr>\n",
       "  <th>Heteroskedasticity (H):</th> <td>0.77</td> <th>  Skew:              </th>  <td>-0.41</td> \n",
       "</tr>\n",
       "<tr>\n",
       "  <th>Prob(H) (two-sided):</th>    <td>0.00</td> <th>  Kurtosis:          </th>  <td>7.05</td>  \n",
       "</tr>\n",
       "</table><br/><br/>Warnings:<br/>[1] Covariance matrix calculated using the outer product of gradients (complex-step)."
      ],
      "text/plain": [
       "<class 'statsmodels.iolib.summary.Summary'>\n",
       "\"\"\"\n",
       "                                     SARIMAX Results                                     \n",
       "=========================================================================================\n",
       "Dep. Variable:                      market_value   No. Observations:                 6277\n",
       "Model:             SARIMAX(1, 0, 1)x(2, 0, 1, 5)   Log Likelihood              -33301.102\n",
       "Date:                           Tue, 01 Feb 2022   AIC                          66616.205\n",
       "Time:                                   13:14:27   BIC                          66663.417\n",
       "Sample:                               01-07-1994   HQIC                         66632.563\n",
       "                                    - 01-29-2018                                         \n",
       "Covariance Type:                             opg                                         \n",
       "==============================================================================\n",
       "                 coef    std err          z      P>|z|      [0.025      0.975]\n",
       "------------------------------------------------------------------------------\n",
       "spx            2.5695      0.031     83.439      0.000       2.509       2.630\n",
       "ar.L1          0.9997      0.000   2279.001      0.000       0.999       1.001\n",
       "ma.L1         -0.2799      0.009    -32.292      0.000      -0.297      -0.263\n",
       "ar.S.L5        0.9692      0.009    102.471      0.000       0.951       0.988\n",
       "ar.S.L10       0.0305      0.009      3.382      0.001       0.013       0.048\n",
       "ma.S.L5       -0.9992      0.004   -256.021      0.000      -1.007      -0.992\n",
       "sigma2      2371.2529     25.359     93.506      0.000    2321.550    2420.956\n",
       "===================================================================================\n",
       "Ljung-Box (L1) (Q):                   0.91   Jarque-Bera (JB):              4463.71\n",
       "Prob(Q):                              0.34   Prob(JB):                         0.00\n",
       "Heteroskedasticity (H):               0.77   Skew:                            -0.41\n",
       "Prob(H) (two-sided):                  0.00   Kurtosis:                         7.05\n",
       "===================================================================================\n",
       "\n",
       "Warnings:\n",
       "[1] Covariance matrix calculated using the outer product of gradients (complex-step).\n",
       "\"\"\""
      ]
     },
     "execution_count": 44,
     "metadata": {},
     "output_type": "execute_result"
    }
   ],
   "source": [
    "model_sarimax=SARIMAX(df.market_value,exog=df.spx,order=(1,0,1),seasonal_order=(2,0,1,5))\n",
    "results_sarimax=model_sarimax.fit()\n",
    "results_sarimax.summary()"
   ]
  },
  {
   "cell_type": "code",
   "execution_count": 45,
   "id": "04630766",
   "metadata": {},
   "outputs": [],
   "source": [
    "df['returns']=df.market_value.pct_change(1)*100"
   ]
  },
  {
   "cell_type": "code",
   "execution_count": 46,
   "id": "0eed7d60",
   "metadata": {},
   "outputs": [],
   "source": [
    "df['sq_returns']=df.returns.mul(df.returns)"
   ]
  },
  {
   "cell_type": "code",
   "execution_count": 47,
   "id": "2e04372f",
   "metadata": {},
   "outputs": [
    {
     "data": {
      "image/png": "[encoded data removed]",
      "text/plain": [
       "<Figure size 1440x360 with 1 Axes>"
      ]
     },
     "metadata": {
      "needs_background": "light"
     },
     "output_type": "display_data"
    }
   ],
   "source": [
    "df.returns.plot(figsize=(20,5))\n",
    "plt.title('returns')\n",
    "plt.show()"
   ]
  },
  {
   "cell_type": "code",
   "execution_count": 48,
   "id": "2f85921e",
   "metadata": {},
   "outputs": [
    {
     "data": {
      "image/png": "[encoded data removed]",
      "text/plain": [
       "<Figure size 1440x360 with 1 Axes>"
      ]
     },
     "metadata": {
      "needs_background": "light"
     },
     "output_type": "display_data"
    }
   ],
   "source": [
    "df.sq_returns.plot(figsize=(20,5))\n",
    "plt.title('volatility(or variance)')\n",
    "plt.show()"
   ]
  },
  {
   "cell_type": "code",
   "execution_count": 49,
   "id": "ffd3a97d",
   "metadata": {},
   "outputs": [
    {
     "data": {
      "image/png": "[encoded data removed]",
      "text/plain": [
       "<Figure size 432x288 with 1 Axes>"
      ]
     },
     "metadata": {
      "needs_background": "light"
     },
     "output_type": "display_data"
    }
   ],
   "source": [
    "sgt.plot_pacf(df.returns[1:],lags=40,zero=False,method=('ols'))\n",
    "plt.title('pacf of returns')\n",
    "plt.show()"
   ]
  },
  {
   "cell_type": "code",
   "execution_count": 50,
   "id": "83e7a4c5",
   "metadata": {},
   "outputs": [
    {
     "data": {
      "image/png": "[encoded data removed]",
      "text/plain": [
       "<Figure size 432x288 with 1 Axes>"
      ]
     },
     "metadata": {
      "needs_background": "light"
     },
     "output_type": "display_data"
    }
   ],
   "source": [
    "sgt.plot_pacf(df.sq_returns[1:],lags=40,zero=False,method=('ols'))\n",
    "plt.title('pacf of sq_returns(volatility)')\n",
    "plt.show()"
   ]
  },
  {
   "cell_type": "code",
   "execution_count": 51,
   "id": "fd2b7543",
   "metadata": {},
   "outputs": [],
   "source": [
    "## this shows that there is short term trend in variance as first 6 lags are significant "
   ]
  },
  {
   "cell_type": "markdown",
   "id": "30537250",
   "metadata": {},
   "source": [
    "## the arch model method"
   ]
  },
  {
   "cell_type": "code",
   "execution_count": 52,
   "id": "a59de39f",
   "metadata": {},
   "outputs": [],
   "source": [
    "from arch import arch_model"
   ]
  },
  {
   "cell_type": "code",
   "execution_count": 53,
   "id": "ecbe1538",
   "metadata": {},
   "outputs": [
    {
     "name": "stdout",
     "output_type": "stream",
     "text": [
      "Iteration:      1,   Func. Count:      6,   Neg. LLF: 16863680761.307117\n",
      "Iteration:      2,   Func. Count:     15,   Neg. LLF: 694785802.0027294\n",
      "Iteration:      3,   Func. Count:     23,   Neg. LLF: 8470.84211140752\n",
      "Iteration:      4,   Func. Count:     29,   Neg. LLF: 8476.69225374964\n",
      "Iteration:      5,   Func. Count:     35,   Neg. LLF: 8417.8308011268\n",
      "Iteration:      6,   Func. Count:     41,   Neg. LLF: 8505.669210309847\n",
      "Iteration:      7,   Func. Count:     47,   Neg. LLF: 8417.794849188569\n",
      "Iteration:      8,   Func. Count:     53,   Neg. LLF: 8417.934653347469\n",
      "Iteration:      9,   Func. Count:     59,   Neg. LLF: 8410.474242385859\n",
      "Iteration:     10,   Func. Count:     64,   Neg. LLF: 8410.47393470983\n",
      "Iteration:     11,   Func. Count:     69,   Neg. LLF: 8410.473929749041\n",
      "Iteration:     12,   Func. Count:     73,   Neg. LLF: 8410.473929746735\n",
      "Optimization terminated successfully    (Exit mode 0)\n",
      "            Current function value: 8410.473929749041\n",
      "            Iterations: 12\n",
      "            Function evaluations: 73\n",
      "            Gradient evaluations: 12\n"
     ]
    },
    {
     "data": {
      "text/html": [
       "<table class=\"simpletable\">\n",
       "<caption>Constant Mean - GARCH Model Results</caption>\n",
       "<tr>\n",
       "  <th>Dep. Variable:</th>       <td>returns</td>      <th>  R-squared:         </th>  <td>   0.000</td> \n",
       "</tr>\n",
       "<tr>\n",
       "  <th>Mean Model:</th>       <td>Constant Mean</td>   <th>  Adj. R-squared:    </th>  <td>   0.000</td> \n",
       "</tr>\n",
       "<tr>\n",
       "  <th>Vol Model:</th>            <td>GARCH</td>       <th>  Log-Likelihood:    </th> <td>  -8410.47</td>\n",
       "</tr>\n",
       "<tr>\n",
       "  <th>Distribution:</th>        <td>Normal</td>       <th>  AIC:               </th> <td>   16828.9</td>\n",
       "</tr>\n",
       "<tr>\n",
       "  <th>Method:</th>        <td>Maximum Likelihood</td> <th>  BIC:               </th> <td>   16855.9</td>\n",
       "</tr>\n",
       "<tr>\n",
       "  <th></th>                        <td></td>          <th>  No. Observations:  </th>    <td>6276</td>   \n",
       "</tr>\n",
       "<tr>\n",
       "  <th>Date:</th>           <td>Tue, Feb 01 2022</td>  <th>  Df Residuals:      </th>    <td>6275</td>   \n",
       "</tr>\n",
       "<tr>\n",
       "  <th>Time:</th>               <td>13:14:29</td>      <th>  Df Model:          </th>      <td>1</td>    \n",
       "</tr>\n",
       "</table>\n",
       "<table class=\"simpletable\">\n",
       "<caption>Mean Model</caption>\n",
       "<tr>\n",
       "   <td></td>     <th>coef</th>     <th>std err</th>      <th>t</th>       <th>P>|t|</th>     <th>95.0% Conf. Int.</th>   \n",
       "</tr>\n",
       "<tr>\n",
       "  <th>mu</th> <td>    0.0422</td> <td>1.029e-02</td> <td>    4.102</td> <td>4.089e-05</td> <td>[2.205e-02,6.240e-02]</td>\n",
       "</tr>\n",
       "</table>\n",
       "<table class=\"simpletable\">\n",
       "<caption>Volatility Model</caption>\n",
       "<tr>\n",
       "      <td></td>        <th>coef</th>     <th>std err</th>      <th>t</th>       <th>P>|t|</th>     <th>95.0% Conf. Int.</th>   \n",
       "</tr>\n",
       "<tr>\n",
       "  <th>omega</th>    <td>    0.0124</td> <td>3.261e-03</td> <td>    3.804</td> <td>1.426e-04</td> <td>[6.012e-03,1.879e-02]</td>\n",
       "</tr>\n",
       "<tr>\n",
       "  <th>alpha[1]</th> <td>    0.0881</td> <td>1.139e-02</td> <td>    7.737</td> <td>1.019e-14</td>  <td>[6.580e-02,  0.110]</td> \n",
       "</tr>\n",
       "<tr>\n",
       "  <th>beta[1]</th>  <td>    0.9017</td> <td>1.283e-02</td> <td>   70.287</td>   <td>0.000</td>     <td>[  0.877,  0.927]</td>  \n",
       "</tr>\n",
       "</table><br/><br/>Covariance estimator: robust"
      ],
      "text/plain": [
       "<class 'statsmodels.iolib.summary.Summary'>\n",
       "\"\"\"\n",
       "                     Constant Mean - GARCH Model Results                      \n",
       "==============================================================================\n",
       "Dep. Variable:                returns   R-squared:                       0.000\n",
       "Mean Model:             Constant Mean   Adj. R-squared:                  0.000\n",
       "Vol Model:                      GARCH   Log-Likelihood:               -8410.47\n",
       "Distribution:                  Normal   AIC:                           16828.9\n",
       "Method:            Maximum Likelihood   BIC:                           16855.9\n",
       "                                        No. Observations:                 6276\n",
       "Date:                Tue, Feb 01 2022   Df Residuals:                     6275\n",
       "Time:                        13:14:29   Df Model:                            1\n",
       "                                 Mean Model                                 \n",
       "============================================================================\n",
       "                 coef    std err          t      P>|t|      95.0% Conf. Int.\n",
       "----------------------------------------------------------------------------\n",
       "mu             0.0422  1.029e-02      4.102  4.089e-05 [2.205e-02,6.240e-02]\n",
       "                              Volatility Model                              \n",
       "============================================================================\n",
       "                 coef    std err          t      P>|t|      95.0% Conf. Int.\n",
       "----------------------------------------------------------------------------\n",
       "omega          0.0124  3.261e-03      3.804  1.426e-04 [6.012e-03,1.879e-02]\n",
       "alpha[1]       0.0881  1.139e-02      7.737  1.019e-14   [6.580e-02,  0.110]\n",
       "beta[1]        0.9017  1.283e-02     70.287      0.000     [  0.877,  0.927]\n",
       "============================================================================\n",
       "\n",
       "Covariance estimator: robust\n",
       "\"\"\""
      ]
     },
     "execution_count": 53,
     "metadata": {},
     "output_type": "execute_result"
    }
   ],
   "source": [
    "model_arch1=arch_model(df.returns[1:])\n",
    "results_arch1=model_arch1.fit()\n",
    "results_arch1.summary()"
   ]
  },
  {
   "cell_type": "markdown",
   "id": "bb5c0082",
   "metadata": {},
   "source": [
    "## simple arch model"
   ]
  },
  {
   "cell_type": "code",
   "execution_count": 54,
   "id": "81e2b1c1",
   "metadata": {},
   "outputs": [
    {
     "name": "stdout",
     "output_type": "stream",
     "text": [
      "Iteration:      1,   Func. Count:      5,   Neg. LLF: 38456.93802662019\n",
      "Iteration:      2,   Func. Count:     13,   Neg. LLF: 14502.596709603778\n",
      "Iteration:      3,   Func. Count:     20,   Neg. LLF: 9416.724763520728\n",
      "Iteration:      4,   Func. Count:     26,   Neg. LLF: 9234.946373695788\n",
      "Iteration:      5,   Func. Count:     30,   Neg. LLF: 9234.946357288656\n",
      "Iteration:      6,   Func. Count:     33,   Neg. LLF: 9234.946357288776\n",
      "Optimization terminated successfully    (Exit mode 0)\n",
      "            Current function value: 9234.946357288656\n",
      "            Iterations: 6\n",
      "            Function evaluations: 33\n",
      "            Gradient evaluations: 6\n"
     ]
    },
    {
     "data": {
      "text/html": [
       "<table class=\"simpletable\">\n",
       "<caption>Constant Mean - ARCH Model Results</caption>\n",
       "<tr>\n",
       "  <th>Dep. Variable:</th>       <td>returns</td>      <th>  R-squared:         </th>  <td>   0.000</td> \n",
       "</tr>\n",
       "<tr>\n",
       "  <th>Mean Model:</th>       <td>Constant Mean</td>   <th>  Adj. R-squared:    </th>  <td>   0.000</td> \n",
       "</tr>\n",
       "<tr>\n",
       "  <th>Vol Model:</th>            <td>ARCH</td>        <th>  Log-Likelihood:    </th> <td>  -9234.95</td>\n",
       "</tr>\n",
       "<tr>\n",
       "  <th>Distribution:</th>        <td>Normal</td>       <th>  AIC:               </th> <td>   18475.9</td>\n",
       "</tr>\n",
       "<tr>\n",
       "  <th>Method:</th>        <td>Maximum Likelihood</td> <th>  BIC:               </th> <td>   18496.1</td>\n",
       "</tr>\n",
       "<tr>\n",
       "  <th></th>                        <td></td>          <th>  No. Observations:  </th>    <td>6276</td>   \n",
       "</tr>\n",
       "<tr>\n",
       "  <th>Date:</th>           <td>Tue, Feb 01 2022</td>  <th>  Df Residuals:      </th>    <td>6275</td>   \n",
       "</tr>\n",
       "<tr>\n",
       "  <th>Time:</th>               <td>13:14:29</td>      <th>  Df Model:          </th>      <td>1</td>    \n",
       "</tr>\n",
       "</table>\n",
       "<table class=\"simpletable\">\n",
       "<caption>Mean Model</caption>\n",
       "<tr>\n",
       "   <td></td>     <th>coef</th>     <th>std err</th>      <th>t</th>       <th>P>|t|</th>     <th>95.0% Conf. Int.</th>   \n",
       "</tr>\n",
       "<tr>\n",
       "  <th>mu</th> <td>    0.0351</td> <td>1.365e-02</td> <td>    2.569</td> <td>1.021e-02</td> <td>[8.308e-03,6.182e-02]</td>\n",
       "</tr>\n",
       "</table>\n",
       "<table class=\"simpletable\">\n",
       "<caption>Volatility Model</caption>\n",
       "<tr>\n",
       "      <td></td>        <th>coef</th>     <th>std err</th>      <th>t</th>        <th>P>|t|</th>   <th>95.0% Conf. Int.</th> \n",
       "</tr>\n",
       "<tr>\n",
       "  <th>omega</th>    <td>    0.8150</td> <td>3.470e-02</td> <td>   23.489</td> <td>5.224e-122</td> <td>[  0.747,  0.883]</td>\n",
       "</tr>\n",
       "<tr>\n",
       "  <th>alpha[1]</th> <td>    0.3853</td> <td>4.617e-02</td> <td>    8.346</td>  <td>7.039e-17</td> <td>[  0.295,  0.476]</td>\n",
       "</tr>\n",
       "</table><br/><br/>Covariance estimator: robust"
      ],
      "text/plain": [
       "<class 'statsmodels.iolib.summary.Summary'>\n",
       "\"\"\"\n",
       "                      Constant Mean - ARCH Model Results                      \n",
       "==============================================================================\n",
       "Dep. Variable:                returns   R-squared:                       0.000\n",
       "Mean Model:             Constant Mean   Adj. R-squared:                  0.000\n",
       "Vol Model:                       ARCH   Log-Likelihood:               -9234.95\n",
       "Distribution:                  Normal   AIC:                           18475.9\n",
       "Method:            Maximum Likelihood   BIC:                           18496.1\n",
       "                                        No. Observations:                 6276\n",
       "Date:                Tue, Feb 01 2022   Df Residuals:                     6275\n",
       "Time:                        13:14:29   Df Model:                            1\n",
       "                                 Mean Model                                 \n",
       "============================================================================\n",
       "                 coef    std err          t      P>|t|      95.0% Conf. Int.\n",
       "----------------------------------------------------------------------------\n",
       "mu             0.0351  1.365e-02      2.569  1.021e-02 [8.308e-03,6.182e-02]\n",
       "                            Volatility Model                            \n",
       "========================================================================\n",
       "                 coef    std err          t      P>|t|  95.0% Conf. Int.\n",
       "------------------------------------------------------------------------\n",
       "omega          0.8150  3.470e-02     23.489 5.224e-122 [  0.747,  0.883]\n",
       "alpha[1]       0.3853  4.617e-02      8.346  7.039e-17 [  0.295,  0.476]\n",
       "========================================================================\n",
       "\n",
       "Covariance estimator: robust\n",
       "\"\"\""
      ]
     },
     "execution_count": 54,
     "metadata": {},
     "output_type": "execute_result"
    }
   ],
   "source": [
    "model_arch1=arch_model(df.returns[1:],mean='Constant',vol='ARCH',p=1)\n",
    "results_arch1=model_arch1.fit()\n",
    "results_arch1.summary()"
   ]
  },
  {
   "cell_type": "code",
   "execution_count": 55,
   "id": "79995ef9",
   "metadata": {},
   "outputs": [
    {
     "name": "stdout",
     "output_type": "stream",
     "text": [
      "Iteration:      1,   Func. Count:      6,   Neg. LLF: 44072.66593926052\n",
      "Iteration:      2,   Func. Count:     16,   Neg. LLF: 9417.435689106684\n",
      "Iteration:      3,   Func. Count:     23,   Neg. LLF: 10357064.350324173\n",
      "Iteration:      4,   Func. Count:     31,   Neg. LLF: 9204.448887981149\n",
      "Iteration:      5,   Func. Count:     38,   Neg. LLF: 8982.519896191176\n",
      "Iteration:      6,   Func. Count:     43,   Neg. LLF: 8982.519223934534\n",
      "Iteration:      7,   Func. Count:     47,   Neg. LLF: 8982.519223934636\n",
      "Optimization terminated successfully    (Exit mode 0)\n",
      "            Current function value: 8982.519223934534\n",
      "            Iterations: 7\n",
      "            Function evaluations: 47\n",
      "            Gradient evaluations: 7\n"
     ]
    },
    {
     "data": {
      "text/html": [
       "<table class=\"simpletable\">\n",
       "<caption>Constant Mean - ARCH Model Results</caption>\n",
       "<tr>\n",
       "  <th>Dep. Variable:</th>       <td>returns</td>      <th>  R-squared:         </th>  <td>   0.000</td> \n",
       "</tr>\n",
       "<tr>\n",
       "  <th>Mean Model:</th>       <td>Constant Mean</td>   <th>  Adj. R-squared:    </th>  <td>   0.000</td> \n",
       "</tr>\n",
       "<tr>\n",
       "  <th>Vol Model:</th>            <td>ARCH</td>        <th>  Log-Likelihood:    </th> <td>  -8982.52</td>\n",
       "</tr>\n",
       "<tr>\n",
       "  <th>Distribution:</th>        <td>Normal</td>       <th>  AIC:               </th> <td>   17973.0</td>\n",
       "</tr>\n",
       "<tr>\n",
       "  <th>Method:</th>        <td>Maximum Likelihood</td> <th>  BIC:               </th> <td>   18000.0</td>\n",
       "</tr>\n",
       "<tr>\n",
       "  <th></th>                        <td></td>          <th>  No. Observations:  </th>    <td>6276</td>   \n",
       "</tr>\n",
       "<tr>\n",
       "  <th>Date:</th>           <td>Tue, Feb 01 2022</td>  <th>  Df Residuals:      </th>    <td>6275</td>   \n",
       "</tr>\n",
       "<tr>\n",
       "  <th>Time:</th>               <td>13:14:29</td>      <th>  Df Model:          </th>      <td>1</td>    \n",
       "</tr>\n",
       "</table>\n",
       "<table class=\"simpletable\">\n",
       "<caption>Mean Model</caption>\n",
       "<tr>\n",
       "   <td></td>     <th>coef</th>     <th>std err</th>      <th>t</th>       <th>P>|t|</th>     <th>95.0% Conf. Int.</th>   \n",
       "</tr>\n",
       "<tr>\n",
       "  <th>mu</th> <td>    0.0425</td> <td>1.184e-02</td> <td>    3.586</td> <td>3.354e-04</td> <td>[1.926e-02,6.568e-02]</td>\n",
       "</tr>\n",
       "</table>\n",
       "<table class=\"simpletable\">\n",
       "<caption>Volatility Model</caption>\n",
       "<tr>\n",
       "      <td></td>        <th>coef</th>     <th>std err</th>      <th>t</th>        <th>P>|t|</th>   <th>95.0% Conf. Int.</th> \n",
       "</tr>\n",
       "<tr>\n",
       "  <th>omega</th>    <td>    0.6220</td> <td>2.921e-02</td> <td>   21.299</td> <td>1.164e-100</td> <td>[  0.565,  0.679]</td>\n",
       "</tr>\n",
       "<tr>\n",
       "  <th>alpha[1]</th> <td>    0.2389</td> <td>3.248e-02</td> <td>    7.356</td>  <td>1.892e-13</td> <td>[  0.175,  0.303]</td>\n",
       "</tr>\n",
       "<tr>\n",
       "  <th>alpha[2]</th> <td>    0.2695</td> <td>3.205e-02</td> <td>    8.408</td>  <td>4.183e-17</td> <td>[  0.207,  0.332]</td>\n",
       "</tr>\n",
       "</table><br/><br/>Covariance estimator: robust"
      ],
      "text/plain": [
       "<class 'statsmodels.iolib.summary.Summary'>\n",
       "\"\"\"\n",
       "                      Constant Mean - ARCH Model Results                      \n",
       "==============================================================================\n",
       "Dep. Variable:                returns   R-squared:                       0.000\n",
       "Mean Model:             Constant Mean   Adj. R-squared:                  0.000\n",
       "Vol Model:                       ARCH   Log-Likelihood:               -8982.52\n",
       "Distribution:                  Normal   AIC:                           17973.0\n",
       "Method:            Maximum Likelihood   BIC:                           18000.0\n",
       "                                        No. Observations:                 6276\n",
       "Date:                Tue, Feb 01 2022   Df Residuals:                     6275\n",
       "Time:                        13:14:29   Df Model:                            1\n",
       "                                 Mean Model                                 \n",
       "============================================================================\n",
       "                 coef    std err          t      P>|t|      95.0% Conf. Int.\n",
       "----------------------------------------------------------------------------\n",
       "mu             0.0425  1.184e-02      3.586  3.354e-04 [1.926e-02,6.568e-02]\n",
       "                            Volatility Model                            \n",
       "========================================================================\n",
       "                 coef    std err          t      P>|t|  95.0% Conf. Int.\n",
       "------------------------------------------------------------------------\n",
       "omega          0.6220  2.921e-02     21.299 1.164e-100 [  0.565,  0.679]\n",
       "alpha[1]       0.2389  3.248e-02      7.356  1.892e-13 [  0.175,  0.303]\n",
       "alpha[2]       0.2695  3.205e-02      8.408  4.183e-17 [  0.207,  0.332]\n",
       "========================================================================\n",
       "\n",
       "Covariance estimator: robust\n",
       "\"\"\""
      ]
     },
     "execution_count": 55,
     "metadata": {},
     "output_type": "execute_result"
    }
   ],
   "source": [
    "model_arch2=arch_model(df.returns[1:],mean='Constant',vol='ARCH',p=2)\n",
    "results_arch2=model_arch2.fit()\n",
    "results_arch2.summary()"
   ]
  },
  {
   "cell_type": "code",
   "execution_count": 56,
   "id": "36f515d6",
   "metadata": {},
   "outputs": [
    {
     "name": "stdout",
     "output_type": "stream",
     "text": [
      "Iteration:      1,   Func. Count:      7,   Neg. LLF: 51546.11885632489\n",
      "Iteration:      2,   Func. Count:     18,   Neg. LLF: 14511.420518474551\n",
      "Iteration:      3,   Func. Count:     27,   Neg. LLF: 9999.798516422838\n",
      "Iteration:      4,   Func. Count:     34,   Neg. LLF: 9043.11755670816\n",
      "Iteration:      5,   Func. Count:     42,   Neg. LLF: 9023.142793703322\n",
      "Iteration:      6,   Func. Count:     49,   Neg. LLF: 9022.31637332133\n",
      "Iteration:      7,   Func. Count:     57,   Neg. LLF: 8768.068319688326\n",
      "Iteration:      8,   Func. Count:     63,   Neg. LLF: 8768.068316136223\n",
      "Iteration:      9,   Func. Count:     68,   Neg. LLF: 8768.068316136148\n",
      "Optimization terminated successfully    (Exit mode 0)\n",
      "            Current function value: 8768.068316136223\n",
      "            Iterations: 9\n",
      "            Function evaluations: 68\n",
      "            Gradient evaluations: 9\n"
     ]
    },
    {
     "data": {
      "text/html": [
       "<table class=\"simpletable\">\n",
       "<caption>Constant Mean - ARCH Model Results</caption>\n",
       "<tr>\n",
       "  <th>Dep. Variable:</th>       <td>returns</td>      <th>  R-squared:         </th>  <td>   0.000</td> \n",
       "</tr>\n",
       "<tr>\n",
       "  <th>Mean Model:</th>       <td>Constant Mean</td>   <th>  Adj. R-squared:    </th>  <td>   0.000</td> \n",
       "</tr>\n",
       "<tr>\n",
       "  <th>Vol Model:</th>            <td>ARCH</td>        <th>  Log-Likelihood:    </th> <td>  -8768.07</td>\n",
       "</tr>\n",
       "<tr>\n",
       "  <th>Distribution:</th>        <td>Normal</td>       <th>  AIC:               </th> <td>   17546.1</td>\n",
       "</tr>\n",
       "<tr>\n",
       "  <th>Method:</th>        <td>Maximum Likelihood</td> <th>  BIC:               </th> <td>   17579.9</td>\n",
       "</tr>\n",
       "<tr>\n",
       "  <th></th>                        <td></td>          <th>  No. Observations:  </th>    <td>6276</td>   \n",
       "</tr>\n",
       "<tr>\n",
       "  <th>Date:</th>           <td>Tue, Feb 01 2022</td>  <th>  Df Residuals:      </th>    <td>6275</td>   \n",
       "</tr>\n",
       "<tr>\n",
       "  <th>Time:</th>               <td>13:14:29</td>      <th>  Df Model:          </th>      <td>1</td>    \n",
       "</tr>\n",
       "</table>\n",
       "<table class=\"simpletable\">\n",
       "<caption>Mean Model</caption>\n",
       "<tr>\n",
       "   <td></td>     <th>coef</th>     <th>std err</th>      <th>t</th>       <th>P>|t|</th>     <th>95.0% Conf. Int.</th>   \n",
       "</tr>\n",
       "<tr>\n",
       "  <th>mu</th> <td>    0.0462</td> <td>1.125e-02</td> <td>    4.104</td> <td>4.067e-05</td> <td>[2.412e-02,6.824e-02]</td>\n",
       "</tr>\n",
       "</table>\n",
       "<table class=\"simpletable\">\n",
       "<caption>Volatility Model</caption>\n",
       "<tr>\n",
       "      <td></td>        <th>coef</th>     <th>std err</th>      <th>t</th>       <th>P>|t|</th>   <th>95.0% Conf. Int.</th> \n",
       "</tr>\n",
       "<tr>\n",
       "  <th>omega</th>    <td>    0.4543</td> <td>2.290e-02</td> <td>   19.840</td> <td>1.354e-87</td> <td>[  0.409,  0.499]</td>\n",
       "</tr>\n",
       "<tr>\n",
       "  <th>alpha[1]</th> <td>    0.1712</td> <td>2.479e-02</td> <td>    6.906</td> <td>4.981e-12</td> <td>[  0.123,  0.220]</td>\n",
       "</tr>\n",
       "<tr>\n",
       "  <th>alpha[2]</th> <td>    0.2067</td> <td>2.263e-02</td> <td>    9.131</td> <td>6.786e-20</td> <td>[  0.162,  0.251]</td>\n",
       "</tr>\n",
       "<tr>\n",
       "  <th>alpha[3]</th> <td>    0.2744</td> <td>2.963e-02</td> <td>    9.261</td> <td>2.017e-20</td> <td>[  0.216,  0.332]</td>\n",
       "</tr>\n",
       "</table><br/><br/>Covariance estimator: robust"
      ],
      "text/plain": [
       "<class 'statsmodels.iolib.summary.Summary'>\n",
       "\"\"\"\n",
       "                      Constant Mean - ARCH Model Results                      \n",
       "==============================================================================\n",
       "Dep. Variable:                returns   R-squared:                       0.000\n",
       "Mean Model:             Constant Mean   Adj. R-squared:                  0.000\n",
       "Vol Model:                       ARCH   Log-Likelihood:               -8768.07\n",
       "Distribution:                  Normal   AIC:                           17546.1\n",
       "Method:            Maximum Likelihood   BIC:                           17579.9\n",
       "                                        No. Observations:                 6276\n",
       "Date:                Tue, Feb 01 2022   Df Residuals:                     6275\n",
       "Time:                        13:14:29   Df Model:                            1\n",
       "                                 Mean Model                                 \n",
       "============================================================================\n",
       "                 coef    std err          t      P>|t|      95.0% Conf. Int.\n",
       "----------------------------------------------------------------------------\n",
       "mu             0.0462  1.125e-02      4.104  4.067e-05 [2.412e-02,6.824e-02]\n",
       "                            Volatility Model                            \n",
       "========================================================================\n",
       "                 coef    std err          t      P>|t|  95.0% Conf. Int.\n",
       "------------------------------------------------------------------------\n",
       "omega          0.4543  2.290e-02     19.840  1.354e-87 [  0.409,  0.499]\n",
       "alpha[1]       0.1712  2.479e-02      6.906  4.981e-12 [  0.123,  0.220]\n",
       "alpha[2]       0.2067  2.263e-02      9.131  6.786e-20 [  0.162,  0.251]\n",
       "alpha[3]       0.2744  2.963e-02      9.261  2.017e-20 [  0.216,  0.332]\n",
       "========================================================================\n",
       "\n",
       "Covariance estimator: robust\n",
       "\"\"\""
      ]
     },
     "execution_count": 56,
     "metadata": {},
     "output_type": "execute_result"
    }
   ],
   "source": [
    "model_arch3=arch_model(df.returns[1:],mean='Constant',vol='ARCH',p=3)\n",
    "results_arch3=model_arch3.fit()\n",
    "results_arch3.summary()"
   ]
  },
  {
   "cell_type": "code",
   "execution_count": 57,
   "id": "2e7c6f83",
   "metadata": {},
   "outputs": [],
   "source": [
    "## this is hit and trial method until the coefficients become insignificant"
   ]
  },
  {
   "cell_type": "markdown",
   "id": "76be7273",
   "metadata": {},
   "source": [
    "## GARCH model"
   ]
  },
  {
   "cell_type": "code",
   "execution_count": 58,
   "id": "8896a4ff",
   "metadata": {},
   "outputs": [],
   "source": [
    "from arch import arch_model"
   ]
  },
  {
   "cell_type": "code",
   "execution_count": 59,
   "id": "2816db1c",
   "metadata": {},
   "outputs": [],
   "source": [
    "df['returns'] =df.market_value.pct_change(1)*100"
   ]
  },
  {
   "cell_type": "code",
   "execution_count": 60,
   "id": "88666373",
   "metadata": {},
   "outputs": [
    {
     "name": "stdout",
     "output_type": "stream",
     "text": [
      "Iteration:      1,   Func. Count:      6,   Neg. LLF: 16863680761.307117\n",
      "Iteration:      2,   Func. Count:     15,   Neg. LLF: 694785802.0027294\n",
      "Iteration:      3,   Func. Count:     23,   Neg. LLF: 8470.84211140752\n",
      "Iteration:      4,   Func. Count:     29,   Neg. LLF: 8476.69225374964\n",
      "Iteration:      5,   Func. Count:     35,   Neg. LLF: 8417.8308011268\n",
      "Iteration:      6,   Func. Count:     41,   Neg. LLF: 8505.669210309847\n",
      "Iteration:      7,   Func. Count:     47,   Neg. LLF: 8417.794849188569\n",
      "Iteration:      8,   Func. Count:     53,   Neg. LLF: 8417.934653347469\n",
      "Iteration:      9,   Func. Count:     59,   Neg. LLF: 8410.474242385859\n",
      "Iteration:     10,   Func. Count:     64,   Neg. LLF: 8410.47393470983\n",
      "Iteration:     11,   Func. Count:     69,   Neg. LLF: 8410.473929749041\n",
      "Iteration:     12,   Func. Count:     73,   Neg. LLF: 8410.473929746735\n",
      "Optimization terminated successfully    (Exit mode 0)\n",
      "            Current function value: 8410.473929749041\n",
      "            Iterations: 12\n",
      "            Function evaluations: 73\n",
      "            Gradient evaluations: 12\n"
     ]
    },
    {
     "data": {
      "text/html": [
       "<table class=\"simpletable\">\n",
       "<caption>Constant Mean - GARCH Model Results</caption>\n",
       "<tr>\n",
       "  <th>Dep. Variable:</th>       <td>returns</td>      <th>  R-squared:         </th>  <td>   0.000</td> \n",
       "</tr>\n",
       "<tr>\n",
       "  <th>Mean Model:</th>       <td>Constant Mean</td>   <th>  Adj. R-squared:    </th>  <td>   0.000</td> \n",
       "</tr>\n",
       "<tr>\n",
       "  <th>Vol Model:</th>            <td>GARCH</td>       <th>  Log-Likelihood:    </th> <td>  -8410.47</td>\n",
       "</tr>\n",
       "<tr>\n",
       "  <th>Distribution:</th>        <td>Normal</td>       <th>  AIC:               </th> <td>   16828.9</td>\n",
       "</tr>\n",
       "<tr>\n",
       "  <th>Method:</th>        <td>Maximum Likelihood</td> <th>  BIC:               </th> <td>   16855.9</td>\n",
       "</tr>\n",
       "<tr>\n",
       "  <th></th>                        <td></td>          <th>  No. Observations:  </th>    <td>6276</td>   \n",
       "</tr>\n",
       "<tr>\n",
       "  <th>Date:</th>           <td>Tue, Feb 01 2022</td>  <th>  Df Residuals:      </th>    <td>6275</td>   \n",
       "</tr>\n",
       "<tr>\n",
       "  <th>Time:</th>               <td>13:14:30</td>      <th>  Df Model:          </th>      <td>1</td>    \n",
       "</tr>\n",
       "</table>\n",
       "<table class=\"simpletable\">\n",
       "<caption>Mean Model</caption>\n",
       "<tr>\n",
       "   <td></td>     <th>coef</th>     <th>std err</th>      <th>t</th>       <th>P>|t|</th>     <th>95.0% Conf. Int.</th>   \n",
       "</tr>\n",
       "<tr>\n",
       "  <th>mu</th> <td>    0.0422</td> <td>1.029e-02</td> <td>    4.102</td> <td>4.089e-05</td> <td>[2.205e-02,6.240e-02]</td>\n",
       "</tr>\n",
       "</table>\n",
       "<table class=\"simpletable\">\n",
       "<caption>Volatility Model</caption>\n",
       "<tr>\n",
       "      <td></td>        <th>coef</th>     <th>std err</th>      <th>t</th>       <th>P>|t|</th>     <th>95.0% Conf. Int.</th>   \n",
       "</tr>\n",
       "<tr>\n",
       "  <th>omega</th>    <td>    0.0124</td> <td>3.261e-03</td> <td>    3.804</td> <td>1.426e-04</td> <td>[6.012e-03,1.879e-02]</td>\n",
       "</tr>\n",
       "<tr>\n",
       "  <th>alpha[1]</th> <td>    0.0881</td> <td>1.139e-02</td> <td>    7.737</td> <td>1.019e-14</td>  <td>[6.580e-02,  0.110]</td> \n",
       "</tr>\n",
       "<tr>\n",
       "  <th>beta[1]</th>  <td>    0.9017</td> <td>1.283e-02</td> <td>   70.287</td>   <td>0.000</td>     <td>[  0.877,  0.927]</td>  \n",
       "</tr>\n",
       "</table><br/><br/>Covariance estimator: robust"
      ],
      "text/plain": [
       "<class 'statsmodels.iolib.summary.Summary'>\n",
       "\"\"\"\n",
       "                     Constant Mean - GARCH Model Results                      \n",
       "==============================================================================\n",
       "Dep. Variable:                returns   R-squared:                       0.000\n",
       "Mean Model:             Constant Mean   Adj. R-squared:                  0.000\n",
       "Vol Model:                      GARCH   Log-Likelihood:               -8410.47\n",
       "Distribution:                  Normal   AIC:                           16828.9\n",
       "Method:            Maximum Likelihood   BIC:                           16855.9\n",
       "                                        No. Observations:                 6276\n",
       "Date:                Tue, Feb 01 2022   Df Residuals:                     6275\n",
       "Time:                        13:14:30   Df Model:                            1\n",
       "                                 Mean Model                                 \n",
       "============================================================================\n",
       "                 coef    std err          t      P>|t|      95.0% Conf. Int.\n",
       "----------------------------------------------------------------------------\n",
       "mu             0.0422  1.029e-02      4.102  4.089e-05 [2.205e-02,6.240e-02]\n",
       "                              Volatility Model                              \n",
       "============================================================================\n",
       "                 coef    std err          t      P>|t|      95.0% Conf. Int.\n",
       "----------------------------------------------------------------------------\n",
       "omega          0.0124  3.261e-03      3.804  1.426e-04 [6.012e-03,1.879e-02]\n",
       "alpha[1]       0.0881  1.139e-02      7.737  1.019e-14   [6.580e-02,  0.110]\n",
       "beta[1]        0.9017  1.283e-02     70.287      0.000     [  0.877,  0.927]\n",
       "============================================================================\n",
       "\n",
       "Covariance estimator: robust\n",
       "\"\"\""
      ]
     },
     "execution_count": 60,
     "metadata": {},
     "output_type": "execute_result"
    }
   ],
   "source": [
    "model_garch_1_1=arch_model(df.returns[1:], mean='Constant', vol='GARCH', p=1,q=1)\n",
    "results_garch_1_1=model_garch_1_1.fit()\n",
    "results_garch_1_1.summary()\n"
   ]
  },
  {
   "cell_type": "code",
   "execution_count": 61,
   "id": "2698b140",
   "metadata": {},
   "outputs": [],
   "source": [
    "## this model outperforms arch model because of higher llr value and all coeffficients are significant, since this model also includes past value that is past variance along with past residuals square this model measures the best volatility comparing to arch model"
   ]
  },
  {
   "cell_type": "markdown",
   "id": "cf18acd6",
   "metadata": {},
   "source": [
    "## Higher lag GARCH MODEL"
   ]
  },
  {
   "cell_type": "code",
   "execution_count": 62,
   "id": "029a0375",
   "metadata": {},
   "outputs": [],
   "source": [
    "## Garch(1,1) outperforms higher order garch models in every situation so garch(1,1) is the best suited model for volatility, but lets see how higher order garch nodel performs"
   ]
  },
  {
   "cell_type": "code",
   "execution_count": 63,
   "id": "3c9c745f",
   "metadata": {},
   "outputs": [
    {
     "name": "stdout",
     "output_type": "stream",
     "text": [
      "Iteration:      1,   Func. Count:      7,   Neg. LLF: 252440729653994.9\n",
      "Iteration:      2,   Func. Count:     17,   Neg. LLF: 204146649.2989454\n",
      "Iteration:      3,   Func. Count:     25,   Neg. LLF: 12210.956784937176\n",
      "Iteration:      4,   Func. Count:     33,   Neg. LLF: 8472.042049182764\n",
      "Iteration:      5,   Func. Count:     40,   Neg. LLF: 8421.008955234884\n",
      "Iteration:      6,   Func. Count:     47,   Neg. LLF: 8411.89824469785\n",
      "Iteration:      7,   Func. Count:     53,   Neg. LLF: 8411.713652430357\n",
      "Iteration:      8,   Func. Count:     60,   Neg. LLF: 8426.354920816095\n",
      "Iteration:      9,   Func. Count:     67,   Neg. LLF: 8410.474338560463\n",
      "Iteration:     10,   Func. Count:     73,   Neg. LLF: 8410.474019230227\n",
      "Iteration:     11,   Func. Count:     79,   Neg. LLF: 8410.473931959052\n",
      "Iteration:     12,   Func. Count:     85,   Neg. LLF: 8410.473929733595\n",
      "Iteration:     13,   Func. Count:     90,   Neg. LLF: 8410.473929831052\n",
      "Optimization terminated successfully    (Exit mode 0)\n",
      "            Current function value: 8410.473929733595\n",
      "            Iterations: 13\n",
      "            Function evaluations: 90\n",
      "            Gradient evaluations: 13\n"
     ]
    },
    {
     "data": {
      "text/html": [
       "<table class=\"simpletable\">\n",
       "<caption>Constant Mean - GARCH Model Results</caption>\n",
       "<tr>\n",
       "  <th>Dep. Variable:</th>       <td>returns</td>      <th>  R-squared:         </th>  <td>   0.000</td> \n",
       "</tr>\n",
       "<tr>\n",
       "  <th>Mean Model:</th>       <td>Constant Mean</td>   <th>  Adj. R-squared:    </th>  <td>   0.000</td> \n",
       "</tr>\n",
       "<tr>\n",
       "  <th>Vol Model:</th>            <td>GARCH</td>       <th>  Log-Likelihood:    </th> <td>  -8410.47</td>\n",
       "</tr>\n",
       "<tr>\n",
       "  <th>Distribution:</th>        <td>Normal</td>       <th>  AIC:               </th> <td>   16830.9</td>\n",
       "</tr>\n",
       "<tr>\n",
       "  <th>Method:</th>        <td>Maximum Likelihood</td> <th>  BIC:               </th> <td>   16864.7</td>\n",
       "</tr>\n",
       "<tr>\n",
       "  <th></th>                        <td></td>          <th>  No. Observations:  </th>    <td>6276</td>   \n",
       "</tr>\n",
       "<tr>\n",
       "  <th>Date:</th>           <td>Tue, Feb 01 2022</td>  <th>  Df Residuals:      </th>    <td>6275</td>   \n",
       "</tr>\n",
       "<tr>\n",
       "  <th>Time:</th>               <td>13:14:30</td>      <th>  Df Model:          </th>      <td>1</td>    \n",
       "</tr>\n",
       "</table>\n",
       "<table class=\"simpletable\">\n",
       "<caption>Mean Model</caption>\n",
       "<tr>\n",
       "   <td></td>     <th>coef</th>     <th>std err</th>      <th>t</th>       <th>P>|t|</th>     <th>95.0% Conf. Int.</th>   \n",
       "</tr>\n",
       "<tr>\n",
       "  <th>mu</th> <td>    0.0422</td> <td>1.029e-02</td> <td>    4.106</td> <td>4.023e-05</td> <td>[2.207e-02,6.239e-02]</td>\n",
       "</tr>\n",
       "</table>\n",
       "<table class=\"simpletable\">\n",
       "<caption>Volatility Model</caption>\n",
       "<tr>\n",
       "      <td></td>        <th>coef</th>     <th>std err</th>      <th>t</th>       <th>P>|t|</th>     <th>95.0% Conf. Int.</th>   \n",
       "</tr>\n",
       "<tr>\n",
       "  <th>omega</th>    <td>    0.0124</td> <td>3.147e-03</td> <td>    3.941</td> <td>8.112e-05</td> <td>[6.235e-03,1.857e-02]</td>\n",
       "</tr>\n",
       "<tr>\n",
       "  <th>alpha[1]</th> <td>    0.0881</td> <td>1.374e-02</td> <td>    6.413</td> <td>1.428e-10</td>  <td>[6.119e-02,  0.115]</td> \n",
       "</tr>\n",
       "<tr>\n",
       "  <th>beta[1]</th>  <td>    0.9017</td> <td>    0.200</td> <td>    4.515</td> <td>6.337e-06</td>   <td>[  0.510,  1.293]</td>  \n",
       "</tr>\n",
       "<tr>\n",
       "  <th>beta[2]</th>  <td>5.4966e-13</td> <td>    0.190</td> <td>2.889e-12</td> <td>    1.000</td>   <td>[ -0.373,  0.373]</td>  \n",
       "</tr>\n",
       "</table><br/><br/>Covariance estimator: robust"
      ],
      "text/plain": [
       "<class 'statsmodels.iolib.summary.Summary'>\n",
       "\"\"\"\n",
       "                     Constant Mean - GARCH Model Results                      \n",
       "==============================================================================\n",
       "Dep. Variable:                returns   R-squared:                       0.000\n",
       "Mean Model:             Constant Mean   Adj. R-squared:                  0.000\n",
       "Vol Model:                      GARCH   Log-Likelihood:               -8410.47\n",
       "Distribution:                  Normal   AIC:                           16830.9\n",
       "Method:            Maximum Likelihood   BIC:                           16864.7\n",
       "                                        No. Observations:                 6276\n",
       "Date:                Tue, Feb 01 2022   Df Residuals:                     6275\n",
       "Time:                        13:14:30   Df Model:                            1\n",
       "                                 Mean Model                                 \n",
       "============================================================================\n",
       "                 coef    std err          t      P>|t|      95.0% Conf. Int.\n",
       "----------------------------------------------------------------------------\n",
       "mu             0.0422  1.029e-02      4.106  4.023e-05 [2.207e-02,6.239e-02]\n",
       "                              Volatility Model                              \n",
       "============================================================================\n",
       "                 coef    std err          t      P>|t|      95.0% Conf. Int.\n",
       "----------------------------------------------------------------------------\n",
       "omega          0.0124  3.147e-03      3.941  8.112e-05 [6.235e-03,1.857e-02]\n",
       "alpha[1]       0.0881  1.374e-02      6.413  1.428e-10   [6.119e-02,  0.115]\n",
       "beta[1]        0.9017      0.200      4.515  6.337e-06     [  0.510,  1.293]\n",
       "beta[2]    5.4966e-13      0.190  2.889e-12      1.000     [ -0.373,  0.373]\n",
       "============================================================================\n",
       "\n",
       "Covariance estimator: robust\n",
       "\"\"\""
      ]
     },
     "execution_count": 63,
     "metadata": {},
     "output_type": "execute_result"
    }
   ],
   "source": [
    "model_garch_1_2=arch_model(df.returns[1:], mean='Constant', vol='GARCH', p=1,q=2)\n",
    "results_garch_1_2=model_garch_1_2.fit()\n",
    "results_garch_1_2.summary()\n"
   ]
  },
  {
   "cell_type": "code",
   "execution_count": 64,
   "id": "a5772e78",
   "metadata": {},
   "outputs": [],
   "source": [
    "## since beta 2 p-value is equal to 1 , this is insignificant hence garch(1,1) is best suited model"
   ]
  },
  {
   "cell_type": "code",
   "execution_count": null,
   "id": "cffa4a0a",
   "metadata": {},
   "outputs": [],
   "source": []
  }
 ],
 "metadata": {
  "kernelspec": {
   "display_name": "Python 3",
   "language": "python",
   "name": "python3"
  },
  "language_info": {
   "codemirror_mode": {
    "name": "ipython",
    "version": 3
   },
   "file_extension": ".py",
   "mimetype": "text/x-python",
   "name": "python",
   "nbconvert_exporter": "python",
   "pygments_lexer": "ipython3",
   "version": "3.8.8"
  }
 },
 "nbformat": 4,
 "nbformat_minor": 5
}
