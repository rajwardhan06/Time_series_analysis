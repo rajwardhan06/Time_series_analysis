{
 "cells": [
  {
   "cell_type": "code",
   "execution_count": 1,
   "id": "1daeb8b7",
   "metadata": {},
   "outputs": [],
   "source": [
    "import pandas as pd\n",
    "import numpy as np\n",
    "import statsmodels.tsa.stattools as sts\n",
    "from statsmodels.tsa.seasonal import seasonal_decompose\n",
    "import statsmodels.graphics.tsaplots as sgt\n",
    "from statsmodels.tsa.arima_model import ARMA\n",
    "from scipy.stats.distributions import chi2\n",
    "from math import sqrt\n",
    "from matplotlib import pyplot as plt\n",
    "import warnings\n",
    "warnings.filterwarnings('ignore')"
   ]
  },
  {
   "cell_type": "code",
   "execution_count": 2,
   "id": "310f137b",
   "metadata": {},
   "outputs": [
    {
     "data": {
      "text/html": [
       "<div>\n",
       "<style scoped>\n",
       "    .dataframe tbody tr th:only-of-type {\n",
       "        vertical-align: middle;\n",
       "    }\n",
       "\n",
       "    .dataframe tbody tr th {\n",
       "        vertical-align: top;\n",
       "    }\n",
       "\n",
       "    .dataframe thead th {\n",
       "        text-align: right;\n",
       "    }\n",
       "</style>\n",
       "<table border=\"1\" class=\"dataframe\">\n",
       "  <thead>\n",
       "    <tr style=\"text-align: right;\">\n",
       "      <th></th>\n",
       "      <th>date</th>\n",
       "      <th>spx</th>\n",
       "      <th>dax</th>\n",
       "      <th>ftse</th>\n",
       "      <th>nikkei</th>\n",
       "    </tr>\n",
       "  </thead>\n",
       "  <tbody>\n",
       "    <tr>\n",
       "      <th>0</th>\n",
       "      <td>07/01/1994</td>\n",
       "      <td>469.90</td>\n",
       "      <td>2224.95</td>\n",
       "      <td>3445.98</td>\n",
       "      <td>18124.01</td>\n",
       "    </tr>\n",
       "    <tr>\n",
       "      <th>1</th>\n",
       "      <td>10/01/1994</td>\n",
       "      <td>475.27</td>\n",
       "      <td>2225.00</td>\n",
       "      <td>3440.58</td>\n",
       "      <td>18443.44</td>\n",
       "    </tr>\n",
       "    <tr>\n",
       "      <th>2</th>\n",
       "      <td>11/01/1994</td>\n",
       "      <td>474.13</td>\n",
       "      <td>2228.10</td>\n",
       "      <td>3413.77</td>\n",
       "      <td>18485.25</td>\n",
       "    </tr>\n",
       "    <tr>\n",
       "      <th>3</th>\n",
       "      <td>12/01/1994</td>\n",
       "      <td>474.17</td>\n",
       "      <td>2182.06</td>\n",
       "      <td>3372.02</td>\n",
       "      <td>18793.88</td>\n",
       "    </tr>\n",
       "    <tr>\n",
       "      <th>4</th>\n",
       "      <td>13/01/1994</td>\n",
       "      <td>472.47</td>\n",
       "      <td>2142.37</td>\n",
       "      <td>3360.01</td>\n",
       "      <td>18577.26</td>\n",
       "    </tr>\n",
       "  </tbody>\n",
       "</table>\n",
       "</div>"
      ],
      "text/plain": [
       "         date     spx      dax     ftse    nikkei\n",
       "0  07/01/1994  469.90  2224.95  3445.98  18124.01\n",
       "1  10/01/1994  475.27  2225.00  3440.58  18443.44\n",
       "2  11/01/1994  474.13  2228.10  3413.77  18485.25\n",
       "3  12/01/1994  474.17  2182.06  3372.02  18793.88\n",
       "4  13/01/1994  472.47  2142.37  3360.01  18577.26"
      ]
     },
     "execution_count": 2,
     "metadata": {},
     "output_type": "execute_result"
    }
   ],
   "source": [
    "data=pd.read_csv('index2018.csv')\n",
    "df=data.copy()\n",
    "df.head()"
   ]
  },
  {
   "cell_type": "code",
   "execution_count": 3,
   "id": "53944369",
   "metadata": {},
   "outputs": [
    {
     "data": {
      "text/html": [
       "<div>\n",
       "<style scoped>\n",
       "    .dataframe tbody tr th:only-of-type {\n",
       "        vertical-align: middle;\n",
       "    }\n",
       "\n",
       "    .dataframe tbody tr th {\n",
       "        vertical-align: top;\n",
       "    }\n",
       "\n",
       "    .dataframe thead th {\n",
       "        text-align: right;\n",
       "    }\n",
       "</style>\n",
       "<table border=\"1\" class=\"dataframe\">\n",
       "  <thead>\n",
       "    <tr style=\"text-align: right;\">\n",
       "      <th></th>\n",
       "      <th>date</th>\n",
       "      <th>spx</th>\n",
       "      <th>dax</th>\n",
       "      <th>ftse</th>\n",
       "      <th>nikkei</th>\n",
       "    </tr>\n",
       "  </thead>\n",
       "  <tbody>\n",
       "    <tr>\n",
       "      <th>0</th>\n",
       "      <td>1994-01-07</td>\n",
       "      <td>469.90</td>\n",
       "      <td>2224.95</td>\n",
       "      <td>3445.98</td>\n",
       "      <td>18124.01</td>\n",
       "    </tr>\n",
       "    <tr>\n",
       "      <th>1</th>\n",
       "      <td>1994-01-10</td>\n",
       "      <td>475.27</td>\n",
       "      <td>2225.00</td>\n",
       "      <td>3440.58</td>\n",
       "      <td>18443.44</td>\n",
       "    </tr>\n",
       "    <tr>\n",
       "      <th>2</th>\n",
       "      <td>1994-01-11</td>\n",
       "      <td>474.13</td>\n",
       "      <td>2228.10</td>\n",
       "      <td>3413.77</td>\n",
       "      <td>18485.25</td>\n",
       "    </tr>\n",
       "    <tr>\n",
       "      <th>3</th>\n",
       "      <td>1994-01-12</td>\n",
       "      <td>474.17</td>\n",
       "      <td>2182.06</td>\n",
       "      <td>3372.02</td>\n",
       "      <td>18793.88</td>\n",
       "    </tr>\n",
       "    <tr>\n",
       "      <th>4</th>\n",
       "      <td>1994-01-13</td>\n",
       "      <td>472.47</td>\n",
       "      <td>2142.37</td>\n",
       "      <td>3360.01</td>\n",
       "      <td>18577.26</td>\n",
       "    </tr>\n",
       "  </tbody>\n",
       "</table>\n",
       "</div>"
      ],
      "text/plain": [
       "        date     spx      dax     ftse    nikkei\n",
       "0 1994-01-07  469.90  2224.95  3445.98  18124.01\n",
       "1 1994-01-10  475.27  2225.00  3440.58  18443.44\n",
       "2 1994-01-11  474.13  2228.10  3413.77  18485.25\n",
       "3 1994-01-12  474.17  2182.06  3372.02  18793.88\n",
       "4 1994-01-13  472.47  2142.37  3360.01  18577.26"
      ]
     },
     "execution_count": 3,
     "metadata": {},
     "output_type": "execute_result"
    }
   ],
   "source": [
    "df['date']=pd.to_datetime(df['date'],dayfirst=True)\n",
    "df.head()"
   ]
  },
  {
   "cell_type": "code",
   "execution_count": 4,
   "id": "35398fcb",
   "metadata": {},
   "outputs": [
    {
     "data": {
      "text/html": [
       "<div>\n",
       "<style scoped>\n",
       "    .dataframe tbody tr th:only-of-type {\n",
       "        vertical-align: middle;\n",
       "    }\n",
       "\n",
       "    .dataframe tbody tr th {\n",
       "        vertical-align: top;\n",
       "    }\n",
       "\n",
       "    .dataframe thead th {\n",
       "        text-align: right;\n",
       "    }\n",
       "</style>\n",
       "<table border=\"1\" class=\"dataframe\">\n",
       "  <thead>\n",
       "    <tr style=\"text-align: right;\">\n",
       "      <th></th>\n",
       "      <th>spx</th>\n",
       "      <th>dax</th>\n",
       "      <th>ftse</th>\n",
       "      <th>nikkei</th>\n",
       "    </tr>\n",
       "    <tr>\n",
       "      <th>date</th>\n",
       "      <th></th>\n",
       "      <th></th>\n",
       "      <th></th>\n",
       "      <th></th>\n",
       "    </tr>\n",
       "  </thead>\n",
       "  <tbody>\n",
       "    <tr>\n",
       "      <th>1994-01-07</th>\n",
       "      <td>469.90</td>\n",
       "      <td>2224.95</td>\n",
       "      <td>3445.98</td>\n",
       "      <td>18124.01</td>\n",
       "    </tr>\n",
       "    <tr>\n",
       "      <th>1994-01-10</th>\n",
       "      <td>475.27</td>\n",
       "      <td>2225.00</td>\n",
       "      <td>3440.58</td>\n",
       "      <td>18443.44</td>\n",
       "    </tr>\n",
       "    <tr>\n",
       "      <th>1994-01-11</th>\n",
       "      <td>474.13</td>\n",
       "      <td>2228.10</td>\n",
       "      <td>3413.77</td>\n",
       "      <td>18485.25</td>\n",
       "    </tr>\n",
       "    <tr>\n",
       "      <th>1994-01-12</th>\n",
       "      <td>474.17</td>\n",
       "      <td>2182.06</td>\n",
       "      <td>3372.02</td>\n",
       "      <td>18793.88</td>\n",
       "    </tr>\n",
       "    <tr>\n",
       "      <th>1994-01-13</th>\n",
       "      <td>472.47</td>\n",
       "      <td>2142.37</td>\n",
       "      <td>3360.01</td>\n",
       "      <td>18577.26</td>\n",
       "    </tr>\n",
       "  </tbody>\n",
       "</table>\n",
       "</div>"
      ],
      "text/plain": [
       "               spx      dax     ftse    nikkei\n",
       "date                                          \n",
       "1994-01-07  469.90  2224.95  3445.98  18124.01\n",
       "1994-01-10  475.27  2225.00  3440.58  18443.44\n",
       "1994-01-11  474.13  2228.10  3413.77  18485.25\n",
       "1994-01-12  474.17  2182.06  3372.02  18793.88\n",
       "1994-01-13  472.47  2142.37  3360.01  18577.26"
      ]
     },
     "execution_count": 4,
     "metadata": {},
     "output_type": "execute_result"
    }
   ],
   "source": [
    "df.set_index('date',inplace=True)\n",
    "df.head()"
   ]
  },
  {
   "cell_type": "code",
   "execution_count": 5,
   "id": "3cfb7806",
   "metadata": {},
   "outputs": [],
   "source": [
    "df=df.asfreq('b')"
   ]
  },
  {
   "cell_type": "code",
   "execution_count": 6,
   "id": "699f8279",
   "metadata": {},
   "outputs": [
    {
     "data": {
      "text/plain": [
       "spx       8\n",
       "dax       8\n",
       "ftse      8\n",
       "nikkei    8\n",
       "dtype: int64"
      ]
     },
     "execution_count": 6,
     "metadata": {},
     "output_type": "execute_result"
    }
   ],
   "source": [
    "df.isnull().sum()"
   ]
  },
  {
   "cell_type": "code",
   "execution_count": 7,
   "id": "c1b96524",
   "metadata": {},
   "outputs": [],
   "source": [
    "df['spx']=df['spx'].fillna(method='ffill')"
   ]
  },
  {
   "cell_type": "code",
   "execution_count": 8,
   "id": "6974d036",
   "metadata": {},
   "outputs": [],
   "source": [
    "df['ftse']=df['ftse'].fillna(method='bfill')"
   ]
  },
  {
   "cell_type": "code",
   "execution_count": 9,
   "id": "5ea491ba",
   "metadata": {},
   "outputs": [],
   "source": [
    "df['dax']=df['dax'].fillna(df['dax'].mean())"
   ]
  },
  {
   "cell_type": "code",
   "execution_count": 10,
   "id": "38a95c23",
   "metadata": {},
   "outputs": [
    {
     "data": {
      "text/html": [
       "<div>\n",
       "<style scoped>\n",
       "    .dataframe tbody tr th:only-of-type {\n",
       "        vertical-align: middle;\n",
       "    }\n",
       "\n",
       "    .dataframe tbody tr th {\n",
       "        vertical-align: top;\n",
       "    }\n",
       "\n",
       "    .dataframe thead th {\n",
       "        text-align: right;\n",
       "    }\n",
       "</style>\n",
       "<table border=\"1\" class=\"dataframe\">\n",
       "  <thead>\n",
       "    <tr style=\"text-align: right;\">\n",
       "      <th></th>\n",
       "      <th>spx</th>\n",
       "      <th>dax</th>\n",
       "      <th>nikkei</th>\n",
       "      <th>market_value</th>\n",
       "    </tr>\n",
       "    <tr>\n",
       "      <th>date</th>\n",
       "      <th></th>\n",
       "      <th></th>\n",
       "      <th></th>\n",
       "      <th></th>\n",
       "    </tr>\n",
       "  </thead>\n",
       "  <tbody>\n",
       "    <tr>\n",
       "      <th>1994-01-07</th>\n",
       "      <td>469.90</td>\n",
       "      <td>2224.95</td>\n",
       "      <td>18124.01</td>\n",
       "      <td>3445.98</td>\n",
       "    </tr>\n",
       "    <tr>\n",
       "      <th>1994-01-10</th>\n",
       "      <td>475.27</td>\n",
       "      <td>2225.00</td>\n",
       "      <td>18443.44</td>\n",
       "      <td>3440.58</td>\n",
       "    </tr>\n",
       "    <tr>\n",
       "      <th>1994-01-11</th>\n",
       "      <td>474.13</td>\n",
       "      <td>2228.10</td>\n",
       "      <td>18485.25</td>\n",
       "      <td>3413.77</td>\n",
       "    </tr>\n",
       "    <tr>\n",
       "      <th>1994-01-12</th>\n",
       "      <td>474.17</td>\n",
       "      <td>2182.06</td>\n",
       "      <td>18793.88</td>\n",
       "      <td>3372.02</td>\n",
       "    </tr>\n",
       "    <tr>\n",
       "      <th>1994-01-13</th>\n",
       "      <td>472.47</td>\n",
       "      <td>2142.37</td>\n",
       "      <td>18577.26</td>\n",
       "      <td>3360.01</td>\n",
       "    </tr>\n",
       "  </tbody>\n",
       "</table>\n",
       "</div>"
      ],
      "text/plain": [
       "               spx      dax    nikkei  market_value\n",
       "date                                               \n",
       "1994-01-07  469.90  2224.95  18124.01       3445.98\n",
       "1994-01-10  475.27  2225.00  18443.44       3440.58\n",
       "1994-01-11  474.13  2228.10  18485.25       3413.77\n",
       "1994-01-12  474.17  2182.06  18793.88       3372.02\n",
       "1994-01-13  472.47  2142.37  18577.26       3360.01"
      ]
     },
     "execution_count": 10,
     "metadata": {},
     "output_type": "execute_result"
    }
   ],
   "source": [
    "df['market_value']=df['ftse']\n",
    "del df['ftse']\n",
    "df.head()"
   ]
  },
  {
   "cell_type": "code",
   "execution_count": 11,
   "id": "f485503e",
   "metadata": {},
   "outputs": [
    {
     "data": {
      "text/plain": [
       "spx             0\n",
       "dax             0\n",
       "nikkei          8\n",
       "market_value    0\n",
       "dtype: int64"
      ]
     },
     "execution_count": 11,
     "metadata": {},
     "output_type": "execute_result"
    }
   ],
   "source": [
    "df.isnull().sum()"
   ]
  },
  {
   "cell_type": "code",
   "execution_count": 12,
   "id": "52b1cb55",
   "metadata": {},
   "outputs": [],
   "source": [
    "df['returns']=df.market_value.pct_change(1).mul(100)\n",
    "df=df.iloc[1:]"
   ]
  },
  {
   "cell_type": "code",
   "execution_count": 13,
   "id": "705459c6",
   "metadata": {},
   "outputs": [
    {
     "data": {
      "text/plain": [
       "(-15.139421215023173,\n",
       " 7.045534847762472e-28,\n",
       " 33,\n",
       " 6242,\n",
       " {'1%': -3.4313980601154883,\n",
       "  '5%': -2.8620031495251346,\n",
       "  '10%': -2.567016531562964},\n",
       " 19028.497135210317)"
      ]
     },
     "execution_count": 13,
     "metadata": {},
     "output_type": "execute_result"
    }
   ],
   "source": [
    "sts.adfuller(df.returns)"
   ]
  },
  {
   "cell_type": "code",
   "execution_count": 14,
   "id": "3d0540a3",
   "metadata": {},
   "outputs": [
    {
     "data": {
      "image/png": "[encoded data removed]",
      "text/plain": [
       "<Figure size 432x288 with 1 Axes>"
      ]
     },
     "metadata": {
      "needs_background": "light"
     },
     "output_type": "display_data"
    }
   ],
   "source": [
    "sgt.plot_acf(df.returns[1:],zero=False,lags=40)\n",
    "plt.title('acf for returns')\n",
    "plt.show()"
   ]
  },
  {
   "cell_type": "markdown",
   "id": "006b628c",
   "metadata": {},
   "source": [
    "## MA(1) model"
   ]
  },
  {
   "cell_type": "code",
   "execution_count": 15,
   "id": "65132c84",
   "metadata": {},
   "outputs": [
    {
     "data": {
      "text/html": [
       "<table class=\"simpletable\">\n",
       "<caption>ARMA Model Results</caption>\n",
       "<tr>\n",
       "  <th>Dep. Variable:</th>      <td>returns</td>     <th>  No. Observations:  </th>   <td>6275</td>   \n",
       "</tr>\n",
       "<tr>\n",
       "  <th>Model:</th>            <td>ARMA(0, 1)</td>    <th>  Log Likelihood     </th> <td>-9596.589</td>\n",
       "</tr>\n",
       "<tr>\n",
       "  <th>Method:</th>             <td>css-mle</td>     <th>  S.D. of innovations</th>   <td>1.117</td>  \n",
       "</tr>\n",
       "<tr>\n",
       "  <th>Date:</th>          <td>Tue, 01 Feb 2022</td> <th>  AIC                </th> <td>19199.178</td>\n",
       "</tr>\n",
       "<tr>\n",
       "  <th>Time:</th>              <td>12:25:07</td>     <th>  BIC                </th> <td>19219.411</td>\n",
       "</tr>\n",
       "<tr>\n",
       "  <th>Sample:</th>           <td>01-11-1994</td>    <th>  HQIC               </th> <td>19206.189</td>\n",
       "</tr>\n",
       "<tr>\n",
       "  <th></th>                 <td>- 01-29-2018</td>   <th>                     </th>     <td> </td>    \n",
       "</tr>\n",
       "</table>\n",
       "<table class=\"simpletable\">\n",
       "<tr>\n",
       "        <td></td>           <th>coef</th>     <th>std err</th>      <th>z</th>      <th>P>|z|</th>  <th>[0.025</th>    <th>0.975]</th>  \n",
       "</tr>\n",
       "<tr>\n",
       "  <th>const</th>         <td>    0.0190</td> <td>    0.014</td> <td>    1.376</td> <td> 0.169</td> <td>   -0.008</td> <td>    0.046</td>\n",
       "</tr>\n",
       "<tr>\n",
       "  <th>ma.L1.returns</th> <td>   -0.0193</td> <td>    0.013</td> <td>   -1.444</td> <td> 0.149</td> <td>   -0.045</td> <td>    0.007</td>\n",
       "</tr>\n",
       "</table>\n",
       "<table class=\"simpletable\">\n",
       "<caption>Roots</caption>\n",
       "<tr>\n",
       "    <td></td>   <th>            Real</th>  <th>         Imaginary</th> <th>         Modulus</th>  <th>        Frequency</th>\n",
       "</tr>\n",
       "<tr>\n",
       "  <th>MA.1</th> <td>          51.8864</td> <td>          +0.0000j</td> <td>          51.8864</td> <td>           0.0000</td>\n",
       "</tr>\n",
       "</table>"
      ],
      "text/plain": [
       "<class 'statsmodels.iolib.summary.Summary'>\n",
       "\"\"\"\n",
       "                              ARMA Model Results                              \n",
       "==============================================================================\n",
       "Dep. Variable:                returns   No. Observations:                 6275\n",
       "Model:                     ARMA(0, 1)   Log Likelihood               -9596.589\n",
       "Method:                       css-mle   S.D. of innovations              1.117\n",
       "Date:                Tue, 01 Feb 2022   AIC                          19199.178\n",
       "Time:                        12:25:07   BIC                          19219.411\n",
       "Sample:                    01-11-1994   HQIC                         19206.189\n",
       "                         - 01-29-2018                                         \n",
       "=================================================================================\n",
       "                    coef    std err          z      P>|z|      [0.025      0.975]\n",
       "---------------------------------------------------------------------------------\n",
       "const             0.0190      0.014      1.376      0.169      -0.008       0.046\n",
       "ma.L1.returns    -0.0193      0.013     -1.444      0.149      -0.045       0.007\n",
       "                                    Roots                                    \n",
       "=============================================================================\n",
       "                  Real          Imaginary           Modulus         Frequency\n",
       "-----------------------------------------------------------------------------\n",
       "MA.1           51.8864           +0.0000j           51.8864            0.0000\n",
       "-----------------------------------------------------------------------------\n",
       "\"\"\""
      ]
     },
     "execution_count": 15,
     "metadata": {},
     "output_type": "execute_result"
    }
   ],
   "source": [
    "model_ret_ma_1=ARMA(df.returns[1:],order=(0,1))\n",
    "results_ret_ma_1=model_ret_ma_1.fit()\n",
    "results_ret_ma_1.summary()"
   ]
  },
  {
   "cell_type": "code",
   "execution_count": 16,
   "id": "0e6e3b06",
   "metadata": {},
   "outputs": [],
   "source": [
    "def llr_test(mod_1,mod_2,DF=1):\n",
    "    L1=mod_1.fit().llf\n",
    "    L2=mod_2.fit().llf\n",
    "    LR=(2*(L2-L1))\n",
    "    P=chi2.sf(LR,DF).round(3)\n",
    "    return P"
   ]
  },
  {
   "cell_type": "code",
   "execution_count": 17,
   "id": "2227c4c8",
   "metadata": {},
   "outputs": [
    {
     "name": "stdout",
     "output_type": "stream",
     "text": [
      "                              ARMA Model Results                              \n",
      "==============================================================================\n",
      "Dep. Variable:                returns   No. Observations:                 6275\n",
      "Model:                     ARMA(0, 2)   Log Likelihood               -9588.569\n",
      "Method:                       css-mle   S.D. of innovations              1.115\n",
      "Date:                Tue, 01 Feb 2022   AIC                          19185.138\n",
      "Time:                        12:25:07   BIC                          19212.115\n",
      "Sample:                    01-11-1994   HQIC                         19194.485\n",
      "                         - 01-29-2018                                         \n",
      "=================================================================================\n",
      "                    coef    std err          z      P>|z|      [0.025      0.975]\n",
      "---------------------------------------------------------------------------------\n",
      "const             0.0190      0.013      1.461      0.144      -0.007       0.045\n",
      "ma.L1.returns    -0.0251      0.013     -1.975      0.048      -0.050      -0.000\n",
      "ma.L2.returns    -0.0496      0.012     -4.006      0.000      -0.074      -0.025\n",
      "                                    Roots                                    \n",
      "=============================================================================\n",
      "                  Real          Imaginary           Modulus         Frequency\n",
      "-----------------------------------------------------------------------------\n",
      "MA.1            4.2438           +0.0000j            4.2438            0.0000\n",
      "MA.2           -4.7488           +0.0000j            4.7488            0.5000\n",
      "-----------------------------------------------------------------------------\n",
      "0.0\n"
     ]
    }
   ],
   "source": [
    "model_ret_ma_2=ARMA(df.returns[1:],order=(0,2))\n",
    "results_ret_ma_2=model_ret_ma_2.fit()\n",
    "print(results_ret_ma_2.summary())\n",
    "print(llr_test(model_ret_ma_1,model_ret_ma_2))"
   ]
  },
  {
   "cell_type": "code",
   "execution_count": 18,
   "id": "9d638367",
   "metadata": {},
   "outputs": [
    {
     "name": "stdout",
     "output_type": "stream",
     "text": [
      "                              ARMA Model Results                              \n",
      "==============================================================================\n",
      "Dep. Variable:                returns   No. Observations:                 6275\n",
      "Model:                     ARMA(0, 3)   Log Likelihood               -9573.022\n",
      "Method:                       css-mle   S.D. of innovations              1.113\n",
      "Date:                Tue, 01 Feb 2022   AIC                          19156.043\n",
      "Time:                        12:25:08   BIC                          19189.765\n",
      "Sample:                    01-11-1994   HQIC                         19167.727\n",
      "                         - 01-29-2018                                         \n",
      "=================================================================================\n",
      "                    coef    std err          z      P>|z|      [0.025      0.975]\n",
      "---------------------------------------------------------------------------------\n",
      "const             0.0191      0.012      1.587      0.112      -0.004       0.043\n",
      "ma.L1.returns    -0.0175      0.013     -1.382      0.167      -0.042       0.007\n",
      "ma.L2.returns    -0.0547      0.012     -4.460      0.000      -0.079      -0.031\n",
      "ma.L3.returns    -0.0730      0.013     -5.596      0.000      -0.099      -0.047\n",
      "                                    Roots                                    \n",
      "=============================================================================\n",
      "                  Real          Imaginary           Modulus         Frequency\n",
      "-----------------------------------------------------------------------------\n",
      "MA.1            2.1374           -0.0000j            2.1374           -0.0000\n",
      "MA.2           -1.4432           -2.0801j            2.5317           -0.3465\n",
      "MA.3           -1.4432           +2.0801j            2.5317            0.3465\n",
      "-----------------------------------------------------------------------------\n",
      "0.0\n"
     ]
    }
   ],
   "source": [
    "model_ret_ma_3=ARMA(df.returns[1:],order=(0,3))\n",
    "results_ret_ma_3=model_ret_ma_3.fit()\n",
    "print(results_ret_ma_3.summary())\n",
    "print(llr_test(model_ret_ma_2,model_ret_ma_3))"
   ]
  },
  {
   "cell_type": "code",
   "execution_count": 19,
   "id": "2f455abb",
   "metadata": {},
   "outputs": [
    {
     "name": "stdout",
     "output_type": "stream",
     "text": [
      "                              ARMA Model Results                              \n",
      "==============================================================================\n",
      "Dep. Variable:                returns   No. Observations:                 6275\n",
      "Model:                     ARMA(0, 4)   Log Likelihood               -9570.237\n",
      "Method:                       css-mle   S.D. of innovations              1.112\n",
      "Date:                Tue, 01 Feb 2022   AIC                          19152.473\n",
      "Time:                        12:25:08   BIC                          19192.939\n",
      "Sample:                    01-11-1994   HQIC                         19166.494\n",
      "                         - 01-29-2018                                         \n",
      "=================================================================================\n",
      "                    coef    std err          z      P>|z|      [0.025      0.975]\n",
      "---------------------------------------------------------------------------------\n",
      "const             0.0191      0.012      1.536      0.124      -0.005       0.043\n",
      "ma.L1.returns    -0.0169      0.013     -1.342      0.180      -0.042       0.008\n",
      "ma.L2.returns    -0.0548      0.013     -4.337      0.000      -0.080      -0.030\n",
      "ma.L3.returns    -0.0740      0.013     -5.702      0.000      -0.099      -0.049\n",
      "ma.L4.returns     0.0291      0.012      2.363      0.018       0.005       0.053\n",
      "                                    Roots                                    \n",
      "=============================================================================\n",
      "                  Real          Imaginary           Modulus         Frequency\n",
      "-----------------------------------------------------------------------------\n",
      "MA.1           -1.3532           -1.5604j            2.0654           -0.3637\n",
      "MA.2           -1.3532           +1.5604j            2.0654            0.3637\n",
      "MA.3            2.6260           -1.0805j            2.8396           -0.0621\n",
      "MA.4            2.6260           +1.0805j            2.8396            0.0621\n",
      "-----------------------------------------------------------------------------\n",
      "0.018\n"
     ]
    }
   ],
   "source": [
    "model_ret_ma_4=ARMA(df.returns[1:],order=(0,4))\n",
    "results_ret_ma_4=model_ret_ma_4.fit()\n",
    "print(results_ret_ma_4.summary())\n",
    "print(llr_test(model_ret_ma_3,model_ret_ma_4))"
   ]
  },
  {
   "cell_type": "code",
   "execution_count": 20,
   "id": "2f5667d1",
   "metadata": {},
   "outputs": [
    {
     "name": "stdout",
     "output_type": "stream",
     "text": [
      "                              ARMA Model Results                              \n",
      "==============================================================================\n",
      "Dep. Variable:                returns   No. Observations:                 6275\n",
      "Model:                     ARMA(0, 5)   Log Likelihood               -9562.502\n",
      "Method:                       css-mle   S.D. of innovations              1.111\n",
      "Date:                Tue, 01 Feb 2022   AIC                          19139.005\n",
      "Time:                        12:25:09   BIC                          19186.215\n",
      "Sample:                    01-11-1994   HQIC                         19155.362\n",
      "                         - 01-29-2018                                         \n",
      "=================================================================================\n",
      "                    coef    std err          z      P>|z|      [0.025      0.975]\n",
      "---------------------------------------------------------------------------------\n",
      "const             0.0191      0.012      1.620      0.105      -0.004       0.042\n",
      "ma.L1.returns    -0.0212      0.013     -1.681      0.093      -0.046       0.004\n",
      "ma.L2.returns    -0.0504      0.013     -3.992      0.000      -0.075      -0.026\n",
      "ma.L3.returns    -0.0681      0.013     -5.235      0.000      -0.094      -0.043\n",
      "ma.L4.returns     0.0295      0.012      2.406      0.016       0.005       0.054\n",
      "ma.L5.returns    -0.0509      0.013     -3.938      0.000      -0.076      -0.026\n",
      "                                    Roots                                    \n",
      "=============================================================================\n",
      "                  Real          Imaginary           Modulus         Frequency\n",
      "-----------------------------------------------------------------------------\n",
      "MA.1           -1.2789           -1.0785j            1.6730           -0.3885\n",
      "MA.2           -1.2789           +1.0785j            1.6730            0.3885\n",
      "MA.3            1.7033           -0.0000j            1.7033           -0.0000\n",
      "MA.4            0.7173           -1.8993j            2.0303           -0.1925\n",
      "MA.5            0.7173           +1.8993j            2.0303            0.1925\n",
      "-----------------------------------------------------------------------------\n",
      "0.0\n"
     ]
    }
   ],
   "source": [
    "model_ret_ma_5=ARMA(df.returns[1:],order=(0,5))\n",
    "results_ret_ma_5=model_ret_ma_5.fit()\n",
    "print(results_ret_ma_5.summary())\n",
    "print(llr_test(model_ret_ma_4,model_ret_ma_5))"
   ]
  },
  {
   "cell_type": "code",
   "execution_count": 21,
   "id": "7c8932e8",
   "metadata": {},
   "outputs": [
    {
     "name": "stdout",
     "output_type": "stream",
     "text": [
      "                              ARMA Model Results                              \n",
      "==============================================================================\n",
      "Dep. Variable:                returns   No. Observations:                 6275\n",
      "Model:                     ARMA(0, 6)   Log Likelihood               -9559.844\n",
      "Method:                       css-mle   S.D. of innovations              1.110\n",
      "Date:                Tue, 01 Feb 2022   AIC                          19135.688\n",
      "Time:                        12:25:11   BIC                          19189.642\n",
      "Sample:                    01-11-1994   HQIC                         19154.382\n",
      "                         - 01-29-2018                                         \n",
      "=================================================================================\n",
      "                    coef    std err          z      P>|z|      [0.025      0.975]\n",
      "---------------------------------------------------------------------------------\n",
      "const             0.0191      0.011      1.670      0.095      -0.003       0.041\n",
      "ma.L1.returns    -0.0194      0.013     -1.539      0.124      -0.044       0.005\n",
      "ma.L2.returns    -0.0496      0.013     -3.927      0.000      -0.074      -0.025\n",
      "ma.L3.returns    -0.0665      0.013     -5.252      0.000      -0.091      -0.042\n",
      "ma.L4.returns     0.0300      0.012      2.440      0.015       0.006       0.054\n",
      "ma.L5.returns    -0.0504      0.013     -3.916      0.000      -0.076      -0.025\n",
      "ma.L6.returns    -0.0298      0.013     -2.304      0.021      -0.055      -0.004\n",
      "                                    Roots                                    \n",
      "=============================================================================\n",
      "                  Real          Imaginary           Modulus         Frequency\n",
      "-----------------------------------------------------------------------------\n",
      "MA.1            1.5221           -0.0000j            1.5221           -0.0000\n",
      "MA.2            0.7984           -1.5406j            1.7352           -0.1739\n",
      "MA.3            0.7984           +1.5406j            1.7352            0.1739\n",
      "MA.4           -1.1025           -1.2634j            1.6768           -0.3642\n",
      "MA.5           -1.1025           +1.2634j            1.6768            0.3642\n",
      "MA.6           -2.6061           -0.0000j            2.6061           -0.5000\n",
      "-----------------------------------------------------------------------------\n",
      "0.021\n"
     ]
    }
   ],
   "source": [
    "model_ret_ma_6=ARMA(df.returns[1:],order=(0,6))\n",
    "results_ret_ma_6=model_ret_ma_6.fit()\n",
    "print(results_ret_ma_6.summary())\n",
    "print(llr_test(model_ret_ma_5,model_ret_ma_6))"
   ]
  },
  {
   "cell_type": "code",
   "execution_count": 22,
   "id": "b01f66b4",
   "metadata": {},
   "outputs": [
    {
     "name": "stdout",
     "output_type": "stream",
     "text": [
      "                              ARMA Model Results                              \n",
      "==============================================================================\n",
      "Dep. Variable:                returns   No. Observations:                 6275\n",
      "Model:                     ARMA(0, 7)   Log Likelihood               -9559.709\n",
      "Method:                       css-mle   S.D. of innovations              1.110\n",
      "Date:                Tue, 01 Feb 2022   AIC                          19137.418\n",
      "Time:                        12:25:14   BIC                          19198.117\n",
      "Sample:                    01-11-1994   HQIC                         19158.449\n",
      "                         - 01-29-2018                                         \n",
      "=================================================================================\n",
      "                    coef    std err          z      P>|z|      [0.025      0.975]\n",
      "---------------------------------------------------------------------------------\n",
      "const             0.0191      0.011      1.659      0.097      -0.003       0.042\n",
      "ma.L1.returns    -0.0200      0.013     -1.578      0.115      -0.045       0.005\n",
      "ma.L2.returns    -0.0499      0.013     -3.947      0.000      -0.075      -0.025\n",
      "ma.L3.returns    -0.0660      0.013     -5.211      0.000      -0.091      -0.041\n",
      "ma.L4.returns     0.0295      0.012      2.402      0.016       0.005       0.054\n",
      "ma.L5.returns    -0.0504      0.013     -3.922      0.000      -0.076      -0.025\n",
      "ma.L6.returns    -0.0299      0.013     -2.315      0.021      -0.055      -0.005\n",
      "ma.L7.returns     0.0066      0.013      0.519      0.604      -0.018       0.032\n",
      "                                    Roots                                    \n",
      "=============================================================================\n",
      "                  Real          Imaginary           Modulus         Frequency\n",
      "-----------------------------------------------------------------------------\n",
      "MA.1           -1.0484           -1.2189j            1.6077           -0.3631\n",
      "MA.2           -1.0484           +1.2189j            1.6077            0.3631\n",
      "MA.3           -2.1593           -0.0000j            2.1593           -0.5000\n",
      "MA.4            0.7223           -1.5719j            1.7299           -0.1814\n",
      "MA.5            0.7223           +1.5719j            1.7299            0.1814\n",
      "MA.6            1.5689           -0.0000j            1.5689           -0.0000\n",
      "MA.7            5.7412           -0.0000j            5.7412           -0.0000\n",
      "-----------------------------------------------------------------------------\n",
      "0.604\n"
     ]
    }
   ],
   "source": [
    "model_ret_ma_7=ARMA(df.returns[1:],order=(0,7))\n",
    "results_ret_ma_7=model_ret_ma_7.fit()\n",
    "print(results_ret_ma_7.summary())\n",
    "print(llr_test(model_ret_ma_6,model_ret_ma_7))"
   ]
  },
  {
   "cell_type": "code",
   "execution_count": 23,
   "id": "97313eef",
   "metadata": {},
   "outputs": [
    {
     "name": "stdout",
     "output_type": "stream",
     "text": [
      "                              ARMA Model Results                              \n",
      "==============================================================================\n",
      "Dep. Variable:                returns   No. Observations:                 6275\n",
      "Model:                     ARMA(0, 8)   Log Likelihood               -9557.350\n",
      "Method:                       css-mle   S.D. of innovations              1.110\n",
      "Date:                Tue, 01 Feb 2022   AIC                          19134.700\n",
      "Time:                        12:25:18   BIC                          19202.143\n",
      "Sample:                    01-11-1994   HQIC                         19158.068\n",
      "                         - 01-29-2018                                         \n",
      "=================================================================================\n",
      "                    coef    std err          z      P>|z|      [0.025      0.975]\n",
      "---------------------------------------------------------------------------------\n",
      "const             0.0191      0.012      1.610      0.107      -0.004       0.042\n",
      "ma.L1.returns    -0.0196      0.013     -1.552      0.121      -0.044       0.005\n",
      "ma.L2.returns    -0.0499      0.013     -3.959      0.000      -0.075      -0.025\n",
      "ma.L3.returns    -0.0675      0.013     -5.338      0.000      -0.092      -0.043\n",
      "ma.L4.returns     0.0314      0.013      2.481      0.013       0.007       0.056\n",
      "ma.L5.returns    -0.0522      0.013     -4.083      0.000      -0.077      -0.027\n",
      "ma.L6.returns    -0.0307      0.013     -2.376      0.018      -0.056      -0.005\n",
      "ma.L7.returns     0.0067      0.013      0.523      0.601      -0.018       0.032\n",
      "ma.L8.returns     0.0270      0.012      2.174      0.030       0.003       0.051\n",
      "                                    Roots                                    \n",
      "=============================================================================\n",
      "                  Real          Imaginary           Modulus         Frequency\n",
      "-----------------------------------------------------------------------------\n",
      "MA.1            1.5380           -0.4213j            1.5946           -0.0426\n",
      "MA.2            1.5380           +0.4213j            1.5946            0.0426\n",
      "MA.3            0.5976           -1.3618j            1.4872           -0.1842\n",
      "MA.4            0.5976           +1.3618j            1.4872            0.1842\n",
      "MA.5           -0.7721           -1.3472j            1.5527           -0.3328\n",
      "MA.6           -0.7721           +1.3472j            1.5527            0.3328\n",
      "MA.7           -1.4869           -0.7193j            1.6517           -0.4283\n",
      "MA.8           -1.4869           +0.7193j            1.6517            0.4283\n",
      "-----------------------------------------------------------------------------\n",
      "0.03\n"
     ]
    }
   ],
   "source": [
    "model_ret_ma_8=ARMA(df.returns[1:],order=(0,8))\n",
    "results_ret_ma_8=model_ret_ma_8.fit()\n",
    "print(results_ret_ma_8.summary())\n",
    "print(llr_test(model_ret_ma_7,model_ret_ma_8))"
   ]
  },
  {
   "cell_type": "code",
   "execution_count": 24,
   "id": "9a86b933",
   "metadata": {},
   "outputs": [
    {
     "data": {
      "text/plain": [
       "0.083"
      ]
     },
     "execution_count": 24,
     "metadata": {},
     "output_type": "execute_result"
    }
   ],
   "source": [
    "llr_test(model_ret_ma_6,model_ret_ma_8,DF=2)"
   ]
  },
  {
   "cell_type": "code",
   "execution_count": 25,
   "id": "21d5a9eb",
   "metadata": {},
   "outputs": [],
   "source": [
    "## so model ma6 is a better predictor of time series than ma8 as p=.083 which is greater than .05"
   ]
  },
  {
   "cell_type": "markdown",
   "id": "6d6d5cb1",
   "metadata": {},
   "source": [
    "## residuals of returns"
   ]
  },
  {
   "cell_type": "code",
   "execution_count": 26,
   "id": "20d441f4",
   "metadata": {},
   "outputs": [],
   "source": [
    "df['res_ret_ma_8']=results_ret_ma_8.resid[1:]"
   ]
  },
  {
   "cell_type": "code",
   "execution_count": 27,
   "id": "05141911",
   "metadata": {},
   "outputs": [
    {
     "data": {
      "text/plain": [
       "7.653426380632587e-05"
      ]
     },
     "execution_count": 27,
     "metadata": {},
     "output_type": "execute_result"
    }
   ],
   "source": [
    "df.res_ret_ma_8.mean()"
   ]
  },
  {
   "cell_type": "code",
   "execution_count": 28,
   "id": "bf14956a",
   "metadata": {},
   "outputs": [
    {
     "data": {
      "text/plain": [
       "1.2318582006638863"
      ]
     },
     "execution_count": 28,
     "metadata": {},
     "output_type": "execute_result"
    }
   ],
   "source": [
    "df.res_ret_ma_8.var()"
   ]
  },
  {
   "cell_type": "code",
   "execution_count": 29,
   "id": "cc1878c2",
   "metadata": {},
   "outputs": [
    {
     "data": {
      "text/plain": [
       "1.11"
      ]
     },
     "execution_count": 29,
     "metadata": {},
     "output_type": "execute_result"
    }
   ],
   "source": [
    "round(sqrt(df.res_ret_ma_8.var()),3)"
   ]
  },
  {
   "cell_type": "code",
   "execution_count": 30,
   "id": "45aa8dff",
   "metadata": {},
   "outputs": [
    {
     "data": {
      "image/png": "[encoded data removed]",
      "text/plain": [
       "<Figure size 1440x360 with 1 Axes>"
      ]
     },
     "metadata": {
      "needs_background": "light"
     },
     "output_type": "display_data"
    }
   ],
   "source": [
    "df.res_ret_ma_8.plot(figsize=(20,5))\n",
    "plt.title('residuals of returns')\n",
    "plt.show()"
   ]
  },
  {
   "cell_type": "code",
   "execution_count": 31,
   "id": "dab68d1f",
   "metadata": {},
   "outputs": [
    {
     "data": {
      "text/plain": [
       "(-79.2152506406126,\n",
       " 0.0,\n",
       " 0,\n",
       " 6273,\n",
       " {'1%': -3.4313928786754726,\n",
       "  '5%': -2.8620008601902893,\n",
       "  '10%': -2.5670153128952853},\n",
       " 19020.644133192232)"
      ]
     },
     "execution_count": 31,
     "metadata": {},
     "output_type": "execute_result"
    }
   ],
   "source": [
    "sts.adfuller(df.res_ret_ma_8[2:])"
   ]
  },
  {
   "cell_type": "code",
   "execution_count": 32,
   "id": "dedf0223",
   "metadata": {},
   "outputs": [
    {
     "data": {
      "image/png": "[encoded data removed]",
      "text/plain": [
       "<Figure size 432x288 with 1 Axes>"
      ]
     },
     "metadata": {
      "needs_background": "light"
     },
     "output_type": "display_data"
    }
   ],
   "source": [
    "sgt.plot_acf(df.res_ret_ma_8[2:],zero=False,lags=40)\n",
    "plt.title('acf of residuals returns')\n",
    "plt.show()"
   ]
  },
  {
   "cell_type": "markdown",
   "id": "d0ebf9c5",
   "metadata": {},
   "source": [
    "## normalisation for returns"
   ]
  },
  {
   "cell_type": "code",
   "execution_count": 33,
   "id": "b9883640",
   "metadata": {},
   "outputs": [],
   "source": [
    "bench_ret=df.returns[1]\n",
    "df['norm_ret']=df.returns.div(bench_ret).mul(100)"
   ]
  },
  {
   "cell_type": "code",
   "execution_count": 34,
   "id": "65beefb8",
   "metadata": {},
   "outputs": [
    {
     "data": {
      "image/png": "[encoded data removed]",
      "text/plain": [
       "<Figure size 432x288 with 1 Axes>"
      ]
     },
     "metadata": {
      "needs_background": "light"
     },
     "output_type": "display_data"
    }
   ],
   "source": [
    "sgt.plot_acf(df.norm_ret,zero=False,lags=40)\n",
    "plt.title('acf for normalised return')\n",
    "plt.show()## this comes similar to acf plot for return i.e. our series is already optimised"
   ]
  },
  {
   "cell_type": "code",
   "execution_count": 35,
   "id": "e7836c03",
   "metadata": {},
   "outputs": [
    {
     "data": {
      "text/html": [
       "<table class=\"simpletable\">\n",
       "<caption>ARMA Model Results</caption>\n",
       "<tr>\n",
       "  <th>Dep. Variable:</th>      <td>returns</td>     <th>  No. Observations:  </th>   <td>6275</td>   \n",
       "</tr>\n",
       "<tr>\n",
       "  <th>Model:</th>            <td>ARMA(0, 8)</td>    <th>  Log Likelihood     </th> <td>-9557.350</td>\n",
       "</tr>\n",
       "<tr>\n",
       "  <th>Method:</th>             <td>css-mle</td>     <th>  S.D. of innovations</th>   <td>1.110</td>  \n",
       "</tr>\n",
       "<tr>\n",
       "  <th>Date:</th>          <td>Tue, 01 Feb 2022</td> <th>  AIC                </th> <td>19134.700</td>\n",
       "</tr>\n",
       "<tr>\n",
       "  <th>Time:</th>              <td>12:25:28</td>     <th>  BIC                </th> <td>19202.143</td>\n",
       "</tr>\n",
       "<tr>\n",
       "  <th>Sample:</th>           <td>01-11-1994</td>    <th>  HQIC               </th> <td>19158.068</td>\n",
       "</tr>\n",
       "<tr>\n",
       "  <th></th>                 <td>- 01-29-2018</td>   <th>                     </th>     <td> </td>    \n",
       "</tr>\n",
       "</table>\n",
       "<table class=\"simpletable\">\n",
       "<tr>\n",
       "        <td></td>           <th>coef</th>     <th>std err</th>      <th>z</th>      <th>P>|z|</th>  <th>[0.025</th>    <th>0.975]</th>  \n",
       "</tr>\n",
       "<tr>\n",
       "  <th>const</th>         <td>    0.0191</td> <td>    0.012</td> <td>    1.610</td> <td> 0.107</td> <td>   -0.004</td> <td>    0.042</td>\n",
       "</tr>\n",
       "<tr>\n",
       "  <th>ma.L1.returns</th> <td>   -0.0196</td> <td>    0.013</td> <td>   -1.552</td> <td> 0.121</td> <td>   -0.044</td> <td>    0.005</td>\n",
       "</tr>\n",
       "<tr>\n",
       "  <th>ma.L2.returns</th> <td>   -0.0499</td> <td>    0.013</td> <td>   -3.959</td> <td> 0.000</td> <td>   -0.075</td> <td>   -0.025</td>\n",
       "</tr>\n",
       "<tr>\n",
       "  <th>ma.L3.returns</th> <td>   -0.0675</td> <td>    0.013</td> <td>   -5.338</td> <td> 0.000</td> <td>   -0.092</td> <td>   -0.043</td>\n",
       "</tr>\n",
       "<tr>\n",
       "  <th>ma.L4.returns</th> <td>    0.0314</td> <td>    0.013</td> <td>    2.481</td> <td> 0.013</td> <td>    0.007</td> <td>    0.056</td>\n",
       "</tr>\n",
       "<tr>\n",
       "  <th>ma.L5.returns</th> <td>   -0.0522</td> <td>    0.013</td> <td>   -4.083</td> <td> 0.000</td> <td>   -0.077</td> <td>   -0.027</td>\n",
       "</tr>\n",
       "<tr>\n",
       "  <th>ma.L6.returns</th> <td>   -0.0307</td> <td>    0.013</td> <td>   -2.376</td> <td> 0.018</td> <td>   -0.056</td> <td>   -0.005</td>\n",
       "</tr>\n",
       "<tr>\n",
       "  <th>ma.L7.returns</th> <td>    0.0067</td> <td>    0.013</td> <td>    0.523</td> <td> 0.601</td> <td>   -0.018</td> <td>    0.032</td>\n",
       "</tr>\n",
       "<tr>\n",
       "  <th>ma.L8.returns</th> <td>    0.0270</td> <td>    0.012</td> <td>    2.174</td> <td> 0.030</td> <td>    0.003</td> <td>    0.051</td>\n",
       "</tr>\n",
       "</table>\n",
       "<table class=\"simpletable\">\n",
       "<caption>Roots</caption>\n",
       "<tr>\n",
       "    <td></td>   <th>            Real</th>  <th>         Imaginary</th> <th>         Modulus</th>  <th>        Frequency</th>\n",
       "</tr>\n",
       "<tr>\n",
       "  <th>MA.1</th> <td>           1.5380</td> <td>          -0.4213j</td> <td>           1.5946</td> <td>          -0.0426</td>\n",
       "</tr>\n",
       "<tr>\n",
       "  <th>MA.2</th> <td>           1.5380</td> <td>          +0.4213j</td> <td>           1.5946</td> <td>           0.0426</td>\n",
       "</tr>\n",
       "<tr>\n",
       "  <th>MA.3</th> <td>           0.5976</td> <td>          -1.3618j</td> <td>           1.4872</td> <td>          -0.1842</td>\n",
       "</tr>\n",
       "<tr>\n",
       "  <th>MA.4</th> <td>           0.5976</td> <td>          +1.3618j</td> <td>           1.4872</td> <td>           0.1842</td>\n",
       "</tr>\n",
       "<tr>\n",
       "  <th>MA.5</th> <td>          -0.7721</td> <td>          -1.3472j</td> <td>           1.5527</td> <td>          -0.3328</td>\n",
       "</tr>\n",
       "<tr>\n",
       "  <th>MA.6</th> <td>          -0.7721</td> <td>          +1.3472j</td> <td>           1.5527</td> <td>           0.3328</td>\n",
       "</tr>\n",
       "<tr>\n",
       "  <th>MA.7</th> <td>          -1.4869</td> <td>          -0.7193j</td> <td>           1.6517</td> <td>          -0.4283</td>\n",
       "</tr>\n",
       "<tr>\n",
       "  <th>MA.8</th> <td>          -1.4869</td> <td>          +0.7193j</td> <td>           1.6517</td> <td>           0.4283</td>\n",
       "</tr>\n",
       "</table>"
      ],
      "text/plain": [
       "<class 'statsmodels.iolib.summary.Summary'>\n",
       "\"\"\"\n",
       "                              ARMA Model Results                              \n",
       "==============================================================================\n",
       "Dep. Variable:                returns   No. Observations:                 6275\n",
       "Model:                     ARMA(0, 8)   Log Likelihood               -9557.350\n",
       "Method:                       css-mle   S.D. of innovations              1.110\n",
       "Date:                Tue, 01 Feb 2022   AIC                          19134.700\n",
       "Time:                        12:25:28   BIC                          19202.143\n",
       "Sample:                    01-11-1994   HQIC                         19158.068\n",
       "                         - 01-29-2018                                         \n",
       "=================================================================================\n",
       "                    coef    std err          z      P>|z|      [0.025      0.975]\n",
       "---------------------------------------------------------------------------------\n",
       "const             0.0191      0.012      1.610      0.107      -0.004       0.042\n",
       "ma.L1.returns    -0.0196      0.013     -1.552      0.121      -0.044       0.005\n",
       "ma.L2.returns    -0.0499      0.013     -3.959      0.000      -0.075      -0.025\n",
       "ma.L3.returns    -0.0675      0.013     -5.338      0.000      -0.092      -0.043\n",
       "ma.L4.returns     0.0314      0.013      2.481      0.013       0.007       0.056\n",
       "ma.L5.returns    -0.0522      0.013     -4.083      0.000      -0.077      -0.027\n",
       "ma.L6.returns    -0.0307      0.013     -2.376      0.018      -0.056      -0.005\n",
       "ma.L7.returns     0.0067      0.013      0.523      0.601      -0.018       0.032\n",
       "ma.L8.returns     0.0270      0.012      2.174      0.030       0.003       0.051\n",
       "                                    Roots                                    \n",
       "=============================================================================\n",
       "                  Real          Imaginary           Modulus         Frequency\n",
       "-----------------------------------------------------------------------------\n",
       "MA.1            1.5380           -0.4213j            1.5946           -0.0426\n",
       "MA.2            1.5380           +0.4213j            1.5946            0.0426\n",
       "MA.3            0.5976           -1.3618j            1.4872           -0.1842\n",
       "MA.4            0.5976           +1.3618j            1.4872            0.1842\n",
       "MA.5           -0.7721           -1.3472j            1.5527           -0.3328\n",
       "MA.6           -0.7721           +1.3472j            1.5527            0.3328\n",
       "MA.7           -1.4869           -0.7193j            1.6517           -0.4283\n",
       "MA.8           -1.4869           +0.7193j            1.6517            0.4283\n",
       "-----------------------------------------------------------------------------\n",
       "\"\"\""
      ]
     },
     "execution_count": 35,
     "metadata": {},
     "output_type": "execute_result"
    }
   ],
   "source": [
    "model_norm_ret_ma_8=ARMA(df.returns[1:],order=(0,8))\n",
    "results_norm_ret_ma_8=model_norm_ret_ma_8.fit()\n",
    "results_norm_ret_ma_8.summary()"
   ]
  },
  {
   "cell_type": "code",
   "execution_count": 36,
   "id": "21515c7d",
   "metadata": {},
   "outputs": [],
   "source": [
    "## but in our case ma 6 was found to be beeter suited model so making normalised ma6 model "
   ]
  },
  {
   "cell_type": "code",
   "execution_count": 37,
   "id": "864a4b5f",
   "metadata": {},
   "outputs": [
    {
     "data": {
      "text/html": [
       "<table class=\"simpletable\">\n",
       "<caption>ARMA Model Results</caption>\n",
       "<tr>\n",
       "  <th>Dep. Variable:</th>      <td>returns</td>     <th>  No. Observations:  </th>   <td>6275</td>   \n",
       "</tr>\n",
       "<tr>\n",
       "  <th>Model:</th>            <td>ARMA(0, 6)</td>    <th>  Log Likelihood     </th> <td>-9559.844</td>\n",
       "</tr>\n",
       "<tr>\n",
       "  <th>Method:</th>             <td>css-mle</td>     <th>  S.D. of innovations</th>   <td>1.110</td>  \n",
       "</tr>\n",
       "<tr>\n",
       "  <th>Date:</th>          <td>Tue, 01 Feb 2022</td> <th>  AIC                </th> <td>19135.688</td>\n",
       "</tr>\n",
       "<tr>\n",
       "  <th>Time:</th>              <td>12:25:29</td>     <th>  BIC                </th> <td>19189.642</td>\n",
       "</tr>\n",
       "<tr>\n",
       "  <th>Sample:</th>           <td>01-11-1994</td>    <th>  HQIC               </th> <td>19154.382</td>\n",
       "</tr>\n",
       "<tr>\n",
       "  <th></th>                 <td>- 01-29-2018</td>   <th>                     </th>     <td> </td>    \n",
       "</tr>\n",
       "</table>\n",
       "<table class=\"simpletable\">\n",
       "<tr>\n",
       "        <td></td>           <th>coef</th>     <th>std err</th>      <th>z</th>      <th>P>|z|</th>  <th>[0.025</th>    <th>0.975]</th>  \n",
       "</tr>\n",
       "<tr>\n",
       "  <th>const</th>         <td>    0.0191</td> <td>    0.011</td> <td>    1.670</td> <td> 0.095</td> <td>   -0.003</td> <td>    0.041</td>\n",
       "</tr>\n",
       "<tr>\n",
       "  <th>ma.L1.returns</th> <td>   -0.0194</td> <td>    0.013</td> <td>   -1.539</td> <td> 0.124</td> <td>   -0.044</td> <td>    0.005</td>\n",
       "</tr>\n",
       "<tr>\n",
       "  <th>ma.L2.returns</th> <td>   -0.0496</td> <td>    0.013</td> <td>   -3.927</td> <td> 0.000</td> <td>   -0.074</td> <td>   -0.025</td>\n",
       "</tr>\n",
       "<tr>\n",
       "  <th>ma.L3.returns</th> <td>   -0.0665</td> <td>    0.013</td> <td>   -5.252</td> <td> 0.000</td> <td>   -0.091</td> <td>   -0.042</td>\n",
       "</tr>\n",
       "<tr>\n",
       "  <th>ma.L4.returns</th> <td>    0.0300</td> <td>    0.012</td> <td>    2.440</td> <td> 0.015</td> <td>    0.006</td> <td>    0.054</td>\n",
       "</tr>\n",
       "<tr>\n",
       "  <th>ma.L5.returns</th> <td>   -0.0504</td> <td>    0.013</td> <td>   -3.916</td> <td> 0.000</td> <td>   -0.076</td> <td>   -0.025</td>\n",
       "</tr>\n",
       "<tr>\n",
       "  <th>ma.L6.returns</th> <td>   -0.0298</td> <td>    0.013</td> <td>   -2.304</td> <td> 0.021</td> <td>   -0.055</td> <td>   -0.004</td>\n",
       "</tr>\n",
       "</table>\n",
       "<table class=\"simpletable\">\n",
       "<caption>Roots</caption>\n",
       "<tr>\n",
       "    <td></td>   <th>            Real</th>  <th>         Imaginary</th> <th>         Modulus</th>  <th>        Frequency</th>\n",
       "</tr>\n",
       "<tr>\n",
       "  <th>MA.1</th> <td>           1.5221</td> <td>          -0.0000j</td> <td>           1.5221</td> <td>          -0.0000</td>\n",
       "</tr>\n",
       "<tr>\n",
       "  <th>MA.2</th> <td>           0.7984</td> <td>          -1.5406j</td> <td>           1.7352</td> <td>          -0.1739</td>\n",
       "</tr>\n",
       "<tr>\n",
       "  <th>MA.3</th> <td>           0.7984</td> <td>          +1.5406j</td> <td>           1.7352</td> <td>           0.1739</td>\n",
       "</tr>\n",
       "<tr>\n",
       "  <th>MA.4</th> <td>          -1.1025</td> <td>          -1.2634j</td> <td>           1.6768</td> <td>          -0.3642</td>\n",
       "</tr>\n",
       "<tr>\n",
       "  <th>MA.5</th> <td>          -1.1025</td> <td>          +1.2634j</td> <td>           1.6768</td> <td>           0.3642</td>\n",
       "</tr>\n",
       "<tr>\n",
       "  <th>MA.6</th> <td>          -2.6061</td> <td>          -0.0000j</td> <td>           2.6061</td> <td>          -0.5000</td>\n",
       "</tr>\n",
       "</table>"
      ],
      "text/plain": [
       "<class 'statsmodels.iolib.summary.Summary'>\n",
       "\"\"\"\n",
       "                              ARMA Model Results                              \n",
       "==============================================================================\n",
       "Dep. Variable:                returns   No. Observations:                 6275\n",
       "Model:                     ARMA(0, 6)   Log Likelihood               -9559.844\n",
       "Method:                       css-mle   S.D. of innovations              1.110\n",
       "Date:                Tue, 01 Feb 2022   AIC                          19135.688\n",
       "Time:                        12:25:29   BIC                          19189.642\n",
       "Sample:                    01-11-1994   HQIC                         19154.382\n",
       "                         - 01-29-2018                                         \n",
       "=================================================================================\n",
       "                    coef    std err          z      P>|z|      [0.025      0.975]\n",
       "---------------------------------------------------------------------------------\n",
       "const             0.0191      0.011      1.670      0.095      -0.003       0.041\n",
       "ma.L1.returns    -0.0194      0.013     -1.539      0.124      -0.044       0.005\n",
       "ma.L2.returns    -0.0496      0.013     -3.927      0.000      -0.074      -0.025\n",
       "ma.L3.returns    -0.0665      0.013     -5.252      0.000      -0.091      -0.042\n",
       "ma.L4.returns     0.0300      0.012      2.440      0.015       0.006       0.054\n",
       "ma.L5.returns    -0.0504      0.013     -3.916      0.000      -0.076      -0.025\n",
       "ma.L6.returns    -0.0298      0.013     -2.304      0.021      -0.055      -0.004\n",
       "                                    Roots                                    \n",
       "=============================================================================\n",
       "                  Real          Imaginary           Modulus         Frequency\n",
       "-----------------------------------------------------------------------------\n",
       "MA.1            1.5221           -0.0000j            1.5221           -0.0000\n",
       "MA.2            0.7984           -1.5406j            1.7352           -0.1739\n",
       "MA.3            0.7984           +1.5406j            1.7352            0.1739\n",
       "MA.4           -1.1025           -1.2634j            1.6768           -0.3642\n",
       "MA.5           -1.1025           +1.2634j            1.6768            0.3642\n",
       "MA.6           -2.6061           -0.0000j            2.6061           -0.5000\n",
       "-----------------------------------------------------------------------------\n",
       "\"\"\""
      ]
     },
     "execution_count": 37,
     "metadata": {},
     "output_type": "execute_result"
    }
   ],
   "source": [
    "##ma6\n",
    "model_norm_ret_ma_6=ARMA(df.returns[1:],order=(0,6))\n",
    "results_norm_ret_ma_6=model_norm_ret_ma_6.fit()\n",
    "results_norm_ret_ma_6.summary()"
   ]
  },
  {
   "cell_type": "markdown",
   "id": "ab2acf02",
   "metadata": {},
   "source": [
    "## normalisation for return residuals"
   ]
  },
  {
   "cell_type": "code",
   "execution_count": 38,
   "id": "8bf3d4a6",
   "metadata": {},
   "outputs": [],
   "source": [
    "df['res_norm_ret_ma_8']=results_norm_ret_ma_8.resid[1:]"
   ]
  },
  {
   "cell_type": "code",
   "execution_count": 39,
   "id": "783c7aa3",
   "metadata": {},
   "outputs": [
    {
     "data": {
      "image/png": "[encoded data removed]",
      "text/plain": [
       "<Figure size 1440x360 with 1 Axes>"
      ]
     },
     "metadata": {
      "needs_background": "light"
     },
     "output_type": "display_data"
    }
   ],
   "source": [
    "df['res_norm_ret_ma_8'].plot(figsize=(20,5))\n",
    "plt.title('normalised residual of return')\n",
    "plt.show()"
   ]
  },
  {
   "cell_type": "markdown",
   "id": "41fdd299",
   "metadata": {},
   "source": [
    "sgt.plot_acf(df.res_norm_ret_ma_8[2:],zero=False,lags=40)\n",
    "plt.title('acf of normalised residuals returns')\n",
    "plt.show()"
   ]
  },
  {
   "cell_type": "code",
   "execution_count": 40,
   "id": "a8b724f5",
   "metadata": {},
   "outputs": [],
   "source": [
    "## this acf suggest that data resembles white noise so our model choice is correct\n",
    "##white noise means that acf shows no pattern and values are mostly insignificant"
   ]
  },
  {
   "cell_type": "markdown",
   "id": "256db6ba",
   "metadata": {},
   "source": [
    "## MA model for prices(market_value i.e. ftse)"
   ]
  },
  {
   "cell_type": "code",
   "execution_count": 41,
   "id": "bccdf27f",
   "metadata": {},
   "outputs": [
    {
     "data": {
      "image/png": "[encoded data removed]",
      "text/plain": [
       "<Figure size 432x288 with 1 Axes>"
      ]
     },
     "metadata": {
      "needs_background": "light"
     },
     "output_type": "display_data"
    }
   ],
   "source": [
    "sgt.plot_acf(df.market_value,zero=False,lags=40)\n",
    "plt.title('acf for market_value')\n",
    "plt.show()"
   ]
  },
  {
   "cell_type": "code",
   "execution_count": 42,
   "id": "2a6c2df6",
   "metadata": {},
   "outputs": [],
   "source": [
    "## this shows that higher ma model will be prefered to lower lag model i.e. infinite lag ma model{ma(p+1)>ma(p)}, since no such thing exist so no ma model would be correct estimator for prices "
   ]
  },
  {
   "cell_type": "code",
   "execution_count": 43,
   "id": "e64957b0",
   "metadata": {},
   "outputs": [],
   "source": [
    "## so we conclude that ma model does not perform well for non stationary data they are good only for stationary data "
   ]
  },
  {
   "cell_type": "markdown",
   "id": "a69affa0",
   "metadata": {},
   "source": [
    " ## ARMA MODEL"
   ]
  },
  {
   "cell_type": "code",
   "execution_count": 44,
   "id": "a39ec295",
   "metadata": {},
   "outputs": [
    {
     "data": {
      "text/html": [
       "<table class=\"simpletable\">\n",
       "<caption>ARMA Model Results</caption>\n",
       "<tr>\n",
       "  <th>Dep. Variable:</th>      <td>returns</td>     <th>  No. Observations:  </th>   <td>6275</td>   \n",
       "</tr>\n",
       "<tr>\n",
       "  <th>Model:</th>            <td>ARMA(1, 1)</td>    <th>  Log Likelihood     </th> <td>-9581.344</td>\n",
       "</tr>\n",
       "<tr>\n",
       "  <th>Method:</th>             <td>css-mle</td>     <th>  S.D. of innovations</th>   <td>1.114</td>  \n",
       "</tr>\n",
       "<tr>\n",
       "  <th>Date:</th>          <td>Tue, 01 Feb 2022</td> <th>  AIC                </th> <td>19170.687</td>\n",
       "</tr>\n",
       "<tr>\n",
       "  <th>Time:</th>              <td>12:25:31</td>     <th>  BIC                </th> <td>19197.665</td>\n",
       "</tr>\n",
       "<tr>\n",
       "  <th>Sample:</th>           <td>01-11-1994</td>    <th>  HQIC               </th> <td>19180.034</td>\n",
       "</tr>\n",
       "<tr>\n",
       "  <th></th>                 <td>- 01-29-2018</td>   <th>                     </th>     <td> </td>    \n",
       "</tr>\n",
       "</table>\n",
       "<table class=\"simpletable\">\n",
       "<tr>\n",
       "        <td></td>           <th>coef</th>     <th>std err</th>      <th>z</th>      <th>P>|z|</th>  <th>[0.025</th>    <th>0.975]</th>  \n",
       "</tr>\n",
       "<tr>\n",
       "  <th>const</th>         <td>    0.0191</td> <td>    0.011</td> <td>    1.755</td> <td> 0.079</td> <td>   -0.002</td> <td>    0.040</td>\n",
       "</tr>\n",
       "<tr>\n",
       "  <th>ar.L1.returns</th> <td>    0.8180</td> <td>    0.063</td> <td>   12.955</td> <td> 0.000</td> <td>    0.694</td> <td>    0.942</td>\n",
       "</tr>\n",
       "<tr>\n",
       "  <th>ma.L1.returns</th> <td>   -0.8595</td> <td>    0.056</td> <td>  -15.270</td> <td> 0.000</td> <td>   -0.970</td> <td>   -0.749</td>\n",
       "</tr>\n",
       "</table>\n",
       "<table class=\"simpletable\">\n",
       "<caption>Roots</caption>\n",
       "<tr>\n",
       "    <td></td>   <th>            Real</th>  <th>         Imaginary</th> <th>         Modulus</th>  <th>        Frequency</th>\n",
       "</tr>\n",
       "<tr>\n",
       "  <th>AR.1</th> <td>           1.2226</td> <td>          +0.0000j</td> <td>           1.2226</td> <td>           0.0000</td>\n",
       "</tr>\n",
       "<tr>\n",
       "  <th>MA.1</th> <td>           1.1635</td> <td>          +0.0000j</td> <td>           1.1635</td> <td>           0.0000</td>\n",
       "</tr>\n",
       "</table>"
      ],
      "text/plain": [
       "<class 'statsmodels.iolib.summary.Summary'>\n",
       "\"\"\"\n",
       "                              ARMA Model Results                              \n",
       "==============================================================================\n",
       "Dep. Variable:                returns   No. Observations:                 6275\n",
       "Model:                     ARMA(1, 1)   Log Likelihood               -9581.344\n",
       "Method:                       css-mle   S.D. of innovations              1.114\n",
       "Date:                Tue, 01 Feb 2022   AIC                          19170.687\n",
       "Time:                        12:25:31   BIC                          19197.665\n",
       "Sample:                    01-11-1994   HQIC                         19180.034\n",
       "                         - 01-29-2018                                         \n",
       "=================================================================================\n",
       "                    coef    std err          z      P>|z|      [0.025      0.975]\n",
       "---------------------------------------------------------------------------------\n",
       "const             0.0191      0.011      1.755      0.079      -0.002       0.040\n",
       "ar.L1.returns     0.8180      0.063     12.955      0.000       0.694       0.942\n",
       "ma.L1.returns    -0.8595      0.056    -15.270      0.000      -0.970      -0.749\n",
       "                                    Roots                                    \n",
       "=============================================================================\n",
       "                  Real          Imaginary           Modulus         Frequency\n",
       "-----------------------------------------------------------------------------\n",
       "AR.1            1.2226           +0.0000j            1.2226            0.0000\n",
       "MA.1            1.1635           +0.0000j            1.1635            0.0000\n",
       "-----------------------------------------------------------------------------\n",
       "\"\"\""
      ]
     },
     "execution_count": 44,
     "metadata": {},
     "output_type": "execute_result"
    }
   ],
   "source": [
    "model_ret_ar1_ma1=ARMA(df.returns[1:],order=(1,1))\n",
    "result_ret_ar1_ma1=model_ret_ar1_ma1.fit()\n",
    "result_ret_ar1_ma1.summary()"
   ]
  },
  {
   "cell_type": "code",
   "execution_count": 45,
   "id": "f7e1e032",
   "metadata": {},
   "outputs": [],
   "source": [
    "model_ret_ar1=ARMA(df.returns[1:],order=(1,0))\n",
    "model_ret_ma1=ARMA(df.returns[1:],order=(0,1))"
   ]
  },
  {
   "cell_type": "code",
   "execution_count": 46,
   "id": "1bf359df",
   "metadata": {},
   "outputs": [
    {
     "name": "stdout",
     "output_type": "stream",
     "text": [
      "arma vs ar 0.0\n",
      "arma vs ma 0.0\n"
     ]
    }
   ],
   "source": [
    "print('arma vs ar',llr_test(model_ret_ar1,model_ret_ar1_ma1))\n",
    "print('arma vs ma',llr_test(model_ret_ma1,model_ret_ar1_ma1))"
   ]
  },
  {
   "cell_type": "code",
   "execution_count": 47,
   "id": "95282fcb",
   "metadata": {},
   "outputs": [],
   "source": [
    "## this shows that ARMA model is better than ar and ma model individually as p value is less than .05"
   ]
  },
  {
   "cell_type": "markdown",
   "id": "e3bae120",
   "metadata": {},
   "source": [
    "## Higher lag ARMA model"
   ]
  },
  {
   "cell_type": "code",
   "execution_count": 48,
   "id": "234af54b",
   "metadata": {},
   "outputs": [],
   "source": [
    "## by pacf ealier for ar model we came to know that ar8 was better suited model and by acf of ma we came to know that ma6 is better suited model so ARMA(8,6)"
   ]
  },
  {
   "cell_type": "code",
   "execution_count": 49,
   "id": "f5c3959c",
   "metadata": {},
   "outputs": [],
   "source": [
    "## but ARMA(8,6) is would be quite complex and time consuming and after running the model we found that 10 out 14 coefficients were insignificant "
   ]
  },
  {
   "cell_type": "code",
   "execution_count": 50,
   "id": "a6fd46a6",
   "metadata": {},
   "outputs": [],
   "source": [
    "## so we make it half i.e. 4,3 and lets say we start with 3,3 ARMA model "
   ]
  },
  {
   "cell_type": "code",
   "execution_count": 51,
   "id": "754b8639",
   "metadata": {},
   "outputs": [
    {
     "data": {
      "text/html": [
       "<table class=\"simpletable\">\n",
       "<caption>ARMA Model Results</caption>\n",
       "<tr>\n",
       "  <th>Dep. Variable:</th>      <td>returns</td>     <th>  No. Observations:  </th>   <td>6275</td>   \n",
       "</tr>\n",
       "<tr>\n",
       "  <th>Model:</th>            <td>ARMA(3, 3)</td>    <th>  Log Likelihood     </th> <td>-9564.486</td>\n",
       "</tr>\n",
       "<tr>\n",
       "  <th>Method:</th>             <td>css-mle</td>     <th>  S.D. of innovations</th>   <td>1.111</td>  \n",
       "</tr>\n",
       "<tr>\n",
       "  <th>Date:</th>          <td>Tue, 01 Feb 2022</td> <th>  AIC                </th> <td>19144.973</td>\n",
       "</tr>\n",
       "<tr>\n",
       "  <th>Time:</th>              <td>12:25:38</td>     <th>  BIC                </th> <td>19198.928</td>\n",
       "</tr>\n",
       "<tr>\n",
       "  <th>Sample:</th>           <td>01-11-1994</td>    <th>  HQIC               </th> <td>19163.667</td>\n",
       "</tr>\n",
       "<tr>\n",
       "  <th></th>                 <td>- 01-29-2018</td>   <th>                     </th>     <td> </td>    \n",
       "</tr>\n",
       "</table>\n",
       "<table class=\"simpletable\">\n",
       "<tr>\n",
       "        <td></td>           <th>coef</th>     <th>std err</th>      <th>z</th>      <th>P>|z|</th>  <th>[0.025</th>    <th>0.975]</th>  \n",
       "</tr>\n",
       "<tr>\n",
       "  <th>const</th>         <td>    0.0191</td> <td>    0.011</td> <td>    1.672</td> <td> 0.095</td> <td>   -0.003</td> <td>    0.041</td>\n",
       "</tr>\n",
       "<tr>\n",
       "  <th>ar.L1.returns</th> <td>   -0.1028</td> <td>    0.099</td> <td>   -1.034</td> <td> 0.301</td> <td>   -0.298</td> <td>    0.092</td>\n",
       "</tr>\n",
       "<tr>\n",
       "  <th>ar.L2.returns</th> <td>   -0.2269</td> <td>    0.088</td> <td>   -2.577</td> <td> 0.010</td> <td>   -0.399</td> <td>   -0.054</td>\n",
       "</tr>\n",
       "<tr>\n",
       "  <th>ar.L3.returns</th> <td>    0.5298</td> <td>    0.127</td> <td>    4.167</td> <td> 0.000</td> <td>    0.281</td> <td>    0.779</td>\n",
       "</tr>\n",
       "<tr>\n",
       "  <th>ma.L1.returns</th> <td>    0.0872</td> <td>    0.095</td> <td>    0.920</td> <td> 0.357</td> <td>   -0.098</td> <td>    0.273</td>\n",
       "</tr>\n",
       "<tr>\n",
       "  <th>ma.L2.returns</th> <td>    0.1654</td> <td>    0.086</td> <td>    1.926</td> <td> 0.054</td> <td>   -0.003</td> <td>    0.334</td>\n",
       "</tr>\n",
       "<tr>\n",
       "  <th>ma.L3.returns</th> <td>   -0.6025</td> <td>    0.118</td> <td>   -5.114</td> <td> 0.000</td> <td>   -0.833</td> <td>   -0.372</td>\n",
       "</tr>\n",
       "</table>\n",
       "<table class=\"simpletable\">\n",
       "<caption>Roots</caption>\n",
       "<tr>\n",
       "    <td></td>   <th>            Real</th>  <th>         Imaginary</th> <th>         Modulus</th>  <th>        Frequency</th>\n",
       "</tr>\n",
       "<tr>\n",
       "  <th>AR.1</th> <td>          -0.5130</td> <td>          -1.0172j</td> <td>           1.1393</td> <td>          -0.3243</td>\n",
       "</tr>\n",
       "<tr>\n",
       "  <th>AR.2</th> <td>          -0.5130</td> <td>          +1.0172j</td> <td>           1.1393</td> <td>           0.3243</td>\n",
       "</tr>\n",
       "<tr>\n",
       "  <th>AR.3</th> <td>           1.4542</td> <td>          -0.0000j</td> <td>           1.4542</td> <td>          -0.0000</td>\n",
       "</tr>\n",
       "<tr>\n",
       "  <th>MA.1</th> <td>          -0.5261</td> <td>          -0.9871j</td> <td>           1.1186</td> <td>          -0.3279</td>\n",
       "</tr>\n",
       "<tr>\n",
       "  <th>MA.2</th> <td>          -0.5261</td> <td>          +0.9871j</td> <td>           1.1186</td> <td>           0.3279</td>\n",
       "</tr>\n",
       "<tr>\n",
       "  <th>MA.3</th> <td>           1.3267</td> <td>          -0.0000j</td> <td>           1.3267</td> <td>          -0.0000</td>\n",
       "</tr>\n",
       "</table>"
      ],
      "text/plain": [
       "<class 'statsmodels.iolib.summary.Summary'>\n",
       "\"\"\"\n",
       "                              ARMA Model Results                              \n",
       "==============================================================================\n",
       "Dep. Variable:                returns   No. Observations:                 6275\n",
       "Model:                     ARMA(3, 3)   Log Likelihood               -9564.486\n",
       "Method:                       css-mle   S.D. of innovations              1.111\n",
       "Date:                Tue, 01 Feb 2022   AIC                          19144.973\n",
       "Time:                        12:25:38   BIC                          19198.928\n",
       "Sample:                    01-11-1994   HQIC                         19163.667\n",
       "                         - 01-29-2018                                         \n",
       "=================================================================================\n",
       "                    coef    std err          z      P>|z|      [0.025      0.975]\n",
       "---------------------------------------------------------------------------------\n",
       "const             0.0191      0.011      1.672      0.095      -0.003       0.041\n",
       "ar.L1.returns    -0.1028      0.099     -1.034      0.301      -0.298       0.092\n",
       "ar.L2.returns    -0.2269      0.088     -2.577      0.010      -0.399      -0.054\n",
       "ar.L3.returns     0.5298      0.127      4.167      0.000       0.281       0.779\n",
       "ma.L1.returns     0.0872      0.095      0.920      0.357      -0.098       0.273\n",
       "ma.L2.returns     0.1654      0.086      1.926      0.054      -0.003       0.334\n",
       "ma.L3.returns    -0.6025      0.118     -5.114      0.000      -0.833      -0.372\n",
       "                                    Roots                                    \n",
       "=============================================================================\n",
       "                  Real          Imaginary           Modulus         Frequency\n",
       "-----------------------------------------------------------------------------\n",
       "AR.1           -0.5130           -1.0172j            1.1393           -0.3243\n",
       "AR.2           -0.5130           +1.0172j            1.1393            0.3243\n",
       "AR.3            1.4542           -0.0000j            1.4542           -0.0000\n",
       "MA.1           -0.5261           -0.9871j            1.1186           -0.3279\n",
       "MA.2           -0.5261           +0.9871j            1.1186            0.3279\n",
       "MA.3            1.3267           -0.0000j            1.3267           -0.0000\n",
       "-----------------------------------------------------------------------------\n",
       "\"\"\""
      ]
     },
     "execution_count": 51,
     "metadata": {},
     "output_type": "execute_result"
    }
   ],
   "source": [
    "model_ret_ar3_ma3=ARMA(df.returns[1:],order=(3,3))\n",
    "result_ret_ar3_ma3=model_ret_ar3_ma3.fit()\n",
    "result_ret_ar3_ma3.summary()"
   ]
  },
  {
   "cell_type": "code",
   "execution_count": 52,
   "id": "b28f252f",
   "metadata": {},
   "outputs": [
    {
     "name": "stdout",
     "output_type": "stream",
     "text": [
      "llr test p value 0.0\n"
     ]
    }
   ],
   "source": [
    "## now running the llr test for arma(1,1) and arma(3,3)\n",
    "print('llr test p value',llr_test(model_ret_ar1_ma1,model_ret_ar3_ma3))"
   ]
  },
  {
   "cell_type": "code",
   "execution_count": 53,
   "id": "80db0ace",
   "metadata": {},
   "outputs": [],
   "source": [
    "## since the arma)(3,3) is the better predictor but phi1 and thita 1 values both are insignificant which were significant acoording to pacf and pacf plots earlier so we need choose the model which comes between(1,1) and (3,3) model"
   ]
  },
  {
   "cell_type": "code",
   "execution_count": 54,
   "id": "a8201dcd",
   "metadata": {},
   "outputs": [
    {
     "data": {
      "text/html": [
       "<table class=\"simpletable\">\n",
       "<caption>ARMA Model Results</caption>\n",
       "<tr>\n",
       "  <th>Dep. Variable:</th>      <td>returns</td>     <th>  No. Observations:  </th>   <td>6275</td>   \n",
       "</tr>\n",
       "<tr>\n",
       "  <th>Model:</th>            <td>ARMA(3, 2)</td>    <th>  Log Likelihood     </th> <td>-9568.839</td>\n",
       "</tr>\n",
       "<tr>\n",
       "  <th>Method:</th>             <td>css-mle</td>     <th>  S.D. of innovations</th>   <td>1.112</td>  \n",
       "</tr>\n",
       "<tr>\n",
       "  <th>Date:</th>          <td>Tue, 01 Feb 2022</td> <th>  AIC                </th> <td>19151.678</td>\n",
       "</tr>\n",
       "<tr>\n",
       "  <th>Time:</th>              <td>12:25:45</td>     <th>  BIC                </th> <td>19198.888</td>\n",
       "</tr>\n",
       "<tr>\n",
       "  <th>Sample:</th>           <td>01-11-1994</td>    <th>  HQIC               </th> <td>19168.036</td>\n",
       "</tr>\n",
       "<tr>\n",
       "  <th></th>                 <td>- 01-29-2018</td>   <th>                     </th>     <td> </td>    \n",
       "</tr>\n",
       "</table>\n",
       "<table class=\"simpletable\">\n",
       "<tr>\n",
       "        <td></td>           <th>coef</th>     <th>std err</th>      <th>z</th>      <th>P>|z|</th>  <th>[0.025</th>    <th>0.975]</th>  \n",
       "</tr>\n",
       "<tr>\n",
       "  <th>const</th>         <td>    0.0190</td> <td>    0.013</td> <td>    1.477</td> <td> 0.140</td> <td>   -0.006</td> <td>    0.044</td>\n",
       "</tr>\n",
       "<tr>\n",
       "  <th>ar.L1.returns</th> <td>   -0.6744</td> <td>    0.117</td> <td>   -5.749</td> <td> 0.000</td> <td>   -0.904</td> <td>   -0.444</td>\n",
       "</tr>\n",
       "<tr>\n",
       "  <th>ar.L2.returns</th> <td>   -0.3347</td> <td>    0.166</td> <td>   -2.015</td> <td> 0.044</td> <td>   -0.660</td> <td>   -0.009</td>\n",
       "</tr>\n",
       "<tr>\n",
       "  <th>ar.L3.returns</th> <td>   -0.0951</td> <td>    0.013</td> <td>   -7.498</td> <td> 0.000</td> <td>   -0.120</td> <td>   -0.070</td>\n",
       "</tr>\n",
       "<tr>\n",
       "  <th>ma.L1.returns</th> <td>    0.6574</td> <td>    0.118</td> <td>    5.584</td> <td> 0.000</td> <td>    0.427</td> <td>    0.888</td>\n",
       "</tr>\n",
       "<tr>\n",
       "  <th>ma.L2.returns</th> <td>    0.2757</td> <td>    0.168</td> <td>    1.646</td> <td> 0.100</td> <td>   -0.053</td> <td>    0.604</td>\n",
       "</tr>\n",
       "</table>\n",
       "<table class=\"simpletable\">\n",
       "<caption>Roots</caption>\n",
       "<tr>\n",
       "    <td></td>   <th>            Real</th>  <th>         Imaginary</th> <th>         Modulus</th>  <th>        Frequency</th>\n",
       "</tr>\n",
       "<tr>\n",
       "  <th>AR.1</th> <td>          -0.5633</td> <td>          -2.0195j</td> <td>           2.0966</td> <td>          -0.2933</td>\n",
       "</tr>\n",
       "<tr>\n",
       "  <th>AR.2</th> <td>          -0.5633</td> <td>          +2.0195j</td> <td>           2.0966</td> <td>           0.2933</td>\n",
       "</tr>\n",
       "<tr>\n",
       "  <th>AR.3</th> <td>          -2.3919</td> <td>          -0.0000j</td> <td>           2.3919</td> <td>          -0.5000</td>\n",
       "</tr>\n",
       "<tr>\n",
       "  <th>MA.1</th> <td>          -1.1921</td> <td>          -1.4852j</td> <td>           1.9045</td> <td>          -0.3576</td>\n",
       "</tr>\n",
       "<tr>\n",
       "  <th>MA.2</th> <td>          -1.1921</td> <td>          +1.4852j</td> <td>           1.9045</td> <td>           0.3576</td>\n",
       "</tr>\n",
       "</table>"
      ],
      "text/plain": [
       "<class 'statsmodels.iolib.summary.Summary'>\n",
       "\"\"\"\n",
       "                              ARMA Model Results                              \n",
       "==============================================================================\n",
       "Dep. Variable:                returns   No. Observations:                 6275\n",
       "Model:                     ARMA(3, 2)   Log Likelihood               -9568.839\n",
       "Method:                       css-mle   S.D. of innovations              1.112\n",
       "Date:                Tue, 01 Feb 2022   AIC                          19151.678\n",
       "Time:                        12:25:45   BIC                          19198.888\n",
       "Sample:                    01-11-1994   HQIC                         19168.036\n",
       "                         - 01-29-2018                                         \n",
       "=================================================================================\n",
       "                    coef    std err          z      P>|z|      [0.025      0.975]\n",
       "---------------------------------------------------------------------------------\n",
       "const             0.0190      0.013      1.477      0.140      -0.006       0.044\n",
       "ar.L1.returns    -0.6744      0.117     -5.749      0.000      -0.904      -0.444\n",
       "ar.L2.returns    -0.3347      0.166     -2.015      0.044      -0.660      -0.009\n",
       "ar.L3.returns    -0.0951      0.013     -7.498      0.000      -0.120      -0.070\n",
       "ma.L1.returns     0.6574      0.118      5.584      0.000       0.427       0.888\n",
       "ma.L2.returns     0.2757      0.168      1.646      0.100      -0.053       0.604\n",
       "                                    Roots                                    \n",
       "=============================================================================\n",
       "                  Real          Imaginary           Modulus         Frequency\n",
       "-----------------------------------------------------------------------------\n",
       "AR.1           -0.5633           -2.0195j            2.0966           -0.2933\n",
       "AR.2           -0.5633           +2.0195j            2.0966            0.2933\n",
       "AR.3           -2.3919           -0.0000j            2.3919           -0.5000\n",
       "MA.1           -1.1921           -1.4852j            1.9045           -0.3576\n",
       "MA.2           -1.1921           +1.4852j            1.9045            0.3576\n",
       "-----------------------------------------------------------------------------\n",
       "\"\"\""
      ]
     },
     "execution_count": 54,
     "metadata": {},
     "output_type": "execute_result"
    }
   ],
   "source": [
    "##ARMA(3,2)\n",
    "model_ret_ar3_ma2=ARMA(df.returns[1:],order=(3,2))\n",
    "result_ret_ar3_ma2=model_ret_ar3_ma2.fit()\n",
    "result_ret_ar3_ma2.summary()"
   ]
  },
  {
   "cell_type": "code",
   "execution_count": 55,
   "id": "16da585b",
   "metadata": {},
   "outputs": [],
   "source": [
    "## since all the coefficents are significant this is the better predictor"
   ]
  },
  {
   "cell_type": "code",
   "execution_count": 56,
   "id": "5dae2a18",
   "metadata": {},
   "outputs": [
    {
     "data": {
      "text/html": [
       "<table class=\"simpletable\">\n",
       "<caption>ARMA Model Results</caption>\n",
       "<tr>\n",
       "  <th>Dep. Variable:</th>      <td>returns</td>     <th>  No. Observations:  </th>   <td>6275</td>   \n",
       "</tr>\n",
       "<tr>\n",
       "  <th>Model:</th>            <td>ARMA(2, 3)</td>    <th>  Log Likelihood     </th> <td>-9567.636</td>\n",
       "</tr>\n",
       "<tr>\n",
       "  <th>Method:</th>             <td>css-mle</td>     <th>  S.D. of innovations</th>   <td>1.112</td>  \n",
       "</tr>\n",
       "<tr>\n",
       "  <th>Date:</th>          <td>Tue, 01 Feb 2022</td> <th>  AIC                </th> <td>19149.271</td>\n",
       "</tr>\n",
       "<tr>\n",
       "  <th>Time:</th>              <td>12:25:46</td>     <th>  BIC                </th> <td>19196.482</td>\n",
       "</tr>\n",
       "<tr>\n",
       "  <th>Sample:</th>           <td>01-11-1994</td>    <th>  HQIC               </th> <td>19165.629</td>\n",
       "</tr>\n",
       "<tr>\n",
       "  <th></th>                 <td>- 01-29-2018</td>   <th>                     </th>     <td> </td>    \n",
       "</tr>\n",
       "</table>\n",
       "<table class=\"simpletable\">\n",
       "<tr>\n",
       "        <td></td>           <th>coef</th>     <th>std err</th>      <th>z</th>      <th>P>|z|</th>  <th>[0.025</th>    <th>0.975]</th>  \n",
       "</tr>\n",
       "<tr>\n",
       "  <th>const</th>         <td>    0.0190</td> <td>    0.012</td> <td>    1.533</td> <td> 0.125</td> <td>   -0.005</td> <td>    0.043</td>\n",
       "</tr>\n",
       "<tr>\n",
       "  <th>ar.L1.returns</th> <td>   -0.5198</td> <td>    0.173</td> <td>   -3.009</td> <td> 0.003</td> <td>   -0.858</td> <td>   -0.181</td>\n",
       "</tr>\n",
       "<tr>\n",
       "  <th>ar.L2.returns</th> <td>   -0.0601</td> <td>    0.230</td> <td>   -0.261</td> <td> 0.794</td> <td>   -0.512</td> <td>    0.392</td>\n",
       "</tr>\n",
       "<tr>\n",
       "  <th>ma.L1.returns</th> <td>    0.5013</td> <td>    0.172</td> <td>    2.909</td> <td> 0.004</td> <td>    0.164</td> <td>    0.839</td>\n",
       "</tr>\n",
       "<tr>\n",
       "  <th>ma.L2.returns</th> <td>   -0.0027</td> <td>    0.230</td> <td>   -0.012</td> <td> 0.991</td> <td>   -0.453</td> <td>    0.447</td>\n",
       "</tr>\n",
       "<tr>\n",
       "  <th>ma.L3.returns</th> <td>   -0.0999</td> <td>    0.013</td> <td>   -7.703</td> <td> 0.000</td> <td>   -0.125</td> <td>   -0.074</td>\n",
       "</tr>\n",
       "</table>\n",
       "<table class=\"simpletable\">\n",
       "<caption>Roots</caption>\n",
       "<tr>\n",
       "    <td></td>   <th>            Real</th>  <th>         Imaginary</th> <th>         Modulus</th>  <th>        Frequency</th>\n",
       "</tr>\n",
       "<tr>\n",
       "  <th>AR.1</th> <td>          -2.8882</td> <td>          +0.0000j</td> <td>           2.8882</td> <td>           0.5000</td>\n",
       "</tr>\n",
       "<tr>\n",
       "  <th>AR.2</th> <td>          -5.7619</td> <td>          +0.0000j</td> <td>           5.7619</td> <td>           0.5000</td>\n",
       "</tr>\n",
       "<tr>\n",
       "  <th>MA.1</th> <td>          -1.4623</td> <td>          -1.1476j</td> <td>           1.8589</td> <td>          -0.3941</td>\n",
       "</tr>\n",
       "<tr>\n",
       "  <th>MA.2</th> <td>          -1.4623</td> <td>          +1.1476j</td> <td>           1.8589</td> <td>           0.3941</td>\n",
       "</tr>\n",
       "<tr>\n",
       "  <th>MA.3</th> <td>           2.8981</td> <td>          -0.0000j</td> <td>           2.8981</td> <td>          -0.0000</td>\n",
       "</tr>\n",
       "</table>"
      ],
      "text/plain": [
       "<class 'statsmodels.iolib.summary.Summary'>\n",
       "\"\"\"\n",
       "                              ARMA Model Results                              \n",
       "==============================================================================\n",
       "Dep. Variable:                returns   No. Observations:                 6275\n",
       "Model:                     ARMA(2, 3)   Log Likelihood               -9567.636\n",
       "Method:                       css-mle   S.D. of innovations              1.112\n",
       "Date:                Tue, 01 Feb 2022   AIC                          19149.271\n",
       "Time:                        12:25:46   BIC                          19196.482\n",
       "Sample:                    01-11-1994   HQIC                         19165.629\n",
       "                         - 01-29-2018                                         \n",
       "=================================================================================\n",
       "                    coef    std err          z      P>|z|      [0.025      0.975]\n",
       "---------------------------------------------------------------------------------\n",
       "const             0.0190      0.012      1.533      0.125      -0.005       0.043\n",
       "ar.L1.returns    -0.5198      0.173     -3.009      0.003      -0.858      -0.181\n",
       "ar.L2.returns    -0.0601      0.230     -0.261      0.794      -0.512       0.392\n",
       "ma.L1.returns     0.5013      0.172      2.909      0.004       0.164       0.839\n",
       "ma.L2.returns    -0.0027      0.230     -0.012      0.991      -0.453       0.447\n",
       "ma.L3.returns    -0.0999      0.013     -7.703      0.000      -0.125      -0.074\n",
       "                                    Roots                                    \n",
       "=============================================================================\n",
       "                  Real          Imaginary           Modulus         Frequency\n",
       "-----------------------------------------------------------------------------\n",
       "AR.1           -2.8882           +0.0000j            2.8882            0.5000\n",
       "AR.2           -5.7619           +0.0000j            5.7619            0.5000\n",
       "MA.1           -1.4623           -1.1476j            1.8589           -0.3941\n",
       "MA.2           -1.4623           +1.1476j            1.8589            0.3941\n",
       "MA.3            2.8981           -0.0000j            2.8981           -0.0000\n",
       "-----------------------------------------------------------------------------\n",
       "\"\"\""
      ]
     },
     "execution_count": 56,
     "metadata": {},
     "output_type": "execute_result"
    }
   ],
   "source": [
    "##ARMA(2,3)\n",
    "model_ret_ar2_ma3=ARMA(df.returns[1:],order=(2,3))\n",
    "result_ret_ar2_ma3=model_ret_ar2_ma3.fit()\n",
    "result_ret_ar2_ma3.summary()"
   ]
  },
  {
   "cell_type": "code",
   "execution_count": 57,
   "id": "83b0842f",
   "metadata": {},
   "outputs": [],
   "source": [
    "## since two value of coefficient here becomes insignificant so better we go with arma(3,3)"
   ]
  },
  {
   "cell_type": "code",
   "execution_count": 58,
   "id": "97d7856e",
   "metadata": {},
   "outputs": [
    {
     "data": {
      "text/html": [
       "<table class=\"simpletable\">\n",
       "<caption>ARMA Model Results</caption>\n",
       "<tr>\n",
       "  <th>Dep. Variable:</th>      <td>returns</td>     <th>  No. Observations:  </th>   <td>6275</td>   \n",
       "</tr>\n",
       "<tr>\n",
       "  <th>Model:</th>            <td>ARMA(3, 1)</td>    <th>  Log Likelihood     </th> <td>-9569.775</td>\n",
       "</tr>\n",
       "<tr>\n",
       "  <th>Method:</th>             <td>css-mle</td>     <th>  S.D. of innovations</th>   <td>1.112</td>  \n",
       "</tr>\n",
       "<tr>\n",
       "  <th>Date:</th>          <td>Tue, 01 Feb 2022</td> <th>  AIC                </th> <td>19151.550</td>\n",
       "</tr>\n",
       "<tr>\n",
       "  <th>Time:</th>              <td>12:25:48</td>     <th>  BIC                </th> <td>19192.016</td>\n",
       "</tr>\n",
       "<tr>\n",
       "  <th>Sample:</th>           <td>01-11-1994</td>    <th>  HQIC               </th> <td>19165.571</td>\n",
       "</tr>\n",
       "<tr>\n",
       "  <th></th>                 <td>- 01-29-2018</td>   <th>                     </th>     <td> </td>    \n",
       "</tr>\n",
       "</table>\n",
       "<table class=\"simpletable\">\n",
       "<tr>\n",
       "        <td></td>           <th>coef</th>     <th>std err</th>      <th>z</th>      <th>P>|z|</th>  <th>[0.025</th>    <th>0.975]</th>  \n",
       "</tr>\n",
       "<tr>\n",
       "  <th>const</th>         <td>    0.0190</td> <td>    0.013</td> <td>    1.511</td> <td> 0.131</td> <td>   -0.006</td> <td>    0.044</td>\n",
       "</tr>\n",
       "<tr>\n",
       "  <th>ar.L1.returns</th> <td>   -0.5193</td> <td>    0.100</td> <td>   -5.219</td> <td> 0.000</td> <td>   -0.714</td> <td>   -0.324</td>\n",
       "</tr>\n",
       "<tr>\n",
       "  <th>ar.L2.returns</th> <td>   -0.0597</td> <td>    0.014</td> <td>   -4.187</td> <td> 0.000</td> <td>   -0.088</td> <td>   -0.032</td>\n",
       "</tr>\n",
       "<tr>\n",
       "  <th>ar.L3.returns</th> <td>   -0.0924</td> <td>    0.013</td> <td>   -7.344</td> <td> 0.000</td> <td>   -0.117</td> <td>   -0.068</td>\n",
       "</tr>\n",
       "<tr>\n",
       "  <th>ma.L1.returns</th> <td>    0.5008</td> <td>    0.100</td> <td>    5.032</td> <td> 0.000</td> <td>    0.306</td> <td>    0.696</td>\n",
       "</tr>\n",
       "</table>\n",
       "<table class=\"simpletable\">\n",
       "<caption>Roots</caption>\n",
       "<tr>\n",
       "    <td></td>   <th>            Real</th>  <th>         Imaginary</th> <th>         Modulus</th>  <th>        Frequency</th>\n",
       "</tr>\n",
       "<tr>\n",
       "  <th>AR.1</th> <td>          -1.5446</td> <td>          -0.0000j</td> <td>           1.5446</td> <td>          -0.5000</td>\n",
       "</tr>\n",
       "<tr>\n",
       "  <th>AR.2</th> <td>           0.4491</td> <td>          -2.6092j</td> <td>           2.6476</td> <td>          -0.2229</td>\n",
       "</tr>\n",
       "<tr>\n",
       "  <th>AR.3</th> <td>           0.4491</td> <td>          +2.6092j</td> <td>           2.6476</td> <td>           0.2229</td>\n",
       "</tr>\n",
       "<tr>\n",
       "  <th>MA.1</th> <td>          -1.9967</td> <td>          +0.0000j</td> <td>           1.9967</td> <td>           0.5000</td>\n",
       "</tr>\n",
       "</table>"
      ],
      "text/plain": [
       "<class 'statsmodels.iolib.summary.Summary'>\n",
       "\"\"\"\n",
       "                              ARMA Model Results                              \n",
       "==============================================================================\n",
       "Dep. Variable:                returns   No. Observations:                 6275\n",
       "Model:                     ARMA(3, 1)   Log Likelihood               -9569.775\n",
       "Method:                       css-mle   S.D. of innovations              1.112\n",
       "Date:                Tue, 01 Feb 2022   AIC                          19151.550\n",
       "Time:                        12:25:48   BIC                          19192.016\n",
       "Sample:                    01-11-1994   HQIC                         19165.571\n",
       "                         - 01-29-2018                                         \n",
       "=================================================================================\n",
       "                    coef    std err          z      P>|z|      [0.025      0.975]\n",
       "---------------------------------------------------------------------------------\n",
       "const             0.0190      0.013      1.511      0.131      -0.006       0.044\n",
       "ar.L1.returns    -0.5193      0.100     -5.219      0.000      -0.714      -0.324\n",
       "ar.L2.returns    -0.0597      0.014     -4.187      0.000      -0.088      -0.032\n",
       "ar.L3.returns    -0.0924      0.013     -7.344      0.000      -0.117      -0.068\n",
       "ma.L1.returns     0.5008      0.100      5.032      0.000       0.306       0.696\n",
       "                                    Roots                                    \n",
       "=============================================================================\n",
       "                  Real          Imaginary           Modulus         Frequency\n",
       "-----------------------------------------------------------------------------\n",
       "AR.1           -1.5446           -0.0000j            1.5446           -0.5000\n",
       "AR.2            0.4491           -2.6092j            2.6476           -0.2229\n",
       "AR.3            0.4491           +2.6092j            2.6476            0.2229\n",
       "MA.1           -1.9967           +0.0000j            1.9967            0.5000\n",
       "-----------------------------------------------------------------------------\n",
       "\"\"\""
      ]
     },
     "execution_count": 58,
     "metadata": {},
     "output_type": "execute_result"
    }
   ],
   "source": [
    "## ARMA(3,1)\n",
    "model_ret_ar3_ma1=ARMA(df.returns[1:],order=(3,1))\n",
    "result_ret_ar3_ma1=model_ret_ar3_ma1.fit()\n",
    "result_ret_ar3_ma1.summary()"
   ]
  },
  {
   "cell_type": "code",
   "execution_count": 59,
   "id": "358a8a19",
   "metadata": {},
   "outputs": [
    {
     "name": "stdout",
     "output_type": "stream",
     "text": [
      "p value for llr test is 0.171\n"
     ]
    }
   ],
   "source": [
    "print('p value for llr test is',llr_test(model_ret_ar3_ma1,model_ret_ar3_ma2))"
   ]
  },
  {
   "cell_type": "code",
   "execution_count": 60,
   "id": "5a9bae88",
   "metadata": {},
   "outputs": [
    {
     "data": {
      "text/html": [
       "<table class=\"simpletable\">\n",
       "<caption>ARMA Model Results</caption>\n",
       "<tr>\n",
       "  <th>Dep. Variable:</th>      <td>returns</td>     <th>  No. Observations:  </th>   <td>6275</td>   \n",
       "</tr>\n",
       "<tr>\n",
       "  <th>Model:</th>            <td>ARMA(2, 2)</td>    <th>  Log Likelihood     </th> <td>-9578.029</td>\n",
       "</tr>\n",
       "<tr>\n",
       "  <th>Method:</th>             <td>css-mle</td>     <th>  S.D. of innovations</th>   <td>1.113</td>  \n",
       "</tr>\n",
       "<tr>\n",
       "  <th>Date:</th>          <td>Tue, 01 Feb 2022</td> <th>  AIC                </th> <td>19168.059</td>\n",
       "</tr>\n",
       "<tr>\n",
       "  <th>Time:</th>              <td>12:25:52</td>     <th>  BIC                </th> <td>19208.525</td>\n",
       "</tr>\n",
       "<tr>\n",
       "  <th>Sample:</th>           <td>01-11-1994</td>    <th>  HQIC               </th> <td>19182.080</td>\n",
       "</tr>\n",
       "<tr>\n",
       "  <th></th>                 <td>- 01-29-2018</td>   <th>                     </th>     <td> </td>    \n",
       "</tr>\n",
       "</table>\n",
       "<table class=\"simpletable\">\n",
       "<tr>\n",
       "        <td></td>           <th>coef</th>     <th>std err</th>      <th>z</th>      <th>P>|z|</th>  <th>[0.025</th>    <th>0.975]</th>  \n",
       "</tr>\n",
       "<tr>\n",
       "  <th>const</th>         <td>    0.0191</td> <td>    0.012</td> <td>    1.651</td> <td> 0.099</td> <td>   -0.004</td> <td>    0.042</td>\n",
       "</tr>\n",
       "<tr>\n",
       "  <th>ar.L1.returns</th> <td>    0.7676</td> <td>    0.222</td> <td>    3.454</td> <td> 0.001</td> <td>    0.332</td> <td>    1.203</td>\n",
       "</tr>\n",
       "<tr>\n",
       "  <th>ar.L2.returns</th> <td>   -0.1111</td> <td>    0.182</td> <td>   -0.611</td> <td> 0.541</td> <td>   -0.468</td> <td>    0.245</td>\n",
       "</tr>\n",
       "<tr>\n",
       "  <th>ma.L1.returns</th> <td>   -0.7900</td> <td>    0.223</td> <td>   -3.546</td> <td> 0.000</td> <td>   -1.227</td> <td>   -0.353</td>\n",
       "</tr>\n",
       "<tr>\n",
       "  <th>ma.L2.returns</th> <td>    0.0721</td> <td>    0.190</td> <td>    0.380</td> <td> 0.704</td> <td>   -0.300</td> <td>    0.444</td>\n",
       "</tr>\n",
       "</table>\n",
       "<table class=\"simpletable\">\n",
       "<caption>Roots</caption>\n",
       "<tr>\n",
       "    <td></td>   <th>            Real</th>  <th>         Imaginary</th> <th>         Modulus</th>  <th>        Frequency</th>\n",
       "</tr>\n",
       "<tr>\n",
       "  <th>AR.1</th> <td>           1.7421</td> <td>          +0.0000j</td> <td>           1.7421</td> <td>           0.0000</td>\n",
       "</tr>\n",
       "<tr>\n",
       "  <th>AR.2</th> <td>           5.1650</td> <td>          +0.0000j</td> <td>           5.1650</td> <td>           0.0000</td>\n",
       "</tr>\n",
       "<tr>\n",
       "  <th>MA.1</th> <td>           1.4603</td> <td>          +0.0000j</td> <td>           1.4603</td> <td>           0.0000</td>\n",
       "</tr>\n",
       "<tr>\n",
       "  <th>MA.2</th> <td>           9.5028</td> <td>          +0.0000j</td> <td>           9.5028</td> <td>           0.0000</td>\n",
       "</tr>\n",
       "</table>"
      ],
      "text/plain": [
       "<class 'statsmodels.iolib.summary.Summary'>\n",
       "\"\"\"\n",
       "                              ARMA Model Results                              \n",
       "==============================================================================\n",
       "Dep. Variable:                returns   No. Observations:                 6275\n",
       "Model:                     ARMA(2, 2)   Log Likelihood               -9578.029\n",
       "Method:                       css-mle   S.D. of innovations              1.113\n",
       "Date:                Tue, 01 Feb 2022   AIC                          19168.059\n",
       "Time:                        12:25:52   BIC                          19208.525\n",
       "Sample:                    01-11-1994   HQIC                         19182.080\n",
       "                         - 01-29-2018                                         \n",
       "=================================================================================\n",
       "                    coef    std err          z      P>|z|      [0.025      0.975]\n",
       "---------------------------------------------------------------------------------\n",
       "const             0.0191      0.012      1.651      0.099      -0.004       0.042\n",
       "ar.L1.returns     0.7676      0.222      3.454      0.001       0.332       1.203\n",
       "ar.L2.returns    -0.1111      0.182     -0.611      0.541      -0.468       0.245\n",
       "ma.L1.returns    -0.7900      0.223     -3.546      0.000      -1.227      -0.353\n",
       "ma.L2.returns     0.0721      0.190      0.380      0.704      -0.300       0.444\n",
       "                                    Roots                                    \n",
       "=============================================================================\n",
       "                  Real          Imaginary           Modulus         Frequency\n",
       "-----------------------------------------------------------------------------\n",
       "AR.1            1.7421           +0.0000j            1.7421            0.0000\n",
       "AR.2            5.1650           +0.0000j            5.1650            0.0000\n",
       "MA.1            1.4603           +0.0000j            1.4603            0.0000\n",
       "MA.2            9.5028           +0.0000j            9.5028            0.0000\n",
       "-----------------------------------------------------------------------------\n",
       "\"\"\""
      ]
     },
     "execution_count": 60,
     "metadata": {},
     "output_type": "execute_result"
    }
   ],
   "source": [
    "##ARMA(2,2)\n",
    "model_ret_ar2_ma2=ARMA(df.returns[1:],order=(2,2))\n",
    "result_ret_ar2_ma2=model_ret_ar2_ma2.fit()\n",
    "result_ret_ar2_ma2.summary()"
   ]
  },
  {
   "cell_type": "code",
   "execution_count": 61,
   "id": "064a6baf",
   "metadata": {},
   "outputs": [],
   "source": [
    "#ARMA(1,2)and ARMA(2,1) would outperform ARMA (2,2) because two insignificant values of ar and ma second coefficient"
   ]
  },
  {
   "cell_type": "code",
   "execution_count": 62,
   "id": "d0919aee",
   "metadata": {},
   "outputs": [
    {
     "data": {
      "text/html": [
       "<table class=\"simpletable\">\n",
       "<caption>ARMA Model Results</caption>\n",
       "<tr>\n",
       "  <th>Dep. Variable:</th>      <td>returns</td>     <th>  No. Observations:  </th>   <td>6275</td>   \n",
       "</tr>\n",
       "<tr>\n",
       "  <th>Model:</th>            <td>ARMA(1, 3)</td>    <th>  Log Likelihood     </th> <td>-9567.667</td>\n",
       "</tr>\n",
       "<tr>\n",
       "  <th>Method:</th>             <td>css-mle</td>     <th>  S.D. of innovations</th>   <td>1.112</td>  \n",
       "</tr>\n",
       "<tr>\n",
       "  <th>Date:</th>          <td>Tue, 01 Feb 2022</td> <th>  AIC                </th> <td>19147.334</td>\n",
       "</tr>\n",
       "<tr>\n",
       "  <th>Time:</th>              <td>12:25:54</td>     <th>  BIC                </th> <td>19187.800</td>\n",
       "</tr>\n",
       "<tr>\n",
       "  <th>Sample:</th>           <td>01-11-1994</td>    <th>  HQIC               </th> <td>19161.355</td>\n",
       "</tr>\n",
       "<tr>\n",
       "  <th></th>                 <td>- 01-29-2018</td>   <th>                     </th>     <td> </td>    \n",
       "</tr>\n",
       "</table>\n",
       "<table class=\"simpletable\">\n",
       "<tr>\n",
       "        <td></td>           <th>coef</th>     <th>std err</th>      <th>z</th>      <th>P>|z|</th>  <th>[0.025</th>    <th>0.975]</th>  \n",
       "</tr>\n",
       "<tr>\n",
       "  <th>const</th>         <td>    0.0191</td> <td>    0.012</td> <td>    1.545</td> <td> 0.122</td> <td>   -0.005</td> <td>    0.043</td>\n",
       "</tr>\n",
       "<tr>\n",
       "  <th>ar.L1.returns</th> <td>   -0.4825</td> <td>    0.108</td> <td>   -4.480</td> <td> 0.000</td> <td>   -0.694</td> <td>   -0.271</td>\n",
       "</tr>\n",
       "<tr>\n",
       "  <th>ma.L1.returns</th> <td>    0.4642</td> <td>    0.107</td> <td>    4.320</td> <td> 0.000</td> <td>    0.254</td> <td>    0.675</td>\n",
       "</tr>\n",
       "<tr>\n",
       "  <th>ma.L2.returns</th> <td>   -0.0622</td> <td>    0.014</td> <td>   -4.423</td> <td> 0.000</td> <td>   -0.090</td> <td>   -0.035</td>\n",
       "</tr>\n",
       "<tr>\n",
       "  <th>ma.L3.returns</th> <td>   -0.0992</td> <td>    0.013</td> <td>   -7.653</td> <td> 0.000</td> <td>   -0.125</td> <td>   -0.074</td>\n",
       "</tr>\n",
       "</table>\n",
       "<table class=\"simpletable\">\n",
       "<caption>Roots</caption>\n",
       "<tr>\n",
       "    <td></td>   <th>            Real</th>  <th>         Imaginary</th> <th>         Modulus</th>  <th>        Frequency</th>\n",
       "</tr>\n",
       "<tr>\n",
       "  <th>AR.1</th> <td>          -2.0724</td> <td>          +0.0000j</td> <td>           2.0724</td> <td>           0.5000</td>\n",
       "</tr>\n",
       "<tr>\n",
       "  <th>MA.1</th> <td>          -1.6245</td> <td>          -1.0971j</td> <td>           1.9603</td> <td>          -0.4055</td>\n",
       "</tr>\n",
       "<tr>\n",
       "  <th>MA.2</th> <td>          -1.6245</td> <td>          +1.0971j</td> <td>           1.9603</td> <td>           0.4055</td>\n",
       "</tr>\n",
       "<tr>\n",
       "  <th>MA.3</th> <td>           2.6223</td> <td>          -0.0000j</td> <td>           2.6223</td> <td>          -0.0000</td>\n",
       "</tr>\n",
       "</table>"
      ],
      "text/plain": [
       "<class 'statsmodels.iolib.summary.Summary'>\n",
       "\"\"\"\n",
       "                              ARMA Model Results                              \n",
       "==============================================================================\n",
       "Dep. Variable:                returns   No. Observations:                 6275\n",
       "Model:                     ARMA(1, 3)   Log Likelihood               -9567.667\n",
       "Method:                       css-mle   S.D. of innovations              1.112\n",
       "Date:                Tue, 01 Feb 2022   AIC                          19147.334\n",
       "Time:                        12:25:54   BIC                          19187.800\n",
       "Sample:                    01-11-1994   HQIC                         19161.355\n",
       "                         - 01-29-2018                                         \n",
       "=================================================================================\n",
       "                    coef    std err          z      P>|z|      [0.025      0.975]\n",
       "---------------------------------------------------------------------------------\n",
       "const             0.0191      0.012      1.545      0.122      -0.005       0.043\n",
       "ar.L1.returns    -0.4825      0.108     -4.480      0.000      -0.694      -0.271\n",
       "ma.L1.returns     0.4642      0.107      4.320      0.000       0.254       0.675\n",
       "ma.L2.returns    -0.0622      0.014     -4.423      0.000      -0.090      -0.035\n",
       "ma.L3.returns    -0.0992      0.013     -7.653      0.000      -0.125      -0.074\n",
       "                                    Roots                                    \n",
       "=============================================================================\n",
       "                  Real          Imaginary           Modulus         Frequency\n",
       "-----------------------------------------------------------------------------\n",
       "AR.1           -2.0724           +0.0000j            2.0724            0.5000\n",
       "MA.1           -1.6245           -1.0971j            1.9603           -0.4055\n",
       "MA.2           -1.6245           +1.0971j            1.9603            0.4055\n",
       "MA.3            2.6223           -0.0000j            2.6223           -0.0000\n",
       "-----------------------------------------------------------------------------\n",
       "\"\"\""
      ]
     },
     "execution_count": 62,
     "metadata": {},
     "output_type": "execute_result"
    }
   ],
   "source": [
    "##ARMA(1,3)\n",
    "model_ret_ar1_ma3=ARMA(df.returns[1:],order=(1,3))\n",
    "result_ret_ar1_ma3=model_ret_ar1_ma3.fit()\n",
    "result_ret_ar1_ma3.summary()"
   ]
  },
  {
   "cell_type": "code",
   "execution_count": 63,
   "id": "06ea97cd",
   "metadata": {},
   "outputs": [],
   "source": [
    "## llr test between arma(1,3) and arma(3,2) becomes void because arma(1,3) isin't nested in arma(3,2)\n"
   ]
  },
  {
   "cell_type": "code",
   "execution_count": 64,
   "id": "8bee47b9",
   "metadata": {},
   "outputs": [],
   "source": [
    "## so comparing their llr values and aic critical values manually"
   ]
  },
  {
   "cell_type": "markdown",
   "id": "6b8ba953",
   "metadata": {},
   "source": [
    "## Residuals for Returns"
   ]
  },
  {
   "cell_type": "code",
   "execution_count": 65,
   "id": "fb934054",
   "metadata": {},
   "outputs": [],
   "source": [
    "df['res_ret_ar3_ma2']=result_ret_ar3_ma2.resid[1:]"
   ]
  },
  {
   "cell_type": "code",
   "execution_count": 66,
   "id": "2a3a7755",
   "metadata": {},
   "outputs": [
    {
     "data": {
      "image/png": "[encoded data removed]",
      "text/plain": [
       "<Figure size 1440x360 with 1 Axes>"
      ]
     },
     "metadata": {
      "needs_background": "light"
     },
     "output_type": "display_data"
    }
   ],
   "source": [
    "df['res_ret_ar3_ma2'].plot(figsize=(20,5))\n",
    "plt.title('residuals for return')\n",
    "plt.show()"
   ]
  },
  {
   "cell_type": "code",
   "execution_count": 67,
   "id": "cc2d7af8",
   "metadata": {},
   "outputs": [
    {
     "data": {
      "image/png": "[encoded data removed]",
      "text/plain": [
       "<Figure size 432x288 with 1 Axes>"
      ]
     },
     "metadata": {
      "needs_background": "light"
     },
     "output_type": "display_data"
    }
   ],
   "source": [
    "sgt.plot_acf(df['res_ret_ar3_ma2'][2:],zero=False,lags=40)\n",
    "plt.title('acf for residuals returns')\n",
    "plt.show()"
   ]
  },
  {
   "cell_type": "markdown",
   "id": "4dd01751",
   "metadata": {},
   "source": [
    "## Reevaluating the model selection "
   ]
  },
  {
   "cell_type": "code",
   "execution_count": null,
   "id": "811e187f",
   "metadata": {},
   "outputs": [],
   "source": []
  },
  {
   "cell_type": "code",
   "execution_count": 68,
   "id": "b5b0bbd4",
   "metadata": {},
   "outputs": [],
   "source": [
    "df['returns']=df.market_value.pct_change(1).mul(100)\n",
    "df=df.iloc[1:]"
   ]
  },
  {
   "cell_type": "code",
   "execution_count": 69,
   "id": "41a40441",
   "metadata": {},
   "outputs": [
    {
     "data": {
      "text/html": [
       "<table class=\"simpletable\">\n",
       "<caption>ARMA Model Results</caption>\n",
       "<tr>\n",
       "  <th>Dep. Variable:</th>      <td>returns</td>     <th>  No. Observations:  </th>   <td>6274</td>   \n",
       "</tr>\n",
       "<tr>\n",
       "  <th>Model:</th>            <td>ARMA(5, 5)</td>    <th>  Log Likelihood     </th> <td>-9551.912</td>\n",
       "</tr>\n",
       "<tr>\n",
       "  <th>Method:</th>             <td>css-mle</td>     <th>  S.D. of innovations</th>   <td>1.109</td>  \n",
       "</tr>\n",
       "<tr>\n",
       "  <th>Date:</th>          <td>Tue, 01 Feb 2022</td> <th>  AIC                </th> <td>19127.825</td>\n",
       "</tr>\n",
       "<tr>\n",
       "  <th>Time:</th>              <td>12:26:05</td>     <th>  BIC                </th> <td>19208.755</td>\n",
       "</tr>\n",
       "<tr>\n",
       "  <th>Sample:</th>           <td>01-12-1994</td>    <th>  HQIC               </th> <td>19155.866</td>\n",
       "</tr>\n",
       "<tr>\n",
       "  <th></th>                 <td>- 01-29-2018</td>   <th>                     </th>     <td> </td>    \n",
       "</tr>\n",
       "</table>\n",
       "<table class=\"simpletable\">\n",
       "<tr>\n",
       "        <td></td>           <th>coef</th>     <th>std err</th>      <th>z</th>      <th>P>|z|</th>  <th>[0.025</th>    <th>0.975]</th>  \n",
       "</tr>\n",
       "<tr>\n",
       "  <th>const</th>         <td>    0.0192</td> <td>    0.011</td> <td>    1.676</td> <td> 0.094</td> <td>   -0.003</td> <td>    0.042</td>\n",
       "</tr>\n",
       "<tr>\n",
       "  <th>ar.L1.returns</th> <td>   -0.0656</td> <td>    0.161</td> <td>   -0.407</td> <td> 0.684</td> <td>   -0.381</td> <td>    0.250</td>\n",
       "</tr>\n",
       "<tr>\n",
       "  <th>ar.L2.returns</th> <td>   -0.5776</td> <td>    0.136</td> <td>   -4.246</td> <td> 0.000</td> <td>   -0.844</td> <td>   -0.311</td>\n",
       "</tr>\n",
       "<tr>\n",
       "  <th>ar.L3.returns</th> <td>   -0.0914</td> <td>    0.133</td> <td>   -0.686</td> <td> 0.492</td> <td>   -0.352</td> <td>    0.170</td>\n",
       "</tr>\n",
       "<tr>\n",
       "  <th>ar.L4.returns</th> <td>    0.2618</td> <td>    0.118</td> <td>    2.219</td> <td> 0.027</td> <td>    0.031</td> <td>    0.493</td>\n",
       "</tr>\n",
       "<tr>\n",
       "  <th>ar.L5.returns</th> <td>    0.1584</td> <td>    0.132</td> <td>    1.203</td> <td> 0.229</td> <td>   -0.100</td> <td>    0.417</td>\n",
       "</tr>\n",
       "<tr>\n",
       "  <th>ma.L1.returns</th> <td>    0.0457</td> <td>    0.159</td> <td>    0.287</td> <td> 0.774</td> <td>   -0.266</td> <td>    0.358</td>\n",
       "</tr>\n",
       "<tr>\n",
       "  <th>ma.L2.returns</th> <td>    0.5271</td> <td>    0.135</td> <td>    3.919</td> <td> 0.000</td> <td>    0.263</td> <td>    0.791</td>\n",
       "</tr>\n",
       "<tr>\n",
       "  <th>ma.L3.returns</th> <td>    0.0089</td> <td>    0.128</td> <td>    0.070</td> <td> 0.945</td> <td>   -0.242</td> <td>    0.260</td>\n",
       "</tr>\n",
       "<tr>\n",
       "  <th>ma.L4.returns</th> <td>   -0.2668</td> <td>    0.113</td> <td>   -2.365</td> <td> 0.018</td> <td>   -0.488</td> <td>   -0.046</td>\n",
       "</tr>\n",
       "<tr>\n",
       "  <th>ma.L5.returns</th> <td>   -0.2424</td> <td>    0.128</td> <td>   -1.895</td> <td> 0.058</td> <td>   -0.493</td> <td>    0.008</td>\n",
       "</tr>\n",
       "</table>\n",
       "<table class=\"simpletable\">\n",
       "<caption>Roots</caption>\n",
       "<tr>\n",
       "    <td></td>   <th>            Real</th>  <th>         Imaginary</th> <th>         Modulus</th>  <th>        Frequency</th>\n",
       "</tr>\n",
       "<tr>\n",
       "  <th>AR.1</th> <td>           0.0877</td> <td>          -1.0349j</td> <td>           1.0386</td> <td>          -0.2365</td>\n",
       "</tr>\n",
       "<tr>\n",
       "  <th>AR.2</th> <td>           0.0877</td> <td>          +1.0349j</td> <td>           1.0386</td> <td>           0.2365</td>\n",
       "</tr>\n",
       "<tr>\n",
       "  <th>AR.3</th> <td>           1.5331</td> <td>          -0.0000j</td> <td>           1.5331</td> <td>          -0.0000</td>\n",
       "</tr>\n",
       "<tr>\n",
       "  <th>AR.4</th> <td>          -1.6806</td> <td>          -0.9967j</td> <td>           1.9539</td> <td>          -0.4148</td>\n",
       "</tr>\n",
       "<tr>\n",
       "  <th>AR.5</th> <td>          -1.6806</td> <td>          +0.9967j</td> <td>           1.9539</td> <td>           0.4148</td>\n",
       "</tr>\n",
       "<tr>\n",
       "  <th>MA.1</th> <td>           1.3635</td> <td>          -0.0000j</td> <td>           1.3635</td> <td>          -0.0000</td>\n",
       "</tr>\n",
       "<tr>\n",
       "  <th>MA.2</th> <td>           0.1007</td> <td>          -1.0408j</td> <td>           1.0456</td> <td>          -0.2346</td>\n",
       "</tr>\n",
       "<tr>\n",
       "  <th>MA.3</th> <td>           0.1007</td> <td>          +1.0408j</td> <td>           1.0456</td> <td>           0.2346</td>\n",
       "</tr>\n",
       "<tr>\n",
       "  <th>MA.4</th> <td>          -1.3330</td> <td>          -0.9953j</td> <td>           1.6636</td> <td>          -0.3979</td>\n",
       "</tr>\n",
       "<tr>\n",
       "  <th>MA.5</th> <td>          -1.3330</td> <td>          +0.9953j</td> <td>           1.6636</td> <td>           0.3979</td>\n",
       "</tr>\n",
       "</table>"
      ],
      "text/plain": [
       "<class 'statsmodels.iolib.summary.Summary'>\n",
       "\"\"\"\n",
       "                              ARMA Model Results                              \n",
       "==============================================================================\n",
       "Dep. Variable:                returns   No. Observations:                 6274\n",
       "Model:                     ARMA(5, 5)   Log Likelihood               -9551.912\n",
       "Method:                       css-mle   S.D. of innovations              1.109\n",
       "Date:                Tue, 01 Feb 2022   AIC                          19127.825\n",
       "Time:                        12:26:05   BIC                          19208.755\n",
       "Sample:                    01-12-1994   HQIC                         19155.866\n",
       "                         - 01-29-2018                                         \n",
       "=================================================================================\n",
       "                    coef    std err          z      P>|z|      [0.025      0.975]\n",
       "---------------------------------------------------------------------------------\n",
       "const             0.0192      0.011      1.676      0.094      -0.003       0.042\n",
       "ar.L1.returns    -0.0656      0.161     -0.407      0.684      -0.381       0.250\n",
       "ar.L2.returns    -0.5776      0.136     -4.246      0.000      -0.844      -0.311\n",
       "ar.L3.returns    -0.0914      0.133     -0.686      0.492      -0.352       0.170\n",
       "ar.L4.returns     0.2618      0.118      2.219      0.027       0.031       0.493\n",
       "ar.L5.returns     0.1584      0.132      1.203      0.229      -0.100       0.417\n",
       "ma.L1.returns     0.0457      0.159      0.287      0.774      -0.266       0.358\n",
       "ma.L2.returns     0.5271      0.135      3.919      0.000       0.263       0.791\n",
       "ma.L3.returns     0.0089      0.128      0.070      0.945      -0.242       0.260\n",
       "ma.L4.returns    -0.2668      0.113     -2.365      0.018      -0.488      -0.046\n",
       "ma.L5.returns    -0.2424      0.128     -1.895      0.058      -0.493       0.008\n",
       "                                    Roots                                    \n",
       "=============================================================================\n",
       "                  Real          Imaginary           Modulus         Frequency\n",
       "-----------------------------------------------------------------------------\n",
       "AR.1            0.0877           -1.0349j            1.0386           -0.2365\n",
       "AR.2            0.0877           +1.0349j            1.0386            0.2365\n",
       "AR.3            1.5331           -0.0000j            1.5331           -0.0000\n",
       "AR.4           -1.6806           -0.9967j            1.9539           -0.4148\n",
       "AR.5           -1.6806           +0.9967j            1.9539            0.4148\n",
       "MA.1            1.3635           -0.0000j            1.3635           -0.0000\n",
       "MA.2            0.1007           -1.0408j            1.0456           -0.2346\n",
       "MA.3            0.1007           +1.0408j            1.0456            0.2346\n",
       "MA.4           -1.3330           -0.9953j            1.6636           -0.3979\n",
       "MA.5           -1.3330           +0.9953j            1.6636            0.3979\n",
       "-----------------------------------------------------------------------------\n",
       "\"\"\""
      ]
     },
     "execution_count": 69,
     "metadata": {},
     "output_type": "execute_result"
    }
   ],
   "source": [
    "model_ret_ar5_ma5=ARMA(df.returns[1:],order=(5,5))\n",
    "result_ret_ar5_ma5=model_ret_ar5_ma5.fit(start_ar_lags=7)\n",
    "result_ret_ar5_ma5.summary()"
   ]
  },
  {
   "cell_type": "code",
   "execution_count": 70,
   "id": "4f84fb9a",
   "metadata": {},
   "outputs": [
    {
     "data": {
      "text/html": [
       "<table class=\"simpletable\">\n",
       "<caption>ARMA Model Results</caption>\n",
       "<tr>\n",
       "  <th>Dep. Variable:</th>      <td>returns</td>     <th>  No. Observations:  </th>   <td>6274</td>   \n",
       "</tr>\n",
       "<tr>\n",
       "  <th>Model:</th>            <td>ARMA(1, 5)</td>    <th>  Log Likelihood     </th> <td>-9559.707</td>\n",
       "</tr>\n",
       "<tr>\n",
       "  <th>Method:</th>             <td>css-mle</td>     <th>  S.D. of innovations</th>   <td>1.110</td>  \n",
       "</tr>\n",
       "<tr>\n",
       "  <th>Date:</th>          <td>Tue, 01 Feb 2022</td> <th>  AIC                </th> <td>19135.414</td>\n",
       "</tr>\n",
       "<tr>\n",
       "  <th>Time:</th>              <td>12:26:09</td>     <th>  BIC                </th> <td>19189.367</td>\n",
       "</tr>\n",
       "<tr>\n",
       "  <th>Sample:</th>           <td>01-12-1994</td>    <th>  HQIC               </th> <td>19154.108</td>\n",
       "</tr>\n",
       "<tr>\n",
       "  <th></th>                 <td>- 01-29-2018</td>   <th>                     </th>     <td> </td>    \n",
       "</tr>\n",
       "</table>\n",
       "<table class=\"simpletable\">\n",
       "<tr>\n",
       "        <td></td>           <th>coef</th>     <th>std err</th>      <th>z</th>      <th>P>|z|</th>  <th>[0.025</th>    <th>0.975]</th>  \n",
       "</tr>\n",
       "<tr>\n",
       "  <th>const</th>         <td>    0.0192</td> <td>    0.011</td> <td>    1.670</td> <td> 0.095</td> <td>   -0.003</td> <td>    0.042</td>\n",
       "</tr>\n",
       "<tr>\n",
       "  <th>ar.L1.returns</th> <td>    0.2976</td> <td>    0.153</td> <td>    1.946</td> <td> 0.052</td> <td>   -0.002</td> <td>    0.597</td>\n",
       "</tr>\n",
       "<tr>\n",
       "  <th>ma.L1.returns</th> <td>   -0.3178</td> <td>    0.153</td> <td>   -2.084</td> <td> 0.037</td> <td>   -0.617</td> <td>   -0.019</td>\n",
       "</tr>\n",
       "<tr>\n",
       "  <th>ma.L2.returns</th> <td>   -0.0436</td> <td>    0.014</td> <td>   -3.212</td> <td> 0.001</td> <td>   -0.070</td> <td>   -0.017</td>\n",
       "</tr>\n",
       "<tr>\n",
       "  <th>ma.L3.returns</th> <td>   -0.0523</td> <td>    0.015</td> <td>   -3.407</td> <td> 0.001</td> <td>   -0.082</td> <td>   -0.022</td>\n",
       "</tr>\n",
       "<tr>\n",
       "  <th>ma.L4.returns</th> <td>    0.0500</td> <td>    0.017</td> <td>    2.991</td> <td> 0.003</td> <td>    0.017</td> <td>    0.083</td>\n",
       "</tr>\n",
       "<tr>\n",
       "  <th>ma.L5.returns</th> <td>   -0.0617</td> <td>    0.013</td> <td>   -4.775</td> <td> 0.000</td> <td>   -0.087</td> <td>   -0.036</td>\n",
       "</tr>\n",
       "</table>\n",
       "<table class=\"simpletable\">\n",
       "<caption>Roots</caption>\n",
       "<tr>\n",
       "    <td></td>   <th>            Real</th>  <th>         Imaginary</th> <th>         Modulus</th>  <th>        Frequency</th>\n",
       "</tr>\n",
       "<tr>\n",
       "  <th>AR.1</th> <td>           3.3600</td> <td>          +0.0000j</td> <td>           3.3600</td> <td>           0.0000</td>\n",
       "</tr>\n",
       "<tr>\n",
       "  <th>MA.1</th> <td>          -1.2682</td> <td>          -1.1715j</td> <td>           1.7265</td> <td>          -0.3813</td>\n",
       "</tr>\n",
       "<tr>\n",
       "  <th>MA.2</th> <td>          -1.2682</td> <td>          +1.1715j</td> <td>           1.7265</td> <td>           0.3813</td>\n",
       "</tr>\n",
       "<tr>\n",
       "  <th>MA.3</th> <td>           1.5193</td> <td>          -0.0000j</td> <td>           1.5193</td> <td>          -0.0000</td>\n",
       "</tr>\n",
       "<tr>\n",
       "  <th>MA.4</th> <td>           0.9137</td> <td>          -1.6566j</td> <td>           1.8919</td> <td>          -0.1698</td>\n",
       "</tr>\n",
       "<tr>\n",
       "  <th>MA.5</th> <td>           0.9137</td> <td>          +1.6566j</td> <td>           1.8919</td> <td>           0.1698</td>\n",
       "</tr>\n",
       "</table>"
      ],
      "text/plain": [
       "<class 'statsmodels.iolib.summary.Summary'>\n",
       "\"\"\"\n",
       "                              ARMA Model Results                              \n",
       "==============================================================================\n",
       "Dep. Variable:                returns   No. Observations:                 6274\n",
       "Model:                     ARMA(1, 5)   Log Likelihood               -9559.707\n",
       "Method:                       css-mle   S.D. of innovations              1.110\n",
       "Date:                Tue, 01 Feb 2022   AIC                          19135.414\n",
       "Time:                        12:26:09   BIC                          19189.367\n",
       "Sample:                    01-12-1994   HQIC                         19154.108\n",
       "                         - 01-29-2018                                         \n",
       "=================================================================================\n",
       "                    coef    std err          z      P>|z|      [0.025      0.975]\n",
       "---------------------------------------------------------------------------------\n",
       "const             0.0192      0.011      1.670      0.095      -0.003       0.042\n",
       "ar.L1.returns     0.2976      0.153      1.946      0.052      -0.002       0.597\n",
       "ma.L1.returns    -0.3178      0.153     -2.084      0.037      -0.617      -0.019\n",
       "ma.L2.returns    -0.0436      0.014     -3.212      0.001      -0.070      -0.017\n",
       "ma.L3.returns    -0.0523      0.015     -3.407      0.001      -0.082      -0.022\n",
       "ma.L4.returns     0.0500      0.017      2.991      0.003       0.017       0.083\n",
       "ma.L5.returns    -0.0617      0.013     -4.775      0.000      -0.087      -0.036\n",
       "                                    Roots                                    \n",
       "=============================================================================\n",
       "                  Real          Imaginary           Modulus         Frequency\n",
       "-----------------------------------------------------------------------------\n",
       "AR.1            3.3600           +0.0000j            3.3600            0.0000\n",
       "MA.1           -1.2682           -1.1715j            1.7265           -0.3813\n",
       "MA.2           -1.2682           +1.1715j            1.7265            0.3813\n",
       "MA.3            1.5193           -0.0000j            1.5193           -0.0000\n",
       "MA.4            0.9137           -1.6566j            1.8919           -0.1698\n",
       "MA.5            0.9137           +1.6566j            1.8919            0.1698\n",
       "-----------------------------------------------------------------------------\n",
       "\"\"\""
      ]
     },
     "execution_count": 70,
     "metadata": {},
     "output_type": "execute_result"
    }
   ],
   "source": [
    "##ARMA(1,5)\n",
    "model_ret_ar1_ma5=ARMA(df.returns[1:],order=(1,5))\n",
    "result_ret_ar1_ma5=model_ret_ar1_ma5.fit()\n",
    "result_ret_ar1_ma5.summary()"
   ]
  },
  {
   "cell_type": "code",
   "execution_count": 71,
   "id": "887e83c0",
   "metadata": {},
   "outputs": [
    {
     "data": {
      "text/html": [
       "<table class=\"simpletable\">\n",
       "<caption>ARMA Model Results</caption>\n",
       "<tr>\n",
       "  <th>Dep. Variable:</th>      <td>returns</td>     <th>  No. Observations:  </th>   <td>6274</td>   \n",
       "</tr>\n",
       "<tr>\n",
       "  <th>Model:</th>            <td>ARMA(5, 1)</td>    <th>  Log Likelihood     </th> <td>-9558.543</td>\n",
       "</tr>\n",
       "<tr>\n",
       "  <th>Method:</th>             <td>css-mle</td>     <th>  S.D. of innovations</th>   <td>1.110</td>  \n",
       "</tr>\n",
       "<tr>\n",
       "  <th>Date:</th>          <td>Tue, 01 Feb 2022</td> <th>  AIC                </th> <td>19133.086</td>\n",
       "</tr>\n",
       "<tr>\n",
       "  <th>Time:</th>              <td>12:26:11</td>     <th>  BIC                </th> <td>19187.039</td>\n",
       "</tr>\n",
       "<tr>\n",
       "  <th>Sample:</th>           <td>01-12-1994</td>    <th>  HQIC               </th> <td>19151.780</td>\n",
       "</tr>\n",
       "<tr>\n",
       "  <th></th>                 <td>- 01-29-2018</td>   <th>                     </th>     <td> </td>    \n",
       "</tr>\n",
       "</table>\n",
       "<table class=\"simpletable\">\n",
       "<tr>\n",
       "        <td></td>           <th>coef</th>     <th>std err</th>      <th>z</th>      <th>P>|z|</th>  <th>[0.025</th>    <th>0.975]</th>  \n",
       "</tr>\n",
       "<tr>\n",
       "  <th>const</th>         <td>    0.0192</td> <td>    0.012</td> <td>    1.650</td> <td> 0.099</td> <td>   -0.004</td> <td>    0.042</td>\n",
       "</tr>\n",
       "<tr>\n",
       "  <th>ar.L1.returns</th> <td>    0.3173</td> <td>    0.136</td> <td>    2.333</td> <td> 0.020</td> <td>    0.051</td> <td>    0.584</td>\n",
       "</tr>\n",
       "<tr>\n",
       "  <th>ar.L2.returns</th> <td>   -0.0465</td> <td>    0.014</td> <td>   -3.446</td> <td> 0.001</td> <td>   -0.073</td> <td>   -0.020</td>\n",
       "</tr>\n",
       "<tr>\n",
       "  <th>ar.L3.returns</th> <td>   -0.0515</td> <td>    0.015</td> <td>   -3.467</td> <td> 0.001</td> <td>   -0.081</td> <td>   -0.022</td>\n",
       "</tr>\n",
       "<tr>\n",
       "  <th>ar.L4.returns</th> <td>    0.0499</td> <td>    0.016</td> <td>    3.136</td> <td> 0.002</td> <td>    0.019</td> <td>    0.081</td>\n",
       "</tr>\n",
       "<tr>\n",
       "  <th>ar.L5.returns</th> <td>   -0.0702</td> <td>    0.013</td> <td>   -5.564</td> <td> 0.000</td> <td>   -0.095</td> <td>   -0.045</td>\n",
       "</tr>\n",
       "<tr>\n",
       "  <th>ma.L1.returns</th> <td>   -0.3365</td> <td>    0.136</td> <td>   -2.474</td> <td> 0.013</td> <td>   -0.603</td> <td>   -0.070</td>\n",
       "</tr>\n",
       "</table>\n",
       "<table class=\"simpletable\">\n",
       "<caption>Roots</caption>\n",
       "<tr>\n",
       "    <td></td>   <th>            Real</th>  <th>         Imaginary</th> <th>         Modulus</th>  <th>        Frequency</th>\n",
       "</tr>\n",
       "<tr>\n",
       "  <th>AR.1</th> <td>          -1.7019</td> <td>          -0.0000j</td> <td>           1.7019</td> <td>          -0.5000</td>\n",
       "</tr>\n",
       "<tr>\n",
       "  <th>AR.2</th> <td>           1.3797</td> <td>          -0.8990j</td> <td>           1.6468</td> <td>          -0.0919</td>\n",
       "</tr>\n",
       "<tr>\n",
       "  <th>AR.3</th> <td>           1.3797</td> <td>          +0.8990j</td> <td>           1.6468</td> <td>           0.0919</td>\n",
       "</tr>\n",
       "<tr>\n",
       "  <th>AR.4</th> <td>          -0.1738</td> <td>          -1.7479j</td> <td>           1.7565</td> <td>          -0.2658</td>\n",
       "</tr>\n",
       "<tr>\n",
       "  <th>AR.5</th> <td>          -0.1738</td> <td>          +1.7479j</td> <td>           1.7565</td> <td>           0.2658</td>\n",
       "</tr>\n",
       "<tr>\n",
       "  <th>MA.1</th> <td>           2.9714</td> <td>          +0.0000j</td> <td>           2.9714</td> <td>           0.0000</td>\n",
       "</tr>\n",
       "</table>"
      ],
      "text/plain": [
       "<class 'statsmodels.iolib.summary.Summary'>\n",
       "\"\"\"\n",
       "                              ARMA Model Results                              \n",
       "==============================================================================\n",
       "Dep. Variable:                returns   No. Observations:                 6274\n",
       "Model:                     ARMA(5, 1)   Log Likelihood               -9558.543\n",
       "Method:                       css-mle   S.D. of innovations              1.110\n",
       "Date:                Tue, 01 Feb 2022   AIC                          19133.086\n",
       "Time:                        12:26:11   BIC                          19187.039\n",
       "Sample:                    01-12-1994   HQIC                         19151.780\n",
       "                         - 01-29-2018                                         \n",
       "=================================================================================\n",
       "                    coef    std err          z      P>|z|      [0.025      0.975]\n",
       "---------------------------------------------------------------------------------\n",
       "const             0.0192      0.012      1.650      0.099      -0.004       0.042\n",
       "ar.L1.returns     0.3173      0.136      2.333      0.020       0.051       0.584\n",
       "ar.L2.returns    -0.0465      0.014     -3.446      0.001      -0.073      -0.020\n",
       "ar.L3.returns    -0.0515      0.015     -3.467      0.001      -0.081      -0.022\n",
       "ar.L4.returns     0.0499      0.016      3.136      0.002       0.019       0.081\n",
       "ar.L5.returns    -0.0702      0.013     -5.564      0.000      -0.095      -0.045\n",
       "ma.L1.returns    -0.3365      0.136     -2.474      0.013      -0.603      -0.070\n",
       "                                    Roots                                    \n",
       "=============================================================================\n",
       "                  Real          Imaginary           Modulus         Frequency\n",
       "-----------------------------------------------------------------------------\n",
       "AR.1           -1.7019           -0.0000j            1.7019           -0.5000\n",
       "AR.2            1.3797           -0.8990j            1.6468           -0.0919\n",
       "AR.3            1.3797           +0.8990j            1.6468            0.0919\n",
       "AR.4           -0.1738           -1.7479j            1.7565           -0.2658\n",
       "AR.5           -0.1738           +1.7479j            1.7565            0.2658\n",
       "MA.1            2.9714           +0.0000j            2.9714            0.0000\n",
       "-----------------------------------------------------------------------------\n",
       "\"\"\""
      ]
     },
     "execution_count": 71,
     "metadata": {},
     "output_type": "execute_result"
    }
   ],
   "source": [
    "##ARMA(5,1)\n",
    "model_ret_ar5_ma1=ARMA(df.returns[1:],order=(5,1))\n",
    "result_ret_ar5_ma1=model_ret_ar5_ma1.fit()\n",
    "result_ret_ar5_ma1.summary()"
   ]
  },
  {
   "cell_type": "code",
   "execution_count": 72,
   "id": "9cb3121c",
   "metadata": {},
   "outputs": [],
   "source": [
    "## arma(5,1) and arma(1,5) both have same dof  so llr cant be deployed but by manualyy comparing ll value of both we cansay that arma(5,1) is better suited "
   ]
  },
  {
   "cell_type": "code",
   "execution_count": 73,
   "id": "0c7c299e",
   "metadata": {},
   "outputs": [],
   "source": [
    "## now comparing arma(3,2) and arma(5,1) as the final model by comparing the ll values "
   ]
  },
  {
   "cell_type": "code",
   "execution_count": 74,
   "id": "6a38dfff",
   "metadata": {},
   "outputs": [
    {
     "name": "stdout",
     "output_type": "stream",
     "text": [
      "ll value of arma(5,1) -9558.543008126346\n",
      "ll value of arma(3,2) -9568.83897967671\n"
     ]
    }
   ],
   "source": [
    "print('ll value of arma(5,1)',result_ret_ar5_ma1.llf)\n",
    "print('ll value of arma(3,2)',result_ret_ar3_ma2.llf)"
   ]
  },
  {
   "cell_type": "code",
   "execution_count": 75,
   "id": "a0d3b393",
   "metadata": {},
   "outputs": [],
   "source": [
    "## so we take higher log likelihood value model i.e. arma(5,1) model"
   ]
  },
  {
   "cell_type": "markdown",
   "id": "8567972c",
   "metadata": {},
   "source": [
    "## Residuals for new model"
   ]
  },
  {
   "cell_type": "code",
   "execution_count": 76,
   "id": "8bc30b0b",
   "metadata": {},
   "outputs": [],
   "source": [
    "df['res_ret_ar5_ma1']=result_ret_ar5_ma1.resid"
   ]
  },
  {
   "cell_type": "code",
   "execution_count": 77,
   "id": "dc3e1e9c",
   "metadata": {},
   "outputs": [
    {
     "data": {
      "image/png": "[encoded data removed]",
      "text/plain": [
       "<Figure size 432x288 with 1 Axes>"
      ]
     },
     "metadata": {
      "needs_background": "light"
     },
     "output_type": "display_data"
    }
   ],
   "source": [
    "sgt.plot_acf(df.res_ret_ar5_ma1[1:],zero=False,lags=40)\n",
    "plt.title('acf of residual for new model')\n",
    "plt.show()"
   ]
  },
  {
   "cell_type": "markdown",
   "id": "d9049cbe",
   "metadata": {},
   "source": [
    "## ARMA model for prices"
   ]
  },
  {
   "cell_type": "code",
   "execution_count": 78,
   "id": "b9be6ca2",
   "metadata": {},
   "outputs": [
    {
     "data": {
      "image/png": "[encoded data removed]",
      "text/plain": [
       "<Figure size 432x288 with 1 Axes>"
      ]
     },
     "metadata": {
      "needs_background": "light"
     },
     "output_type": "display_data"
    }
   ],
   "source": [
    "sgt.plot_acf(df.market_value,unbiased=True,zero=False,lags=40)\n",
    "plt.title('acf for non stationary data')\n",
    "plt.show()"
   ]
  },
  {
   "cell_type": "code",
   "execution_count": 79,
   "id": "ff5cbb89",
   "metadata": {},
   "outputs": [
    {
     "data": {
      "image/png": "[encoded data removed]",
      "text/plain": [
       "<Figure size 432x288 with 1 Axes>"
      ]
     },
     "metadata": {
      "needs_background": "light"
     },
     "output_type": "display_data"
    }
   ],
   "source": [
    "sgt.plot_pacf(df.market_value,lags=40,alpha=.05,zero=False,method=('ols'))\n",
    "plt.title('pacf for non stationary data')\n",
    "plt.show()"
   ]
  },
  {
   "cell_type": "code",
   "execution_count": 80,
   "id": "f6823532",
   "metadata": {},
   "outputs": [
    {
     "data": {
      "text/html": [
       "<table class=\"simpletable\">\n",
       "<caption>ARMA Model Results</caption>\n",
       "<tr>\n",
       "  <th>Dep. Variable:</th>   <td>market_value</td>   <th>  No. Observations:  </th>    <td>6275</td>   \n",
       "</tr>\n",
       "<tr>\n",
       "  <th>Model:</th>            <td>ARMA(1, 1)</td>    <th>  Log Likelihood     </th> <td>-34427.666</td>\n",
       "</tr>\n",
       "<tr>\n",
       "  <th>Method:</th>             <td>css-mle</td>     <th>  S.D. of innovations</th>   <td>58.384</td>  \n",
       "</tr>\n",
       "<tr>\n",
       "  <th>Date:</th>          <td>Tue, 01 Feb 2022</td> <th>  AIC                </th>  <td>68863.332</td>\n",
       "</tr>\n",
       "<tr>\n",
       "  <th>Time:</th>              <td>12:26:12</td>     <th>  BIC                </th>  <td>68890.309</td>\n",
       "</tr>\n",
       "<tr>\n",
       "  <th>Sample:</th>           <td>01-11-1994</td>    <th>  HQIC               </th>  <td>68872.679</td>\n",
       "</tr>\n",
       "<tr>\n",
       "  <th></th>                 <td>- 01-29-2018</td>   <th>                     </th>      <td> </td>    \n",
       "</tr>\n",
       "</table>\n",
       "<table class=\"simpletable\">\n",
       "<tr>\n",
       "           <td></td>             <th>coef</th>     <th>std err</th>      <th>z</th>      <th>P>|z|</th>  <th>[0.025</th>    <th>0.975]</th>  \n",
       "</tr>\n",
       "<tr>\n",
       "  <th>const</th>              <td> 5424.3216</td> <td>  671.192</td> <td>    8.082</td> <td> 0.000</td> <td> 4108.810</td> <td> 6739.833</td>\n",
       "</tr>\n",
       "<tr>\n",
       "  <th>ar.L1.market_value</th> <td>    0.9991</td> <td>    0.001</td> <td> 1733.153</td> <td> 0.000</td> <td>    0.998</td> <td>    1.000</td>\n",
       "</tr>\n",
       "<tr>\n",
       "  <th>ma.L1.market_value</th> <td>   -0.0093</td> <td>    0.013</td> <td>   -0.696</td> <td> 0.486</td> <td>   -0.035</td> <td>    0.017</td>\n",
       "</tr>\n",
       "</table>\n",
       "<table class=\"simpletable\">\n",
       "<caption>Roots</caption>\n",
       "<tr>\n",
       "    <td></td>   <th>            Real</th>  <th>         Imaginary</th> <th>         Modulus</th>  <th>        Frequency</th>\n",
       "</tr>\n",
       "<tr>\n",
       "  <th>AR.1</th> <td>           1.0009</td> <td>          +0.0000j</td> <td>           1.0009</td> <td>           0.0000</td>\n",
       "</tr>\n",
       "<tr>\n",
       "  <th>MA.1</th> <td>         107.8537</td> <td>          +0.0000j</td> <td>         107.8537</td> <td>           0.0000</td>\n",
       "</tr>\n",
       "</table>"
      ],
      "text/plain": [
       "<class 'statsmodels.iolib.summary.Summary'>\n",
       "\"\"\"\n",
       "                              ARMA Model Results                              \n",
       "==============================================================================\n",
       "Dep. Variable:           market_value   No. Observations:                 6275\n",
       "Model:                     ARMA(1, 1)   Log Likelihood              -34427.666\n",
       "Method:                       css-mle   S.D. of innovations             58.384\n",
       "Date:                Tue, 01 Feb 2022   AIC                          68863.332\n",
       "Time:                        12:26:12   BIC                          68890.309\n",
       "Sample:                    01-11-1994   HQIC                         68872.679\n",
       "                         - 01-29-2018                                         \n",
       "======================================================================================\n",
       "                         coef    std err          z      P>|z|      [0.025      0.975]\n",
       "--------------------------------------------------------------------------------------\n",
       "const               5424.3216    671.192      8.082      0.000    4108.810    6739.833\n",
       "ar.L1.market_value     0.9991      0.001   1733.153      0.000       0.998       1.000\n",
       "ma.L1.market_value    -0.0093      0.013     -0.696      0.486      -0.035       0.017\n",
       "                                    Roots                                    \n",
       "=============================================================================\n",
       "                  Real          Imaginary           Modulus         Frequency\n",
       "-----------------------------------------------------------------------------\n",
       "AR.1            1.0009           +0.0000j            1.0009            0.0000\n",
       "MA.1          107.8537           +0.0000j          107.8537            0.0000\n",
       "-----------------------------------------------------------------------------\n",
       "\"\"\""
      ]
     },
     "execution_count": 80,
     "metadata": {},
     "output_type": "execute_result"
    }
   ],
   "source": [
    "## ARMA(1,1)\n",
    "model_ar1_ma1=ARMA(df.market_value,order=(1,1))\n",
    "results_ar1_ma1=model_ar1_ma1.fit()\n",
    "results_ar1_ma1.summary()"
   ]
  },
  {
   "cell_type": "code",
   "execution_count": 81,
   "id": "bdfddfe8",
   "metadata": {},
   "outputs": [],
   "source": [
    "df['res_ar1_ma1']=results_ar1_ma1.resid"
   ]
  },
  {
   "cell_type": "code",
   "execution_count": 82,
   "id": "2f9a56de",
   "metadata": {},
   "outputs": [
    {
     "data": {
      "image/png": "[encoded data removed]",
      "text/plain": [
       "<Figure size 432x288 with 1 Axes>"
      ]
     },
     "metadata": {
      "needs_background": "light"
     },
     "output_type": "display_data"
    }
   ],
   "source": [
    "sgt.plot_acf(df.res_ar1_ma1,zero=False,lags=40)\n",
    "plt.title('acf for residual arma(1,1)')\n",
    "plt.show()"
   ]
  },
  {
   "cell_type": "code",
   "execution_count": 83,
   "id": "63e2b426",
   "metadata": {},
   "outputs": [],
   "source": [
    "## first 6 lags are significant according to tutor, but in my case first 5 lags are significant so lets take first arma(6,6)"
   ]
  },
  {
   "cell_type": "code",
   "execution_count": 84,
   "id": "bcaa03fb",
   "metadata": {},
   "outputs": [
    {
     "data": {
      "text/html": [
       "<table class=\"simpletable\">\n",
       "<caption>ARMA Model Results</caption>\n",
       "<tr>\n",
       "  <th>Dep. Variable:</th>   <td>market_value</td>   <th>  No. Observations:  </th>    <td>6275</td>   \n",
       "</tr>\n",
       "<tr>\n",
       "  <th>Model:</th>            <td>ARMA(6, 6)</td>    <th>  Log Likelihood     </th> <td>-34402.685</td>\n",
       "</tr>\n",
       "<tr>\n",
       "  <th>Method:</th>             <td>css-mle</td>     <th>  S.D. of innovations</th>   <td>58.152</td>  \n",
       "</tr>\n",
       "<tr>\n",
       "  <th>Date:</th>          <td>Tue, 01 Feb 2022</td> <th>  AIC                </th>  <td>68833.369</td>\n",
       "</tr>\n",
       "<tr>\n",
       "  <th>Time:</th>              <td>12:26:19</td>     <th>  BIC                </th>  <td>68927.790</td>\n",
       "</tr>\n",
       "<tr>\n",
       "  <th>Sample:</th>           <td>01-11-1994</td>    <th>  HQIC               </th>  <td>68866.085</td>\n",
       "</tr>\n",
       "<tr>\n",
       "  <th></th>                 <td>- 01-29-2018</td>   <th>                     </th>      <td> </td>    \n",
       "</tr>\n",
       "</table>\n",
       "<table class=\"simpletable\">\n",
       "<tr>\n",
       "           <td></td>             <th>coef</th>     <th>std err</th>      <th>z</th>      <th>P>|z|</th>  <th>[0.025</th>    <th>0.975]</th>  \n",
       "</tr>\n",
       "<tr>\n",
       "  <th>const</th>              <td> 5424.3989</td> <td>  799.453</td> <td>    6.785</td> <td> 0.000</td> <td> 3857.500</td> <td> 6991.298</td>\n",
       "</tr>\n",
       "<tr>\n",
       "  <th>ar.L1.market_value</th> <td>    2.4203</td> <td>      nan</td> <td>      nan</td> <td>   nan</td> <td>      nan</td> <td>      nan</td>\n",
       "</tr>\n",
       "<tr>\n",
       "  <th>ar.L2.market_value</th> <td>   -2.5396</td> <td>      nan</td> <td>      nan</td> <td>   nan</td> <td>      nan</td> <td>      nan</td>\n",
       "</tr>\n",
       "<tr>\n",
       "  <th>ar.L3.market_value</th> <td>    1.4626</td> <td>    0.002</td> <td>  714.431</td> <td> 0.000</td> <td>    1.459</td> <td>    1.467</td>\n",
       "</tr>\n",
       "<tr>\n",
       "  <th>ar.L4.market_value</th> <td>   -0.3673</td> <td>    0.008</td> <td>  -46.630</td> <td> 0.000</td> <td>   -0.383</td> <td>   -0.352</td>\n",
       "</tr>\n",
       "<tr>\n",
       "  <th>ar.L5.market_value</th> <td>    0.2008</td> <td>    0.025</td> <td>    8.192</td> <td> 0.000</td> <td>    0.153</td> <td>    0.249</td>\n",
       "</tr>\n",
       "<tr>\n",
       "  <th>ar.L6.market_value</th> <td>   -0.1770</td> <td>    0.023</td> <td>   -7.668</td> <td> 0.000</td> <td>   -0.222</td> <td>   -0.132</td>\n",
       "</tr>\n",
       "<tr>\n",
       "  <th>ma.L1.market_value</th> <td>   -1.4333</td> <td>    0.012</td> <td> -117.275</td> <td> 0.000</td> <td>   -1.457</td> <td>   -1.409</td>\n",
       "</tr>\n",
       "<tr>\n",
       "  <th>ma.L2.market_value</th> <td>    1.0878</td> <td>    0.022</td> <td>   49.846</td> <td> 0.000</td> <td>    1.045</td> <td>    1.131</td>\n",
       "</tr>\n",
       "<tr>\n",
       "  <th>ma.L3.market_value</th> <td>   -0.3402</td> <td>    0.026</td> <td>  -13.154</td> <td> 0.000</td> <td>   -0.391</td> <td>   -0.289</td>\n",
       "</tr>\n",
       "<tr>\n",
       "  <th>ma.L4.market_value</th> <td>    0.0626</td> <td>    0.027</td> <td>    2.332</td> <td> 0.020</td> <td>    0.010</td> <td>    0.115</td>\n",
       "</tr>\n",
       "<tr>\n",
       "  <th>ma.L5.market_value</th> <td>   -0.2720</td> <td>    0.032</td> <td>   -8.488</td> <td> 0.000</td> <td>   -0.335</td> <td>   -0.209</td>\n",
       "</tr>\n",
       "<tr>\n",
       "  <th>ma.L6.market_value</th> <td>    0.0573</td> <td>    0.013</td> <td>    4.486</td> <td> 0.000</td> <td>    0.032</td> <td>    0.082</td>\n",
       "</tr>\n",
       "</table>\n",
       "<table class=\"simpletable\">\n",
       "<caption>Roots</caption>\n",
       "<tr>\n",
       "    <td></td>   <th>            Real</th>  <th>         Imaginary</th> <th>         Modulus</th>  <th>        Frequency</th>\n",
       "</tr>\n",
       "<tr>\n",
       "  <th>AR.1</th> <td>           0.5668</td> <td>          -0.8783j</td> <td>           1.0453</td> <td>          -0.1588</td>\n",
       "</tr>\n",
       "<tr>\n",
       "  <th>AR.2</th> <td>           0.5668</td> <td>          +0.8783j</td> <td>           1.0453</td> <td>           0.1588</td>\n",
       "</tr>\n",
       "<tr>\n",
       "  <th>AR.3</th> <td>           1.0006</td> <td>          -0.0000j</td> <td>           1.0006</td> <td>          -0.0000</td>\n",
       "</tr>\n",
       "<tr>\n",
       "  <th>AR.4</th> <td>           1.1557</td> <td>          -0.0000j</td> <td>           1.1557</td> <td>          -0.0000</td>\n",
       "</tr>\n",
       "<tr>\n",
       "  <th>AR.5</th> <td>          -1.0775</td> <td>          -1.8196j</td> <td>           2.1147</td> <td>          -0.3351</td>\n",
       "</tr>\n",
       "<tr>\n",
       "  <th>AR.6</th> <td>          -1.0775</td> <td>          +1.8196j</td> <td>           2.1147</td> <td>           0.3351</td>\n",
       "</tr>\n",
       "<tr>\n",
       "  <th>MA.1</th> <td>           0.5577</td> <td>          -0.8790j</td> <td>           1.0410</td> <td>          -0.1600</td>\n",
       "</tr>\n",
       "<tr>\n",
       "  <th>MA.2</th> <td>           0.5577</td> <td>          +0.8790j</td> <td>           1.0410</td> <td>           0.1600</td>\n",
       "</tr>\n",
       "<tr>\n",
       "  <th>MA.3</th> <td>           1.1292</td> <td>          -0.0000j</td> <td>           1.1292</td> <td>          -0.0000</td>\n",
       "</tr>\n",
       "<tr>\n",
       "  <th>MA.4</th> <td>          -1.0703</td> <td>          -1.3878j</td> <td>           1.7525</td> <td>          -0.3546</td>\n",
       "</tr>\n",
       "<tr>\n",
       "  <th>MA.5</th> <td>          -1.0703</td> <td>          +1.3878j</td> <td>           1.7525</td> <td>           0.3546</td>\n",
       "</tr>\n",
       "<tr>\n",
       "  <th>MA.6</th> <td>           4.6404</td> <td>          -0.0000j</td> <td>           4.6404</td> <td>          -0.0000</td>\n",
       "</tr>\n",
       "</table>"
      ],
      "text/plain": [
       "<class 'statsmodels.iolib.summary.Summary'>\n",
       "\"\"\"\n",
       "                              ARMA Model Results                              \n",
       "==============================================================================\n",
       "Dep. Variable:           market_value   No. Observations:                 6275\n",
       "Model:                     ARMA(6, 6)   Log Likelihood              -34402.685\n",
       "Method:                       css-mle   S.D. of innovations             58.152\n",
       "Date:                Tue, 01 Feb 2022   AIC                          68833.369\n",
       "Time:                        12:26:19   BIC                          68927.790\n",
       "Sample:                    01-11-1994   HQIC                         68866.085\n",
       "                         - 01-29-2018                                         \n",
       "======================================================================================\n",
       "                         coef    std err          z      P>|z|      [0.025      0.975]\n",
       "--------------------------------------------------------------------------------------\n",
       "const               5424.3989    799.453      6.785      0.000    3857.500    6991.298\n",
       "ar.L1.market_value     2.4203        nan        nan        nan         nan         nan\n",
       "ar.L2.market_value    -2.5396        nan        nan        nan         nan         nan\n",
       "ar.L3.market_value     1.4626      0.002    714.431      0.000       1.459       1.467\n",
       "ar.L4.market_value    -0.3673      0.008    -46.630      0.000      -0.383      -0.352\n",
       "ar.L5.market_value     0.2008      0.025      8.192      0.000       0.153       0.249\n",
       "ar.L6.market_value    -0.1770      0.023     -7.668      0.000      -0.222      -0.132\n",
       "ma.L1.market_value    -1.4333      0.012   -117.275      0.000      -1.457      -1.409\n",
       "ma.L2.market_value     1.0878      0.022     49.846      0.000       1.045       1.131\n",
       "ma.L3.market_value    -0.3402      0.026    -13.154      0.000      -0.391      -0.289\n",
       "ma.L4.market_value     0.0626      0.027      2.332      0.020       0.010       0.115\n",
       "ma.L5.market_value    -0.2720      0.032     -8.488      0.000      -0.335      -0.209\n",
       "ma.L6.market_value     0.0573      0.013      4.486      0.000       0.032       0.082\n",
       "                                    Roots                                    \n",
       "=============================================================================\n",
       "                  Real          Imaginary           Modulus         Frequency\n",
       "-----------------------------------------------------------------------------\n",
       "AR.1            0.5668           -0.8783j            1.0453           -0.1588\n",
       "AR.2            0.5668           +0.8783j            1.0453            0.1588\n",
       "AR.3            1.0006           -0.0000j            1.0006           -0.0000\n",
       "AR.4            1.1557           -0.0000j            1.1557           -0.0000\n",
       "AR.5           -1.0775           -1.8196j            2.1147           -0.3351\n",
       "AR.6           -1.0775           +1.8196j            2.1147            0.3351\n",
       "MA.1            0.5577           -0.8790j            1.0410           -0.1600\n",
       "MA.2            0.5577           +0.8790j            1.0410            0.1600\n",
       "MA.3            1.1292           -0.0000j            1.1292           -0.0000\n",
       "MA.4           -1.0703           -1.3878j            1.7525           -0.3546\n",
       "MA.5           -1.0703           +1.3878j            1.7525            0.3546\n",
       "MA.6            4.6404           -0.0000j            4.6404           -0.0000\n",
       "-----------------------------------------------------------------------------\n",
       "\"\"\""
      ]
     },
     "execution_count": 84,
     "metadata": {},
     "output_type": "execute_result"
    }
   ],
   "source": [
    "model_ar6_ma6=ARMA(df.market_value,order=(6,6))\n",
    "results_ar6_ma6=model_ar6_ma6.fit(start_ar_lags=14)\n",
    "results_ar6_ma6.summary()\n"
   ]
  },
  {
   "cell_type": "code",
   "execution_count": 85,
   "id": "1029cf1e",
   "metadata": {},
   "outputs": [
    {
     "data": {
      "text/html": [
       "<table class=\"simpletable\">\n",
       "<caption>ARMA Model Results</caption>\n",
       "<tr>\n",
       "  <th>Dep. Variable:</th>   <td>market_value</td>   <th>  No. Observations:  </th>    <td>6275</td>   \n",
       "</tr>\n",
       "<tr>\n",
       "  <th>Model:</th>            <td>ARMA(5, 6)</td>    <th>  Log Likelihood     </th> <td>-34403.088</td>\n",
       "</tr>\n",
       "<tr>\n",
       "  <th>Method:</th>             <td>css-mle</td>     <th>  S.D. of innovations</th>   <td>58.155</td>  \n",
       "</tr>\n",
       "<tr>\n",
       "  <th>Date:</th>          <td>Tue, 01 Feb 2022</td> <th>  AIC                </th>  <td>68832.175</td>\n",
       "</tr>\n",
       "<tr>\n",
       "  <th>Time:</th>              <td>12:26:27</td>     <th>  BIC                </th>  <td>68919.851</td>\n",
       "</tr>\n",
       "<tr>\n",
       "  <th>Sample:</th>           <td>01-11-1994</td>    <th>  HQIC               </th>  <td>68862.554</td>\n",
       "</tr>\n",
       "<tr>\n",
       "  <th></th>                 <td>- 01-29-2018</td>   <th>                     </th>      <td> </td>    \n",
       "</tr>\n",
       "</table>\n",
       "<table class=\"simpletable\">\n",
       "<tr>\n",
       "           <td></td>             <th>coef</th>     <th>std err</th>      <th>z</th>      <th>P>|z|</th>  <th>[0.025</th>    <th>0.975]</th>  \n",
       "</tr>\n",
       "<tr>\n",
       "  <th>const</th>              <td> 5424.3345</td> <td>  797.641</td> <td>    6.800</td> <td> 0.000</td> <td> 3860.988</td> <td> 6987.681</td>\n",
       "</tr>\n",
       "<tr>\n",
       "  <th>ar.L1.market_value</th> <td>    0.7220</td> <td>    0.186</td> <td>    3.878</td> <td> 0.000</td> <td>    0.357</td> <td>    1.087</td>\n",
       "</tr>\n",
       "<tr>\n",
       "  <th>ar.L2.market_value</th> <td>    0.3966</td> <td>    0.284</td> <td>    1.398</td> <td> 0.162</td> <td>   -0.159</td> <td>    0.952</td>\n",
       "</tr>\n",
       "<tr>\n",
       "  <th>ar.L3.market_value</th> <td>   -0.7715</td> <td>    0.206</td> <td>   -3.743</td> <td> 0.000</td> <td>   -1.176</td> <td>   -0.367</td>\n",
       "</tr>\n",
       "<tr>\n",
       "  <th>ar.L4.market_value</th> <td>    0.4153</td> <td>    0.228</td> <td>    1.825</td> <td> 0.068</td> <td>   -0.031</td> <td>    0.861</td>\n",
       "</tr>\n",
       "<tr>\n",
       "  <th>ar.L5.market_value</th> <td>    0.2363</td> <td>    0.162</td> <td>    1.458</td> <td> 0.145</td> <td>   -0.081</td> <td>    0.554</td>\n",
       "</tr>\n",
       "<tr>\n",
       "  <th>ma.L1.market_value</th> <td>    0.2655</td> <td>    0.186</td> <td>    1.428</td> <td> 0.153</td> <td>   -0.099</td> <td>    0.630</td>\n",
       "</tr>\n",
       "<tr>\n",
       "  <th>ma.L2.market_value</th> <td>   -0.1728</td> <td>    0.167</td> <td>   -1.037</td> <td> 0.300</td> <td>   -0.499</td> <td>    0.154</td>\n",
       "</tr>\n",
       "<tr>\n",
       "  <th>ma.L3.market_value</th> <td>    0.5856</td> <td>    0.202</td> <td>    2.895</td> <td> 0.004</td> <td>    0.189</td> <td>    0.982</td>\n",
       "</tr>\n",
       "<tr>\n",
       "  <th>ma.L4.market_value</th> <td>    0.2316</td> <td>    0.162</td> <td>    1.429</td> <td> 0.153</td> <td>   -0.086</td> <td>    0.549</td>\n",
       "</tr>\n",
       "<tr>\n",
       "  <th>ma.L5.market_value</th> <td>   -0.0565</td> <td>    0.016</td> <td>   -3.611</td> <td> 0.000</td> <td>   -0.087</td> <td>   -0.026</td>\n",
       "</tr>\n",
       "<tr>\n",
       "  <th>ma.L6.market_value</th> <td>   -0.0778</td> <td>    0.016</td> <td>   -4.957</td> <td> 0.000</td> <td>   -0.109</td> <td>   -0.047</td>\n",
       "</tr>\n",
       "</table>\n",
       "<table class=\"simpletable\">\n",
       "<caption>Roots</caption>\n",
       "<tr>\n",
       "    <td></td>   <th>            Real</th>  <th>         Imaginary</th> <th>         Modulus</th>  <th>        Frequency</th>\n",
       "</tr>\n",
       "<tr>\n",
       "  <th>AR.1</th> <td>           1.0007</td> <td>          -0.0000j</td> <td>           1.0007</td> <td>          -0.0000</td>\n",
       "</tr>\n",
       "<tr>\n",
       "  <th>AR.2</th> <td>           0.6287</td> <td>          -0.9544j</td> <td>           1.1428</td> <td>          -0.1573</td>\n",
       "</tr>\n",
       "<tr>\n",
       "  <th>AR.3</th> <td>           0.6287</td> <td>          +0.9544j</td> <td>           1.1428</td> <td>           0.1573</td>\n",
       "</tr>\n",
       "<tr>\n",
       "  <th>AR.4</th> <td>          -1.1172</td> <td>          -0.0000j</td> <td>           1.1172</td> <td>          -0.5000</td>\n",
       "</tr>\n",
       "<tr>\n",
       "  <th>AR.5</th> <td>          -2.8986</td> <td>          -0.0000j</td> <td>           2.8986</td> <td>          -0.5000</td>\n",
       "</tr>\n",
       "<tr>\n",
       "  <th>MA.1</th> <td>           0.6017</td> <td>          -0.9524j</td> <td>           1.1266</td> <td>          -0.1603</td>\n",
       "</tr>\n",
       "<tr>\n",
       "  <th>MA.2</th> <td>           0.6017</td> <td>          +0.9524j</td> <td>           1.1266</td> <td>           0.1603</td>\n",
       "</tr>\n",
       "<tr>\n",
       "  <th>MA.3</th> <td>          -1.1062</td> <td>          -0.0000j</td> <td>           1.1062</td> <td>          -0.5000</td>\n",
       "</tr>\n",
       "<tr>\n",
       "  <th>MA.4</th> <td>           2.2483</td> <td>          -0.0000j</td> <td>           2.2483</td> <td>          -0.0000</td>\n",
       "</tr>\n",
       "<tr>\n",
       "  <th>MA.5</th> <td>          -1.5356</td> <td>          -1.3087j</td> <td>           2.0176</td> <td>          -0.3877</td>\n",
       "</tr>\n",
       "<tr>\n",
       "  <th>MA.6</th> <td>          -1.5356</td> <td>          +1.3087j</td> <td>           2.0176</td> <td>           0.3877</td>\n",
       "</tr>\n",
       "</table>"
      ],
      "text/plain": [
       "<class 'statsmodels.iolib.summary.Summary'>\n",
       "\"\"\"\n",
       "                              ARMA Model Results                              \n",
       "==============================================================================\n",
       "Dep. Variable:           market_value   No. Observations:                 6275\n",
       "Model:                     ARMA(5, 6)   Log Likelihood              -34403.088\n",
       "Method:                       css-mle   S.D. of innovations             58.155\n",
       "Date:                Tue, 01 Feb 2022   AIC                          68832.175\n",
       "Time:                        12:26:27   BIC                          68919.851\n",
       "Sample:                    01-11-1994   HQIC                         68862.554\n",
       "                         - 01-29-2018                                         \n",
       "======================================================================================\n",
       "                         coef    std err          z      P>|z|      [0.025      0.975]\n",
       "--------------------------------------------------------------------------------------\n",
       "const               5424.3345    797.641      6.800      0.000    3860.988    6987.681\n",
       "ar.L1.market_value     0.7220      0.186      3.878      0.000       0.357       1.087\n",
       "ar.L2.market_value     0.3966      0.284      1.398      0.162      -0.159       0.952\n",
       "ar.L3.market_value    -0.7715      0.206     -3.743      0.000      -1.176      -0.367\n",
       "ar.L4.market_value     0.4153      0.228      1.825      0.068      -0.031       0.861\n",
       "ar.L5.market_value     0.2363      0.162      1.458      0.145      -0.081       0.554\n",
       "ma.L1.market_value     0.2655      0.186      1.428      0.153      -0.099       0.630\n",
       "ma.L2.market_value    -0.1728      0.167     -1.037      0.300      -0.499       0.154\n",
       "ma.L3.market_value     0.5856      0.202      2.895      0.004       0.189       0.982\n",
       "ma.L4.market_value     0.2316      0.162      1.429      0.153      -0.086       0.549\n",
       "ma.L5.market_value    -0.0565      0.016     -3.611      0.000      -0.087      -0.026\n",
       "ma.L6.market_value    -0.0778      0.016     -4.957      0.000      -0.109      -0.047\n",
       "                                    Roots                                    \n",
       "=============================================================================\n",
       "                  Real          Imaginary           Modulus         Frequency\n",
       "-----------------------------------------------------------------------------\n",
       "AR.1            1.0007           -0.0000j            1.0007           -0.0000\n",
       "AR.2            0.6287           -0.9544j            1.1428           -0.1573\n",
       "AR.3            0.6287           +0.9544j            1.1428            0.1573\n",
       "AR.4           -1.1172           -0.0000j            1.1172           -0.5000\n",
       "AR.5           -2.8986           -0.0000j            2.8986           -0.5000\n",
       "MA.1            0.6017           -0.9524j            1.1266           -0.1603\n",
       "MA.2            0.6017           +0.9524j            1.1266            0.1603\n",
       "MA.3           -1.1062           -0.0000j            1.1062           -0.5000\n",
       "MA.4            2.2483           -0.0000j            2.2483           -0.0000\n",
       "MA.5           -1.5356           -1.3087j            2.0176           -0.3877\n",
       "MA.6           -1.5356           +1.3087j            2.0176            0.3877\n",
       "-----------------------------------------------------------------------------\n",
       "\"\"\""
      ]
     },
     "execution_count": 85,
     "metadata": {},
     "output_type": "execute_result"
    }
   ],
   "source": [
    "model_ar5_ma6=ARMA(df.market_value,order=(5,6))\n",
    "results_ar5_ma6=model_ar5_ma6.fit(start_ar_lags=9)\n",
    "results_ar5_ma6.summary()\n"
   ]
  },
  {
   "cell_type": "code",
   "execution_count": 86,
   "id": "3eb9383f",
   "metadata": {},
   "outputs": [
    {
     "data": {
      "text/html": [
       "<table class=\"simpletable\">\n",
       "<caption>ARMA Model Results</caption>\n",
       "<tr>\n",
       "  <th>Dep. Variable:</th>   <td>market_value</td>   <th>  No. Observations:  </th>    <td>6275</td>   \n",
       "</tr>\n",
       "<tr>\n",
       "  <th>Model:</th>            <td>ARMA(6, 1)</td>    <th>  Log Likelihood     </th> <td>-34405.191</td>\n",
       "</tr>\n",
       "<tr>\n",
       "  <th>Method:</th>             <td>css-mle</td>     <th>  S.D. of innovations</th>   <td>58.175</td>  \n",
       "</tr>\n",
       "<tr>\n",
       "  <th>Date:</th>          <td>Tue, 01 Feb 2022</td> <th>  AIC                </th>  <td>68828.383</td>\n",
       "</tr>\n",
       "<tr>\n",
       "  <th>Time:</th>              <td>12:26:32</td>     <th>  BIC                </th>  <td>68889.082</td>\n",
       "</tr>\n",
       "<tr>\n",
       "  <th>Sample:</th>           <td>01-11-1994</td>    <th>  HQIC               </th>  <td>68849.414</td>\n",
       "</tr>\n",
       "<tr>\n",
       "  <th></th>                 <td>- 01-29-2018</td>   <th>                     </th>      <td> </td>    \n",
       "</tr>\n",
       "</table>\n",
       "<table class=\"simpletable\">\n",
       "<tr>\n",
       "           <td></td>             <th>coef</th>     <th>std err</th>      <th>z</th>      <th>P>|z|</th>  <th>[0.025</th>    <th>0.975]</th>  \n",
       "</tr>\n",
       "<tr>\n",
       "  <th>const</th>              <td> 5424.3229</td> <td>  818.493</td> <td>    6.627</td> <td> 0.000</td> <td> 3820.106</td> <td> 7028.539</td>\n",
       "</tr>\n",
       "<tr>\n",
       "  <th>ar.L1.market_value</th> <td>    1.3552</td> <td>    0.027</td> <td>   50.297</td> <td> 0.000</td> <td>    1.302</td> <td>    1.408</td>\n",
       "</tr>\n",
       "<tr>\n",
       "  <th>ar.L2.market_value</th> <td>   -0.4022</td> <td>    0.030</td> <td>  -13.506</td> <td> 0.000</td> <td>   -0.461</td> <td>   -0.344</td>\n",
       "</tr>\n",
       "<tr>\n",
       "  <th>ar.L3.market_value</th> <td>    0.0096</td> <td>    0.022</td> <td>    0.446</td> <td> 0.655</td> <td>   -0.033</td> <td>    0.052</td>\n",
       "</tr>\n",
       "<tr>\n",
       "  <th>ar.L4.market_value</th> <td>    0.0647</td> <td>    0.022</td> <td>    2.969</td> <td> 0.003</td> <td>    0.022</td> <td>    0.107</td>\n",
       "</tr>\n",
       "<tr>\n",
       "  <th>ar.L5.market_value</th> <td>   -0.0725</td> <td>    0.021</td> <td>   -3.412</td> <td> 0.001</td> <td>   -0.114</td> <td>   -0.031</td>\n",
       "</tr>\n",
       "<tr>\n",
       "  <th>ar.L6.market_value</th> <td>    0.0447</td> <td>    0.013</td> <td>    3.544</td> <td> 0.000</td> <td>    0.020</td> <td>    0.069</td>\n",
       "</tr>\n",
       "<tr>\n",
       "  <th>ma.L1.market_value</th> <td>   -0.3673</td> <td>    0.030</td> <td>  -12.376</td> <td> 0.000</td> <td>   -0.426</td> <td>   -0.309</td>\n",
       "</tr>\n",
       "</table>\n",
       "<table class=\"simpletable\">\n",
       "<caption>Roots</caption>\n",
       "<tr>\n",
       "    <td></td>   <th>            Real</th>  <th>         Imaginary</th> <th>         Modulus</th>  <th>        Frequency</th>\n",
       "</tr>\n",
       "<tr>\n",
       "  <th>AR.1</th> <td>           1.0006</td> <td>          -0.0000j</td> <td>           1.0006</td> <td>          -0.0000</td>\n",
       "</tr>\n",
       "<tr>\n",
       "  <th>AR.2</th> <td>          -1.9328</td> <td>          -0.0000j</td> <td>           1.9328</td> <td>          -0.5000</td>\n",
       "</tr>\n",
       "<tr>\n",
       "  <th>AR.3</th> <td>           1.4629</td> <td>          -0.9359j</td> <td>           1.7367</td> <td>          -0.0906</td>\n",
       "</tr>\n",
       "<tr>\n",
       "  <th>AR.4</th> <td>           1.4629</td> <td>          +0.9359j</td> <td>           1.7367</td> <td>           0.0906</td>\n",
       "</tr>\n",
       "<tr>\n",
       "  <th>AR.5</th> <td>          -0.1858</td> <td>          -1.9492j</td> <td>           1.9580</td> <td>          -0.2651</td>\n",
       "</tr>\n",
       "<tr>\n",
       "  <th>AR.6</th> <td>          -0.1858</td> <td>          +1.9492j</td> <td>           1.9580</td> <td>           0.2651</td>\n",
       "</tr>\n",
       "<tr>\n",
       "  <th>MA.1</th> <td>           2.7224</td> <td>          +0.0000j</td> <td>           2.7224</td> <td>           0.0000</td>\n",
       "</tr>\n",
       "</table>"
      ],
      "text/plain": [
       "<class 'statsmodels.iolib.summary.Summary'>\n",
       "\"\"\"\n",
       "                              ARMA Model Results                              \n",
       "==============================================================================\n",
       "Dep. Variable:           market_value   No. Observations:                 6275\n",
       "Model:                     ARMA(6, 1)   Log Likelihood              -34405.191\n",
       "Method:                       css-mle   S.D. of innovations             58.175\n",
       "Date:                Tue, 01 Feb 2022   AIC                          68828.383\n",
       "Time:                        12:26:32   BIC                          68889.082\n",
       "Sample:                    01-11-1994   HQIC                         68849.414\n",
       "                         - 01-29-2018                                         \n",
       "======================================================================================\n",
       "                         coef    std err          z      P>|z|      [0.025      0.975]\n",
       "--------------------------------------------------------------------------------------\n",
       "const               5424.3229    818.493      6.627      0.000    3820.106    7028.539\n",
       "ar.L1.market_value     1.3552      0.027     50.297      0.000       1.302       1.408\n",
       "ar.L2.market_value    -0.4022      0.030    -13.506      0.000      -0.461      -0.344\n",
       "ar.L3.market_value     0.0096      0.022      0.446      0.655      -0.033       0.052\n",
       "ar.L4.market_value     0.0647      0.022      2.969      0.003       0.022       0.107\n",
       "ar.L5.market_value    -0.0725      0.021     -3.412      0.001      -0.114      -0.031\n",
       "ar.L6.market_value     0.0447      0.013      3.544      0.000       0.020       0.069\n",
       "ma.L1.market_value    -0.3673      0.030    -12.376      0.000      -0.426      -0.309\n",
       "                                    Roots                                    \n",
       "=============================================================================\n",
       "                  Real          Imaginary           Modulus         Frequency\n",
       "-----------------------------------------------------------------------------\n",
       "AR.1            1.0006           -0.0000j            1.0006           -0.0000\n",
       "AR.2           -1.9328           -0.0000j            1.9328           -0.5000\n",
       "AR.3            1.4629           -0.9359j            1.7367           -0.0906\n",
       "AR.4            1.4629           +0.9359j            1.7367            0.0906\n",
       "AR.5           -0.1858           -1.9492j            1.9580           -0.2651\n",
       "AR.6           -0.1858           +1.9492j            1.9580            0.2651\n",
       "MA.1            2.7224           +0.0000j            2.7224            0.0000\n",
       "-----------------------------------------------------------------------------\n",
       "\"\"\""
      ]
     },
     "execution_count": 86,
     "metadata": {},
     "output_type": "execute_result"
    }
   ],
   "source": [
    "model_ar6_ma1=ARMA(df.market_value,order=(6,1))\n",
    "results_ar6_ma1=model_ar6_ma1.fit(start_ar_lags=14)\n",
    "results_ar6_ma1.summary()\n"
   ]
  },
  {
   "cell_type": "code",
   "execution_count": 87,
   "id": "d234482f",
   "metadata": {},
   "outputs": [],
   "source": [
    "## we are considering the arma(6,6) as all coefficients are significant\n",
    "##and now plotting acf for the residual of arma(6,6)\n"
   ]
  },
  {
   "cell_type": "code",
   "execution_count": 88,
   "id": "a4fa1e07",
   "metadata": {},
   "outputs": [],
   "source": [
    "df['res_ar6_ma6']=results_ar6_ma6.resid"
   ]
  },
  {
   "cell_type": "code",
   "execution_count": 89,
   "id": "a4538867",
   "metadata": {},
   "outputs": [
    {
     "data": {
      "image/png": "[encoded data removed]",
      "text/plain": [
       "<Figure size 432x288 with 1 Axes>"
      ]
     },
     "metadata": {
      "needs_background": "light"
     },
     "output_type": "display_data"
    }
   ],
   "source": [
    "sgt.plot_acf(df.res_ar6_ma6,zero=False,lags=40)\n",
    "plt.title('acf for residual of arma(6,6)')\n",
    "plt.show()"
   ]
  },
  {
   "cell_type": "code",
   "execution_count": 90,
   "id": "1127823f",
   "metadata": {},
   "outputs": [],
   "source": [
    "## acf resemble no pattern and most of them are insignificant so yes they represent a white nose"
   ]
  },
  {
   "cell_type": "code",
   "execution_count": 91,
   "id": "7e4ec64b",
   "metadata": {},
   "outputs": [
    {
     "name": "stdout",
     "output_type": "stream",
     "text": [
      "arma model for non stationary data llr value is -34402.68461993043 aic value is 68833.36923986085\n",
      "arma model for stationary data llr value is -9558.543008126346 aic value is 19133.08601625269\n"
     ]
    }
   ],
   "source": [
    "print('arma model for non stationary data','llr value is',results_ar6_ma6.llf,'aic value is',results_ar6_ma6.aic)\n",
    "print('arma model for stationary data','llr value is',result_ret_ar5_ma1.llf,'aic value is',result_ret_ar5_ma1.aic)\n"
   ]
  },
  {
   "cell_type": "code",
   "execution_count": 92,
   "id": "209e263a",
   "metadata": {},
   "outputs": [],
   "source": [
    "##when we compare the llr value and aic values of non stationary and stationary series by arma model then we find that arma model gives better results with stationary data series but in our case it is opposite due to some mistake  "
   ]
  },
  {
   "cell_type": "code",
   "execution_count": null,
   "id": "d2c0838b",
   "metadata": {},
   "outputs": [],
   "source": []
  }
 ],
 "metadata": {
  "kernelspec": {
   "display_name": "Python 3",
   "language": "python",
   "name": "python3"
  },
  "language_info": {
   "codemirror_mode": {
    "name": "ipython",
    "version": 3
   },
   "file_extension": ".py",
   "mimetype": "text/x-python",
   "name": "python",
   "nbconvert_exporter": "python",
   "pygments_lexer": "ipython3",
   "version": "3.8.8"
  }
 },
 "nbformat": 4,
 "nbformat_minor": 5
}
