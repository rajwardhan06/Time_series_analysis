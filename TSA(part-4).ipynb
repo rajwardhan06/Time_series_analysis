{
 "cells": [
  {
   "cell_type": "code",
   "execution_count": 1,
   "id": "164a1fcd",
   "metadata": {},
   "outputs": [],
   "source": [
    "import pandas as pd\n",
    "import numpy as np\n",
    "import statsmodels.tsa.stattools as sts\n",
    "from statsmodels.tsa.seasonal import seasonal_decompose\n",
    "import statsmodels.graphics.tsaplots as sgt\n",
    "from statsmodels.tsa.arima_model import ARMA\n",
    "from statsmodels.tsa.arima_model import ARIMA\n",
    "from scipy.stats.distributions import chi2\n",
    "from math import sqrt\n",
    "from matplotlib import pyplot as plt\n",
    "import warnings\n",
    "warnings.filterwarnings('ignore')"
   ]
  },
  {
   "cell_type": "code",
   "execution_count": 2,
   "id": "a6c4360d",
   "metadata": {},
   "outputs": [
    {
     "data": {
      "text/html": [
       "<div>\n",
       "<style scoped>\n",
       "    .dataframe tbody tr th:only-of-type {\n",
       "        vertical-align: middle;\n",
       "    }\n",
       "\n",
       "    .dataframe tbody tr th {\n",
       "        vertical-align: top;\n",
       "    }\n",
       "\n",
       "    .dataframe thead th {\n",
       "        text-align: right;\n",
       "    }\n",
       "</style>\n",
       "<table border=\"1\" class=\"dataframe\">\n",
       "  <thead>\n",
       "    <tr style=\"text-align: right;\">\n",
       "      <th></th>\n",
       "      <th>date</th>\n",
       "      <th>spx</th>\n",
       "      <th>dax</th>\n",
       "      <th>ftse</th>\n",
       "      <th>nikkei</th>\n",
       "    </tr>\n",
       "  </thead>\n",
       "  <tbody>\n",
       "    <tr>\n",
       "      <th>0</th>\n",
       "      <td>07/01/1994</td>\n",
       "      <td>469.90</td>\n",
       "      <td>2224.95</td>\n",
       "      <td>3445.98</td>\n",
       "      <td>18124.01</td>\n",
       "    </tr>\n",
       "    <tr>\n",
       "      <th>1</th>\n",
       "      <td>10/01/1994</td>\n",
       "      <td>475.27</td>\n",
       "      <td>2225.00</td>\n",
       "      <td>3440.58</td>\n",
       "      <td>18443.44</td>\n",
       "    </tr>\n",
       "    <tr>\n",
       "      <th>2</th>\n",
       "      <td>11/01/1994</td>\n",
       "      <td>474.13</td>\n",
       "      <td>2228.10</td>\n",
       "      <td>3413.77</td>\n",
       "      <td>18485.25</td>\n",
       "    </tr>\n",
       "    <tr>\n",
       "      <th>3</th>\n",
       "      <td>12/01/1994</td>\n",
       "      <td>474.17</td>\n",
       "      <td>2182.06</td>\n",
       "      <td>3372.02</td>\n",
       "      <td>18793.88</td>\n",
       "    </tr>\n",
       "    <tr>\n",
       "      <th>4</th>\n",
       "      <td>13/01/1994</td>\n",
       "      <td>472.47</td>\n",
       "      <td>2142.37</td>\n",
       "      <td>3360.01</td>\n",
       "      <td>18577.26</td>\n",
       "    </tr>\n",
       "  </tbody>\n",
       "</table>\n",
       "</div>"
      ],
      "text/plain": [
       "         date     spx      dax     ftse    nikkei\n",
       "0  07/01/1994  469.90  2224.95  3445.98  18124.01\n",
       "1  10/01/1994  475.27  2225.00  3440.58  18443.44\n",
       "2  11/01/1994  474.13  2228.10  3413.77  18485.25\n",
       "3  12/01/1994  474.17  2182.06  3372.02  18793.88\n",
       "4  13/01/1994  472.47  2142.37  3360.01  18577.26"
      ]
     },
     "execution_count": 2,
     "metadata": {},
     "output_type": "execute_result"
    }
   ],
   "source": [
    "data=pd.read_csv('index2018.csv')\n",
    "df=data.copy()\n",
    "df.head()"
   ]
  },
  {
   "cell_type": "code",
   "execution_count": 3,
   "id": "9010792a",
   "metadata": {},
   "outputs": [
    {
     "data": {
      "text/html": [
       "<div>\n",
       "<style scoped>\n",
       "    .dataframe tbody tr th:only-of-type {\n",
       "        vertical-align: middle;\n",
       "    }\n",
       "\n",
       "    .dataframe tbody tr th {\n",
       "        vertical-align: top;\n",
       "    }\n",
       "\n",
       "    .dataframe thead th {\n",
       "        text-align: right;\n",
       "    }\n",
       "</style>\n",
       "<table border=\"1\" class=\"dataframe\">\n",
       "  <thead>\n",
       "    <tr style=\"text-align: right;\">\n",
       "      <th></th>\n",
       "      <th>date</th>\n",
       "      <th>spx</th>\n",
       "      <th>dax</th>\n",
       "      <th>ftse</th>\n",
       "      <th>nikkei</th>\n",
       "    </tr>\n",
       "  </thead>\n",
       "  <tbody>\n",
       "    <tr>\n",
       "      <th>0</th>\n",
       "      <td>1994-01-07</td>\n",
       "      <td>469.90</td>\n",
       "      <td>2224.95</td>\n",
       "      <td>3445.98</td>\n",
       "      <td>18124.01</td>\n",
       "    </tr>\n",
       "    <tr>\n",
       "      <th>1</th>\n",
       "      <td>1994-01-10</td>\n",
       "      <td>475.27</td>\n",
       "      <td>2225.00</td>\n",
       "      <td>3440.58</td>\n",
       "      <td>18443.44</td>\n",
       "    </tr>\n",
       "    <tr>\n",
       "      <th>2</th>\n",
       "      <td>1994-01-11</td>\n",
       "      <td>474.13</td>\n",
       "      <td>2228.10</td>\n",
       "      <td>3413.77</td>\n",
       "      <td>18485.25</td>\n",
       "    </tr>\n",
       "    <tr>\n",
       "      <th>3</th>\n",
       "      <td>1994-01-12</td>\n",
       "      <td>474.17</td>\n",
       "      <td>2182.06</td>\n",
       "      <td>3372.02</td>\n",
       "      <td>18793.88</td>\n",
       "    </tr>\n",
       "    <tr>\n",
       "      <th>4</th>\n",
       "      <td>1994-01-13</td>\n",
       "      <td>472.47</td>\n",
       "      <td>2142.37</td>\n",
       "      <td>3360.01</td>\n",
       "      <td>18577.26</td>\n",
       "    </tr>\n",
       "  </tbody>\n",
       "</table>\n",
       "</div>"
      ],
      "text/plain": [
       "        date     spx      dax     ftse    nikkei\n",
       "0 1994-01-07  469.90  2224.95  3445.98  18124.01\n",
       "1 1994-01-10  475.27  2225.00  3440.58  18443.44\n",
       "2 1994-01-11  474.13  2228.10  3413.77  18485.25\n",
       "3 1994-01-12  474.17  2182.06  3372.02  18793.88\n",
       "4 1994-01-13  472.47  2142.37  3360.01  18577.26"
      ]
     },
     "execution_count": 3,
     "metadata": {},
     "output_type": "execute_result"
    }
   ],
   "source": [
    "df['date']=pd.to_datetime(df['date'],dayfirst=True)\n",
    "df.head()"
   ]
  },
  {
   "cell_type": "code",
   "execution_count": 4,
   "id": "d702f4d6",
   "metadata": {},
   "outputs": [
    {
     "data": {
      "text/html": [
       "<div>\n",
       "<style scoped>\n",
       "    .dataframe tbody tr th:only-of-type {\n",
       "        vertical-align: middle;\n",
       "    }\n",
       "\n",
       "    .dataframe tbody tr th {\n",
       "        vertical-align: top;\n",
       "    }\n",
       "\n",
       "    .dataframe thead th {\n",
       "        text-align: right;\n",
       "    }\n",
       "</style>\n",
       "<table border=\"1\" class=\"dataframe\">\n",
       "  <thead>\n",
       "    <tr style=\"text-align: right;\">\n",
       "      <th></th>\n",
       "      <th>spx</th>\n",
       "      <th>dax</th>\n",
       "      <th>ftse</th>\n",
       "      <th>nikkei</th>\n",
       "    </tr>\n",
       "    <tr>\n",
       "      <th>date</th>\n",
       "      <th></th>\n",
       "      <th></th>\n",
       "      <th></th>\n",
       "      <th></th>\n",
       "    </tr>\n",
       "  </thead>\n",
       "  <tbody>\n",
       "    <tr>\n",
       "      <th>1994-01-07</th>\n",
       "      <td>469.90</td>\n",
       "      <td>2224.95</td>\n",
       "      <td>3445.98</td>\n",
       "      <td>18124.01</td>\n",
       "    </tr>\n",
       "    <tr>\n",
       "      <th>1994-01-10</th>\n",
       "      <td>475.27</td>\n",
       "      <td>2225.00</td>\n",
       "      <td>3440.58</td>\n",
       "      <td>18443.44</td>\n",
       "    </tr>\n",
       "    <tr>\n",
       "      <th>1994-01-11</th>\n",
       "      <td>474.13</td>\n",
       "      <td>2228.10</td>\n",
       "      <td>3413.77</td>\n",
       "      <td>18485.25</td>\n",
       "    </tr>\n",
       "    <tr>\n",
       "      <th>1994-01-12</th>\n",
       "      <td>474.17</td>\n",
       "      <td>2182.06</td>\n",
       "      <td>3372.02</td>\n",
       "      <td>18793.88</td>\n",
       "    </tr>\n",
       "    <tr>\n",
       "      <th>1994-01-13</th>\n",
       "      <td>472.47</td>\n",
       "      <td>2142.37</td>\n",
       "      <td>3360.01</td>\n",
       "      <td>18577.26</td>\n",
       "    </tr>\n",
       "  </tbody>\n",
       "</table>\n",
       "</div>"
      ],
      "text/plain": [
       "               spx      dax     ftse    nikkei\n",
       "date                                          \n",
       "1994-01-07  469.90  2224.95  3445.98  18124.01\n",
       "1994-01-10  475.27  2225.00  3440.58  18443.44\n",
       "1994-01-11  474.13  2228.10  3413.77  18485.25\n",
       "1994-01-12  474.17  2182.06  3372.02  18793.88\n",
       "1994-01-13  472.47  2142.37  3360.01  18577.26"
      ]
     },
     "execution_count": 4,
     "metadata": {},
     "output_type": "execute_result"
    }
   ],
   "source": [
    "df.set_index('date',inplace=True)\n",
    "df.head()"
   ]
  },
  {
   "cell_type": "code",
   "execution_count": 5,
   "id": "5b7a26ec",
   "metadata": {},
   "outputs": [],
   "source": [
    "df=df.asfreq('b')"
   ]
  },
  {
   "cell_type": "code",
   "execution_count": 6,
   "id": "6244479f",
   "metadata": {},
   "outputs": [
    {
     "data": {
      "text/plain": [
       "spx       8\n",
       "dax       8\n",
       "ftse      8\n",
       "nikkei    8\n",
       "dtype: int64"
      ]
     },
     "execution_count": 6,
     "metadata": {},
     "output_type": "execute_result"
    }
   ],
   "source": [
    "df.isnull().sum()"
   ]
  },
  {
   "cell_type": "code",
   "execution_count": 7,
   "id": "03551a2b",
   "metadata": {},
   "outputs": [],
   "source": [
    "df['spx']=df['spx'].fillna(method='ffill')\n"
   ]
  },
  {
   "cell_type": "code",
   "execution_count": 8,
   "id": "4db72a7e",
   "metadata": {},
   "outputs": [],
   "source": [
    "df['ftse']=df['ftse'].fillna(method='bfill')"
   ]
  },
  {
   "cell_type": "code",
   "execution_count": 9,
   "id": "d7ec5497",
   "metadata": {},
   "outputs": [],
   "source": [
    "df['dax']=df['dax'].fillna(df['dax'].mean())"
   ]
  },
  {
   "cell_type": "code",
   "execution_count": 10,
   "id": "e7a0985a",
   "metadata": {},
   "outputs": [
    {
     "data": {
      "text/html": [
       "<div>\n",
       "<style scoped>\n",
       "    .dataframe tbody tr th:only-of-type {\n",
       "        vertical-align: middle;\n",
       "    }\n",
       "\n",
       "    .dataframe tbody tr th {\n",
       "        vertical-align: top;\n",
       "    }\n",
       "\n",
       "    .dataframe thead th {\n",
       "        text-align: right;\n",
       "    }\n",
       "</style>\n",
       "<table border=\"1\" class=\"dataframe\">\n",
       "  <thead>\n",
       "    <tr style=\"text-align: right;\">\n",
       "      <th></th>\n",
       "      <th>spx</th>\n",
       "      <th>dax</th>\n",
       "      <th>nikkei</th>\n",
       "      <th>market_value</th>\n",
       "    </tr>\n",
       "    <tr>\n",
       "      <th>date</th>\n",
       "      <th></th>\n",
       "      <th></th>\n",
       "      <th></th>\n",
       "      <th></th>\n",
       "    </tr>\n",
       "  </thead>\n",
       "  <tbody>\n",
       "    <tr>\n",
       "      <th>1994-01-07</th>\n",
       "      <td>469.90</td>\n",
       "      <td>2224.95</td>\n",
       "      <td>18124.01</td>\n",
       "      <td>3445.98</td>\n",
       "    </tr>\n",
       "    <tr>\n",
       "      <th>1994-01-10</th>\n",
       "      <td>475.27</td>\n",
       "      <td>2225.00</td>\n",
       "      <td>18443.44</td>\n",
       "      <td>3440.58</td>\n",
       "    </tr>\n",
       "    <tr>\n",
       "      <th>1994-01-11</th>\n",
       "      <td>474.13</td>\n",
       "      <td>2228.10</td>\n",
       "      <td>18485.25</td>\n",
       "      <td>3413.77</td>\n",
       "    </tr>\n",
       "    <tr>\n",
       "      <th>1994-01-12</th>\n",
       "      <td>474.17</td>\n",
       "      <td>2182.06</td>\n",
       "      <td>18793.88</td>\n",
       "      <td>3372.02</td>\n",
       "    </tr>\n",
       "    <tr>\n",
       "      <th>1994-01-13</th>\n",
       "      <td>472.47</td>\n",
       "      <td>2142.37</td>\n",
       "      <td>18577.26</td>\n",
       "      <td>3360.01</td>\n",
       "    </tr>\n",
       "  </tbody>\n",
       "</table>\n",
       "</div>"
      ],
      "text/plain": [
       "               spx      dax    nikkei  market_value\n",
       "date                                               \n",
       "1994-01-07  469.90  2224.95  18124.01       3445.98\n",
       "1994-01-10  475.27  2225.00  18443.44       3440.58\n",
       "1994-01-11  474.13  2228.10  18485.25       3413.77\n",
       "1994-01-12  474.17  2182.06  18793.88       3372.02\n",
       "1994-01-13  472.47  2142.37  18577.26       3360.01"
      ]
     },
     "execution_count": 10,
     "metadata": {},
     "output_type": "execute_result"
    }
   ],
   "source": [
    "df['market_value']=df['ftse']\n",
    "del df['ftse']\n",
    "df.head()"
   ]
  },
  {
   "cell_type": "code",
   "execution_count": 11,
   "id": "fa2dd414",
   "metadata": {},
   "outputs": [
    {
     "data": {
      "text/plain": [
       "spx             0\n",
       "dax             0\n",
       "nikkei          8\n",
       "market_value    0\n",
       "dtype: int64"
      ]
     },
     "execution_count": 11,
     "metadata": {},
     "output_type": "execute_result"
    }
   ],
   "source": [
    "df.isnull().sum()"
   ]
  },
  {
   "cell_type": "markdown",
   "id": "4de0e2d6",
   "metadata": {},
   "source": [
    "## ARIMA(1,1,1)"
   ]
  },
  {
   "cell_type": "code",
   "execution_count": 12,
   "id": "9e845f72",
   "metadata": {},
   "outputs": [
    {
     "data": {
      "text/html": [
       "<table class=\"simpletable\">\n",
       "<caption>ARIMA Model Results</caption>\n",
       "<tr>\n",
       "  <th>Dep. Variable:</th>  <td>D.market_value</td>  <th>  No. Observations:  </th>    <td>6276</td>   \n",
       "</tr>\n",
       "<tr>\n",
       "  <th>Model:</th>          <td>ARIMA(1, 1, 1)</td>  <th>  Log Likelihood     </th> <td>-34417.629</td>\n",
       "</tr>\n",
       "<tr>\n",
       "  <th>Method:</th>             <td>css-mle</td>     <th>  S.D. of innovations</th>   <td>58.269</td>  \n",
       "</tr>\n",
       "<tr>\n",
       "  <th>Date:</th>          <td>Sun, 06 Feb 2022</td> <th>  AIC                </th>  <td>68843.257</td>\n",
       "</tr>\n",
       "<tr>\n",
       "  <th>Time:</th>              <td>16:30:23</td>     <th>  BIC                </th>  <td>68870.235</td>\n",
       "</tr>\n",
       "<tr>\n",
       "  <th>Sample:</th>           <td>01-10-1994</td>    <th>  HQIC               </th>  <td>68852.605</td>\n",
       "</tr>\n",
       "<tr>\n",
       "  <th></th>                 <td>- 01-29-2018</td>   <th>                     </th>      <td> </td>    \n",
       "</tr>\n",
       "</table>\n",
       "<table class=\"simpletable\">\n",
       "<tr>\n",
       "            <td></td>              <th>coef</th>     <th>std err</th>      <th>z</th>      <th>P>|z|</th>  <th>[0.025</th>    <th>0.975]</th>  \n",
       "</tr>\n",
       "<tr>\n",
       "  <th>const</th>                <td>    0.6751</td> <td>    0.581</td> <td>    1.161</td> <td> 0.246</td> <td>   -0.464</td> <td>    1.815</td>\n",
       "</tr>\n",
       "<tr>\n",
       "  <th>ar.L1.D.market_value</th> <td>    0.8343</td> <td>    0.077</td> <td>   10.770</td> <td> 0.000</td> <td>    0.682</td> <td>    0.986</td>\n",
       "</tr>\n",
       "<tr>\n",
       "  <th>ma.L1.D.market_value</th> <td>   -0.8690</td> <td>    0.070</td> <td>  -12.452</td> <td> 0.000</td> <td>   -1.006</td> <td>   -0.732</td>\n",
       "</tr>\n",
       "</table>\n",
       "<table class=\"simpletable\">\n",
       "<caption>Roots</caption>\n",
       "<tr>\n",
       "    <td></td>   <th>            Real</th>  <th>         Imaginary</th> <th>         Modulus</th>  <th>        Frequency</th>\n",
       "</tr>\n",
       "<tr>\n",
       "  <th>AR.1</th> <td>           1.1987</td> <td>          +0.0000j</td> <td>           1.1987</td> <td>           0.0000</td>\n",
       "</tr>\n",
       "<tr>\n",
       "  <th>MA.1</th> <td>           1.1507</td> <td>          +0.0000j</td> <td>           1.1507</td> <td>           0.0000</td>\n",
       "</tr>\n",
       "</table>"
      ],
      "text/plain": [
       "<class 'statsmodels.iolib.summary.Summary'>\n",
       "\"\"\"\n",
       "                             ARIMA Model Results                              \n",
       "==============================================================================\n",
       "Dep. Variable:         D.market_value   No. Observations:                 6276\n",
       "Model:                 ARIMA(1, 1, 1)   Log Likelihood              -34417.629\n",
       "Method:                       css-mle   S.D. of innovations             58.269\n",
       "Date:                Sun, 06 Feb 2022   AIC                          68843.257\n",
       "Time:                        16:30:23   BIC                          68870.235\n",
       "Sample:                    01-10-1994   HQIC                         68852.605\n",
       "                         - 01-29-2018                                         \n",
       "========================================================================================\n",
       "                           coef    std err          z      P>|z|      [0.025      0.975]\n",
       "----------------------------------------------------------------------------------------\n",
       "const                    0.6751      0.581      1.161      0.246      -0.464       1.815\n",
       "ar.L1.D.market_value     0.8343      0.077     10.770      0.000       0.682       0.986\n",
       "ma.L1.D.market_value    -0.8690      0.070    -12.452      0.000      -1.006      -0.732\n",
       "                                    Roots                                    \n",
       "=============================================================================\n",
       "                  Real          Imaginary           Modulus         Frequency\n",
       "-----------------------------------------------------------------------------\n",
       "AR.1            1.1987           +0.0000j            1.1987            0.0000\n",
       "MA.1            1.1507           +0.0000j            1.1507            0.0000\n",
       "-----------------------------------------------------------------------------\n",
       "\"\"\""
      ]
     },
     "execution_count": 12,
     "metadata": {},
     "output_type": "execute_result"
    }
   ],
   "source": [
    "model_ar1_i1_ma1=ARIMA(df.market_value,order=(1,1,1))\n",
    "results_ar1_i1_ma1=model_ar1_i1_ma1.fit()\n",
    "results_ar1_i1_ma1.summary()"
   ]
  },
  {
   "cell_type": "code",
   "execution_count": 13,
   "id": "cc83644b",
   "metadata": {},
   "outputs": [],
   "source": [
    "## arima(1,1,1) for prices is quite similar to arma(1,1) for returns"
   ]
  },
  {
   "cell_type": "markdown",
   "id": "fc3b7535",
   "metadata": {},
   "source": [
    "## Residuals for ARIMA(1,1,1)"
   ]
  },
  {
   "cell_type": "code",
   "execution_count": 14,
   "id": "71a2662c",
   "metadata": {},
   "outputs": [],
   "source": [
    "df['res_ar1_i1_ma1']=results_ar1_i1_ma1.resid"
   ]
  },
  {
   "cell_type": "code",
   "execution_count": 15,
   "id": "f2391266",
   "metadata": {},
   "outputs": [
    {
     "data": {
      "image/png": "[encoded data removed]",
      "text/plain": [
       "<Figure size 432x288 with 1 Axes>"
      ]
     },
     "metadata": {
      "needs_background": "light"
     },
     "output_type": "display_data"
    }
   ],
   "source": [
    "sgt.plot_acf(df.res_ar1_i1_ma1[1:],zero=False,lags=40)\n",
    "plt.title('residuals for prices arima(1,1,1)')\n",
    "plt.show()"
   ]
  },
  {
   "cell_type": "code",
   "execution_count": 16,
   "id": "c553b46a",
   "metadata": {},
   "outputs": [],
   "source": [
    "## since 3 and 4 lag are highly significant so we we will incorporate high lag arima model"
   ]
  },
  {
   "cell_type": "markdown",
   "id": "844b72ae",
   "metadata": {},
   "source": [
    "## Higher lag ARIMA models"
   ]
  },
  {
   "cell_type": "code",
   "execution_count": 17,
   "id": "8b4120c8",
   "metadata": {},
   "outputs": [],
   "source": [
    "def llr_test(mod_1,mod_2,DF=1):\n",
    "    L1=mod_1.fit().llf\n",
    "    L2=mod_2.fit().llf\n",
    "    LR=(2*(L2-L1))\n",
    "    P=chi2.sf(LR,DF).round(3)\n",
    "    return P"
   ]
  },
  {
   "cell_type": "code",
   "execution_count": 18,
   "id": "6b05c6ee",
   "metadata": {},
   "outputs": [],
   "source": [
    "model_ar1_i1_ma2=ARIMA(df.market_value,order=(1,1,2))\n",
    "results_ar1_i1_ma2=model_ar1_i1_ma2.fit()\n",
    "model_ar1_i1_ma3=ARIMA(df.market_value,order=(1,1,3))\n",
    "results_ar1_i1_ma3=model_ar1_i1_ma3.fit()\n",
    "model_ar2_i1_ma1=ARIMA(df.market_value,order=(2,1,1))\n",
    "results_ar2_i1_ma1=model_ar2_i1_ma1.fit()\n",
    "model_ar3_i1_ma1=ARIMA(df.market_value,order=(3,1,1))\n",
    "results_ar3_i1_ma1=model_ar3_i1_ma1.fit()\n",
    "model_ar3_i1_ma2=ARIMA(df.market_value,order=(3,1,2))\n",
    "results_ar3_i1_ma2=model_ar3_i1_ma2.fit(start_ar_lags=5)"
   ]
  },
  {
   "cell_type": "code",
   "execution_count": 19,
   "id": "d4ff3414",
   "metadata": {},
   "outputs": [
    {
     "name": "stdout",
     "output_type": "stream",
     "text": [
      "arima(1,1,1): -34417.6285851502 68843.2571703004\n",
      "arima(1,1,2): -34413.485933551776 68836.97186710355\n",
      "arima(1,1,3): -34410.94117134848 68833.88234269696\n",
      "arima(2,1,1): -34413.34971143022 68836.69942286045\n",
      "arima(3,1,1): -34412.39717326593 68836.79434653185\n",
      "arima(3,1,2): -34410.8087635047 68835.6175270094\n"
     ]
    }
   ],
   "source": [
    "print('arima(1,1,1):', results_ar1_i1_ma1.llf ,results_ar1_i1_ma1.aic)\n",
    "print('arima(1,1,2):', results_ar1_i1_ma2.llf ,results_ar1_i1_ma2.aic)\n",
    "print('arima(1,1,3):', results_ar1_i1_ma3.llf ,results_ar1_i1_ma3.aic)\n",
    "print('arima(2,1,1):', results_ar2_i1_ma1.llf ,results_ar2_i1_ma1.aic)\n",
    "print('arima(3,1,1):', results_ar3_i1_ma1.llf ,results_ar3_i1_ma1.aic)\n",
    "print('arima(3,1,2):', results_ar3_i1_ma2.llf ,results_ar3_i1_ma2.aic)\n",
    "\n"
   ]
  },
  {
   "cell_type": "code",
   "execution_count": 20,
   "id": "b727691f",
   "metadata": {},
   "outputs": [],
   "source": [
    "## since arima (1,1,1) and arima(1,1,2) are both nested inside arima(1,1,3) so here we need to run llr test between them "
   ]
  },
  {
   "cell_type": "code",
   "execution_count": 21,
   "id": "7f81b2d9",
   "metadata": {},
   "outputs": [
    {
     "data": {
      "text/plain": [
       "0.0"
      ]
     },
     "execution_count": 21,
     "metadata": {},
     "output_type": "execute_result"
    }
   ],
   "source": [
    "llr_test(model_ar1_i1_ma1,model_ar1_i1_ma3)"
   ]
  },
  {
   "cell_type": "code",
   "execution_count": 22,
   "id": "313d2cc5",
   "metadata": {},
   "outputs": [],
   "source": [
    "## this suggest that higher model is better predictor"
   ]
  },
  {
   "cell_type": "code",
   "execution_count": 23,
   "id": "16a5f79b",
   "metadata": {},
   "outputs": [
    {
     "data": {
      "text/plain": [
       "0.024"
      ]
     },
     "execution_count": 23,
     "metadata": {},
     "output_type": "execute_result"
    }
   ],
   "source": [
    " llr_test(model_ar1_i1_ma2,model_ar1_i1_ma3)"
   ]
  },
  {
   "cell_type": "code",
   "execution_count": 24,
   "id": "d1d7f176",
   "metadata": {},
   "outputs": [],
   "source": [
    "##this also suggest that higher model is better predictor"
   ]
  },
  {
   "cell_type": "markdown",
   "id": "e3217597",
   "metadata": {},
   "source": [
    "## residuals for arima(1,1,3)"
   ]
  },
  {
   "cell_type": "code",
   "execution_count": 25,
   "id": "253d9707",
   "metadata": {},
   "outputs": [
    {
     "data": {
      "image/png": "[encoded data removed]",
      "text/plain": [
       "<Figure size 432x288 with 1 Axes>"
      ]
     },
     "metadata": {
      "needs_background": "light"
     },
     "output_type": "display_data"
    }
   ],
   "source": [
    "df['res_ar1_i1_ma3']=results_ar1_i1_ma3.resid\n",
    "sgt.plot_acf(df.res_ar1_i1_ma3[1:],zero=False,lags=40)\n",
    "plt.title('residuals for prices arima(1,1,3)')\n",
    "plt.show()"
   ]
  },
  {
   "cell_type": "code",
   "execution_count": 26,
   "id": "0143088d",
   "metadata": {},
   "outputs": [],
   "source": [
    "## since 6th lag coefficient is higly significant so ARIMA(6,16) is the better choice and so we do hit and trial betwwen lot of ooptions and we found that ARIMA(5,1,1) and ARIMA(6,1,3) "
   ]
  },
  {
   "cell_type": "code",
   "execution_count": 27,
   "id": "58164dff",
   "metadata": {
    "scrolled": true
   },
   "outputs": [],
   "source": [
    "model_ar5_i1_ma1=ARIMA(df.market_value,order=(5,1,1))\n",
    "results_ar5_i1_ma1=model_ar5_i1_ma1.fit(start_ar_lags=11)\n",
    "model_ar6_i1_ma3=ARIMA(df.market_value,order=(6,1,3))\n",
    "results_ar6_i1_ma3=model_ar6_i1_ma3.fit(start_ar_lags=13)"
   ]
  },
  {
   "cell_type": "code",
   "execution_count": 28,
   "id": "3cdfa075",
   "metadata": {},
   "outputs": [],
   "source": [
    "## we also call arima(1,1,3) to comapre all three here and choose the best one"
   ]
  },
  {
   "cell_type": "code",
   "execution_count": 29,
   "id": "5f1ad733",
   "metadata": {},
   "outputs": [
    {
     "name": "stdout",
     "output_type": "stream",
     "text": [
      "arima(1,1,3): -34410.94117134848 68833.88234269696\n",
      "arima(5,1,1): -34406.637913650644 68829.27582730129\n",
      "arima(6,1,3): -34404.95889429994 68831.91778859988\n"
     ]
    }
   ],
   "source": [
    "print('arima(1,1,3):', results_ar1_i1_ma3.llf ,results_ar1_i1_ma3.aic)\n",
    "print('arima(5,1,1):', results_ar5_i1_ma1.llf ,results_ar5_i1_ma1.aic)\n",
    "print('arima(6,1,3):', results_ar6_i1_ma3.llf ,results_ar6_i1_ma3.aic)"
   ]
  },
  {
   "cell_type": "code",
   "execution_count": 30,
   "id": "d5127e7c",
   "metadata": {},
   "outputs": [],
   "source": [
    "## since llr value of arima(6,1,3) is highest and aic value being lowest so it is the better option from three\n",
    "## sice arma(1,1,3) and arma(5,1,1) are nested inside arima(6,1,3) so need check the llr test for them for complete surity"
   ]
  },
  {
   "cell_type": "code",
   "execution_count": 31,
   "id": "9dfa1148",
   "metadata": {},
   "outputs": [
    {
     "data": {
      "text/plain": [
       "0.035"
      ]
     },
     "execution_count": 31,
     "metadata": {},
     "output_type": "execute_result"
    }
   ],
   "source": [
    "llr_test(model_ar1_i1_ma3,model_ar6_i1_ma3,DF=5)"
   ]
  },
  {
   "cell_type": "code",
   "execution_count": 32,
   "id": "5933aaa5",
   "metadata": {},
   "outputs": [
    {
     "data": {
      "text/plain": [
       "0.34"
      ]
     },
     "execution_count": 32,
     "metadata": {},
     "output_type": "execute_result"
    }
   ],
   "source": [
    "llr_test(model_ar5_i1_ma1,model_ar6_i1_ma3,DF=3)"
   ]
  },
  {
   "cell_type": "code",
   "execution_count": 33,
   "id": "17ba7d75",
   "metadata": {},
   "outputs": [],
   "source": [
    "##so this suggest that arima(5,1,1) is better model than arima(6,1,3) and arima(6,1,3) is better than arima(1,1,3)\n",
    "## so finally choosing arima(5,1,1) as better option after llr test"
   ]
  },
  {
   "cell_type": "markdown",
   "id": "45510391",
   "metadata": {},
   "source": [
    "## residual for arima(5,1,1)"
   ]
  },
  {
   "cell_type": "code",
   "execution_count": 34,
   "id": "00dc30fa",
   "metadata": {},
   "outputs": [
    {
     "data": {
      "image/png": "[encoded data removed]",
      "text/plain": [
       "<Figure size 432x288 with 1 Axes>"
      ]
     },
     "metadata": {
      "needs_background": "light"
     },
     "output_type": "display_data"
    }
   ],
   "source": [
    "df['res_ar5_i1_ma1']=results_ar5_i1_ma1.resid\n",
    "sgt.plot_acf(df.res_ar5_i1_ma1[1:],zero=False,lags=40)\n",
    "plt.title('residuals for prices arima(5,1,1,)')\n",
    "plt.show()"
   ]
  },
  {
   "cell_type": "markdown",
   "id": "1d7ed75e",
   "metadata": {},
   "source": [
    "## Models with higher level of integration(d>1)"
   ]
  },
  {
   "cell_type": "code",
   "execution_count": 35,
   "id": "e86521ed",
   "metadata": {},
   "outputs": [],
   "source": [
    "## we are doing this because we need to conifrm that d=1 was the stationary data \n",
    "## and to confirm this we will use 'delta' series(delta market_value) instead of market_value series and make arima(1,0,1) model and check its stationarity"
   ]
  },
  {
   "cell_type": "code",
   "execution_count": 36,
   "id": "94f887d9",
   "metadata": {},
   "outputs": [],
   "source": [
    "df['delta_prices'] =df.market_value.diff(1)"
   ]
  },
  {
   "cell_type": "code",
   "execution_count": 37,
   "id": "6b8eb75c",
   "metadata": {},
   "outputs": [
    {
     "data": {
      "text/html": [
       "<table class=\"simpletable\">\n",
       "<caption>ARMA Model Results</caption>\n",
       "<tr>\n",
       "  <th>Dep. Variable:</th>   <td>delta_prices</td>   <th>  No. Observations:  </th>    <td>6276</td>   \n",
       "</tr>\n",
       "<tr>\n",
       "  <th>Model:</th>            <td>ARMA(1, 1)</td>    <th>  Log Likelihood     </th> <td>-34417.629</td>\n",
       "</tr>\n",
       "<tr>\n",
       "  <th>Method:</th>             <td>css-mle</td>     <th>  S.D. of innovations</th>   <td>58.269</td>  \n",
       "</tr>\n",
       "<tr>\n",
       "  <th>Date:</th>          <td>Sun, 06 Feb 2022</td> <th>  AIC                </th>  <td>68843.257</td>\n",
       "</tr>\n",
       "<tr>\n",
       "  <th>Time:</th>              <td>16:31:20</td>     <th>  BIC                </th>  <td>68870.235</td>\n",
       "</tr>\n",
       "<tr>\n",
       "  <th>Sample:</th>           <td>01-10-1994</td>    <th>  HQIC               </th>  <td>68852.605</td>\n",
       "</tr>\n",
       "<tr>\n",
       "  <th></th>                 <td>- 01-29-2018</td>   <th>                     </th>      <td> </td>    \n",
       "</tr>\n",
       "</table>\n",
       "<table class=\"simpletable\">\n",
       "<tr>\n",
       "           <td></td>             <th>coef</th>     <th>std err</th>      <th>z</th>      <th>P>|z|</th>  <th>[0.025</th>    <th>0.975]</th>  \n",
       "</tr>\n",
       "<tr>\n",
       "  <th>const</th>              <td>    0.6751</td> <td>    0.581</td> <td>    1.161</td> <td> 0.246</td> <td>   -0.464</td> <td>    1.815</td>\n",
       "</tr>\n",
       "<tr>\n",
       "  <th>ar.L1.delta_prices</th> <td>    0.8343</td> <td>    0.077</td> <td>   10.770</td> <td> 0.000</td> <td>    0.682</td> <td>    0.986</td>\n",
       "</tr>\n",
       "<tr>\n",
       "  <th>ma.L1.delta_prices</th> <td>   -0.8690</td> <td>    0.070</td> <td>  -12.452</td> <td> 0.000</td> <td>   -1.006</td> <td>   -0.732</td>\n",
       "</tr>\n",
       "</table>\n",
       "<table class=\"simpletable\">\n",
       "<caption>Roots</caption>\n",
       "<tr>\n",
       "    <td></td>   <th>            Real</th>  <th>         Imaginary</th> <th>         Modulus</th>  <th>        Frequency</th>\n",
       "</tr>\n",
       "<tr>\n",
       "  <th>AR.1</th> <td>           1.1987</td> <td>          +0.0000j</td> <td>           1.1987</td> <td>           0.0000</td>\n",
       "</tr>\n",
       "<tr>\n",
       "  <th>MA.1</th> <td>           1.1507</td> <td>          +0.0000j</td> <td>           1.1507</td> <td>           0.0000</td>\n",
       "</tr>\n",
       "</table>"
      ],
      "text/plain": [
       "<class 'statsmodels.iolib.summary.Summary'>\n",
       "\"\"\"\n",
       "                              ARMA Model Results                              \n",
       "==============================================================================\n",
       "Dep. Variable:           delta_prices   No. Observations:                 6276\n",
       "Model:                     ARMA(1, 1)   Log Likelihood              -34417.629\n",
       "Method:                       css-mle   S.D. of innovations             58.269\n",
       "Date:                Sun, 06 Feb 2022   AIC                          68843.257\n",
       "Time:                        16:31:20   BIC                          68870.235\n",
       "Sample:                    01-10-1994   HQIC                         68852.605\n",
       "                         - 01-29-2018                                         \n",
       "======================================================================================\n",
       "                         coef    std err          z      P>|z|      [0.025      0.975]\n",
       "--------------------------------------------------------------------------------------\n",
       "const                  0.6751      0.581      1.161      0.246      -0.464       1.815\n",
       "ar.L1.delta_prices     0.8343      0.077     10.770      0.000       0.682       0.986\n",
       "ma.L1.delta_prices    -0.8690      0.070    -12.452      0.000      -1.006      -0.732\n",
       "                                    Roots                                    \n",
       "=============================================================================\n",
       "                  Real          Imaginary           Modulus         Frequency\n",
       "-----------------------------------------------------------------------------\n",
       "AR.1            1.1987           +0.0000j            1.1987            0.0000\n",
       "MA.1            1.1507           +0.0000j            1.1507            0.0000\n",
       "-----------------------------------------------------------------------------\n",
       "\"\"\""
      ]
     },
     "execution_count": 37,
     "metadata": {},
     "output_type": "execute_result"
    }
   ],
   "source": [
    "model_delta_ar1_i0_ma1=ARIMA(df.delta_prices[1:],order=(1,0,1))\n",
    "results_delta_ar1_i0_ma1=model_delta_ar1_i0_ma1.fit()\n",
    "results_delta_ar1_i0_ma1.summary()"
   ]
  },
  {
   "cell_type": "code",
   "execution_count": 38,
   "id": "7c979cec",
   "metadata": {},
   "outputs": [],
   "source": [
    "## results are similar to arima(1,1,1)"
   ]
  },
  {
   "cell_type": "code",
   "execution_count": 39,
   "id": "541844c7",
   "metadata": {},
   "outputs": [
    {
     "data": {
      "text/plain": [
       "(-35.59973234219259,\n",
       " 0.0,\n",
       " 5,\n",
       " 6270,\n",
       " {'1%': -3.4313933778649943,\n",
       "  '5%': -2.862001080749219,\n",
       "  '10%': -2.567015430304048},\n",
       " 68468.13611640701)"
      ]
     },
     "execution_count": 39,
     "metadata": {},
     "output_type": "execute_result"
    }
   ],
   "source": [
    "sts.adfuller(df['delta_prices'][1:])"
   ]
  },
  {
   "cell_type": "code",
   "execution_count": 40,
   "id": "76ba39b5",
   "metadata": {},
   "outputs": [],
   "source": [
    "##hence results shows that d=1 is stationary, and we need not to go further additional layer like d=2,3,4..."
   ]
  },
  {
   "cell_type": "code",
   "execution_count": 41,
   "id": "24ee2857",
   "metadata": {},
   "outputs": [],
   "source": [
    "## the purpose of integration is to reach the stationarity but here we reached at d=1 so no need of further integration"
   ]
  },
  {
   "cell_type": "markdown",
   "id": "bb4b40e4",
   "metadata": {},
   "source": [
    "## ARIMAX"
   ]
  },
  {
   "cell_type": "code",
   "execution_count": 42,
   "id": "cc961daa",
   "metadata": {},
   "outputs": [
    {
     "data": {
      "text/html": [
       "<table class=\"simpletable\">\n",
       "<caption>ARIMA Model Results</caption>\n",
       "<tr>\n",
       "  <th>Dep. Variable:</th>  <td>D.market_value</td>  <th>  No. Observations:  </th>    <td>6276</td>   \n",
       "</tr>\n",
       "<tr>\n",
       "  <th>Model:</th>          <td>ARIMA(1, 1, 1)</td>  <th>  Log Likelihood     </th> <td>-34417.374</td>\n",
       "</tr>\n",
       "<tr>\n",
       "  <th>Method:</th>             <td>css-mle</td>     <th>  S.D. of innovations</th>   <td>58.266</td>  \n",
       "</tr>\n",
       "<tr>\n",
       "  <th>Date:</th>          <td>Sun, 06 Feb 2022</td> <th>  AIC                </th>  <td>68844.747</td>\n",
       "</tr>\n",
       "<tr>\n",
       "  <th>Time:</th>              <td>16:31:22</td>     <th>  BIC                </th>  <td>68878.469</td>\n",
       "</tr>\n",
       "<tr>\n",
       "  <th>Sample:</th>           <td>01-10-1994</td>    <th>  HQIC               </th>  <td>68856.431</td>\n",
       "</tr>\n",
       "<tr>\n",
       "  <th></th>                 <td>- 01-29-2018</td>   <th>                     </th>      <td> </td>    \n",
       "</tr>\n",
       "</table>\n",
       "<table class=\"simpletable\">\n",
       "<tr>\n",
       "            <td></td>              <th>coef</th>     <th>std err</th>      <th>z</th>      <th>P>|z|</th>  <th>[0.025</th>    <th>0.975]</th>  \n",
       "</tr>\n",
       "<tr>\n",
       "  <th>const</th>                <td>   -0.4014</td> <td>    1.654</td> <td>   -0.243</td> <td> 0.808</td> <td>   -3.643</td> <td>    2.840</td>\n",
       "</tr>\n",
       "<tr>\n",
       "  <th>spx</th>                  <td>    0.0008</td> <td>    0.001</td> <td>    0.697</td> <td> 0.485</td> <td>   -0.002</td> <td>    0.003</td>\n",
       "</tr>\n",
       "<tr>\n",
       "  <th>ar.L1.D.market_value</th> <td>    0.8324</td> <td>    0.078</td> <td>   10.734</td> <td> 0.000</td> <td>    0.680</td> <td>    0.984</td>\n",
       "</tr>\n",
       "<tr>\n",
       "  <th>ma.L1.D.market_value</th> <td>   -0.8672</td> <td>    0.070</td> <td>  -12.395</td> <td> 0.000</td> <td>   -1.004</td> <td>   -0.730</td>\n",
       "</tr>\n",
       "</table>\n",
       "<table class=\"simpletable\">\n",
       "<caption>Roots</caption>\n",
       "<tr>\n",
       "    <td></td>   <th>            Real</th>  <th>         Imaginary</th> <th>         Modulus</th>  <th>        Frequency</th>\n",
       "</tr>\n",
       "<tr>\n",
       "  <th>AR.1</th> <td>           1.2014</td> <td>          +0.0000j</td> <td>           1.2014</td> <td>           0.0000</td>\n",
       "</tr>\n",
       "<tr>\n",
       "  <th>MA.1</th> <td>           1.1531</td> <td>          +0.0000j</td> <td>           1.1531</td> <td>           0.0000</td>\n",
       "</tr>\n",
       "</table>"
      ],
      "text/plain": [
       "<class 'statsmodels.iolib.summary.Summary'>\n",
       "\"\"\"\n",
       "                             ARIMA Model Results                              \n",
       "==============================================================================\n",
       "Dep. Variable:         D.market_value   No. Observations:                 6276\n",
       "Model:                 ARIMA(1, 1, 1)   Log Likelihood              -34417.374\n",
       "Method:                       css-mle   S.D. of innovations             58.266\n",
       "Date:                Sun, 06 Feb 2022   AIC                          68844.747\n",
       "Time:                        16:31:22   BIC                          68878.469\n",
       "Sample:                    01-10-1994   HQIC                         68856.431\n",
       "                         - 01-29-2018                                         \n",
       "========================================================================================\n",
       "                           coef    std err          z      P>|z|      [0.025      0.975]\n",
       "----------------------------------------------------------------------------------------\n",
       "const                   -0.4014      1.654     -0.243      0.808      -3.643       2.840\n",
       "spx                      0.0008      0.001      0.697      0.485      -0.002       0.003\n",
       "ar.L1.D.market_value     0.8324      0.078     10.734      0.000       0.680       0.984\n",
       "ma.L1.D.market_value    -0.8672      0.070    -12.395      0.000      -1.004      -0.730\n",
       "                                    Roots                                    \n",
       "=============================================================================\n",
       "                  Real          Imaginary           Modulus         Frequency\n",
       "-----------------------------------------------------------------------------\n",
       "AR.1            1.2014           +0.0000j            1.2014            0.0000\n",
       "MA.1            1.1531           +0.0000j            1.1531            0.0000\n",
       "-----------------------------------------------------------------------------\n",
       "\"\"\""
      ]
     },
     "execution_count": 42,
     "metadata": {},
     "output_type": "execute_result"
    }
   ],
   "source": [
    "model_ar1_i1_ma1_Xspx=ARIMA(df.market_value,exog=df.spx,order=(1,1,1))\n",
    "results_ar1_i1_ma1_Xspx=model_ar1_i1_ma1_Xspx.fit()\n",
    "results_ar1_i1_ma1_Xspx.summary()"
   ]
  },
  {
   "cell_type": "markdown",
   "id": "15affd11",
   "metadata": {},
   "source": [
    "## SARIMAX"
   ]
  },
  {
   "cell_type": "code",
   "execution_count": 43,
   "id": "ea77bc79",
   "metadata": {},
   "outputs": [],
   "source": [
    "from statsmodels.tsa.statespace.sarimax import SARIMAX"
   ]
  },
  {
   "cell_type": "code",
   "execution_count": 44,
   "id": "6c85ddaa",
   "metadata": {},
   "outputs": [
    {
     "data": {
      "text/html": [
       "<table class=\"simpletable\">\n",
       "<caption>SARIMAX Results</caption>\n",
       "<tr>\n",
       "  <th>Dep. Variable:</th>           <td>market_value</td>          <th>  No. Observations:  </th>    <td>6277</td>   \n",
       "</tr>\n",
       "<tr>\n",
       "  <th>Model:</th>           <td>SARIMAX(1, 0, 1)x(2, 0, 1, 5)</td> <th>  Log Likelihood     </th> <td>-33301.102</td>\n",
       "</tr>\n",
       "<tr>\n",
       "  <th>Date:</th>                  <td>Sun, 06 Feb 2022</td>        <th>  AIC                </th>  <td>66616.205</td>\n",
       "</tr>\n",
       "<tr>\n",
       "  <th>Time:</th>                      <td>16:31:38</td>            <th>  BIC                </th>  <td>66663.417</td>\n",
       "</tr>\n",
       "<tr>\n",
       "  <th>Sample:</th>                   <td>01-07-1994</td>           <th>  HQIC               </th>  <td>66632.563</td>\n",
       "</tr>\n",
       "<tr>\n",
       "  <th></th>                         <td>- 01-29-2018</td>          <th>                     </th>      <td> </td>    \n",
       "</tr>\n",
       "<tr>\n",
       "  <th>Covariance Type:</th>              <td>opg</td>              <th>                     </th>      <td> </td>    \n",
       "</tr>\n",
       "</table>\n",
       "<table class=\"simpletable\">\n",
       "<tr>\n",
       "      <td></td>        <th>coef</th>     <th>std err</th>      <th>z</th>      <th>P>|z|</th>  <th>[0.025</th>    <th>0.975]</th>  \n",
       "</tr>\n",
       "<tr>\n",
       "  <th>spx</th>      <td>    2.5695</td> <td>    0.031</td> <td>   83.439</td> <td> 0.000</td> <td>    2.509</td> <td>    2.630</td>\n",
       "</tr>\n",
       "<tr>\n",
       "  <th>ar.L1</th>    <td>    0.9997</td> <td>    0.000</td> <td> 2279.001</td> <td> 0.000</td> <td>    0.999</td> <td>    1.001</td>\n",
       "</tr>\n",
       "<tr>\n",
       "  <th>ma.L1</th>    <td>   -0.2799</td> <td>    0.009</td> <td>  -32.292</td> <td> 0.000</td> <td>   -0.297</td> <td>   -0.263</td>\n",
       "</tr>\n",
       "<tr>\n",
       "  <th>ar.S.L5</th>  <td>    0.9692</td> <td>    0.009</td> <td>  102.471</td> <td> 0.000</td> <td>    0.951</td> <td>    0.988</td>\n",
       "</tr>\n",
       "<tr>\n",
       "  <th>ar.S.L10</th> <td>    0.0305</td> <td>    0.009</td> <td>    3.382</td> <td> 0.001</td> <td>    0.013</td> <td>    0.048</td>\n",
       "</tr>\n",
       "<tr>\n",
       "  <th>ma.S.L5</th>  <td>   -0.9992</td> <td>    0.004</td> <td> -256.021</td> <td> 0.000</td> <td>   -1.007</td> <td>   -0.992</td>\n",
       "</tr>\n",
       "<tr>\n",
       "  <th>sigma2</th>   <td> 2371.2529</td> <td>   25.359</td> <td>   93.506</td> <td> 0.000</td> <td> 2321.550</td> <td> 2420.956</td>\n",
       "</tr>\n",
       "</table>\n",
       "<table class=\"simpletable\">\n",
       "<tr>\n",
       "  <th>Ljung-Box (L1) (Q):</th>     <td>0.91</td> <th>  Jarque-Bera (JB):  </th> <td>4463.71</td>\n",
       "</tr>\n",
       "<tr>\n",
       "  <th>Prob(Q):</th>                <td>0.34</td> <th>  Prob(JB):          </th>  <td>0.00</td>  \n",
       "</tr>\n",
       "<tr>\n",
       "  <th>Heteroskedasticity (H):</th> <td>0.77</td> <th>  Skew:              </th>  <td>-0.41</td> \n",
       "</tr>\n",
       "<tr>\n",
       "  <th>Prob(H) (two-sided):</th>    <td>0.00</td> <th>  Kurtosis:          </th>  <td>7.05</td>  \n",
       "</tr>\n",
       "</table><br/><br/>Warnings:<br/>[1] Covariance matrix calculated using the outer product of gradients (complex-step)."
      ],
      "text/plain": [
       "<class 'statsmodels.iolib.summary.Summary'>\n",
       "\"\"\"\n",
       "                                     SARIMAX Results                                     \n",
       "=========================================================================================\n",
       "Dep. Variable:                      market_value   No. Observations:                 6277\n",
       "Model:             SARIMAX(1, 0, 1)x(2, 0, 1, 5)   Log Likelihood              -33301.102\n",
       "Date:                           Sun, 06 Feb 2022   AIC                          66616.205\n",
       "Time:                                   16:31:38   BIC                          66663.417\n",
       "Sample:                               01-07-1994   HQIC                         66632.563\n",
       "                                    - 01-29-2018                                         \n",
       "Covariance Type:                             opg                                         \n",
       "==============================================================================\n",
       "                 coef    std err          z      P>|z|      [0.025      0.975]\n",
       "------------------------------------------------------------------------------\n",
       "spx            2.5695      0.031     83.439      0.000       2.509       2.630\n",
       "ar.L1          0.9997      0.000   2279.001      0.000       0.999       1.001\n",
       "ma.L1         -0.2799      0.009    -32.292      0.000      -0.297      -0.263\n",
       "ar.S.L5        0.9692      0.009    102.471      0.000       0.951       0.988\n",
       "ar.S.L10       0.0305      0.009      3.382      0.001       0.013       0.048\n",
       "ma.S.L5       -0.9992      0.004   -256.021      0.000      -1.007      -0.992\n",
       "sigma2      2371.2529     25.359     93.506      0.000    2321.550    2420.956\n",
       "===================================================================================\n",
       "Ljung-Box (L1) (Q):                   0.91   Jarque-Bera (JB):              4463.71\n",
       "Prob(Q):                              0.34   Prob(JB):                         0.00\n",
       "Heteroskedasticity (H):               0.77   Skew:                            -0.41\n",
       "Prob(H) (two-sided):                  0.00   Kurtosis:                         7.05\n",
       "===================================================================================\n",
       "\n",
       "Warnings:\n",
       "[1] Covariance matrix calculated using the outer product of gradients (complex-step).\n",
       "\"\"\""
      ]
     },
     "execution_count": 44,
     "metadata": {},
     "output_type": "execute_result"
    }
   ],
   "source": [
    "model_sarimax=SARIMAX(df.market_value,exog=df.spx,order=(1,0,1),seasonal_order=(2,0,1,5))\n",
    "results_sarimax=model_sarimax.fit()\n",
    "results_sarimax.summary()"
   ]
  },
  {
   "cell_type": "code",
   "execution_count": 45,
   "id": "04630766",
   "metadata": {},
   "outputs": [],
   "source": [
    "df['returns']=df.market_value.pct_change(1)*100"
   ]
  },
  {
   "cell_type": "code",
   "execution_count": 46,
   "id": "0eed7d60",
   "metadata": {},
   "outputs": [],
   "source": [
    "df['sq_returns']=df.returns.mul(df.returns)"
   ]
  },
  {
   "cell_type": "code",
   "execution_count": 47,
   "id": "2e04372f",
   "metadata": {},
   "outputs": [
    {
     "data": {
      "image/png": "[encoded data removed]",
      "text/plain": [
       "<Figure size 1440x360 with 1 Axes>"
      ]
     },
     "metadata": {
      "needs_background": "light"
     },
     "output_type": "display_data"
    }
   ],
   "source": [
    "df.returns.plot(figsize=(20,5))\n",
    "plt.title('returns')\n",
    "plt.show()"
   ]
  }
 ],
 "metadata": {
  "kernelspec": {
   "display_name": "Python 3",
   "language": "python",
   "name": "python3"
  },
  "language_info": {
   "codemirror_mode": {
    "name": "ipython",
    "version": 3
   },
   "file_extension": ".py",
   "mimetype": "text/x-python",
   "name": "python",
   "nbconvert_exporter": "python",
   "pygments_lexer": "ipython3",
   "version": "3.8.8"
  }
 },
 "nbformat": 4,
 "nbformat_minor": 5
}
