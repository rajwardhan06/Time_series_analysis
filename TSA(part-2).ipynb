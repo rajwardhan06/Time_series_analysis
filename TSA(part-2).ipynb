{
 "cells": [
  {
   "cell_type": "code",
   "execution_count": 1,
   "id": "85adfe07",
   "metadata": {},
   "outputs": [],
   "source": [
    "import pandas as pd\n",
    "import numpy as np\n",
    "import statsmodels.tsa.stattools as sts\n",
    "from statsmodels.tsa.seasonal import seasonal_decompose\n",
    "import statsmodels.graphics.tsaplots as sgt\n",
    "from statsmodels.tsa.arima_model import ARMA\n",
    "from scipy.stats.distributions import chi2\n",
    "from matplotlib import pyplot as plt\n",
    "import warnings \n",
    "warnings.filterwarnings('ignore')"
   ]
  },
  {
   "cell_type": "code",
   "execution_count": 2,
   "id": "852908f3",
   "metadata": {},
   "outputs": [
    {
     "data": {
      "text/html": [
       "<div>\n",
       "<style scoped>\n",
       "    .dataframe tbody tr th:only-of-type {\n",
       "        vertical-align: middle;\n",
       "    }\n",
       "\n",
       "    .dataframe tbody tr th {\n",
       "        vertical-align: top;\n",
       "    }\n",
       "\n",
       "    .dataframe thead th {\n",
       "        text-align: right;\n",
       "    }\n",
       "</style>\n",
       "<table border=\"1\" class=\"dataframe\">\n",
       "  <thead>\n",
       "    <tr style=\"text-align: right;\">\n",
       "      <th></th>\n",
       "      <th>date</th>\n",
       "      <th>spx</th>\n",
       "      <th>dax</th>\n",
       "      <th>ftse</th>\n",
       "      <th>nikkei</th>\n",
       "    </tr>\n",
       "  </thead>\n",
       "  <tbody>\n",
       "    <tr>\n",
       "      <th>0</th>\n",
       "      <td>07/01/1994</td>\n",
       "      <td>469.90</td>\n",
       "      <td>2224.95</td>\n",
       "      <td>3445.98</td>\n",
       "      <td>18124.01</td>\n",
       "    </tr>\n",
       "    <tr>\n",
       "      <th>1</th>\n",
       "      <td>10/01/1994</td>\n",
       "      <td>475.27</td>\n",
       "      <td>2225.00</td>\n",
       "      <td>3440.58</td>\n",
       "      <td>18443.44</td>\n",
       "    </tr>\n",
       "    <tr>\n",
       "      <th>2</th>\n",
       "      <td>11/01/1994</td>\n",
       "      <td>474.13</td>\n",
       "      <td>2228.10</td>\n",
       "      <td>3413.77</td>\n",
       "      <td>18485.25</td>\n",
       "    </tr>\n",
       "    <tr>\n",
       "      <th>3</th>\n",
       "      <td>12/01/1994</td>\n",
       "      <td>474.17</td>\n",
       "      <td>2182.06</td>\n",
       "      <td>3372.02</td>\n",
       "      <td>18793.88</td>\n",
       "    </tr>\n",
       "    <tr>\n",
       "      <th>4</th>\n",
       "      <td>13/01/1994</td>\n",
       "      <td>472.47</td>\n",
       "      <td>2142.37</td>\n",
       "      <td>3360.01</td>\n",
       "      <td>18577.26</td>\n",
       "    </tr>\n",
       "  </tbody>\n",
       "</table>\n",
       "</div>"
      ],
      "text/plain": [
       "         date     spx      dax     ftse    nikkei\n",
       "0  07/01/1994  469.90  2224.95  3445.98  18124.01\n",
       "1  10/01/1994  475.27  2225.00  3440.58  18443.44\n",
       "2  11/01/1994  474.13  2228.10  3413.77  18485.25\n",
       "3  12/01/1994  474.17  2182.06  3372.02  18793.88\n",
       "4  13/01/1994  472.47  2142.37  3360.01  18577.26"
      ]
     },
     "execution_count": 2,
     "metadata": {},
     "output_type": "execute_result"
    }
   ],
   "source": [
    "data=pd.read_csv('index2018.csv')\n",
    "df=data.copy()\n",
    "df.head()"
   ]
  },
  {
   "cell_type": "code",
   "execution_count": 3,
   "id": "f9eb1139",
   "metadata": {},
   "outputs": [
    {
     "data": {
      "text/html": [
       "<div>\n",
       "<style scoped>\n",
       "    .dataframe tbody tr th:only-of-type {\n",
       "        vertical-align: middle;\n",
       "    }\n",
       "\n",
       "    .dataframe tbody tr th {\n",
       "        vertical-align: top;\n",
       "    }\n",
       "\n",
       "    .dataframe thead th {\n",
       "        text-align: right;\n",
       "    }\n",
       "</style>\n",
       "<table border=\"1\" class=\"dataframe\">\n",
       "  <thead>\n",
       "    <tr style=\"text-align: right;\">\n",
       "      <th></th>\n",
       "      <th>date</th>\n",
       "      <th>spx</th>\n",
       "      <th>dax</th>\n",
       "      <th>ftse</th>\n",
       "      <th>nikkei</th>\n",
       "    </tr>\n",
       "  </thead>\n",
       "  <tbody>\n",
       "    <tr>\n",
       "      <th>0</th>\n",
       "      <td>1994-01-07</td>\n",
       "      <td>469.90</td>\n",
       "      <td>2224.95</td>\n",
       "      <td>3445.98</td>\n",
       "      <td>18124.01</td>\n",
       "    </tr>\n",
       "    <tr>\n",
       "      <th>1</th>\n",
       "      <td>1994-01-10</td>\n",
       "      <td>475.27</td>\n",
       "      <td>2225.00</td>\n",
       "      <td>3440.58</td>\n",
       "      <td>18443.44</td>\n",
       "    </tr>\n",
       "    <tr>\n",
       "      <th>2</th>\n",
       "      <td>1994-01-11</td>\n",
       "      <td>474.13</td>\n",
       "      <td>2228.10</td>\n",
       "      <td>3413.77</td>\n",
       "      <td>18485.25</td>\n",
       "    </tr>\n",
       "    <tr>\n",
       "      <th>3</th>\n",
       "      <td>1994-01-12</td>\n",
       "      <td>474.17</td>\n",
       "      <td>2182.06</td>\n",
       "      <td>3372.02</td>\n",
       "      <td>18793.88</td>\n",
       "    </tr>\n",
       "    <tr>\n",
       "      <th>4</th>\n",
       "      <td>1994-01-13</td>\n",
       "      <td>472.47</td>\n",
       "      <td>2142.37</td>\n",
       "      <td>3360.01</td>\n",
       "      <td>18577.26</td>\n",
       "    </tr>\n",
       "  </tbody>\n",
       "</table>\n",
       "</div>"
      ],
      "text/plain": [
       "        date     spx      dax     ftse    nikkei\n",
       "0 1994-01-07  469.90  2224.95  3445.98  18124.01\n",
       "1 1994-01-10  475.27  2225.00  3440.58  18443.44\n",
       "2 1994-01-11  474.13  2228.10  3413.77  18485.25\n",
       "3 1994-01-12  474.17  2182.06  3372.02  18793.88\n",
       "4 1994-01-13  472.47  2142.37  3360.01  18577.26"
      ]
     },
     "execution_count": 3,
     "metadata": {},
     "output_type": "execute_result"
    }
   ],
   "source": [
    "df['date']=pd.to_datetime(df['date'],dayfirst=True)\n",
    "df.head()"
   ]
  },
  {
   "cell_type": "code",
   "execution_count": 4,
   "id": "646ed052",
   "metadata": {},
   "outputs": [
    {
     "data": {
      "text/html": [
       "<div>\n",
       "<style scoped>\n",
       "    .dataframe tbody tr th:only-of-type {\n",
       "        vertical-align: middle;\n",
       "    }\n",
       "\n",
       "    .dataframe tbody tr th {\n",
       "        vertical-align: top;\n",
       "    }\n",
       "\n",
       "    .dataframe thead th {\n",
       "        text-align: right;\n",
       "    }\n",
       "</style>\n",
       "<table border=\"1\" class=\"dataframe\">\n",
       "  <thead>\n",
       "    <tr style=\"text-align: right;\">\n",
       "      <th></th>\n",
       "      <th>spx</th>\n",
       "      <th>dax</th>\n",
       "      <th>ftse</th>\n",
       "      <th>nikkei</th>\n",
       "    </tr>\n",
       "    <tr>\n",
       "      <th>date</th>\n",
       "      <th></th>\n",
       "      <th></th>\n",
       "      <th></th>\n",
       "      <th></th>\n",
       "    </tr>\n",
       "  </thead>\n",
       "  <tbody>\n",
       "    <tr>\n",
       "      <th>1994-01-07</th>\n",
       "      <td>469.90</td>\n",
       "      <td>2224.95</td>\n",
       "      <td>3445.98</td>\n",
       "      <td>18124.01</td>\n",
       "    </tr>\n",
       "    <tr>\n",
       "      <th>1994-01-10</th>\n",
       "      <td>475.27</td>\n",
       "      <td>2225.00</td>\n",
       "      <td>3440.58</td>\n",
       "      <td>18443.44</td>\n",
       "    </tr>\n",
       "    <tr>\n",
       "      <th>1994-01-11</th>\n",
       "      <td>474.13</td>\n",
       "      <td>2228.10</td>\n",
       "      <td>3413.77</td>\n",
       "      <td>18485.25</td>\n",
       "    </tr>\n",
       "    <tr>\n",
       "      <th>1994-01-12</th>\n",
       "      <td>474.17</td>\n",
       "      <td>2182.06</td>\n",
       "      <td>3372.02</td>\n",
       "      <td>18793.88</td>\n",
       "    </tr>\n",
       "    <tr>\n",
       "      <th>1994-01-13</th>\n",
       "      <td>472.47</td>\n",
       "      <td>2142.37</td>\n",
       "      <td>3360.01</td>\n",
       "      <td>18577.26</td>\n",
       "    </tr>\n",
       "  </tbody>\n",
       "</table>\n",
       "</div>"
      ],
      "text/plain": [
       "               spx      dax     ftse    nikkei\n",
       "date                                          \n",
       "1994-01-07  469.90  2224.95  3445.98  18124.01\n",
       "1994-01-10  475.27  2225.00  3440.58  18443.44\n",
       "1994-01-11  474.13  2228.10  3413.77  18485.25\n",
       "1994-01-12  474.17  2182.06  3372.02  18793.88\n",
       "1994-01-13  472.47  2142.37  3360.01  18577.26"
      ]
     },
     "execution_count": 4,
     "metadata": {},
     "output_type": "execute_result"
    }
   ],
   "source": [
    "df.set_index('date',inplace=True)\n",
    "df.head()"
   ]
  },
  {
   "cell_type": "code",
   "execution_count": 5,
   "id": "cbf0a873",
   "metadata": {},
   "outputs": [],
   "source": [
    "df=df.asfreq('b')"
   ]
  },
  {
   "cell_type": "code",
   "execution_count": 6,
   "id": "1e634280",
   "metadata": {},
   "outputs": [
    {
     "data": {
      "text/plain": [
       "spx       8\n",
       "dax       8\n",
       "ftse      8\n",
       "nikkei    8\n",
       "dtype: int64"
      ]
     },
     "execution_count": 6,
     "metadata": {},
     "output_type": "execute_result"
    }
   ],
   "source": [
    "df.isnull().sum()"
   ]
  },
  {
   "cell_type": "code",
   "execution_count": 7,
   "id": "11ed8236",
   "metadata": {},
   "outputs": [],
   "source": [
    "df['spx']=df['spx'].fillna(method='ffill')"
   ]
  },
  {
   "cell_type": "code",
   "execution_count": 8,
   "id": "4c07ed4f",
   "metadata": {},
   "outputs": [],
   "source": [
    "df['ftse']=df['ftse'].fillna(method='bfill')"
   ]
  },
  {
   "cell_type": "code",
   "execution_count": 9,
   "id": "90691153",
   "metadata": {},
   "outputs": [],
   "source": [
    "df['dax']=df['dax'].fillna(df['dax'].mean())"
   ]
  },
  {
   "cell_type": "code",
   "execution_count": 10,
   "id": "5f655ca0",
   "metadata": {},
   "outputs": [
    {
     "data": {
      "text/html": [
       "<div>\n",
       "<style scoped>\n",
       "    .dataframe tbody tr th:only-of-type {\n",
       "        vertical-align: middle;\n",
       "    }\n",
       "\n",
       "    .dataframe tbody tr th {\n",
       "        vertical-align: top;\n",
       "    }\n",
       "\n",
       "    .dataframe thead th {\n",
       "        text-align: right;\n",
       "    }\n",
       "</style>\n",
       "<table border=\"1\" class=\"dataframe\">\n",
       "  <thead>\n",
       "    <tr style=\"text-align: right;\">\n",
       "      <th></th>\n",
       "      <th>spx</th>\n",
       "      <th>dax</th>\n",
       "      <th>nikkei</th>\n",
       "      <th>market_value</th>\n",
       "    </tr>\n",
       "    <tr>\n",
       "      <th>date</th>\n",
       "      <th></th>\n",
       "      <th></th>\n",
       "      <th></th>\n",
       "      <th></th>\n",
       "    </tr>\n",
       "  </thead>\n",
       "  <tbody>\n",
       "    <tr>\n",
       "      <th>1994-01-07</th>\n",
       "      <td>469.90</td>\n",
       "      <td>2224.95</td>\n",
       "      <td>18124.01</td>\n",
       "      <td>3445.98</td>\n",
       "    </tr>\n",
       "    <tr>\n",
       "      <th>1994-01-10</th>\n",
       "      <td>475.27</td>\n",
       "      <td>2225.00</td>\n",
       "      <td>18443.44</td>\n",
       "      <td>3440.58</td>\n",
       "    </tr>\n",
       "    <tr>\n",
       "      <th>1994-01-11</th>\n",
       "      <td>474.13</td>\n",
       "      <td>2228.10</td>\n",
       "      <td>18485.25</td>\n",
       "      <td>3413.77</td>\n",
       "    </tr>\n",
       "    <tr>\n",
       "      <th>1994-01-12</th>\n",
       "      <td>474.17</td>\n",
       "      <td>2182.06</td>\n",
       "      <td>18793.88</td>\n",
       "      <td>3372.02</td>\n",
       "    </tr>\n",
       "    <tr>\n",
       "      <th>1994-01-13</th>\n",
       "      <td>472.47</td>\n",
       "      <td>2142.37</td>\n",
       "      <td>18577.26</td>\n",
       "      <td>3360.01</td>\n",
       "    </tr>\n",
       "  </tbody>\n",
       "</table>\n",
       "</div>"
      ],
      "text/plain": [
       "               spx      dax    nikkei  market_value\n",
       "date                                               \n",
       "1994-01-07  469.90  2224.95  18124.01       3445.98\n",
       "1994-01-10  475.27  2225.00  18443.44       3440.58\n",
       "1994-01-11  474.13  2228.10  18485.25       3413.77\n",
       "1994-01-12  474.17  2182.06  18793.88       3372.02\n",
       "1994-01-13  472.47  2142.37  18577.26       3360.01"
      ]
     },
     "execution_count": 10,
     "metadata": {},
     "output_type": "execute_result"
    }
   ],
   "source": [
    "df['market_value']=df['ftse']\n",
    "del df['ftse']\n",
    "df.head()"
   ]
  },
  {
   "cell_type": "code",
   "execution_count": 11,
   "id": "5d21155d",
   "metadata": {},
   "outputs": [],
   "source": [
    "df['returns']=df.market_value.pct_change(1).mul(100)\n",
    "df=df.iloc[1:]"
   ]
  },
  {
   "cell_type": "code",
   "execution_count": 12,
   "id": "a7a42420",
   "metadata": {},
   "outputs": [
    {
     "data": {
      "text/plain": [
       "(-15.139421215023173,\n",
       " 7.045534847762472e-28,\n",
       " 33,\n",
       " 6242,\n",
       " {'1%': -3.4313980601154883,\n",
       "  '5%': -2.8620031495251346,\n",
       "  '10%': -2.567016531562964},\n",
       " 19028.497135210317)"
      ]
     },
     "execution_count": 12,
     "metadata": {},
     "output_type": "execute_result"
    }
   ],
   "source": [
    "sts.adfuller(df.returns)"
   ]
  },
  {
   "cell_type": "markdown",
   "id": "c4951fff",
   "metadata": {},
   "source": [
    "## AR-1 model for returns "
   ]
  },
  {
   "cell_type": "code",
   "execution_count": 13,
   "id": "7a0c959f",
   "metadata": {},
   "outputs": [
    {
     "data": {
      "text/html": [
       "<table class=\"simpletable\">\n",
       "<caption>ARMA Model Results</caption>\n",
       "<tr>\n",
       "  <th>Dep. Variable:</th>      <td>returns</td>     <th>  No. Observations:  </th>   <td>6276</td>   \n",
       "</tr>\n",
       "<tr>\n",
       "  <th>Model:</th>            <td>ARMA(1, 0)</td>    <th>  Log Likelihood     </th> <td>-9597.738</td>\n",
       "</tr>\n",
       "<tr>\n",
       "  <th>Method:</th>             <td>css-mle</td>     <th>  S.D. of innovations</th>   <td>1.117</td>  \n",
       "</tr>\n",
       "<tr>\n",
       "  <th>Date:</th>          <td>Tue, 01 Feb 2022</td> <th>  AIC                </th> <td>19201.477</td>\n",
       "</tr>\n",
       "<tr>\n",
       "  <th>Time:</th>              <td>12:13:17</td>     <th>  BIC                </th> <td>19221.710</td>\n",
       "</tr>\n",
       "<tr>\n",
       "  <th>Sample:</th>           <td>01-10-1994</td>    <th>  HQIC               </th> <td>19208.487</td>\n",
       "</tr>\n",
       "<tr>\n",
       "  <th></th>                 <td>- 01-29-2018</td>   <th>                     </th>     <td> </td>    \n",
       "</tr>\n",
       "</table>\n",
       "<table class=\"simpletable\">\n",
       "<tr>\n",
       "        <td></td>           <th>coef</th>     <th>std err</th>      <th>z</th>      <th>P>|z|</th>  <th>[0.025</th>    <th>0.975]</th>  \n",
       "</tr>\n",
       "<tr>\n",
       "  <th>const</th>         <td>    0.0190</td> <td>    0.014</td> <td>    1.371</td> <td> 0.170</td> <td>   -0.008</td> <td>    0.046</td>\n",
       "</tr>\n",
       "<tr>\n",
       "  <th>ar.L1.returns</th> <td>   -0.0173</td> <td>    0.013</td> <td>   -1.370</td> <td> 0.171</td> <td>   -0.042</td> <td>    0.007</td>\n",
       "</tr>\n",
       "</table>\n",
       "<table class=\"simpletable\">\n",
       "<caption>Roots</caption>\n",
       "<tr>\n",
       "    <td></td>   <th>            Real</th>  <th>         Imaginary</th> <th>         Modulus</th>  <th>        Frequency</th>\n",
       "</tr>\n",
       "<tr>\n",
       "  <th>AR.1</th> <td>         -57.8557</td> <td>          +0.0000j</td> <td>          57.8557</td> <td>           0.5000</td>\n",
       "</tr>\n",
       "</table>"
      ],
      "text/plain": [
       "<class 'statsmodels.iolib.summary.Summary'>\n",
       "\"\"\"\n",
       "                              ARMA Model Results                              \n",
       "==============================================================================\n",
       "Dep. Variable:                returns   No. Observations:                 6276\n",
       "Model:                     ARMA(1, 0)   Log Likelihood               -9597.738\n",
       "Method:                       css-mle   S.D. of innovations              1.117\n",
       "Date:                Tue, 01 Feb 2022   AIC                          19201.477\n",
       "Time:                        12:13:17   BIC                          19221.710\n",
       "Sample:                    01-10-1994   HQIC                         19208.487\n",
       "                         - 01-29-2018                                         \n",
       "=================================================================================\n",
       "                    coef    std err          z      P>|z|      [0.025      0.975]\n",
       "---------------------------------------------------------------------------------\n",
       "const             0.0190      0.014      1.371      0.170      -0.008       0.046\n",
       "ar.L1.returns    -0.0173      0.013     -1.370      0.171      -0.042       0.007\n",
       "                                    Roots                                    \n",
       "=============================================================================\n",
       "                  Real          Imaginary           Modulus         Frequency\n",
       "-----------------------------------------------------------------------------\n",
       "AR.1          -57.8557           +0.0000j           57.8557            0.5000\n",
       "-----------------------------------------------------------------------------\n",
       "\"\"\""
      ]
     },
     "execution_count": 13,
     "metadata": {},
     "output_type": "execute_result"
    }
   ],
   "source": [
    "model_ret_ar_1=ARMA(df.returns,order=(1,0))\n",
    "results_ret_ar_1=model_ret_ar_1.fit()\n",
    "results_ret_ar_1.summary()"
   ]
  },
  {
   "cell_type": "code",
   "execution_count": 14,
   "id": "f2a0f5a9",
   "metadata": {},
   "outputs": [],
   "source": [
    "## both c and phi values are insignificant as they are greater than .05"
   ]
  },
  {
   "cell_type": "markdown",
   "id": "147d6655",
   "metadata": {},
   "source": [
    "## higher ar models for returns"
   ]
  },
  {
   "cell_type": "code",
   "execution_count": 15,
   "id": "6a7e7589",
   "metadata": {
    "scrolled": true
   },
   "outputs": [
    {
     "data": {
      "text/html": [
       "<table class=\"simpletable\">\n",
       "<caption>ARMA Model Results</caption>\n",
       "<tr>\n",
       "  <th>Dep. Variable:</th>      <td>returns</td>     <th>  No. Observations:  </th>   <td>6276</td>   \n",
       "</tr>\n",
       "<tr>\n",
       "  <th>Model:</th>            <td>ARMA(2, 0)</td>    <th>  Log Likelihood     </th> <td>-9590.077</td>\n",
       "</tr>\n",
       "<tr>\n",
       "  <th>Method:</th>             <td>css-mle</td>     <th>  S.D. of innovations</th>   <td>1.115</td>  \n",
       "</tr>\n",
       "<tr>\n",
       "  <th>Date:</th>          <td>Tue, 01 Feb 2022</td> <th>  AIC                </th> <td>19188.154</td>\n",
       "</tr>\n",
       "<tr>\n",
       "  <th>Time:</th>              <td>12:13:17</td>     <th>  BIC                </th> <td>19215.132</td>\n",
       "</tr>\n",
       "<tr>\n",
       "  <th>Sample:</th>           <td>01-10-1994</td>    <th>  HQIC               </th> <td>19197.502</td>\n",
       "</tr>\n",
       "<tr>\n",
       "  <th></th>                 <td>- 01-29-2018</td>   <th>                     </th>     <td> </td>    \n",
       "</tr>\n",
       "</table>\n",
       "<table class=\"simpletable\">\n",
       "<tr>\n",
       "        <td></td>           <th>coef</th>     <th>std err</th>      <th>z</th>      <th>P>|z|</th>  <th>[0.025</th>    <th>0.975]</th>  \n",
       "</tr>\n",
       "<tr>\n",
       "  <th>const</th>         <td>    0.0190</td> <td>    0.013</td> <td>    1.440</td> <td> 0.150</td> <td>   -0.007</td> <td>    0.045</td>\n",
       "</tr>\n",
       "<tr>\n",
       "  <th>ar.L1.returns</th> <td>   -0.0181</td> <td>    0.013</td> <td>   -1.439</td> <td> 0.150</td> <td>   -0.043</td> <td>    0.007</td>\n",
       "</tr>\n",
       "<tr>\n",
       "  <th>ar.L2.returns</th> <td>   -0.0494</td> <td>    0.013</td> <td>   -3.917</td> <td> 0.000</td> <td>   -0.074</td> <td>   -0.025</td>\n",
       "</tr>\n",
       "</table>\n",
       "<table class=\"simpletable\">\n",
       "<caption>Roots</caption>\n",
       "<tr>\n",
       "    <td></td>   <th>            Real</th>  <th>         Imaginary</th> <th>         Modulus</th>  <th>        Frequency</th>\n",
       "</tr>\n",
       "<tr>\n",
       "  <th>AR.1</th> <td>          -0.1837</td> <td>          -4.4965j</td> <td>           4.5003</td> <td>          -0.2565</td>\n",
       "</tr>\n",
       "<tr>\n",
       "  <th>AR.2</th> <td>          -0.1837</td> <td>          +4.4965j</td> <td>           4.5003</td> <td>           0.2565</td>\n",
       "</tr>\n",
       "</table>"
      ],
      "text/plain": [
       "<class 'statsmodels.iolib.summary.Summary'>\n",
       "\"\"\"\n",
       "                              ARMA Model Results                              \n",
       "==============================================================================\n",
       "Dep. Variable:                returns   No. Observations:                 6276\n",
       "Model:                     ARMA(2, 0)   Log Likelihood               -9590.077\n",
       "Method:                       css-mle   S.D. of innovations              1.115\n",
       "Date:                Tue, 01 Feb 2022   AIC                          19188.154\n",
       "Time:                        12:13:17   BIC                          19215.132\n",
       "Sample:                    01-10-1994   HQIC                         19197.502\n",
       "                         - 01-29-2018                                         \n",
       "=================================================================================\n",
       "                    coef    std err          z      P>|z|      [0.025      0.975]\n",
       "---------------------------------------------------------------------------------\n",
       "const             0.0190      0.013      1.440      0.150      -0.007       0.045\n",
       "ar.L1.returns    -0.0181      0.013     -1.439      0.150      -0.043       0.007\n",
       "ar.L2.returns    -0.0494      0.013     -3.917      0.000      -0.074      -0.025\n",
       "                                    Roots                                    \n",
       "=============================================================================\n",
       "                  Real          Imaginary           Modulus         Frequency\n",
       "-----------------------------------------------------------------------------\n",
       "AR.1           -0.1837           -4.4965j            4.5003           -0.2565\n",
       "AR.2           -0.1837           +4.4965j            4.5003            0.2565\n",
       "-----------------------------------------------------------------------------\n",
       "\"\"\""
      ]
     },
     "execution_count": 15,
     "metadata": {},
     "output_type": "execute_result"
    }
   ],
   "source": [
    "model_ret_ar_2=ARMA(df.returns,order=(2,0))\n",
    "results_ret_ar_2=model_ret_ar_2.fit()\n",
    "results_ret_ar_2.summary()"
   ]
  },
  {
   "cell_type": "code",
   "execution_count": 16,
   "id": "248d1d89",
   "metadata": {},
   "outputs": [],
   "source": [
    "def llr_test(mod_1,mod_2,DF=1):\n",
    "    L1=mod_1.fit().llf\n",
    "    L2=mod_2.fit().llf\n",
    "    LR=(2*(L2-L1))\n",
    "    P=chi2.sf(LR,DF).round(3)\n",
    "    return P"
   ]
  },
  {
   "cell_type": "code",
   "execution_count": 17,
   "id": "c659428d",
   "metadata": {},
   "outputs": [
    {
     "data": {
      "text/plain": [
       "0.0"
      ]
     },
     "execution_count": 17,
     "metadata": {},
     "output_type": "execute_result"
    }
   ],
   "source": [
    "llr_test(model_ret_ar_1,model_ret_ar_2)"
   ]
  },
  {
   "cell_type": "code",
   "execution_count": 18,
   "id": "4694f9e2",
   "metadata": {},
   "outputs": [
    {
     "data": {
      "text/html": [
       "<table class=\"simpletable\">\n",
       "<caption>ARMA Model Results</caption>\n",
       "<tr>\n",
       "  <th>Dep. Variable:</th>      <td>returns</td>     <th>  No. Observations:  </th>   <td>6276</td>   \n",
       "</tr>\n",
       "<tr>\n",
       "  <th>Model:</th>            <td>ARMA(3, 0)</td>    <th>  Log Likelihood     </th> <td>-9576.486</td>\n",
       "</tr>\n",
       "<tr>\n",
       "  <th>Method:</th>             <td>css-mle</td>     <th>  S.D. of innovations</th>   <td>1.113</td>  \n",
       "</tr>\n",
       "<tr>\n",
       "  <th>Date:</th>          <td>Tue, 01 Feb 2022</td> <th>  AIC                </th> <td>19162.972</td>\n",
       "</tr>\n",
       "<tr>\n",
       "  <th>Time:</th>              <td>12:13:17</td>     <th>  BIC                </th> <td>19196.695</td>\n",
       "</tr>\n",
       "<tr>\n",
       "  <th>Sample:</th>           <td>01-10-1994</td>    <th>  HQIC               </th> <td>19174.656</td>\n",
       "</tr>\n",
       "<tr>\n",
       "  <th></th>                 <td>- 01-29-2018</td>   <th>                     </th>     <td> </td>    \n",
       "</tr>\n",
       "</table>\n",
       "<table class=\"simpletable\">\n",
       "<tr>\n",
       "        <td></td>           <th>coef</th>     <th>std err</th>      <th>z</th>      <th>P>|z|</th>  <th>[0.025</th>    <th>0.975]</th>  \n",
       "</tr>\n",
       "<tr>\n",
       "  <th>const</th>         <td>    0.0190</td> <td>    0.012</td> <td>    1.540</td> <td> 0.124</td> <td>   -0.005</td> <td>    0.043</td>\n",
       "</tr>\n",
       "<tr>\n",
       "  <th>ar.L1.returns</th> <td>   -0.0214</td> <td>    0.013</td> <td>   -1.698</td> <td> 0.089</td> <td>   -0.046</td> <td>    0.003</td>\n",
       "</tr>\n",
       "<tr>\n",
       "  <th>ar.L2.returns</th> <td>   -0.0506</td> <td>    0.013</td> <td>   -4.020</td> <td> 0.000</td> <td>   -0.075</td> <td>   -0.026</td>\n",
       "</tr>\n",
       "<tr>\n",
       "  <th>ar.L3.returns</th> <td>   -0.0657</td> <td>    0.013</td> <td>   -5.219</td> <td> 0.000</td> <td>   -0.090</td> <td>   -0.041</td>\n",
       "</tr>\n",
       "</table>\n",
       "<table class=\"simpletable\">\n",
       "<caption>Roots</caption>\n",
       "<tr>\n",
       "    <td></td>   <th>            Real</th>  <th>         Imaginary</th> <th>         Modulus</th>  <th>        Frequency</th>\n",
       "</tr>\n",
       "<tr>\n",
       "  <th>AR.1</th> <td>           0.9725</td> <td>          -2.1584j</td> <td>           2.3674</td> <td>          -0.1826</td>\n",
       "</tr>\n",
       "<tr>\n",
       "  <th>AR.2</th> <td>           0.9725</td> <td>          +2.1584j</td> <td>           2.3674</td> <td>           0.1826</td>\n",
       "</tr>\n",
       "<tr>\n",
       "  <th>AR.3</th> <td>          -2.7143</td> <td>          -0.0000j</td> <td>           2.7143</td> <td>          -0.5000</td>\n",
       "</tr>\n",
       "</table>"
      ],
      "text/plain": [
       "<class 'statsmodels.iolib.summary.Summary'>\n",
       "\"\"\"\n",
       "                              ARMA Model Results                              \n",
       "==============================================================================\n",
       "Dep. Variable:                returns   No. Observations:                 6276\n",
       "Model:                     ARMA(3, 0)   Log Likelihood               -9576.486\n",
       "Method:                       css-mle   S.D. of innovations              1.113\n",
       "Date:                Tue, 01 Feb 2022   AIC                          19162.972\n",
       "Time:                        12:13:17   BIC                          19196.695\n",
       "Sample:                    01-10-1994   HQIC                         19174.656\n",
       "                         - 01-29-2018                                         \n",
       "=================================================================================\n",
       "                    coef    std err          z      P>|z|      [0.025      0.975]\n",
       "---------------------------------------------------------------------------------\n",
       "const             0.0190      0.012      1.540      0.124      -0.005       0.043\n",
       "ar.L1.returns    -0.0214      0.013     -1.698      0.089      -0.046       0.003\n",
       "ar.L2.returns    -0.0506      0.013     -4.020      0.000      -0.075      -0.026\n",
       "ar.L3.returns    -0.0657      0.013     -5.219      0.000      -0.090      -0.041\n",
       "                                    Roots                                    \n",
       "=============================================================================\n",
       "                  Real          Imaginary           Modulus         Frequency\n",
       "-----------------------------------------------------------------------------\n",
       "AR.1            0.9725           -2.1584j            2.3674           -0.1826\n",
       "AR.2            0.9725           +2.1584j            2.3674            0.1826\n",
       "AR.3           -2.7143           -0.0000j            2.7143           -0.5000\n",
       "-----------------------------------------------------------------------------\n",
       "\"\"\""
      ]
     },
     "execution_count": 18,
     "metadata": {},
     "output_type": "execute_result"
    }
   ],
   "source": [
    "model_ret_ar_3=ARMA(df.returns,order=(3,0))\n",
    "results_ret_ar_3=model_ret_ar_3.fit()\n",
    "results_ret_ar_3.summary()"
   ]
  },
  {
   "cell_type": "code",
   "execution_count": 19,
   "id": "0dd9b9f7",
   "metadata": {},
   "outputs": [
    {
     "data": {
      "text/plain": [
       "0.0"
      ]
     },
     "execution_count": 19,
     "metadata": {},
     "output_type": "execute_result"
    }
   ],
   "source": [
    "llr_test(model_ret_ar_2,model_ret_ar_3)"
   ]
  },
  {
   "cell_type": "code",
   "execution_count": 20,
   "id": "f9362d2c",
   "metadata": {},
   "outputs": [
    {
     "data": {
      "text/html": [
       "<table class=\"simpletable\">\n",
       "<caption>ARMA Model Results</caption>\n",
       "<tr>\n",
       "  <th>Dep. Variable:</th>      <td>returns</td>     <th>  No. Observations:  </th>   <td>6276</td>   \n",
       "</tr>\n",
       "<tr>\n",
       "  <th>Model:</th>            <td>ARMA(4, 0)</td>    <th>  Log Likelihood     </th> <td>-9573.807</td>\n",
       "</tr>\n",
       "<tr>\n",
       "  <th>Method:</th>             <td>css-mle</td>     <th>  S.D. of innovations</th>   <td>1.112</td>  \n",
       "</tr>\n",
       "<tr>\n",
       "  <th>Date:</th>          <td>Tue, 01 Feb 2022</td> <th>  AIC                </th> <td>19159.613</td>\n",
       "</tr>\n",
       "<tr>\n",
       "  <th>Time:</th>              <td>12:13:18</td>     <th>  BIC                </th> <td>19200.080</td>\n",
       "</tr>\n",
       "<tr>\n",
       "  <th>Sample:</th>           <td>01-10-1994</td>    <th>  HQIC               </th> <td>19173.634</td>\n",
       "</tr>\n",
       "<tr>\n",
       "  <th></th>                 <td>- 01-29-2018</td>   <th>                     </th>     <td> </td>    \n",
       "</tr>\n",
       "</table>\n",
       "<table class=\"simpletable\">\n",
       "<tr>\n",
       "        <td></td>           <th>coef</th>     <th>std err</th>      <th>z</th>      <th>P>|z|</th>  <th>[0.025</th>    <th>0.975]</th>  \n",
       "</tr>\n",
       "<tr>\n",
       "  <th>const</th>         <td>    0.0190</td> <td>    0.013</td> <td>    1.494</td> <td> 0.135</td> <td>   -0.006</td> <td>    0.044</td>\n",
       "</tr>\n",
       "<tr>\n",
       "  <th>ar.L1.returns</th> <td>   -0.0195</td> <td>    0.013</td> <td>   -1.543</td> <td> 0.123</td> <td>   -0.044</td> <td>    0.005</td>\n",
       "</tr>\n",
       "<tr>\n",
       "  <th>ar.L2.returns</th> <td>   -0.0491</td> <td>    0.013</td> <td>   -3.899</td> <td> 0.000</td> <td>   -0.074</td> <td>   -0.024</td>\n",
       "</tr>\n",
       "<tr>\n",
       "  <th>ar.L3.returns</th> <td>   -0.0651</td> <td>    0.013</td> <td>   -5.170</td> <td> 0.000</td> <td>   -0.090</td> <td>   -0.040</td>\n",
       "</tr>\n",
       "<tr>\n",
       "  <th>ar.L4.returns</th> <td>    0.0292</td> <td>    0.013</td> <td>    2.315</td> <td> 0.021</td> <td>    0.004</td> <td>    0.054</td>\n",
       "</tr>\n",
       "</table>\n",
       "<table class=\"simpletable\">\n",
       "<caption>Roots</caption>\n",
       "<tr>\n",
       "    <td></td>   <th>            Real</th>  <th>         Imaginary</th> <th>         Modulus</th>  <th>        Frequency</th>\n",
       "</tr>\n",
       "<tr>\n",
       "  <th>AR.1</th> <td>          -2.1026</td> <td>          -0.0000j</td> <td>           2.1026</td> <td>          -0.5000</td>\n",
       "</tr>\n",
       "<tr>\n",
       "  <th>AR.2</th> <td>           0.3988</td> <td>          -2.1091j</td> <td>           2.1465</td> <td>          -0.2203</td>\n",
       "</tr>\n",
       "<tr>\n",
       "  <th>AR.3</th> <td>           0.3988</td> <td>          +2.1091j</td> <td>           2.1465</td> <td>           0.2203</td>\n",
       "</tr>\n",
       "<tr>\n",
       "  <th>AR.4</th> <td>           3.5335</td> <td>          -0.0000j</td> <td>           3.5335</td> <td>          -0.0000</td>\n",
       "</tr>\n",
       "</table>"
      ],
      "text/plain": [
       "<class 'statsmodels.iolib.summary.Summary'>\n",
       "\"\"\"\n",
       "                              ARMA Model Results                              \n",
       "==============================================================================\n",
       "Dep. Variable:                returns   No. Observations:                 6276\n",
       "Model:                     ARMA(4, 0)   Log Likelihood               -9573.807\n",
       "Method:                       css-mle   S.D. of innovations              1.112\n",
       "Date:                Tue, 01 Feb 2022   AIC                          19159.613\n",
       "Time:                        12:13:18   BIC                          19200.080\n",
       "Sample:                    01-10-1994   HQIC                         19173.634\n",
       "                         - 01-29-2018                                         \n",
       "=================================================================================\n",
       "                    coef    std err          z      P>|z|      [0.025      0.975]\n",
       "---------------------------------------------------------------------------------\n",
       "const             0.0190      0.013      1.494      0.135      -0.006       0.044\n",
       "ar.L1.returns    -0.0195      0.013     -1.543      0.123      -0.044       0.005\n",
       "ar.L2.returns    -0.0491      0.013     -3.899      0.000      -0.074      -0.024\n",
       "ar.L3.returns    -0.0651      0.013     -5.170      0.000      -0.090      -0.040\n",
       "ar.L4.returns     0.0292      0.013      2.315      0.021       0.004       0.054\n",
       "                                    Roots                                    \n",
       "=============================================================================\n",
       "                  Real          Imaginary           Modulus         Frequency\n",
       "-----------------------------------------------------------------------------\n",
       "AR.1           -2.1026           -0.0000j            2.1026           -0.5000\n",
       "AR.2            0.3988           -2.1091j            2.1465           -0.2203\n",
       "AR.3            0.3988           +2.1091j            2.1465            0.2203\n",
       "AR.4            3.5335           -0.0000j            3.5335           -0.0000\n",
       "-----------------------------------------------------------------------------\n",
       "\"\"\""
      ]
     },
     "execution_count": 20,
     "metadata": {},
     "output_type": "execute_result"
    }
   ],
   "source": [
    "model_ret_ar_4=ARMA(df.returns,order=(4,0))\n",
    "results_ret_ar_4=model_ret_ar_4.fit()\n",
    "results_ret_ar_4.summary()"
   ]
  },
  {
   "cell_type": "code",
   "execution_count": 21,
   "id": "dcfec138",
   "metadata": {},
   "outputs": [
    {
     "data": {
      "text/plain": [
       "0.021"
      ]
     },
     "execution_count": 21,
     "metadata": {},
     "output_type": "execute_result"
    }
   ],
   "source": [
    "llr_test(model_ret_ar_3,model_ret_ar_4)"
   ]
  },
  {
   "cell_type": "code",
   "execution_count": 22,
   "id": "e52dd0b1",
   "metadata": {},
   "outputs": [
    {
     "data": {
      "text/html": [
       "<table class=\"simpletable\">\n",
       "<caption>ARMA Model Results</caption>\n",
       "<tr>\n",
       "  <th>Dep. Variable:</th>      <td>returns</td>     <th>  No. Observations:  </th>   <td>6276</td>   \n",
       "</tr>\n",
       "<tr>\n",
       "  <th>Model:</th>            <td>ARMA(5, 0)</td>    <th>  Log Likelihood     </th> <td>-9563.340</td>\n",
       "</tr>\n",
       "<tr>\n",
       "  <th>Method:</th>             <td>css-mle</td>     <th>  S.D. of innovations</th>   <td>1.111</td>  \n",
       "</tr>\n",
       "<tr>\n",
       "  <th>Date:</th>          <td>Tue, 01 Feb 2022</td> <th>  AIC                </th> <td>19140.679</td>\n",
       "</tr>\n",
       "<tr>\n",
       "  <th>Time:</th>              <td>12:13:18</td>     <th>  BIC                </th> <td>19187.890</td>\n",
       "</tr>\n",
       "<tr>\n",
       "  <th>Sample:</th>           <td>01-10-1994</td>    <th>  HQIC               </th> <td>19157.037</td>\n",
       "</tr>\n",
       "<tr>\n",
       "  <th></th>                 <td>- 01-29-2018</td>   <th>                     </th>     <td> </td>    \n",
       "</tr>\n",
       "</table>\n",
       "<table class=\"simpletable\">\n",
       "<tr>\n",
       "        <td></td>           <th>coef</th>     <th>std err</th>      <th>z</th>      <th>P>|z|</th>  <th>[0.025</th>    <th>0.975]</th>  \n",
       "</tr>\n",
       "<tr>\n",
       "  <th>const</th>         <td>    0.0190</td> <td>    0.012</td> <td>    1.584</td> <td> 0.113</td> <td>   -0.005</td> <td>    0.043</td>\n",
       "</tr>\n",
       "<tr>\n",
       "  <th>ar.L1.returns</th> <td>   -0.0178</td> <td>    0.013</td> <td>   -1.411</td> <td> 0.158</td> <td>   -0.042</td> <td>    0.007</td>\n",
       "</tr>\n",
       "<tr>\n",
       "  <th>ar.L2.returns</th> <td>   -0.0529</td> <td>    0.013</td> <td>   -4.196</td> <td> 0.000</td> <td>   -0.078</td> <td>   -0.028</td>\n",
       "</tr>\n",
       "<tr>\n",
       "  <th>ar.L3.returns</th> <td>   -0.0679</td> <td>    0.013</td> <td>   -5.397</td> <td> 0.000</td> <td>   -0.093</td> <td>   -0.043</td>\n",
       "</tr>\n",
       "<tr>\n",
       "  <th>ar.L4.returns</th> <td>    0.0281</td> <td>    0.013</td> <td>    2.229</td> <td> 0.026</td> <td>    0.003</td> <td>    0.053</td>\n",
       "</tr>\n",
       "<tr>\n",
       "  <th>ar.L5.returns</th> <td>   -0.0577</td> <td>    0.013</td> <td>   -4.579</td> <td> 0.000</td> <td>   -0.082</td> <td>   -0.033</td>\n",
       "</tr>\n",
       "</table>\n",
       "<table class=\"simpletable\">\n",
       "<caption>Roots</caption>\n",
       "<tr>\n",
       "    <td></td>   <th>            Real</th>  <th>         Imaginary</th> <th>         Modulus</th>  <th>        Frequency</th>\n",
       "</tr>\n",
       "<tr>\n",
       "  <th>AR.1</th> <td>          -1.6143</td> <td>          -0.0000j</td> <td>           1.6143</td> <td>          -0.5000</td>\n",
       "</tr>\n",
       "<tr>\n",
       "  <th>AR.2</th> <td>          -0.3540</td> <td>          -1.7411j</td> <td>           1.7767</td> <td>          -0.2819</td>\n",
       "</tr>\n",
       "<tr>\n",
       "  <th>AR.3</th> <td>          -0.3540</td> <td>          +1.7411j</td> <td>           1.7767</td> <td>           0.2819</td>\n",
       "</tr>\n",
       "<tr>\n",
       "  <th>AR.4</th> <td>           1.4045</td> <td>          -1.1951j</td> <td>           1.8441</td> <td>          -0.1122</td>\n",
       "</tr>\n",
       "<tr>\n",
       "  <th>AR.5</th> <td>           1.4045</td> <td>          +1.1951j</td> <td>           1.8441</td> <td>           0.1122</td>\n",
       "</tr>\n",
       "</table>"
      ],
      "text/plain": [
       "<class 'statsmodels.iolib.summary.Summary'>\n",
       "\"\"\"\n",
       "                              ARMA Model Results                              \n",
       "==============================================================================\n",
       "Dep. Variable:                returns   No. Observations:                 6276\n",
       "Model:                     ARMA(5, 0)   Log Likelihood               -9563.340\n",
       "Method:                       css-mle   S.D. of innovations              1.111\n",
       "Date:                Tue, 01 Feb 2022   AIC                          19140.679\n",
       "Time:                        12:13:18   BIC                          19187.890\n",
       "Sample:                    01-10-1994   HQIC                         19157.037\n",
       "                         - 01-29-2018                                         \n",
       "=================================================================================\n",
       "                    coef    std err          z      P>|z|      [0.025      0.975]\n",
       "---------------------------------------------------------------------------------\n",
       "const             0.0190      0.012      1.584      0.113      -0.005       0.043\n",
       "ar.L1.returns    -0.0178      0.013     -1.411      0.158      -0.042       0.007\n",
       "ar.L2.returns    -0.0529      0.013     -4.196      0.000      -0.078      -0.028\n",
       "ar.L3.returns    -0.0679      0.013     -5.397      0.000      -0.093      -0.043\n",
       "ar.L4.returns     0.0281      0.013      2.229      0.026       0.003       0.053\n",
       "ar.L5.returns    -0.0577      0.013     -4.579      0.000      -0.082      -0.033\n",
       "                                    Roots                                    \n",
       "=============================================================================\n",
       "                  Real          Imaginary           Modulus         Frequency\n",
       "-----------------------------------------------------------------------------\n",
       "AR.1           -1.6143           -0.0000j            1.6143           -0.5000\n",
       "AR.2           -0.3540           -1.7411j            1.7767           -0.2819\n",
       "AR.3           -0.3540           +1.7411j            1.7767            0.2819\n",
       "AR.4            1.4045           -1.1951j            1.8441           -0.1122\n",
       "AR.5            1.4045           +1.1951j            1.8441            0.1122\n",
       "-----------------------------------------------------------------------------\n",
       "\"\"\""
      ]
     },
     "execution_count": 22,
     "metadata": {},
     "output_type": "execute_result"
    }
   ],
   "source": [
    "model_ret_ar_5=ARMA(df.returns,order=(5,0))\n",
    "results_ret_ar_5=model_ret_ar_5.fit()\n",
    "results_ret_ar_5.summary()"
   ]
  },
  {
   "cell_type": "code",
   "execution_count": 23,
   "id": "903675bb",
   "metadata": {},
   "outputs": [
    {
     "data": {
      "text/plain": [
       "0.0"
      ]
     },
     "execution_count": 23,
     "metadata": {},
     "output_type": "execute_result"
    }
   ],
   "source": [
    "llr_test(model_ret_ar_4,model_ret_ar_5)"
   ]
  },
  {
   "cell_type": "code",
   "execution_count": 24,
   "id": "f9555116",
   "metadata": {},
   "outputs": [
    {
     "data": {
      "text/html": [
       "<table class=\"simpletable\">\n",
       "<caption>ARMA Model Results</caption>\n",
       "<tr>\n",
       "  <th>Dep. Variable:</th>      <td>returns</td>     <th>  No. Observations:  </th>   <td>6276</td>   \n",
       "</tr>\n",
       "<tr>\n",
       "  <th>Model:</th>            <td>ARMA(6, 0)</td>    <th>  Log Likelihood     </th> <td>-9559.401</td>\n",
       "</tr>\n",
       "<tr>\n",
       "  <th>Method:</th>             <td>css-mle</td>     <th>  S.D. of innovations</th>   <td>1.110</td>  \n",
       "</tr>\n",
       "<tr>\n",
       "  <th>Date:</th>          <td>Tue, 01 Feb 2022</td> <th>  AIC                </th> <td>19134.802</td>\n",
       "</tr>\n",
       "<tr>\n",
       "  <th>Time:</th>              <td>12:13:19</td>     <th>  BIC                </th> <td>19188.758</td>\n",
       "</tr>\n",
       "<tr>\n",
       "  <th>Sample:</th>           <td>01-10-1994</td>    <th>  HQIC               </th> <td>19153.497</td>\n",
       "</tr>\n",
       "<tr>\n",
       "  <th></th>                 <td>- 01-29-2018</td>   <th>                     </th>     <td> </td>    \n",
       "</tr>\n",
       "</table>\n",
       "<table class=\"simpletable\">\n",
       "<tr>\n",
       "        <td></td>           <th>coef</th>     <th>std err</th>      <th>z</th>      <th>P>|z|</th>  <th>[0.025</th>    <th>0.975]</th>  \n",
       "</tr>\n",
       "<tr>\n",
       "  <th>const</th>         <td>    0.0190</td> <td>    0.012</td> <td>    1.642</td> <td> 0.100</td> <td>   -0.004</td> <td>    0.042</td>\n",
       "</tr>\n",
       "<tr>\n",
       "  <th>ar.L1.returns</th> <td>   -0.0198</td> <td>    0.013</td> <td>   -1.571</td> <td> 0.116</td> <td>   -0.045</td> <td>    0.005</td>\n",
       "</tr>\n",
       "<tr>\n",
       "  <th>ar.L2.returns</th> <td>   -0.0519</td> <td>    0.013</td> <td>   -4.117</td> <td> 0.000</td> <td>   -0.077</td> <td>   -0.027</td>\n",
       "</tr>\n",
       "<tr>\n",
       "  <th>ar.L3.returns</th> <td>   -0.0703</td> <td>    0.013</td> <td>   -5.578</td> <td> 0.000</td> <td>   -0.095</td> <td>   -0.046</td>\n",
       "</tr>\n",
       "<tr>\n",
       "  <th>ar.L4.returns</th> <td>    0.0262</td> <td>    0.013</td> <td>    2.079</td> <td> 0.038</td> <td>    0.002</td> <td>    0.051</td>\n",
       "</tr>\n",
       "<tr>\n",
       "  <th>ar.L5.returns</th> <td>   -0.0583</td> <td>    0.013</td> <td>   -4.632</td> <td> 0.000</td> <td>   -0.083</td> <td>   -0.034</td>\n",
       "</tr>\n",
       "<tr>\n",
       "  <th>ar.L6.returns</th> <td>   -0.0354</td> <td>    0.013</td> <td>   -2.807</td> <td> 0.005</td> <td>   -0.060</td> <td>   -0.011</td>\n",
       "</tr>\n",
       "</table>\n",
       "<table class=\"simpletable\">\n",
       "<caption>Roots</caption>\n",
       "<tr>\n",
       "    <td></td>   <th>            Real</th>  <th>         Imaginary</th> <th>         Modulus</th>  <th>        Frequency</th>\n",
       "</tr>\n",
       "<tr>\n",
       "  <th>AR.1</th> <td>           1.3040</td> <td>          -0.9350j</td> <td>           1.6046</td> <td>          -0.0990</td>\n",
       "</tr>\n",
       "<tr>\n",
       "  <th>AR.2</th> <td>           1.3040</td> <td>          +0.9350j</td> <td>           1.6046</td> <td>           0.0990</td>\n",
       "</tr>\n",
       "<tr>\n",
       "  <th>AR.3</th> <td>          -0.1174</td> <td>          -1.5982j</td> <td>           1.6025</td> <td>          -0.2617</td>\n",
       "</tr>\n",
       "<tr>\n",
       "  <th>AR.4</th> <td>          -0.1174</td> <td>          +1.5982j</td> <td>           1.6025</td> <td>           0.2617</td>\n",
       "</tr>\n",
       "<tr>\n",
       "  <th>AR.5</th> <td>          -2.0103</td> <td>          -0.4793j</td> <td>           2.0667</td> <td>          -0.4628</td>\n",
       "</tr>\n",
       "<tr>\n",
       "  <th>AR.6</th> <td>          -2.0103</td> <td>          +0.4793j</td> <td>           2.0667</td> <td>           0.4628</td>\n",
       "</tr>\n",
       "</table>"
      ],
      "text/plain": [
       "<class 'statsmodels.iolib.summary.Summary'>\n",
       "\"\"\"\n",
       "                              ARMA Model Results                              \n",
       "==============================================================================\n",
       "Dep. Variable:                returns   No. Observations:                 6276\n",
       "Model:                     ARMA(6, 0)   Log Likelihood               -9559.401\n",
       "Method:                       css-mle   S.D. of innovations              1.110\n",
       "Date:                Tue, 01 Feb 2022   AIC                          19134.802\n",
       "Time:                        12:13:19   BIC                          19188.758\n",
       "Sample:                    01-10-1994   HQIC                         19153.497\n",
       "                         - 01-29-2018                                         \n",
       "=================================================================================\n",
       "                    coef    std err          z      P>|z|      [0.025      0.975]\n",
       "---------------------------------------------------------------------------------\n",
       "const             0.0190      0.012      1.642      0.100      -0.004       0.042\n",
       "ar.L1.returns    -0.0198      0.013     -1.571      0.116      -0.045       0.005\n",
       "ar.L2.returns    -0.0519      0.013     -4.117      0.000      -0.077      -0.027\n",
       "ar.L3.returns    -0.0703      0.013     -5.578      0.000      -0.095      -0.046\n",
       "ar.L4.returns     0.0262      0.013      2.079      0.038       0.002       0.051\n",
       "ar.L5.returns    -0.0583      0.013     -4.632      0.000      -0.083      -0.034\n",
       "ar.L6.returns    -0.0354      0.013     -2.807      0.005      -0.060      -0.011\n",
       "                                    Roots                                    \n",
       "=============================================================================\n",
       "                  Real          Imaginary           Modulus         Frequency\n",
       "-----------------------------------------------------------------------------\n",
       "AR.1            1.3040           -0.9350j            1.6046           -0.0990\n",
       "AR.2            1.3040           +0.9350j            1.6046            0.0990\n",
       "AR.3           -0.1174           -1.5982j            1.6025           -0.2617\n",
       "AR.4           -0.1174           +1.5982j            1.6025            0.2617\n",
       "AR.5           -2.0103           -0.4793j            2.0667           -0.4628\n",
       "AR.6           -2.0103           +0.4793j            2.0667            0.4628\n",
       "-----------------------------------------------------------------------------\n",
       "\"\"\""
      ]
     },
     "execution_count": 24,
     "metadata": {},
     "output_type": "execute_result"
    }
   ],
   "source": [
    "model_ret_ar_6=ARMA(df.returns,order=(6,0))\n",
    "results_ret_ar_6=model_ret_ar_6.fit()\n",
    "results_ret_ar_6.summary()"
   ]
  },
  {
   "cell_type": "code",
   "execution_count": 25,
   "id": "edbff9b8",
   "metadata": {},
   "outputs": [
    {
     "data": {
      "text/plain": [
       "0.005"
      ]
     },
     "execution_count": 25,
     "metadata": {},
     "output_type": "execute_result"
    }
   ],
   "source": [
    "llr_test(model_ret_ar_5,model_ret_ar_6)"
   ]
  },
  {
   "cell_type": "code",
   "execution_count": 26,
   "id": "df401ca8",
   "metadata": {},
   "outputs": [
    {
     "data": {
      "text/html": [
       "<table class=\"simpletable\">\n",
       "<caption>ARMA Model Results</caption>\n",
       "<tr>\n",
       "  <th>Dep. Variable:</th>      <td>returns</td>     <th>  No. Observations:  </th>   <td>6276</td>   \n",
       "</tr>\n",
       "<tr>\n",
       "  <th>Model:</th>            <td>ARMA(7, 0)</td>    <th>  Log Likelihood     </th> <td>-9559.270</td>\n",
       "</tr>\n",
       "<tr>\n",
       "  <th>Method:</th>             <td>css-mle</td>     <th>  S.D. of innovations</th>   <td>1.110</td>  \n",
       "</tr>\n",
       "<tr>\n",
       "  <th>Date:</th>          <td>Tue, 01 Feb 2022</td> <th>  AIC                </th> <td>19136.540</td>\n",
       "</tr>\n",
       "<tr>\n",
       "  <th>Time:</th>              <td>12:13:20</td>     <th>  BIC                </th> <td>19197.240</td>\n",
       "</tr>\n",
       "<tr>\n",
       "  <th>Sample:</th>           <td>01-10-1994</td>    <th>  HQIC               </th> <td>19157.571</td>\n",
       "</tr>\n",
       "<tr>\n",
       "  <th></th>                 <td>- 01-29-2018</td>   <th>                     </th>     <td> </td>    \n",
       "</tr>\n",
       "</table>\n",
       "<table class=\"simpletable\">\n",
       "<tr>\n",
       "        <td></td>           <th>coef</th>     <th>std err</th>      <th>z</th>      <th>P>|z|</th>  <th>[0.025</th>    <th>0.975]</th>  \n",
       "</tr>\n",
       "<tr>\n",
       "  <th>const</th>         <td>    0.0190</td> <td>    0.012</td> <td>    1.632</td> <td> 0.103</td> <td>   -0.004</td> <td>    0.042</td>\n",
       "</tr>\n",
       "<tr>\n",
       "  <th>ar.L1.returns</th> <td>   -0.0196</td> <td>    0.013</td> <td>   -1.552</td> <td> 0.121</td> <td>   -0.044</td> <td>    0.005</td>\n",
       "</tr>\n",
       "<tr>\n",
       "  <th>ar.L2.returns</th> <td>   -0.0515</td> <td>    0.013</td> <td>   -4.080</td> <td> 0.000</td> <td>   -0.076</td> <td>   -0.027</td>\n",
       "</tr>\n",
       "<tr>\n",
       "  <th>ar.L3.returns</th> <td>   -0.0705</td> <td>    0.013</td> <td>   -5.590</td> <td> 0.000</td> <td>   -0.095</td> <td>   -0.046</td>\n",
       "</tr>\n",
       "<tr>\n",
       "  <th>ar.L4.returns</th> <td>    0.0267</td> <td>    0.013</td> <td>    2.110</td> <td> 0.035</td> <td>    0.002</td> <td>    0.051</td>\n",
       "</tr>\n",
       "<tr>\n",
       "  <th>ar.L5.returns</th> <td>   -0.0580</td> <td>    0.013</td> <td>   -4.599</td> <td> 0.000</td> <td>   -0.083</td> <td>   -0.033</td>\n",
       "</tr>\n",
       "<tr>\n",
       "  <th>ar.L6.returns</th> <td>   -0.0353</td> <td>    0.013</td> <td>   -2.797</td> <td> 0.005</td> <td>   -0.060</td> <td>   -0.011</td>\n",
       "</tr>\n",
       "<tr>\n",
       "  <th>ar.L7.returns</th> <td>    0.0065</td> <td>    0.013</td> <td>    0.512</td> <td> 0.608</td> <td>   -0.018</td> <td>    0.031</td>\n",
       "</tr>\n",
       "</table>\n",
       "<table class=\"simpletable\">\n",
       "<caption>Roots</caption>\n",
       "<tr>\n",
       "    <td></td>   <th>            Real</th>  <th>         Imaginary</th> <th>         Modulus</th>  <th>        Frequency</th>\n",
       "</tr>\n",
       "<tr>\n",
       "  <th>AR.1</th> <td>           1.2965</td> <td>          -0.9876j</td> <td>           1.6298</td> <td>          -0.1036</td>\n",
       "</tr>\n",
       "<tr>\n",
       "  <th>AR.2</th> <td>           1.2965</td> <td>          +0.9876j</td> <td>           1.6298</td> <td>           0.1036</td>\n",
       "</tr>\n",
       "<tr>\n",
       "  <th>AR.3</th> <td>          -0.1526</td> <td>          -1.5643j</td> <td>           1.5718</td> <td>          -0.2655</td>\n",
       "</tr>\n",
       "<tr>\n",
       "  <th>AR.4</th> <td>          -0.1526</td> <td>          +1.5643j</td> <td>           1.5718</td> <td>           0.2655</td>\n",
       "</tr>\n",
       "<tr>\n",
       "  <th>AR.5</th> <td>          -1.7848</td> <td>          -0.5587j</td> <td>           1.8702</td> <td>          -0.4517</td>\n",
       "</tr>\n",
       "<tr>\n",
       "  <th>AR.6</th> <td>          -1.7848</td> <td>          +0.5587j</td> <td>           1.8702</td> <td>           0.4517</td>\n",
       "</tr>\n",
       "<tr>\n",
       "  <th>AR.7</th> <td>           6.7384</td> <td>          -0.0000j</td> <td>           6.7384</td> <td>          -0.0000</td>\n",
       "</tr>\n",
       "</table>"
      ],
      "text/plain": [
       "<class 'statsmodels.iolib.summary.Summary'>\n",
       "\"\"\"\n",
       "                              ARMA Model Results                              \n",
       "==============================================================================\n",
       "Dep. Variable:                returns   No. Observations:                 6276\n",
       "Model:                     ARMA(7, 0)   Log Likelihood               -9559.270\n",
       "Method:                       css-mle   S.D. of innovations              1.110\n",
       "Date:                Tue, 01 Feb 2022   AIC                          19136.540\n",
       "Time:                        12:13:20   BIC                          19197.240\n",
       "Sample:                    01-10-1994   HQIC                         19157.571\n",
       "                         - 01-29-2018                                         \n",
       "=================================================================================\n",
       "                    coef    std err          z      P>|z|      [0.025      0.975]\n",
       "---------------------------------------------------------------------------------\n",
       "const             0.0190      0.012      1.632      0.103      -0.004       0.042\n",
       "ar.L1.returns    -0.0196      0.013     -1.552      0.121      -0.044       0.005\n",
       "ar.L2.returns    -0.0515      0.013     -4.080      0.000      -0.076      -0.027\n",
       "ar.L3.returns    -0.0705      0.013     -5.590      0.000      -0.095      -0.046\n",
       "ar.L4.returns     0.0267      0.013      2.110      0.035       0.002       0.051\n",
       "ar.L5.returns    -0.0580      0.013     -4.599      0.000      -0.083      -0.033\n",
       "ar.L6.returns    -0.0353      0.013     -2.797      0.005      -0.060      -0.011\n",
       "ar.L7.returns     0.0065      0.013      0.512      0.608      -0.018       0.031\n",
       "                                    Roots                                    \n",
       "=============================================================================\n",
       "                  Real          Imaginary           Modulus         Frequency\n",
       "-----------------------------------------------------------------------------\n",
       "AR.1            1.2965           -0.9876j            1.6298           -0.1036\n",
       "AR.2            1.2965           +0.9876j            1.6298            0.1036\n",
       "AR.3           -0.1526           -1.5643j            1.5718           -0.2655\n",
       "AR.4           -0.1526           +1.5643j            1.5718            0.2655\n",
       "AR.5           -1.7848           -0.5587j            1.8702           -0.4517\n",
       "AR.6           -1.7848           +0.5587j            1.8702            0.4517\n",
       "AR.7            6.7384           -0.0000j            6.7384           -0.0000\n",
       "-----------------------------------------------------------------------------\n",
       "\"\"\""
      ]
     },
     "execution_count": 26,
     "metadata": {},
     "output_type": "execute_result"
    }
   ],
   "source": [
    "model_ret_ar_7=ARMA(df.returns,order=(7,0))\n",
    "results_ret_ar_7=model_ret_ar_7.fit()\n",
    "results_ret_ar_7.summary()"
   ]
  },
  {
   "cell_type": "code",
   "execution_count": 27,
   "id": "c3c61dde",
   "metadata": {},
   "outputs": [
    {
     "data": {
      "text/plain": [
       "0.608"
      ]
     },
     "execution_count": 27,
     "metadata": {},
     "output_type": "execute_result"
    }
   ],
   "source": [
    "llr_test(model_ret_ar_6,model_ret_ar_7)"
   ]
  },
  {
   "cell_type": "markdown",
   "id": "156e520e",
   "metadata": {},
   "source": [
    "## normalising"
   ]
  },
  {
   "cell_type": "code",
   "execution_count": 28,
   "id": "5c921f1d",
   "metadata": {},
   "outputs": [
    {
     "data": {
      "text/plain": [
       "(-1.5881426545228474,\n",
       " 0.4895470797129272,\n",
       " 6,\n",
       " 6269,\n",
       " {'1%': -3.4313935443677157,\n",
       "  '5%': -2.8620011543157835,\n",
       "  '10%': -2.5670154694652805},\n",
       " 24303.224567262256)"
      ]
     },
     "execution_count": 28,
     "metadata": {},
     "output_type": "execute_result"
    }
   ],
   "source": [
    "benchmark=df.market_value.iloc[0]\n",
    "df['norms']=df.market_value.div(benchmark).mul(100)\n",
    "sts.adfuller(df.norms)\n"
   ]
  },
  {
   "cell_type": "markdown",
   "id": "1552e70c",
   "metadata": {},
   "source": [
    "## normalising returns"
   ]
  },
  {
   "cell_type": "code",
   "execution_count": 29,
   "id": "ac1a757f",
   "metadata": {},
   "outputs": [
    {
     "data": {
      "text/plain": [
       "(-15.139421215023129,\n",
       " 7.045534847763332e-28,\n",
       " 33,\n",
       " 6242,\n",
       " {'1%': -3.4313980601154883,\n",
       "  '5%': -2.8620031495251346,\n",
       "  '10%': -2.567016531562964},\n",
       " 99644.30121721487)"
      ]
     },
     "execution_count": 29,
     "metadata": {},
     "output_type": "execute_result"
    }
   ],
   "source": [
    "bench_ret=df.returns.iloc[0]\n",
    "df['norms_ret']=df.returns.div(bench_ret).mul(100)\n",
    "sts.adfuller(df.norms_ret)"
   ]
  },
  {
   "cell_type": "code",
   "execution_count": 30,
   "id": "e0550383",
   "metadata": {},
   "outputs": [],
   "source": [
    "## normalising does not affect the stationarity i.e. returns were already stationary and normalising does not affect its stationarity"
   ]
  },
  {
   "cell_type": "code",
   "execution_count": 31,
   "id": "b0276a04",
   "metadata": {},
   "outputs": [],
   "source": [
    "## now trying to fit the ar model after normalisation but result seems to be same so normalisation does not affect the model selection because after normalisation also we choose ar6 model as previous"
   ]
  },
  {
   "cell_type": "markdown",
   "id": "95e094a0",
   "metadata": {},
   "source": [
    "## analysing residuals"
   ]
  },
  {
   "cell_type": "code",
   "execution_count": 32,
   "id": "a506f8ec",
   "metadata": {},
   "outputs": [],
   "source": [
    "df['res_returns']=model_ret_ar_6.fit().resid"
   ]
  },
  {
   "cell_type": "code",
   "execution_count": 33,
   "id": "b84a23e1",
   "metadata": {},
   "outputs": [
    {
     "data": {
      "text/plain": [
       "-4.0506673370931505e-05"
      ]
     },
     "execution_count": 33,
     "metadata": {},
     "output_type": "execute_result"
    }
   ],
   "source": [
    "df.res_returns.mean()"
   ]
  },
  {
   "cell_type": "code",
   "execution_count": 34,
   "id": "d1829bb1",
   "metadata": {},
   "outputs": [
    {
     "data": {
      "text/plain": [
       "1.231969927565325"
      ]
     },
     "execution_count": 34,
     "metadata": {},
     "output_type": "execute_result"
    }
   ],
   "source": [
    "df.res_returns.var()"
   ]
  },
  {
   "cell_type": "code",
   "execution_count": 35,
   "id": "7589c8a4",
   "metadata": {},
   "outputs": [
    {
     "data": {
      "text/plain": [
       "(-15.00130529739543,\n",
       " 1.088804371045084e-27,\n",
       " 33,\n",
       " 6242,\n",
       " {'1%': -3.4313980601154883,\n",
       "  '5%': -2.8620031495251346,\n",
       "  '10%': -2.567016531562964},\n",
       " 19029.839779300033)"
      ]
     },
     "execution_count": 35,
     "metadata": {},
     "output_type": "execute_result"
    }
   ],
   "source": [
    "sts.adfuller(df.res_returns)"
   ]
  },
  {
   "cell_type": "code",
   "execution_count": 36,
   "id": "f4c33974",
   "metadata": {},
   "outputs": [
    {
     "data": {
      "image/png": "[encoded data removed]",
      "text/plain": [
       "<Figure size 432x288 with 1 Axes>"
      ]
     },
     "metadata": {
      "needs_background": "light"
     },
     "output_type": "display_data"
    }
   ],
   "source": [
    "sgt.plot_acf(df.res_returns,zero=False,lags=40)\n",
    "plt.title('acf for reurn residual')\n",
    "plt.show()"
   ]
  },
  {
   "cell_type": "markdown",
   "id": "cc92dd5b",
   "metadata": {},
   "source": [
    "## creating returns"
   ]
  },
  {
   "cell_type": "code",
   "execution_count": 37,
   "id": "82600497",
   "metadata": {},
   "outputs": [],
   "source": [
    "df['returns']=df.market_value.pct_change(1)*100"
   ]
  },
  {
   "cell_type": "code",
   "execution_count": 38,
   "id": "3b167847",
   "metadata": {},
   "outputs": [
    {
     "data": {
      "image/png": "[encoded data removed]",
      "text/plain": [
       "<Figure size 432x288 with 1 Axes>"
      ]
     },
     "metadata": {
      "needs_background": "light"
     },
     "output_type": "display_data"
    }
   ],
   "source": [
    "sgt.plot_acf(df.returns[1:],zero=False,lags=40)\n",
    "plt.title('acf for returns')\n",
    "plt.show()"
   ]
  },
  {
   "cell_type": "markdown",
   "id": "0c5af783",
   "metadata": {},
   "source": [
    "## MA(1) model"
   ]
  },
  {
   "cell_type": "code",
   "execution_count": 39,
   "id": "7f22e847",
   "metadata": {},
   "outputs": [
    {
     "data": {
      "text/html": [
       "<table class=\"simpletable\">\n",
       "<caption>ARMA Model Results</caption>\n",
       "<tr>\n",
       "  <th>Dep. Variable:</th>      <td>returns</td>     <th>  No. Observations:  </th>   <td>6275</td>   \n",
       "</tr>\n",
       "<tr>\n",
       "  <th>Model:</th>            <td>ARMA(0, 1)</td>    <th>  Log Likelihood     </th> <td>-9596.589</td>\n",
       "</tr>\n",
       "<tr>\n",
       "  <th>Method:</th>             <td>css-mle</td>     <th>  S.D. of innovations</th>   <td>1.117</td>  \n",
       "</tr>\n",
       "<tr>\n",
       "  <th>Date:</th>          <td>Tue, 01 Feb 2022</td> <th>  AIC                </th> <td>19199.178</td>\n",
       "</tr>\n",
       "<tr>\n",
       "  <th>Time:</th>              <td>12:13:22</td>     <th>  BIC                </th> <td>19219.411</td>\n",
       "</tr>\n",
       "<tr>\n",
       "  <th>Sample:</th>           <td>01-11-1994</td>    <th>  HQIC               </th> <td>19206.189</td>\n",
       "</tr>\n",
       "<tr>\n",
       "  <th></th>                 <td>- 01-29-2018</td>   <th>                     </th>     <td> </td>    \n",
       "</tr>\n",
       "</table>\n",
       "<table class=\"simpletable\">\n",
       "<tr>\n",
       "        <td></td>           <th>coef</th>     <th>std err</th>      <th>z</th>      <th>P>|z|</th>  <th>[0.025</th>    <th>0.975]</th>  \n",
       "</tr>\n",
       "<tr>\n",
       "  <th>const</th>         <td>    0.0190</td> <td>    0.014</td> <td>    1.376</td> <td> 0.169</td> <td>   -0.008</td> <td>    0.046</td>\n",
       "</tr>\n",
       "<tr>\n",
       "  <th>ma.L1.returns</th> <td>   -0.0193</td> <td>    0.013</td> <td>   -1.444</td> <td> 0.149</td> <td>   -0.045</td> <td>    0.007</td>\n",
       "</tr>\n",
       "</table>\n",
       "<table class=\"simpletable\">\n",
       "<caption>Roots</caption>\n",
       "<tr>\n",
       "    <td></td>   <th>            Real</th>  <th>         Imaginary</th> <th>         Modulus</th>  <th>        Frequency</th>\n",
       "</tr>\n",
       "<tr>\n",
       "  <th>MA.1</th> <td>          51.8864</td> <td>          +0.0000j</td> <td>          51.8864</td> <td>           0.0000</td>\n",
       "</tr>\n",
       "</table>"
      ],
      "text/plain": [
       "<class 'statsmodels.iolib.summary.Summary'>\n",
       "\"\"\"\n",
       "                              ARMA Model Results                              \n",
       "==============================================================================\n",
       "Dep. Variable:                returns   No. Observations:                 6275\n",
       "Model:                     ARMA(0, 1)   Log Likelihood               -9596.589\n",
       "Method:                       css-mle   S.D. of innovations              1.117\n",
       "Date:                Tue, 01 Feb 2022   AIC                          19199.178\n",
       "Time:                        12:13:22   BIC                          19219.411\n",
       "Sample:                    01-11-1994   HQIC                         19206.189\n",
       "                         - 01-29-2018                                         \n",
       "=================================================================================\n",
       "                    coef    std err          z      P>|z|      [0.025      0.975]\n",
       "---------------------------------------------------------------------------------\n",
       "const             0.0190      0.014      1.376      0.169      -0.008       0.046\n",
       "ma.L1.returns    -0.0193      0.013     -1.444      0.149      -0.045       0.007\n",
       "                                    Roots                                    \n",
       "=============================================================================\n",
       "                  Real          Imaginary           Modulus         Frequency\n",
       "-----------------------------------------------------------------------------\n",
       "MA.1           51.8864           +0.0000j           51.8864            0.0000\n",
       "-----------------------------------------------------------------------------\n",
       "\"\"\""
      ]
     },
     "execution_count": 39,
     "metadata": {},
     "output_type": "execute_result"
    }
   ],
   "source": [
    "model_ret_ma_1=ARMA(df.returns[1:],order=(0,1))\n",
    "results_ret_ma_1=model_ret_ma_1.fit()\n",
    "results_ret_ma_1.summary() "
   ]
  },
  {
   "cell_type": "code",
   "execution_count": null,
   "id": "3d0c5786",
   "metadata": {},
   "outputs": [],
   "source": []
  }
 ],
 "metadata": {
  "kernelspec": {
   "display_name": "Python 3",
   "language": "python",
   "name": "python3"
  },
  "language_info": {
   "codemirror_mode": {
    "name": "ipython",
    "version": 3
   },
   "file_extension": ".py",
   "mimetype": "text/x-python",
   "name": "python",
   "nbconvert_exporter": "python",
   "pygments_lexer": "ipython3",
   "version": "3.8.8"
  }
 },
 "nbformat": 4,
 "nbformat_minor": 5
}
